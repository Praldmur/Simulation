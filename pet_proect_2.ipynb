{
 "cells": [
  {
   "cell_type": "markdown",
   "id": "ec50eb2f",
   "metadata": {},
   "source": [
    "Импортируйте библиотеку pandas как pd. Загрузите датасет bookings.csv с разделителем ;. Проверьте размер таблицы, типы переменных, а затем выведите первые 7 строк, чтобы посмотреть на данные. "
   ]
  },
  {
   "cell_type": "code",
   "execution_count": 1,
   "id": "09faeb7a",
   "metadata": {
    "notebookRunGroups": {
     "groupValue": "1"
    }
   },
   "outputs": [],
   "source": [
    "import pandas as pd"
   ]
  },
  {
   "cell_type": "code",
   "execution_count": 2,
   "id": "dadfbc5c",
   "metadata": {
    "notebookRunGroups": {
     "groupValue": "2"
    }
   },
   "outputs": [],
   "source": [
    "path_to_file = r'F:\\!PR\\Simulation\\data\\bookings.csv'"
   ]
  },
  {
   "cell_type": "code",
   "execution_count": 3,
   "id": "0eb94f50",
   "metadata": {},
   "outputs": [],
   "source": [
    "bookings = pd.read_csv(path_to_file, encoding='Windows-1251', sep=';')"
   ]
  },
  {
   "cell_type": "code",
   "execution_count": 38,
   "id": "ef78fe66",
   "metadata": {},
   "outputs": [
    {
     "data": {
      "application/vnd.microsoft.datawrangler.viewer.v0+json": {
       "columns": [
        {
         "name": "index",
         "rawType": "int64",
         "type": "integer"
        },
        {
         "name": "hotel",
         "rawType": "object",
         "type": "string"
        },
        {
         "name": "is_canceled",
         "rawType": "int64",
         "type": "integer"
        },
        {
         "name": "lead_time",
         "rawType": "int64",
         "type": "integer"
        },
        {
         "name": "arrival_full_date",
         "rawType": "object",
         "type": "string"
        },
        {
         "name": "arrival_date_year",
         "rawType": "int64",
         "type": "integer"
        },
        {
         "name": "arrival_date_month",
         "rawType": "object",
         "type": "string"
        },
        {
         "name": "arrival_date_week_number",
         "rawType": "int64",
         "type": "integer"
        },
        {
         "name": "arrival_date_day_of_month",
         "rawType": "int64",
         "type": "integer"
        },
        {
         "name": "stays_in_weekend_nights",
         "rawType": "int64",
         "type": "integer"
        },
        {
         "name": "stays_in_week_nights",
         "rawType": "int64",
         "type": "integer"
        },
        {
         "name": "stays_total_nights",
         "rawType": "int64",
         "type": "integer"
        },
        {
         "name": "adults",
         "rawType": "int64",
         "type": "integer"
        },
        {
         "name": "children",
         "rawType": "float64",
         "type": "float"
        },
        {
         "name": "babies",
         "rawType": "int64",
         "type": "integer"
        },
        {
         "name": "meal",
         "rawType": "object",
         "type": "string"
        },
        {
         "name": "country",
         "rawType": "object",
         "type": "string"
        },
        {
         "name": "reserved_room_type",
         "rawType": "object",
         "type": "string"
        },
        {
         "name": "assigned_room_type",
         "rawType": "object",
         "type": "string"
        },
        {
         "name": "customer_type",
         "rawType": "object",
         "type": "string"
        },
        {
         "name": "reservation_status",
         "rawType": "object",
         "type": "string"
        },
        {
         "name": "reservation_status_date",
         "rawType": "object",
         "type": "string"
        },
        {
         "name": "total_kids",
         "rawType": "float64",
         "type": "float"
        },
        {
         "name": "has_kids",
         "rawType": "bool",
         "type": "boolean"
        }
       ],
       "ref": "a1366760-43d1-465b-ae90-2edb14587fe7",
       "rows": [
        [
         "0",
         "Resort Hotel",
         "0",
         "342",
         "2015-07-01",
         "2015",
         "July",
         "27",
         "1",
         "0",
         "0",
         "0",
         "2",
         "0.0",
         "0",
         "BB",
         "PRT",
         "C",
         "C",
         "Transient",
         "Check-Out",
         "2015-07-01",
         "0.0",
         "False"
        ],
        [
         "1",
         "Resort Hotel",
         "0",
         "737",
         "2015-07-01",
         "2015",
         "July",
         "27",
         "1",
         "0",
         "0",
         "0",
         "2",
         "0.0",
         "0",
         "BB",
         "PRT",
         "C",
         "C",
         "Transient",
         "Check-Out",
         "2015-07-01",
         "0.0",
         "False"
        ],
        [
         "2",
         "Resort Hotel",
         "0",
         "7",
         "2015-07-01",
         "2015",
         "July",
         "27",
         "1",
         "0",
         "1",
         "1",
         "1",
         "0.0",
         "0",
         "BB",
         "GBR",
         "A",
         "C",
         "Transient",
         "Check-Out",
         "2015-07-02",
         "0.0",
         "False"
        ],
        [
         "3",
         "Resort Hotel",
         "0",
         "13",
         "2015-07-01",
         "2015",
         "July",
         "27",
         "1",
         "0",
         "1",
         "1",
         "1",
         "0.0",
         "0",
         "BB",
         "GBR",
         "A",
         "A",
         "Transient",
         "Check-Out",
         "2015-07-02",
         "0.0",
         "False"
        ],
        [
         "4",
         "Resort Hotel",
         "0",
         "14",
         "2015-07-01",
         "2015",
         "July",
         "27",
         "1",
         "0",
         "2",
         "2",
         "2",
         "0.0",
         "0",
         "BB",
         "GBR",
         "A",
         "A",
         "Transient",
         "Check-Out",
         "2015-07-03",
         "0.0",
         "False"
        ],
        [
         "5",
         "Resort Hotel",
         "0",
         "14",
         "2015-07-01",
         "2015",
         "July",
         "27",
         "1",
         "0",
         "2",
         "2",
         "2",
         "0.0",
         "0",
         "BB",
         "GBR",
         "A",
         "A",
         "Transient",
         "Check-Out",
         "2015-07-03",
         "0.0",
         "False"
        ],
        [
         "6",
         "Resort Hotel",
         "0",
         "0",
         "2015-07-01",
         "2015",
         "July",
         "27",
         "1",
         "0",
         "2",
         "2",
         "2",
         "0.0",
         "0",
         "BB",
         "PRT",
         "C",
         "C",
         "Transient",
         "Check-Out",
         "2015-07-03",
         "0.0",
         "False"
        ]
       ],
       "shape": {
        "columns": 23,
        "rows": 7
       }
      },
      "text/html": [
       "<div>\n",
       "<style scoped>\n",
       "    .dataframe tbody tr th:only-of-type {\n",
       "        vertical-align: middle;\n",
       "    }\n",
       "\n",
       "    .dataframe tbody tr th {\n",
       "        vertical-align: top;\n",
       "    }\n",
       "\n",
       "    .dataframe thead th {\n",
       "        text-align: right;\n",
       "    }\n",
       "</style>\n",
       "<table border=\"1\" class=\"dataframe\">\n",
       "  <thead>\n",
       "    <tr style=\"text-align: right;\">\n",
       "      <th></th>\n",
       "      <th>hotel</th>\n",
       "      <th>is_canceled</th>\n",
       "      <th>lead_time</th>\n",
       "      <th>arrival_full_date</th>\n",
       "      <th>arrival_date_year</th>\n",
       "      <th>arrival_date_month</th>\n",
       "      <th>arrival_date_week_number</th>\n",
       "      <th>arrival_date_day_of_month</th>\n",
       "      <th>stays_in_weekend_nights</th>\n",
       "      <th>stays_in_week_nights</th>\n",
       "      <th>...</th>\n",
       "      <th>babies</th>\n",
       "      <th>meal</th>\n",
       "      <th>country</th>\n",
       "      <th>reserved_room_type</th>\n",
       "      <th>assigned_room_type</th>\n",
       "      <th>customer_type</th>\n",
       "      <th>reservation_status</th>\n",
       "      <th>reservation_status_date</th>\n",
       "      <th>total_kids</th>\n",
       "      <th>has_kids</th>\n",
       "    </tr>\n",
       "  </thead>\n",
       "  <tbody>\n",
       "    <tr>\n",
       "      <th>0</th>\n",
       "      <td>Resort Hotel</td>\n",
       "      <td>0</td>\n",
       "      <td>342</td>\n",
       "      <td>2015-07-01</td>\n",
       "      <td>2015</td>\n",
       "      <td>July</td>\n",
       "      <td>27</td>\n",
       "      <td>1</td>\n",
       "      <td>0</td>\n",
       "      <td>0</td>\n",
       "      <td>...</td>\n",
       "      <td>0</td>\n",
       "      <td>BB</td>\n",
       "      <td>PRT</td>\n",
       "      <td>C</td>\n",
       "      <td>C</td>\n",
       "      <td>Transient</td>\n",
       "      <td>Check-Out</td>\n",
       "      <td>2015-07-01</td>\n",
       "      <td>0.0</td>\n",
       "      <td>False</td>\n",
       "    </tr>\n",
       "    <tr>\n",
       "      <th>1</th>\n",
       "      <td>Resort Hotel</td>\n",
       "      <td>0</td>\n",
       "      <td>737</td>\n",
       "      <td>2015-07-01</td>\n",
       "      <td>2015</td>\n",
       "      <td>July</td>\n",
       "      <td>27</td>\n",
       "      <td>1</td>\n",
       "      <td>0</td>\n",
       "      <td>0</td>\n",
       "      <td>...</td>\n",
       "      <td>0</td>\n",
       "      <td>BB</td>\n",
       "      <td>PRT</td>\n",
       "      <td>C</td>\n",
       "      <td>C</td>\n",
       "      <td>Transient</td>\n",
       "      <td>Check-Out</td>\n",
       "      <td>2015-07-01</td>\n",
       "      <td>0.0</td>\n",
       "      <td>False</td>\n",
       "    </tr>\n",
       "    <tr>\n",
       "      <th>2</th>\n",
       "      <td>Resort Hotel</td>\n",
       "      <td>0</td>\n",
       "      <td>7</td>\n",
       "      <td>2015-07-01</td>\n",
       "      <td>2015</td>\n",
       "      <td>July</td>\n",
       "      <td>27</td>\n",
       "      <td>1</td>\n",
       "      <td>0</td>\n",
       "      <td>1</td>\n",
       "      <td>...</td>\n",
       "      <td>0</td>\n",
       "      <td>BB</td>\n",
       "      <td>GBR</td>\n",
       "      <td>A</td>\n",
       "      <td>C</td>\n",
       "      <td>Transient</td>\n",
       "      <td>Check-Out</td>\n",
       "      <td>2015-07-02</td>\n",
       "      <td>0.0</td>\n",
       "      <td>False</td>\n",
       "    </tr>\n",
       "    <tr>\n",
       "      <th>3</th>\n",
       "      <td>Resort Hotel</td>\n",
       "      <td>0</td>\n",
       "      <td>13</td>\n",
       "      <td>2015-07-01</td>\n",
       "      <td>2015</td>\n",
       "      <td>July</td>\n",
       "      <td>27</td>\n",
       "      <td>1</td>\n",
       "      <td>0</td>\n",
       "      <td>1</td>\n",
       "      <td>...</td>\n",
       "      <td>0</td>\n",
       "      <td>BB</td>\n",
       "      <td>GBR</td>\n",
       "      <td>A</td>\n",
       "      <td>A</td>\n",
       "      <td>Transient</td>\n",
       "      <td>Check-Out</td>\n",
       "      <td>2015-07-02</td>\n",
       "      <td>0.0</td>\n",
       "      <td>False</td>\n",
       "    </tr>\n",
       "    <tr>\n",
       "      <th>4</th>\n",
       "      <td>Resort Hotel</td>\n",
       "      <td>0</td>\n",
       "      <td>14</td>\n",
       "      <td>2015-07-01</td>\n",
       "      <td>2015</td>\n",
       "      <td>July</td>\n",
       "      <td>27</td>\n",
       "      <td>1</td>\n",
       "      <td>0</td>\n",
       "      <td>2</td>\n",
       "      <td>...</td>\n",
       "      <td>0</td>\n",
       "      <td>BB</td>\n",
       "      <td>GBR</td>\n",
       "      <td>A</td>\n",
       "      <td>A</td>\n",
       "      <td>Transient</td>\n",
       "      <td>Check-Out</td>\n",
       "      <td>2015-07-03</td>\n",
       "      <td>0.0</td>\n",
       "      <td>False</td>\n",
       "    </tr>\n",
       "    <tr>\n",
       "      <th>5</th>\n",
       "      <td>Resort Hotel</td>\n",
       "      <td>0</td>\n",
       "      <td>14</td>\n",
       "      <td>2015-07-01</td>\n",
       "      <td>2015</td>\n",
       "      <td>July</td>\n",
       "      <td>27</td>\n",
       "      <td>1</td>\n",
       "      <td>0</td>\n",
       "      <td>2</td>\n",
       "      <td>...</td>\n",
       "      <td>0</td>\n",
       "      <td>BB</td>\n",
       "      <td>GBR</td>\n",
       "      <td>A</td>\n",
       "      <td>A</td>\n",
       "      <td>Transient</td>\n",
       "      <td>Check-Out</td>\n",
       "      <td>2015-07-03</td>\n",
       "      <td>0.0</td>\n",
       "      <td>False</td>\n",
       "    </tr>\n",
       "    <tr>\n",
       "      <th>6</th>\n",
       "      <td>Resort Hotel</td>\n",
       "      <td>0</td>\n",
       "      <td>0</td>\n",
       "      <td>2015-07-01</td>\n",
       "      <td>2015</td>\n",
       "      <td>July</td>\n",
       "      <td>27</td>\n",
       "      <td>1</td>\n",
       "      <td>0</td>\n",
       "      <td>2</td>\n",
       "      <td>...</td>\n",
       "      <td>0</td>\n",
       "      <td>BB</td>\n",
       "      <td>PRT</td>\n",
       "      <td>C</td>\n",
       "      <td>C</td>\n",
       "      <td>Transient</td>\n",
       "      <td>Check-Out</td>\n",
       "      <td>2015-07-03</td>\n",
       "      <td>0.0</td>\n",
       "      <td>False</td>\n",
       "    </tr>\n",
       "  </tbody>\n",
       "</table>\n",
       "<p>7 rows × 23 columns</p>\n",
       "</div>"
      ],
      "text/plain": [
       "          hotel  is_canceled  lead_time arrival_full_date  arrival_date_year  \\\n",
       "0  Resort Hotel            0        342        2015-07-01               2015   \n",
       "1  Resort Hotel            0        737        2015-07-01               2015   \n",
       "2  Resort Hotel            0          7        2015-07-01               2015   \n",
       "3  Resort Hotel            0         13        2015-07-01               2015   \n",
       "4  Resort Hotel            0         14        2015-07-01               2015   \n",
       "5  Resort Hotel            0         14        2015-07-01               2015   \n",
       "6  Resort Hotel            0          0        2015-07-01               2015   \n",
       "\n",
       "  arrival_date_month  arrival_date_week_number  arrival_date_day_of_month  \\\n",
       "0               July                        27                          1   \n",
       "1               July                        27                          1   \n",
       "2               July                        27                          1   \n",
       "3               July                        27                          1   \n",
       "4               July                        27                          1   \n",
       "5               July                        27                          1   \n",
       "6               July                        27                          1   \n",
       "\n",
       "   stays_in_weekend_nights  stays_in_week_nights  ...  babies  meal  country  \\\n",
       "0                        0                     0  ...       0    BB      PRT   \n",
       "1                        0                     0  ...       0    BB      PRT   \n",
       "2                        0                     1  ...       0    BB      GBR   \n",
       "3                        0                     1  ...       0    BB      GBR   \n",
       "4                        0                     2  ...       0    BB      GBR   \n",
       "5                        0                     2  ...       0    BB      GBR   \n",
       "6                        0                     2  ...       0    BB      PRT   \n",
       "\n",
       "   reserved_room_type assigned_room_type customer_type reservation_status  \\\n",
       "0                   C                  C     Transient          Check-Out   \n",
       "1                   C                  C     Transient          Check-Out   \n",
       "2                   A                  C     Transient          Check-Out   \n",
       "3                   A                  A     Transient          Check-Out   \n",
       "4                   A                  A     Transient          Check-Out   \n",
       "5                   A                  A     Transient          Check-Out   \n",
       "6                   C                  C     Transient          Check-Out   \n",
       "\n",
       "  reservation_status_date total_kids has_kids  \n",
       "0              2015-07-01        0.0    False  \n",
       "1              2015-07-01        0.0    False  \n",
       "2              2015-07-02        0.0    False  \n",
       "3              2015-07-02        0.0    False  \n",
       "4              2015-07-03        0.0    False  \n",
       "5              2015-07-03        0.0    False  \n",
       "6              2015-07-03        0.0    False  \n",
       "\n",
       "[7 rows x 23 columns]"
      ]
     },
     "execution_count": 38,
     "metadata": {},
     "output_type": "execute_result"
    }
   ],
   "source": [
    "bookings.head(7)"
   ]
  },
  {
   "cell_type": "markdown",
   "id": "9de06dc7",
   "metadata": {},
   "source": [
    "Посмотрите на размеры таблицы. Сколько всего в ней столбцов?"
   ]
  },
  {
   "cell_type": "code",
   "execution_count": 5,
   "id": "cc7869f1",
   "metadata": {},
   "outputs": [
    {
     "name": "stdout",
     "output_type": "stream",
     "text": [
      "rows = 119390, cols = 21\n"
     ]
    }
   ],
   "source": [
    "rows, cols = bookings.shape\n",
    "print(f'{rows = }, {cols = }')"
   ]
  },
  {
   "cell_type": "markdown",
   "id": "44f5767c",
   "metadata": {},
   "source": [
    "К какому типу/каким типам относится большинство переменных? "
   ]
  },
  {
   "cell_type": "code",
   "execution_count": 6,
   "id": "c8d526fa",
   "metadata": {},
   "outputs": [
    {
     "data": {
      "application/vnd.microsoft.datawrangler.viewer.v0+json": {
       "columns": [
        {
         "name": "index",
         "rawType": "object",
         "type": "string"
        },
        {
         "name": "0",
         "rawType": "object",
         "type": "unknown"
        }
       ],
       "ref": "ae4fbe8a-c1ca-4528-9209-de4a1dee46e1",
       "rows": [
        [
         "Hotel",
         "object"
        ],
        [
         "Is Canceled",
         "int64"
        ],
        [
         "Lead Time",
         "int64"
        ],
        [
         "arrival full date",
         "object"
        ],
        [
         "Arrival Date Year",
         "int64"
        ],
        [
         "Arrival Date Month",
         "object"
        ],
        [
         "Arrival Date Week Number",
         "int64"
        ],
        [
         "Arrival Date Day of Month",
         "int64"
        ],
        [
         "Stays in Weekend nights",
         "int64"
        ],
        [
         "Stays in week nights",
         "int64"
        ],
        [
         "stays total nights",
         "int64"
        ],
        [
         "Adults",
         "int64"
        ],
        [
         "Children",
         "float64"
        ],
        [
         "Babies",
         "int64"
        ],
        [
         "Meal",
         "object"
        ],
        [
         "Country",
         "object"
        ],
        [
         "Reserved Room Type",
         "object"
        ],
        [
         "Assigned room type",
         "object"
        ],
        [
         "customer type",
         "object"
        ],
        [
         "Reservation Status",
         "object"
        ],
        [
         "Reservation status_date",
         "object"
        ]
       ],
       "shape": {
        "columns": 1,
        "rows": 21
       }
      },
      "text/plain": [
       "Hotel                         object\n",
       "Is Canceled                    int64\n",
       "Lead Time                      int64\n",
       "arrival full date             object\n",
       "Arrival Date Year              int64\n",
       "Arrival Date Month            object\n",
       "Arrival Date Week Number       int64\n",
       "Arrival Date Day of Month      int64\n",
       "Stays in Weekend nights        int64\n",
       "Stays in week nights           int64\n",
       "stays total nights             int64\n",
       "Adults                         int64\n",
       "Children                     float64\n",
       "Babies                         int64\n",
       "Meal                          object\n",
       "Country                       object\n",
       "Reserved Room Type            object\n",
       "Assigned room type            object\n",
       "customer type                 object\n",
       "Reservation Status            object\n",
       "Reservation status_date       object\n",
       "dtype: object"
      ]
     },
     "execution_count": 6,
     "metadata": {},
     "output_type": "execute_result"
    }
   ],
   "source": [
    "bookings.dtypes"
   ]
  },
  {
   "cell_type": "code",
   "execution_count": 7,
   "id": "55794113",
   "metadata": {},
   "outputs": [
    {
     "name": "stdout",
     "output_type": "stream",
     "text": [
      "<class 'pandas.core.frame.DataFrame'>\n",
      "RangeIndex: 119390 entries, 0 to 119389\n",
      "Data columns (total 21 columns):\n",
      " #   Column                     Non-Null Count   Dtype  \n",
      "---  ------                     --------------   -----  \n",
      " 0   Hotel                      119390 non-null  object \n",
      " 1   Is Canceled                119390 non-null  int64  \n",
      " 2   Lead Time                  119390 non-null  int64  \n",
      " 3   arrival full date          119390 non-null  object \n",
      " 4   Arrival Date Year          119390 non-null  int64  \n",
      " 5   Arrival Date Month         119390 non-null  object \n",
      " 6   Arrival Date Week Number   119390 non-null  int64  \n",
      " 7   Arrival Date Day of Month  119390 non-null  int64  \n",
      " 8   Stays in Weekend nights    119390 non-null  int64  \n",
      " 9   Stays in week nights       119390 non-null  int64  \n",
      " 10  stays total nights         119390 non-null  int64  \n",
      " 11  Adults                     119390 non-null  int64  \n",
      " 12  Children                   119386 non-null  float64\n",
      " 13  Babies                     119390 non-null  int64  \n",
      " 14  Meal                       119390 non-null  object \n",
      " 15  Country                    118902 non-null  object \n",
      " 16  Reserved Room Type         119390 non-null  object \n",
      " 17  Assigned room type         119390 non-null  object \n",
      " 18  customer type              119390 non-null  object \n",
      " 19  Reservation Status         119390 non-null  object \n",
      " 20  Reservation status_date    119390 non-null  object \n",
      "dtypes: float64(1), int64(10), object(10)\n",
      "memory usage: 19.1+ MB\n"
     ]
    }
   ],
   "source": [
    "bookings.info()"
   ]
  },
  {
   "cell_type": "markdown",
   "id": "f0504e26",
   "metadata": {},
   "source": [
    "Как вы уже могли заметить, при сборе датасета произошла небольшая ошибка, и названия колонок были записаны в неудобном для дальнейшей работы формате. Исправьте ситуацию, приведя названия столбцов к нижнему регистру и заменив пробелы на знак нижнего подчеркивания. "
   ]
  },
  {
   "cell_type": "code",
   "execution_count": 8,
   "id": "8e6763ac",
   "metadata": {},
   "outputs": [],
   "source": [
    "bookings.columns = [col.lower().replace(' ', '_') for col in bookings.columns]"
   ]
  },
  {
   "cell_type": "markdown",
   "id": "9ccbbc0b",
   "metadata": {},
   "source": [
    "Перейдем к исследованию данных! Пользователи из каких стран совершили наибольшее число успешных бронирований? Бронирование считается успешным, если в дальнейшем не было отменено (переменная is_canceled). В качестве ответа выберите страны, входящие в топ-5."
   ]
  },
  {
   "cell_type": "code",
   "execution_count": 9,
   "id": "7345edb5",
   "metadata": {},
   "outputs": [
    {
     "data": {
      "application/vnd.microsoft.datawrangler.viewer.v0+json": {
       "columns": [
        {
         "name": "country",
         "rawType": "object",
         "type": "string"
        },
        {
         "name": "is_canceled",
         "rawType": "int64",
         "type": "integer"
        }
       ],
       "ref": "252dd6e3-387b-4569-b460-38b5fcf3c3a2",
       "rows": [
        [
         "PRT",
         "21071"
        ],
        [
         "GBR",
         "9676"
        ],
        [
         "FRA",
         "8481"
        ],
        [
         "ESP",
         "6391"
        ],
        [
         "DEU",
         "6069"
        ]
       ],
       "shape": {
        "columns": 1,
        "rows": 5
       }
      },
      "text/html": [
       "<div>\n",
       "<style scoped>\n",
       "    .dataframe tbody tr th:only-of-type {\n",
       "        vertical-align: middle;\n",
       "    }\n",
       "\n",
       "    .dataframe tbody tr th {\n",
       "        vertical-align: top;\n",
       "    }\n",
       "\n",
       "    .dataframe thead th {\n",
       "        text-align: right;\n",
       "    }\n",
       "</style>\n",
       "<table border=\"1\" class=\"dataframe\">\n",
       "  <thead>\n",
       "    <tr style=\"text-align: right;\">\n",
       "      <th></th>\n",
       "      <th>is_canceled</th>\n",
       "    </tr>\n",
       "    <tr>\n",
       "      <th>country</th>\n",
       "      <th></th>\n",
       "    </tr>\n",
       "  </thead>\n",
       "  <tbody>\n",
       "    <tr>\n",
       "      <th>PRT</th>\n",
       "      <td>21071</td>\n",
       "    </tr>\n",
       "    <tr>\n",
       "      <th>GBR</th>\n",
       "      <td>9676</td>\n",
       "    </tr>\n",
       "    <tr>\n",
       "      <th>FRA</th>\n",
       "      <td>8481</td>\n",
       "    </tr>\n",
       "    <tr>\n",
       "      <th>ESP</th>\n",
       "      <td>6391</td>\n",
       "    </tr>\n",
       "    <tr>\n",
       "      <th>DEU</th>\n",
       "      <td>6069</td>\n",
       "    </tr>\n",
       "  </tbody>\n",
       "</table>\n",
       "</div>"
      ],
      "text/plain": [
       "         is_canceled\n",
       "country             \n",
       "PRT            21071\n",
       "GBR             9676\n",
       "FRA             8481\n",
       "ESP             6391\n",
       "DEU             6069"
      ]
     },
     "execution_count": 9,
     "metadata": {},
     "output_type": "execute_result"
    }
   ],
   "source": [
    "bookings.query('is_canceled == 0') \\\n",
    "    .groupby(['country']) \\\n",
    "    .agg({'is_canceled': 'count'}) \\\n",
    "    .sort_values('is_canceled', ascending=False) \\\n",
    "    .head()"
   ]
  },
  {
   "cell_type": "code",
   "execution_count": 10,
   "id": "954a5e47",
   "metadata": {},
   "outputs": [
    {
     "data": {
      "application/vnd.microsoft.datawrangler.viewer.v0+json": {
       "columns": [
        {
         "name": "country",
         "rawType": "object",
         "type": "string"
        },
        {
         "name": "count",
         "rawType": "int64",
         "type": "integer"
        }
       ],
       "ref": "043ff7de-8785-4124-9e64-577b8af8d02f",
       "rows": [
        [
         "PRT",
         "22321"
        ],
        [
         "GBR",
         "5585"
        ],
        [
         "FRA",
         "5165"
        ],
        [
         "ESP",
         "4024"
        ],
        [
         "DEU",
         "3865"
        ]
       ],
       "shape": {
        "columns": 1,
        "rows": 5
       }
      },
      "text/plain": [
       "country\n",
       "PRT    22321\n",
       "GBR     5585\n",
       "FRA     5165\n",
       "ESP     4024\n",
       "DEU     3865\n",
       "Name: count, dtype: int64"
      ]
     },
     "execution_count": 10,
     "metadata": {},
     "output_type": "execute_result"
    }
   ],
   "source": [
    "bookings.loc[bookings.arrival_date_year == 2016] \\\n",
    "    .country \\\n",
    "    .value_counts() \\\n",
    "    .head()"
   ]
  },
  {
   "cell_type": "markdown",
   "id": "7aa04f5f",
   "metadata": {},
   "source": [
    "На сколько ночей (stays_total_nights)  в среднем бронируют отели типа City Hotel? Resort Hotel? Запишите полученные значения в пропуски с точностью до 2 знаков после точки."
   ]
  },
  {
   "cell_type": "code",
   "execution_count": 11,
   "id": "c2b9144c",
   "metadata": {},
   "outputs": [
    {
     "data": {
      "application/vnd.microsoft.datawrangler.viewer.v0+json": {
       "columns": [
        {
         "name": "hotel",
         "rawType": "object",
         "type": "string"
        },
        {
         "name": "stays_total_nights",
         "rawType": "float64",
         "type": "float"
        }
       ],
       "ref": "c7dc6072-32e7-4f0d-ab74-880c11c8ef8c",
       "rows": [
        [
         "City Hotel",
         "2.98"
        ],
        [
         "Resort Hotel",
         "4.32"
        ]
       ],
       "shape": {
        "columns": 1,
        "rows": 2
       }
      },
      "text/plain": [
       "hotel\n",
       "City Hotel      2.98\n",
       "Resort Hotel    4.32\n",
       "Name: stays_total_nights, dtype: float64"
      ]
     },
     "execution_count": 11,
     "metadata": {},
     "output_type": "execute_result"
    }
   ],
   "source": [
    "bookings.loc[bookings.hotel.isin(['Resort Hotel', 'City Hotel'])] \\\n",
    "    .groupby('hotel') \\\n",
    "    .stays_total_nights \\\n",
    "    .mean() \\\n",
    "    .round(2)"
   ]
  },
  {
   "cell_type": "markdown",
   "id": "26eca255",
   "metadata": {},
   "source": [
    "Иногда тип номера, присвоенного клиенту (assigned_room_type), отличается от изначально забронированного (reserved_room_type). Такое может произойти, например, по причине овербукинга. Сколько подобных наблюдений встретилось в датасете?"
   ]
  },
  {
   "cell_type": "code",
   "execution_count": 12,
   "id": "5764d1fd",
   "metadata": {},
   "outputs": [
    {
     "data": {
      "text/plain": [
       "14917"
      ]
     },
     "execution_count": 12,
     "metadata": {},
     "output_type": "execute_result"
    }
   ],
   "source": [
    "len(bookings.loc[bookings.assigned_room_type != bookings.reserved_room_type])"
   ]
  },
  {
   "cell_type": "markdown",
   "id": "70854279",
   "metadata": {},
   "source": [
    "Теперь проанализируйте даты запланированного прибытия (arrival_date_year). На какой месяц чаще всего оформляли бронь в 2016 году? Изменился ли самый популярный месяц в 2017?"
   ]
  },
  {
   "cell_type": "code",
   "execution_count": 13,
   "id": "6baac273",
   "metadata": {},
   "outputs": [
    {
     "data": {
      "text/plain": [
       "'October'"
      ]
     },
     "execution_count": 13,
     "metadata": {},
     "output_type": "execute_result"
    }
   ],
   "source": [
    "bookings.loc[bookings.arrival_date_year == 2016] \\\n",
    "    .arrival_date_month \\\n",
    "    .value_counts() \\\n",
    "    .idxmax()"
   ]
  },
  {
   "cell_type": "code",
   "execution_count": 14,
   "id": "b64da5ec",
   "metadata": {},
   "outputs": [
    {
     "data": {
      "application/vnd.microsoft.datawrangler.viewer.v0+json": {
       "columns": [
        {
         "name": "arrival_date_year",
         "rawType": "int64",
         "type": "integer"
        },
        {
         "name": "arrival_date_month",
         "rawType": "object",
         "type": "string"
        }
       ],
       "ref": "876cc49c-4d7e-43e6-82ce-afe1469809c6",
       "rows": [
        [
         "2015",
         "September"
        ],
        [
         "2016",
         "October"
        ],
        [
         "2017",
         "May"
        ]
       ],
       "shape": {
        "columns": 1,
        "rows": 3
       }
      },
      "text/plain": [
       "arrival_date_year\n",
       "2015    September\n",
       "2016      October\n",
       "2017          May\n",
       "Name: arrival_date_month, dtype: object"
      ]
     },
     "execution_count": 14,
     "metadata": {},
     "output_type": "execute_result"
    }
   ],
   "source": [
    "bookings.groupby('arrival_date_year').arrival_date_month.agg(pd.Series.mode)"
   ]
  },
  {
   "cell_type": "markdown",
   "id": "b6754d2a",
   "metadata": {},
   "source": [
    "Сгруппируйте данные по годам, а затем проверьте, на какой месяц (arrival_date_month) бронирования отеля типа City Hotel отменялись чаще всего в 2015? 2016? 2017? "
   ]
  },
  {
   "cell_type": "code",
   "execution_count": 27,
   "id": "be8cd83d",
   "metadata": {},
   "outputs": [
    {
     "data": {
      "application/vnd.microsoft.datawrangler.viewer.v0+json": {
       "columns": [
        {
         "name": "index",
         "rawType": "int64",
         "type": "integer"
        },
        {
         "name": "arrival_date_year",
         "rawType": "int64",
         "type": "integer"
        },
        {
         "name": "arrival_date_month",
         "rawType": "object",
         "type": "string"
        },
        {
         "name": "is_canceled",
         "rawType": "int64",
         "type": "integer"
        }
       ],
       "ref": "05715f60-e300-4b89-a1ec-b4b28813f977",
       "rows": [
        [
         "0",
         "2015",
         "August",
         "1232"
        ],
        [
         "1",
         "2015",
         "December",
         "668"
        ],
        [
         "2",
         "2015",
         "July",
         "939"
        ],
        [
         "3",
         "2015",
         "November",
         "301"
        ],
        [
         "4",
         "2015",
         "October",
         "1321"
        ],
        [
         "5",
         "2015",
         "September",
         "1543"
        ],
        [
         "6",
         "2016",
         "April",
         "1539"
        ],
        [
         "7",
         "2016",
         "August",
         "1247"
        ],
        [
         "8",
         "2016",
         "December",
         "1072"
        ],
        [
         "9",
         "2016",
         "February",
         "930"
        ],
        [
         "10",
         "2016",
         "January",
         "438"
        ],
        [
         "11",
         "2016",
         "July",
         "1043"
        ],
        [
         "12",
         "2016",
         "June",
         "1720"
        ],
        [
         "13",
         "2016",
         "March",
         "1108"
        ],
        [
         "14",
         "2016",
         "May",
         "1436"
        ],
        [
         "15",
         "2016",
         "November",
         "1360"
        ],
        [
         "16",
         "2016",
         "October",
         "1947"
        ],
        [
         "17",
         "2016",
         "September",
         "1567"
        ],
        [
         "18",
         "2017",
         "April",
         "1926"
        ],
        [
         "19",
         "2017",
         "August",
         "1123"
        ],
        [
         "20",
         "2017",
         "February",
         "971"
        ],
        [
         "21",
         "2017",
         "January",
         "1044"
        ],
        [
         "22",
         "2017",
         "July",
         "1324"
        ],
        [
         "23",
         "2017",
         "June",
         "1808"
        ],
        [
         "24",
         "2017",
         "March",
         "1278"
        ],
        [
         "25",
         "2017",
         "May",
         "2217"
        ]
       ],
       "shape": {
        "columns": 3,
        "rows": 26
       }
      },
      "text/html": [
       "<div>\n",
       "<style scoped>\n",
       "    .dataframe tbody tr th:only-of-type {\n",
       "        vertical-align: middle;\n",
       "    }\n",
       "\n",
       "    .dataframe tbody tr th {\n",
       "        vertical-align: top;\n",
       "    }\n",
       "\n",
       "    .dataframe thead th {\n",
       "        text-align: right;\n",
       "    }\n",
       "</style>\n",
       "<table border=\"1\" class=\"dataframe\">\n",
       "  <thead>\n",
       "    <tr style=\"text-align: right;\">\n",
       "      <th></th>\n",
       "      <th>arrival_date_year</th>\n",
       "      <th>arrival_date_month</th>\n",
       "      <th>is_canceled</th>\n",
       "    </tr>\n",
       "  </thead>\n",
       "  <tbody>\n",
       "    <tr>\n",
       "      <th>0</th>\n",
       "      <td>2015</td>\n",
       "      <td>August</td>\n",
       "      <td>1232</td>\n",
       "    </tr>\n",
       "    <tr>\n",
       "      <th>1</th>\n",
       "      <td>2015</td>\n",
       "      <td>December</td>\n",
       "      <td>668</td>\n",
       "    </tr>\n",
       "    <tr>\n",
       "      <th>2</th>\n",
       "      <td>2015</td>\n",
       "      <td>July</td>\n",
       "      <td>939</td>\n",
       "    </tr>\n",
       "    <tr>\n",
       "      <th>3</th>\n",
       "      <td>2015</td>\n",
       "      <td>November</td>\n",
       "      <td>301</td>\n",
       "    </tr>\n",
       "    <tr>\n",
       "      <th>4</th>\n",
       "      <td>2015</td>\n",
       "      <td>October</td>\n",
       "      <td>1321</td>\n",
       "    </tr>\n",
       "    <tr>\n",
       "      <th>5</th>\n",
       "      <td>2015</td>\n",
       "      <td>September</td>\n",
       "      <td>1543</td>\n",
       "    </tr>\n",
       "    <tr>\n",
       "      <th>6</th>\n",
       "      <td>2016</td>\n",
       "      <td>April</td>\n",
       "      <td>1539</td>\n",
       "    </tr>\n",
       "    <tr>\n",
       "      <th>7</th>\n",
       "      <td>2016</td>\n",
       "      <td>August</td>\n",
       "      <td>1247</td>\n",
       "    </tr>\n",
       "    <tr>\n",
       "      <th>8</th>\n",
       "      <td>2016</td>\n",
       "      <td>December</td>\n",
       "      <td>1072</td>\n",
       "    </tr>\n",
       "    <tr>\n",
       "      <th>9</th>\n",
       "      <td>2016</td>\n",
       "      <td>February</td>\n",
       "      <td>930</td>\n",
       "    </tr>\n",
       "    <tr>\n",
       "      <th>10</th>\n",
       "      <td>2016</td>\n",
       "      <td>January</td>\n",
       "      <td>438</td>\n",
       "    </tr>\n",
       "    <tr>\n",
       "      <th>11</th>\n",
       "      <td>2016</td>\n",
       "      <td>July</td>\n",
       "      <td>1043</td>\n",
       "    </tr>\n",
       "    <tr>\n",
       "      <th>12</th>\n",
       "      <td>2016</td>\n",
       "      <td>June</td>\n",
       "      <td>1720</td>\n",
       "    </tr>\n",
       "    <tr>\n",
       "      <th>13</th>\n",
       "      <td>2016</td>\n",
       "      <td>March</td>\n",
       "      <td>1108</td>\n",
       "    </tr>\n",
       "    <tr>\n",
       "      <th>14</th>\n",
       "      <td>2016</td>\n",
       "      <td>May</td>\n",
       "      <td>1436</td>\n",
       "    </tr>\n",
       "    <tr>\n",
       "      <th>15</th>\n",
       "      <td>2016</td>\n",
       "      <td>November</td>\n",
       "      <td>1360</td>\n",
       "    </tr>\n",
       "    <tr>\n",
       "      <th>16</th>\n",
       "      <td>2016</td>\n",
       "      <td>October</td>\n",
       "      <td>1947</td>\n",
       "    </tr>\n",
       "    <tr>\n",
       "      <th>17</th>\n",
       "      <td>2016</td>\n",
       "      <td>September</td>\n",
       "      <td>1567</td>\n",
       "    </tr>\n",
       "    <tr>\n",
       "      <th>18</th>\n",
       "      <td>2017</td>\n",
       "      <td>April</td>\n",
       "      <td>1926</td>\n",
       "    </tr>\n",
       "    <tr>\n",
       "      <th>19</th>\n",
       "      <td>2017</td>\n",
       "      <td>August</td>\n",
       "      <td>1123</td>\n",
       "    </tr>\n",
       "    <tr>\n",
       "      <th>20</th>\n",
       "      <td>2017</td>\n",
       "      <td>February</td>\n",
       "      <td>971</td>\n",
       "    </tr>\n",
       "    <tr>\n",
       "      <th>21</th>\n",
       "      <td>2017</td>\n",
       "      <td>January</td>\n",
       "      <td>1044</td>\n",
       "    </tr>\n",
       "    <tr>\n",
       "      <th>22</th>\n",
       "      <td>2017</td>\n",
       "      <td>July</td>\n",
       "      <td>1324</td>\n",
       "    </tr>\n",
       "    <tr>\n",
       "      <th>23</th>\n",
       "      <td>2017</td>\n",
       "      <td>June</td>\n",
       "      <td>1808</td>\n",
       "    </tr>\n",
       "    <tr>\n",
       "      <th>24</th>\n",
       "      <td>2017</td>\n",
       "      <td>March</td>\n",
       "      <td>1278</td>\n",
       "    </tr>\n",
       "    <tr>\n",
       "      <th>25</th>\n",
       "      <td>2017</td>\n",
       "      <td>May</td>\n",
       "      <td>2217</td>\n",
       "    </tr>\n",
       "  </tbody>\n",
       "</table>\n",
       "</div>"
      ],
      "text/plain": [
       "    arrival_date_year arrival_date_month  is_canceled\n",
       "0                2015             August         1232\n",
       "1                2015           December          668\n",
       "2                2015               July          939\n",
       "3                2015           November          301\n",
       "4                2015            October         1321\n",
       "5                2015          September         1543\n",
       "6                2016              April         1539\n",
       "7                2016             August         1247\n",
       "8                2016           December         1072\n",
       "9                2016           February          930\n",
       "10               2016            January          438\n",
       "11               2016               July         1043\n",
       "12               2016               June         1720\n",
       "13               2016              March         1108\n",
       "14               2016                May         1436\n",
       "15               2016           November         1360\n",
       "16               2016            October         1947\n",
       "17               2016          September         1567\n",
       "18               2017              April         1926\n",
       "19               2017             August         1123\n",
       "20               2017           February          971\n",
       "21               2017            January         1044\n",
       "22               2017               July         1324\n",
       "23               2017               June         1808\n",
       "24               2017              March         1278\n",
       "25               2017                May         2217"
      ]
     },
     "execution_count": 27,
     "metadata": {},
     "output_type": "execute_result"
    }
   ],
   "source": [
    "bookings.loc[bookings.hotel == 'City Hotel']\\\n",
    "    .groupby(['arrival_date_year', 'arrival_date_month'], as_index=False)\\\n",
    "    .is_canceled.sum()"
   ]
  },
  {
   "cell_type": "code",
   "execution_count": 24,
   "id": "fa6f3610",
   "metadata": {},
   "outputs": [
    {
     "data": {
      "application/vnd.microsoft.datawrangler.viewer.v0+json": {
       "columns": [
        {
         "name": "('arrival_date_year', 'arrival_date_year', 'arrival_date_month')",
         "rawType": "object",
         "type": "unknown"
        },
        {
         "name": "is_canceled",
         "rawType": "int64",
         "type": "integer"
        }
       ],
       "ref": "6ab3d1ee-23e1-4a01-ace2-142f1aedc772",
       "rows": [
        [
         "(np.int64(2015), np.int64(2015), 'September')",
         "2094"
        ],
        [
         "(np.int64(2016), np.int64(2016), 'October')",
         "2514"
        ],
        [
         "(np.int64(2017), np.int64(2017), 'May')",
         "2762"
        ]
       ],
       "shape": {
        "columns": 1,
        "rows": 3
       }
      },
      "text/plain": [
       "arrival_date_year  arrival_date_year  arrival_date_month\n",
       "2015               2015               September             2094\n",
       "2016               2016               October               2514\n",
       "2017               2017               May                   2762\n",
       "Name: is_canceled, dtype: int64"
      ]
     },
     "execution_count": 24,
     "metadata": {},
     "output_type": "execute_result"
    }
   ],
   "source": [
    "bookings.groupby(['arrival_date_year', 'arrival_date_month'])\\\n",
    "    .is_canceled\\\n",
    "    .sum()\\\n",
    "    .groupby(['arrival_date_year'])\\\n",
    "    .nlargest(1)"
   ]
  },
  {
   "cell_type": "markdown",
   "id": "47b03d69",
   "metadata": {},
   "source": [
    "Посмотрите на числовые характеристики трёх колонок: adults, children и babies. Какая из них имеет наибольшее среднее значение?"
   ]
  },
  {
   "cell_type": "code",
   "execution_count": 28,
   "id": "21c0b79d",
   "metadata": {},
   "outputs": [
    {
     "data": {
      "application/vnd.microsoft.datawrangler.viewer.v0+json": {
       "columns": [
        {
         "name": "index",
         "rawType": "object",
         "type": "string"
        },
        {
         "name": "0",
         "rawType": "float64",
         "type": "float"
        }
       ],
       "ref": "eb849f47-6cf0-4713-bc70-a826313b009c",
       "rows": [
        [
         "adults",
         "1.8564033838679956"
        ],
        [
         "children",
         "0.10388990333874994"
        ],
        [
         "babies",
         "0.007948739425412514"
        ]
       ],
       "shape": {
        "columns": 1,
        "rows": 3
       }
      },
      "text/plain": [
       "adults      1.856403\n",
       "children    0.103890\n",
       "babies      0.007949\n",
       "dtype: float64"
      ]
     },
     "execution_count": 28,
     "metadata": {},
     "output_type": "execute_result"
    }
   ],
   "source": [
    "bookings[['adults', 'children', 'babies']].mean()"
   ]
  },
  {
   "cell_type": "markdown",
   "id": "210c219e",
   "metadata": {},
   "source": [
    "Создайте колонку total_kids, объединив столбцы children и babies. Для отелей какого типа среднее значение переменной оказалось наибольшим?\n",
    "•\tCity hotel – отель находится в городе\n",
    "•\tResort hotel – отель курортный\n",
    "В качестве ответа укажите наибольшее среднее total_kids, округлив до 2 знаков после точки."
   ]
  },
  {
   "cell_type": "code",
   "execution_count": 36,
   "id": "859eaddb",
   "metadata": {},
   "outputs": [
    {
     "data": {
      "application/vnd.microsoft.datawrangler.viewer.v0+json": {
       "columns": [
        {
         "name": "hotel",
         "rawType": "object",
         "type": "string"
        },
        {
         "name": "total_kids",
         "rawType": "float64",
         "type": "float"
        }
       ],
       "ref": "806201a5-0a56-4e7a-ba50-e47094d1b515",
       "rows": [
        [
         "Resort Hotel",
         "0.14"
        ]
       ],
       "shape": {
        "columns": 1,
        "rows": 1
       }
      },
      "text/plain": [
       "hotel\n",
       "Resort Hotel    0.14\n",
       "Name: total_kids, dtype: float64"
      ]
     },
     "execution_count": 36,
     "metadata": {},
     "output_type": "execute_result"
    }
   ],
   "source": [
    "bookings['total_kids'] = bookings['children'] + bookings['babies']\n",
    "bookings.groupby('hotel').total_kids.mean().nlargest(1).round(2)\n"
   ]
  },
  {
   "cell_type": "markdown",
   "id": "50501586",
   "metadata": {},
   "source": [
    "Не все бронирования завершились успешно (is_canceled), поэтому можно посчитать, сколько клиентов было потеряно в процессе. Иными словами, посчитать метрику под названием Churn Rate.\n",
    "\n",
    "Churn rate (отток, коэффициент оттока) – это процент подписчиков (например, на push-уведомления от сайта), которые отписались от канала коммуникации, отказались от услуг сервиса в течение определенного периода времени. Иными словами, представляет собой отношение количества ушедших пользователей к общему количеству пользователей, выраженное в процентах.\n",
    "\n",
    "В нашем случае Churn Rate - это процент клиентов, которые отменили бронирование. Давайте посмотрим, как эта метрика связана с наличием детей у клиентов!\n",
    "Создайте колонку has_kids, которая принимает значение True, если клиент при бронировании указал хотя бы одного ребенка (total_kids), в противном случае – False. Далее проверьте, среди какой группы пользователей показатель оттока выше. \n",
    "В качестве ответа укажите наибольший % оттока, округленный до 2 знаков после точки (то есть доля 0.24563 будет 24.56% и в ответ пойдёт 24.56)"
   ]
  },
  {
   "cell_type": "code",
   "execution_count": 48,
   "id": "ce5f73d5",
   "metadata": {},
   "outputs": [
    {
     "data": {
      "application/vnd.microsoft.datawrangler.viewer.v0+json": {
       "columns": [
        {
         "name": "('has_kids', 'is_canceled')",
         "rawType": "object",
         "type": "unknown"
        },
        {
         "name": "count",
         "rawType": "float64",
         "type": "float"
        }
       ],
       "ref": "206f3c15-274a-4afb-be3c-4e41393cbd91",
       "rows": [
        [
         "(np.False_, np.int64(0))",
         "62.78"
        ],
        [
         "(np.False_, np.int64(1))",
         "37.22"
        ],
        [
         "(np.True_, np.int64(0))",
         "65.08"
        ],
        [
         "(np.True_, np.int64(1))",
         "34.92"
        ]
       ],
       "shape": {
        "columns": 1,
        "rows": 4
       }
      },
      "text/plain": [
       "has_kids  is_canceled\n",
       "False     0              62.78\n",
       "          1              37.22\n",
       "True      0              65.08\n",
       "          1              34.92\n",
       "Name: count, dtype: float64"
      ]
     },
     "execution_count": 48,
     "metadata": {},
     "output_type": "execute_result"
    }
   ],
   "source": [
    "bookings['has_kids'] = bookings['total_kids'] > 0\n",
    "(bookings[['has_kids', 'is_canceled']].value_counts() / bookings[['has_kids']].value_counts() * 100).round(2)\n"
   ]
  }
 ],
 "metadata": {
  "kernelspec": {
   "display_name": "Python 3",
   "language": "python",
   "name": "python3"
  },
  "language_info": {
   "codemirror_mode": {
    "name": "ipython",
    "version": 3
   },
   "file_extension": ".py",
   "mimetype": "text/x-python",
   "name": "python",
   "nbconvert_exporter": "python",
   "pygments_lexer": "ipython3",
   "version": "3.13.3"
  }
 },
 "nbformat": 4,
 "nbformat_minor": 5
}
