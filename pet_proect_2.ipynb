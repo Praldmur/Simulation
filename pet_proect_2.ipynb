{
 "cells": [
  {
   "cell_type": "markdown",
   "id": "ec50eb2f",
   "metadata": {},
   "source": [
    "Импортируйте библиотеку pandas как pd. Загрузите датасет bookings.csv с разделителем ;. Проверьте размер таблицы, типы переменных, а затем выведите первые 7 строк, чтобы посмотреть на данные. "
   ]
  },
  {
   "cell_type": "code",
   "execution_count": 1,
   "id": "09faeb7a",
   "metadata": {
    "notebookRunGroups": {
     "groupValue": "1"
    }
   },
   "outputs": [],
   "source": [
    "import pandas as pd"
   ]
  },
  {
   "cell_type": "code",
   "execution_count": 2,
   "id": "dadfbc5c",
   "metadata": {
    "notebookRunGroups": {
     "groupValue": "2"
    }
   },
   "outputs": [],
   "source": [
    "path_to_file = r'F:\\!PR\\Simulation\\data\\bookings.csv'"
   ]
  },
  {
   "cell_type": "code",
   "execution_count": 3,
   "id": "0eb94f50",
   "metadata": {},
   "outputs": [],
   "source": [
    "bookings = pd.read_csv(path_to_file, encoding='Windows-1251', sep=';')"
   ]
  },
  {
   "cell_type": "code",
   "execution_count": null,
   "id": "ef78fe66",
   "metadata": {},
   "outputs": [],
   "source": [
    "bookings.head(7)"
   ]
  },
  {
   "cell_type": "markdown",
   "id": "9de06dc7",
   "metadata": {},
   "source": [
    "Посмотрите на размеры таблицы. Сколько всего в ней столбцов?"
   ]
  },
  {
   "cell_type": "code",
   "execution_count": 16,
   "id": "cc7869f1",
   "metadata": {},
   "outputs": [
    {
     "name": "stdout",
     "output_type": "stream",
     "text": [
      "rows = 119390, cols = 21\n"
     ]
    }
   ],
   "source": [
    "rows, cols = bookings.shape\n",
    "print(f'{rows = }, {cols = }')"
   ]
  },
  {
   "cell_type": "markdown",
   "id": "44f5767c",
   "metadata": {},
   "source": [
    "К какому типу/каким типам относится большинство переменных? "
   ]
  },
  {
   "cell_type": "code",
   "execution_count": null,
   "id": "c8d526fa",
   "metadata": {},
   "outputs": [],
   "source": [
    "bookings.dtypes"
   ]
  },
  {
   "cell_type": "code",
   "execution_count": null,
   "id": "55794113",
   "metadata": {},
   "outputs": [],
   "source": [
    "bookings.info()"
   ]
  },
  {
   "cell_type": "markdown",
   "id": "f0504e26",
   "metadata": {},
   "source": [
    "Как вы уже могли заметить, при сборе датасета произошла небольшая ошибка, и названия колонок были записаны в неудобном для дальнейшей работы формате. Исправьте ситуацию, приведя названия столбцов к нижнему регистру и заменив пробелы на знак нижнего подчеркивания. "
   ]
  },
  {
   "cell_type": "code",
   "execution_count": 7,
   "id": "8e6763ac",
   "metadata": {},
   "outputs": [],
   "source": [
    "bookings.columns = [col.lower().replace(' ', '_') for col in bookings.columns]"
   ]
  },
  {
   "cell_type": "markdown",
   "id": "9ccbbc0b",
   "metadata": {},
   "source": [
    "Перейдем к исследованию данных! Пользователи из каких стран совершили наибольшее число успешных бронирований? Бронирование считается успешным, если в дальнейшем не было отменено (переменная is_canceled). В качестве ответа выберите страны, входящие в топ-5."
   ]
  },
  {
   "cell_type": "code",
   "execution_count": null,
   "id": "7345edb5",
   "metadata": {},
   "outputs": [],
   "source": [
    "bookings.query('is_canceled == 0') \\\n",
    "    .groupby(['country']) \\\n",
    "    .agg({'is_canceled': 'count'}) \\\n",
    "    .sort_values('is_canceled', ascending=False) \\\n",
    "    .head()"
   ]
  },
  {
   "cell_type": "code",
   "execution_count": null,
   "id": "954a5e47",
   "metadata": {},
   "outputs": [],
   "source": [
    "bookings.loc[bookings.is_canceled == 0] \\\n",
    "    .country \\\n",
    "    .value_counts() \\\n",
    "    .head()"
   ]
  }
 ],
 "metadata": {
  "kernelspec": {
   "display_name": "Python 3",
   "language": "python",
   "name": "python3"
  },
  "language_info": {
   "codemirror_mode": {
    "name": "ipython",
    "version": 3
   },
   "file_extension": ".py",
   "mimetype": "text/x-python",
   "name": "python",
   "nbconvert_exporter": "python",
   "pygments_lexer": "ipython3",
   "version": "3.13.3"
  }
 },
 "nbformat": 4,
 "nbformat_minor": 5
}
