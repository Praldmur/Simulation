{
 "cells": [
  {
   "cell_type": "code",
   "execution_count": 1,
   "id": "38915ded",
   "metadata": {},
   "outputs": [],
   "source": [
    "import requests\n",
    "import pandas as pd\n",
    "import seaborn as sns\n",
    "import matplotlib.pyplot as plt"
   ]
  },
  {
   "cell_type": "code",
   "execution_count": 9,
   "id": "d5f5ae1b",
   "metadata": {},
   "outputs": [],
   "source": [
    "r = requests.get('https://collectionapi.metmuseum.org/public/collection/v1/search?q=sunflower')\n",
    "sunflowers = r.json()"
   ]
  },
  {
   "cell_type": "code",
   "execution_count": 12,
   "id": "1fb4f110",
   "metadata": {},
   "outputs": [],
   "source": [
    "sunflower_ids = sunflowers['objectIDs']"
   ]
  }
 ],
 "metadata": {
  "kernelspec": {
   "display_name": "Python 3",
   "language": "python",
   "name": "python3"
  },
  "language_info": {
   "codemirror_mode": {
    "name": "ipython",
    "version": 3
   },
   "file_extension": ".py",
   "mimetype": "text/x-python",
   "name": "python",
   "nbconvert_exporter": "python",
   "pygments_lexer": "ipython3",
   "version": "3.11.9"
  }
 },
 "nbformat": 4,
 "nbformat_minor": 5
}
