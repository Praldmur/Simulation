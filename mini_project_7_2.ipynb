{
 "cells": [
  {
   "cell_type": "code",
   "execution_count": 1,
   "id": "38915ded",
   "metadata": {},
   "outputs": [],
   "source": [
    "import requests\n",
    "import pandas as pd\n",
    "import seaborn as sns\n",
    "import matplotlib.pyplot as plt"
   ]
  },
  {
   "cell_type": "markdown",
   "id": "54509988",
   "metadata": {},
   "source": [
    "Предположим, ваша задача – найти все произведения, связанные с подсолнухами. Выполните поиск по слову \"sunflowers\". Внимательно посмотрите на формат ответа и сохраните id полученных объектов в список sunflower_ids.  \n",
    "Сам запрос к API должен состоять из нескольких параметров. Пример обращения к поиску (Search):  \n",
    "r = requests.get('https://collectionapi.metmuseum.org/public/collection/v1/search?q=QUERY')  \n",
    "res = r.json()  \n",
    "где QUERY – ключевое слово."
   ]
  },
  {
   "cell_type": "code",
   "execution_count": 2,
   "id": "d5f5ae1b",
   "metadata": {},
   "outputs": [],
   "source": [
    "r = requests.get('https://collectionapi.metmuseum.org/public/collection/v1/search?q=sunflower')\n",
    "sunflowers = r.json()"
   ]
  },
  {
   "cell_type": "code",
   "execution_count": 3,
   "id": "1fb4f110",
   "metadata": {},
   "outputs": [],
   "source": [
    "sunflower_ids = sunflowers['objectIDs']"
   ]
  },
  {
   "cell_type": "code",
   "execution_count": null,
   "id": "98811ccf",
   "metadata": {},
   "outputs": [],
   "source": [
    "sunflower_ids"
   ]
  },
  {
   "cell_type": "markdown",
   "id": "fa66662a",
   "metadata": {},
   "source": [
    "Отлично! На предыдущем шаге мы получили результаты поиска. Следущий этап – собрать информацию об этих объектах.  \n",
    "Пример текста запроса для получения информации об одном объекте (Object):  \n",
    "r_test = requests.get(f'https://collectionapi.metmuseum.org/public/collection/v1/objects/OBJECT_ID')  \n",
    "obj_test = r_test.json()  \n",
    "где OBJECT_ID – id объекта.  \n",
    "Выполните запрос для объекта 437980"
   ]
  },
  {
   "cell_type": "code",
   "execution_count": 6,
   "id": "3872577f",
   "metadata": {},
   "outputs": [],
   "source": [
    "r_test = requests.get(f'https://collectionapi.metmuseum.org/public/collection/v1/objects/437980')\n",
    "obj_test = r_test.json()"
   ]
  },
  {
   "cell_type": "code",
   "execution_count": 8,
   "id": "7c5e83db",
   "metadata": {},
   "outputs": [
    {
     "data": {
      "text/plain": [
       "{'objectID': 437980,\n",
       " 'isHighlight': False,\n",
       " 'accessionNumber': '49.30',\n",
       " 'accessionYear': '1949',\n",
       " 'isPublicDomain': True,\n",
       " 'primaryImage': 'https://images.metmuseum.org/CRDImages/ep/original/DP130999.jpg',\n",
       " 'primaryImageSmall': 'https://images.metmuseum.org/CRDImages/ep/web-large/DP130999.jpg',\n",
       " 'additionalImages': [],\n",
       " 'constituents': [{'constituentID': 161947,\n",
       "   'role': 'Artist',\n",
       "   'name': 'Vincent van Gogh',\n",
       "   'constituentULAN_URL': 'http://vocab.getty.edu/page/ulan/500115588',\n",
       "   'constituentWikidata_URL': 'https://www.wikidata.org/wiki/Q5582',\n",
       "   'gender': ''}],\n",
       " 'department': 'European Paintings',\n",
       " 'objectName': 'Painting',\n",
       " 'title': 'Cypresses',\n",
       " 'culture': '',\n",
       " 'period': '',\n",
       " 'dynasty': '',\n",
       " 'reign': '',\n",
       " 'portfolio': '',\n",
       " 'artistRole': 'Artist',\n",
       " 'artistPrefix': '',\n",
       " 'artistDisplayName': 'Vincent van Gogh',\n",
       " 'artistDisplayBio': 'Dutch, Zundert 1853–1890 Auvers-sur-Oise',\n",
       " 'artistSuffix': '',\n",
       " 'artistAlphaSort': 'Gogh, Vincent van',\n",
       " 'artistNationality': 'Dutch',\n",
       " 'artistBeginDate': '1853',\n",
       " 'artistEndDate': '1890',\n",
       " 'artistGender': '',\n",
       " 'artistWikidata_URL': 'https://www.wikidata.org/wiki/Q5582',\n",
       " 'artistULAN_URL': 'http://vocab.getty.edu/page/ulan/500115588',\n",
       " 'objectDate': '1889',\n",
       " 'objectBeginDate': 1889,\n",
       " 'objectEndDate': 1889,\n",
       " 'medium': 'Oil on canvas',\n",
       " 'dimensions': '36 3/4 x 29 1/8 in. (93.4 x 74 cm)',\n",
       " 'measurements': [{'elementName': 'Overall',\n",
       "   'elementDescription': None,\n",
       "   'elementMeasurements': {'Height': 93.4, 'Width': 74}},\n",
       "  {'elementName': 'Frame',\n",
       "   'elementDescription': None,\n",
       "   'elementMeasurements': {'Depth': 10.795,\n",
       "    'Height': 116.2052,\n",
       "    'Width': 96.5202}},\n",
       "  {'elementName': 'Other',\n",
       "   'elementDescription': 'glass',\n",
       "   'elementMeasurements': {'Height': 94.29769, 'Width': 76.517654}}],\n",
       " 'creditLine': 'Rogers Fund, 1949',\n",
       " 'geographyType': '',\n",
       " 'city': '',\n",
       " 'state': '',\n",
       " 'county': '',\n",
       " 'country': '',\n",
       " 'region': '',\n",
       " 'subregion': '',\n",
       " 'locale': '',\n",
       " 'locus': '',\n",
       " 'excavation': '',\n",
       " 'river': '',\n",
       " 'classification': 'Paintings',\n",
       " 'rightsAndReproduction': '',\n",
       " 'linkResource': '',\n",
       " 'metadataDate': '2025-01-30T04:54:21.21Z',\n",
       " 'repository': 'Metropolitan Museum of Art, New York, NY',\n",
       " 'objectURL': 'https://www.metmuseum.org/art/collection/search/437980',\n",
       " 'tags': [{'term': 'Landscapes',\n",
       "   'AAT_URL': 'http://vocab.getty.edu/page/aat/300132294',\n",
       "   'Wikidata_URL': 'https://www.wikidata.org/wiki/Q191163'},\n",
       "  {'term': 'Cypresses',\n",
       "   'AAT_URL': 'http://vocab.getty.edu/page/aat/300343641',\n",
       "   'Wikidata_URL': 'https://www.wikidata.org/wiki/Q146911'}],\n",
       " 'objectWikidata_URL': 'https://www.wikidata.org/wiki/Q867510',\n",
       " 'isTimelineWork': True,\n",
       " 'GalleryNumber': '825'}"
      ]
     },
     "execution_count": 8,
     "metadata": {},
     "output_type": "execute_result"
    }
   ],
   "source": [
    "obj_test"
   ]
  },
  {
   "cell_type": "markdown",
   "id": "26702604",
   "metadata": {},
   "source": [
    "Теперь напишите цикл, с помощью которого будет собрана информация об объектах, которые были получены на 2 шаге. Результаты запишите в датафрейм, а именно – следующие параметры:  \n",
    "1.\t objectID – id объекта  \n",
    "2.\ttitle – название  \n",
    "3.\tartistDisplayName – автор  \n",
    "4.\tdepartment – департамент  \n",
    "5.\tobjectBeginDate – дата (начало)  \n",
    "6.\tobjectEndDate – дата (конец)  \n",
    "7.\tperiod – название периода  \n",
    "8.\tobjectName – название/категория объекта  \n",
    "9.\tculture – культура  \n"
   ]
  }
 ],
 "metadata": {
  "kernelspec": {
   "display_name": "Python 3",
   "language": "python",
   "name": "python3"
  },
  "language_info": {
   "codemirror_mode": {
    "name": "ipython",
    "version": 3
   },
   "file_extension": ".py",
   "mimetype": "text/x-python",
   "name": "python",
   "nbconvert_exporter": "python",
   "pygments_lexer": "ipython3",
   "version": "3.13.3"
  }
 },
 "nbformat": 4,
 "nbformat_minor": 5
}
