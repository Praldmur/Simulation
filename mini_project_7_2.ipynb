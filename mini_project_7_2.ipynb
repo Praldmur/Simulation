{
 "cells": [
  {
   "cell_type": "code",
   "execution_count": null,
   "id": "38915ded",
   "metadata": {},
   "outputs": [],
   "source": [
    "import requests\n",
    "import pandas as pd"
   ]
  },
  {
   "cell_type": "markdown",
   "id": "54509988",
   "metadata": {},
   "source": [
    "Предположим, ваша задача – найти все произведения, связанные с подсолнухами. Выполните поиск по слову \"sunflowers\". Внимательно посмотрите на формат ответа и сохраните id полученных объектов в список sunflower_ids.  \n",
    "Сам запрос к API должен состоять из нескольких параметров. Пример обращения к поиску (Search):  \n",
    "r = requests.get('https://collectionapi.metmuseum.org/public/collection/v1/search?q=QUERY')  \n",
    "res = r.json()  \n",
    "где QUERY – ключевое слово."
   ]
  },
  {
   "cell_type": "code",
   "execution_count": 2,
   "id": "d5f5ae1b",
   "metadata": {},
   "outputs": [],
   "source": [
    "r = requests.get('https://collectionapi.metmuseum.org/public/collection/v1/search?q=sunflower')\n",
    "sunflowers = r.json()"
   ]
  },
  {
   "cell_type": "code",
   "execution_count": 3,
   "id": "1fb4f110",
   "metadata": {},
   "outputs": [],
   "source": [
    "sunflower_ids = sunflowers['objectIDs']"
   ]
  },
  {
   "cell_type": "code",
   "execution_count": null,
   "id": "98811ccf",
   "metadata": {},
   "outputs": [],
   "source": [
    "sunflower_ids"
   ]
  },
  {
   "cell_type": "markdown",
   "id": "fa66662a",
   "metadata": {},
   "source": [
    "Отлично! На предыдущем шаге мы получили результаты поиска. Следущий этап – собрать информацию об этих объектах.  \n",
    "Пример текста запроса для получения информации об одном объекте (Object):  \n",
    "r_test = requests.get(f'https://collectionapi.metmuseum.org/public/collection/v1/objects/OBJECT_ID')  \n",
    "obj_test = r_test.json()  \n",
    "где OBJECT_ID – id объекта.  \n",
    "Выполните запрос для объекта 437980"
   ]
  },
  {
   "cell_type": "code",
   "execution_count": 14,
   "id": "3872577f",
   "metadata": {},
   "outputs": [],
   "source": [
    "r_test = requests.get(f'https://collectionapi.metmuseum.org/public/collection/v1/objects/437980')\n",
    "obj_test = r_test.json()"
   ]
  },
  {
   "cell_type": "code",
   "execution_count": null,
   "id": "7c5e83db",
   "metadata": {},
   "outputs": [],
   "source": [
    "obj_test"
   ]
  },
  {
   "cell_type": "markdown",
   "id": "26702604",
   "metadata": {},
   "source": [
    "Теперь напишите цикл, с помощью которого будет собрана информация об объектах, которые были получены на 2 шаге. Результаты запишите в датафрейм, а именно – следующие параметры:  \n",
    "1.\t objectID – id объекта  \n",
    "2.\ttitle – название  \n",
    "3.\tartistDisplayName – автор  \n",
    "4.\tdepartment – департамент  \n",
    "5.\tobjectBeginDate – дата (начало)  \n",
    "6.\tobjectEndDate – дата (конец)  \n",
    "7.\tperiod – название периода  \n",
    "8.\tobjectName – название/категория объекта  \n",
    "9.\tculture – культура  \n"
   ]
  },
  {
   "cell_type": "code",
   "execution_count": 8,
   "id": "1a040836",
   "metadata": {},
   "outputs": [],
   "source": [
    "object_df = pd.DataFrame()\n",
    "for object_id in sunflower_ids:\n",
    "    r = requests.get(f'https://collectionapi.metmuseum.org/public/collection/v1/objects/{object_id}')\n",
    "    obj_tmp = r.json()\n",
    "    try:\n",
    "        obj_tmp_df = pd.DataFrame({'objectID' : obj_tmp['objectID'],\n",
    "                              'title' : [obj_tmp['title']],\n",
    "                              'artistDisplayName': [obj_tmp['artistDisplayName']],\n",
    "                              'department' : [obj_tmp['department']], \n",
    "                              'objectBeginDate' : [obj_tmp['objectBeginDate']], \n",
    "                              'objectEndDate' : [obj_tmp['objectEndDate']], \n",
    "                              'period' : [obj_tmp['period']], \n",
    "                              'objectName' : [obj_tmp['objectName']], \n",
    "                              'culture': [obj_tmp['culture']]\n",
    "                          })\n",
    "        object_df = pd.concat([object_df, obj_tmp_df])\n",
    "    except KeyError:\n",
    "      continue\n"
   ]
  },
  {
   "cell_type": "code",
   "execution_count": 16,
   "id": "873e9231",
   "metadata": {},
   "outputs": [
    {
     "data": {
      "application/vnd.microsoft.datawrangler.viewer.v0+json": {
       "columns": [
        {
         "name": "index",
         "rawType": "int64",
         "type": "integer"
        },
        {
         "name": "objectID",
         "rawType": "int64",
         "type": "integer"
        },
        {
         "name": "title",
         "rawType": "object",
         "type": "string"
        },
        {
         "name": "artistDisplayName",
         "rawType": "object",
         "type": "string"
        },
        {
         "name": "department",
         "rawType": "object",
         "type": "string"
        },
        {
         "name": "objectBeginDate",
         "rawType": "int64",
         "type": "integer"
        },
        {
         "name": "objectEndDate",
         "rawType": "int64",
         "type": "integer"
        },
        {
         "name": "period",
         "rawType": "object",
         "type": "string"
        },
        {
         "name": "objectName",
         "rawType": "object",
         "type": "string"
        },
        {
         "name": "culture",
         "rawType": "object",
         "type": "string"
        }
       ],
       "ref": "3698700e-7cc3-49fa-a2c5-95375a11c1d0",
       "rows": [
        [
         "0",
         "485308",
         "Sunflower",
         "Joan Mitchell",
         "Modern and Contemporary Art",
         "1969",
         "1969",
         "",
         "Painting",
         ""
        ],
        [
         "0",
         "822590",
         "Sunflower",
         "Brigitte Coudrain",
         "Drawings and Prints",
         "1950",
         "1975",
         "",
         "Print",
         ""
        ],
        [
         "0",
         "707887",
         "Botanical dish with white sunflower",
         "Chelsea Porcelain Manufactory",
         "European Sculpture and Decorative Arts",
         "1750",
         "1760",
         "",
         "Dish",
         ""
        ],
        [
         "0",
         "437112",
         "Bouquet of Sunflowers",
         "Claude Monet",
         "European Paintings",
         "1881",
         "1881",
         "",
         "Painting",
         ""
        ],
        [
         "0",
         "436524",
         "Sunflowers",
         "Vincent van Gogh",
         "European Paintings",
         "1887",
         "1887",
         "",
         "Painting",
         ""
        ]
       ],
       "shape": {
        "columns": 9,
        "rows": 5
       }
      },
      "text/html": [
       "<div>\n",
       "<style scoped>\n",
       "    .dataframe tbody tr th:only-of-type {\n",
       "        vertical-align: middle;\n",
       "    }\n",
       "\n",
       "    .dataframe tbody tr th {\n",
       "        vertical-align: top;\n",
       "    }\n",
       "\n",
       "    .dataframe thead th {\n",
       "        text-align: right;\n",
       "    }\n",
       "</style>\n",
       "<table border=\"1\" class=\"dataframe\">\n",
       "  <thead>\n",
       "    <tr style=\"text-align: right;\">\n",
       "      <th></th>\n",
       "      <th>objectID</th>\n",
       "      <th>title</th>\n",
       "      <th>artistDisplayName</th>\n",
       "      <th>department</th>\n",
       "      <th>objectBeginDate</th>\n",
       "      <th>objectEndDate</th>\n",
       "      <th>period</th>\n",
       "      <th>objectName</th>\n",
       "      <th>culture</th>\n",
       "    </tr>\n",
       "  </thead>\n",
       "  <tbody>\n",
       "    <tr>\n",
       "      <th>0</th>\n",
       "      <td>485308</td>\n",
       "      <td>Sunflower</td>\n",
       "      <td>Joan Mitchell</td>\n",
       "      <td>Modern and Contemporary Art</td>\n",
       "      <td>1969</td>\n",
       "      <td>1969</td>\n",
       "      <td></td>\n",
       "      <td>Painting</td>\n",
       "      <td></td>\n",
       "    </tr>\n",
       "    <tr>\n",
       "      <th>0</th>\n",
       "      <td>822590</td>\n",
       "      <td>Sunflower</td>\n",
       "      <td>Brigitte Coudrain</td>\n",
       "      <td>Drawings and Prints</td>\n",
       "      <td>1950</td>\n",
       "      <td>1975</td>\n",
       "      <td></td>\n",
       "      <td>Print</td>\n",
       "      <td></td>\n",
       "    </tr>\n",
       "    <tr>\n",
       "      <th>0</th>\n",
       "      <td>707887</td>\n",
       "      <td>Botanical dish with white sunflower</td>\n",
       "      <td>Chelsea Porcelain Manufactory</td>\n",
       "      <td>European Sculpture and Decorative Arts</td>\n",
       "      <td>1750</td>\n",
       "      <td>1760</td>\n",
       "      <td></td>\n",
       "      <td>Dish</td>\n",
       "      <td></td>\n",
       "    </tr>\n",
       "    <tr>\n",
       "      <th>0</th>\n",
       "      <td>437112</td>\n",
       "      <td>Bouquet of Sunflowers</td>\n",
       "      <td>Claude Monet</td>\n",
       "      <td>European Paintings</td>\n",
       "      <td>1881</td>\n",
       "      <td>1881</td>\n",
       "      <td></td>\n",
       "      <td>Painting</td>\n",
       "      <td></td>\n",
       "    </tr>\n",
       "    <tr>\n",
       "      <th>0</th>\n",
       "      <td>436524</td>\n",
       "      <td>Sunflowers</td>\n",
       "      <td>Vincent van Gogh</td>\n",
       "      <td>European Paintings</td>\n",
       "      <td>1887</td>\n",
       "      <td>1887</td>\n",
       "      <td></td>\n",
       "      <td>Painting</td>\n",
       "      <td></td>\n",
       "    </tr>\n",
       "  </tbody>\n",
       "</table>\n",
       "</div>"
      ],
      "text/plain": [
       "   objectID                                title  \\\n",
       "0    485308                            Sunflower   \n",
       "0    822590                            Sunflower   \n",
       "0    707887  Botanical dish with white sunflower   \n",
       "0    437112                Bouquet of Sunflowers   \n",
       "0    436524                           Sunflowers   \n",
       "\n",
       "               artistDisplayName                              department  \\\n",
       "0                  Joan Mitchell             Modern and Contemporary Art   \n",
       "0              Brigitte Coudrain                     Drawings and Prints   \n",
       "0  Chelsea Porcelain Manufactory  European Sculpture and Decorative Arts   \n",
       "0                   Claude Monet                      European Paintings   \n",
       "0               Vincent van Gogh                      European Paintings   \n",
       "\n",
       "   objectBeginDate  objectEndDate period objectName culture  \n",
       "0             1969           1969          Painting          \n",
       "0             1950           1975             Print          \n",
       "0             1750           1760              Dish          \n",
       "0             1881           1881          Painting          \n",
       "0             1887           1887          Painting          "
      ]
     },
     "execution_count": 16,
     "metadata": {},
     "output_type": "execute_result"
    }
   ],
   "source": [
    "object_df.head()"
   ]
  },
  {
   "cell_type": "markdown",
   "id": "9704c43d",
   "metadata": {},
   "source": [
    "Сколько объектов относятся к японской культуре? (culture –Japan)"
   ]
  },
  {
   "cell_type": "code",
   "execution_count": 11,
   "id": "3ba41d47",
   "metadata": {},
   "outputs": [
    {
     "data": {
      "text/plain": [
       "1"
      ]
     },
     "execution_count": 11,
     "metadata": {},
     "output_type": "execute_result"
    }
   ],
   "source": [
    "object_df.query(\"culture == 'Japan'\").shape[0]"
   ]
  },
  {
   "cell_type": "markdown",
   "id": "7ad142e9",
   "metadata": {},
   "source": [
    "Теперь попробуем построить более сложный запрос с помощью секции \"Search\"! На этот раз параметры необходимо передать через \"&\", например, departmentId (id департамента – 1) и q (ключевое слово – cat):  \n",
    "r = requests.get('https://collectionapi.metmuseum.org/public/collection/v1/search?departmentId=1&q=cat')  \n",
    "cats = r.json()  \n",
    "Выполните поисковый запрос для департамента \"Asian art\" (departmentId = 6) с тегом \"cat\" и запишите id объектов в cat_ids. Используйте цикл из шага 4, чтобы получить данные о первой 1000 объектов из списка.  \n",
    "Note: выполнение цикла может занять некоторое время (~5 минут), поэтому проверять его работоспособность лучше на более маленькой выборке!  \n",
    "В качестве ответа укажите, в каком периоде (period) было выполнено наибольшее количество работ, представленных в музее?  "
   ]
  },
  {
   "cell_type": "code",
   "execution_count": 24,
   "id": "5f48f648",
   "metadata": {},
   "outputs": [],
   "source": [
    "r = requests.get('https://collectionapi.metmuseum.org/public/collection/v1/search?departmentId=6&q=cat')  \n",
    "cats = r.json()  \n",
    "cat_ids = cats['objectIDs']"
   ]
  },
  {
   "cell_type": "code",
   "execution_count": null,
   "id": "7448bb99",
   "metadata": {},
   "outputs": [],
   "source": [
    "cat_ids"
   ]
  },
  {
   "cell_type": "code",
   "execution_count": 38,
   "id": "5b4c9c74",
   "metadata": {},
   "outputs": [],
   "source": [
    "object_df = pd.DataFrame()\n",
    "for object_id in cat_ids[:1000]:\n",
    "    r = requests.get(f'https://collectionapi.metmuseum.org/public/collection/v1/objects/{object_id}')\n",
    "    obj_tmp = r.json()\n",
    "    try:\n",
    "        obj_tmp_df = pd.DataFrame({'objectID' : obj_tmp['objectID'],\n",
    "                              'title' : [obj_tmp['title']],\n",
    "                              'artistDisplayName': [obj_tmp['artistDisplayName']],\n",
    "                              'department' : [obj_tmp['department']], \n",
    "                              'objectBeginDate' : [obj_tmp['objectBeginDate']], \n",
    "                              'objectEndDate' : [obj_tmp['objectEndDate']], \n",
    "                              'period' : [obj_tmp['period']], \n",
    "                              'objectName' : [obj_tmp['objectName']], \n",
    "                              'culture': [obj_tmp['culture']]\n",
    "                          })\n",
    "        object_df = pd.concat([object_df, obj_tmp_df])\n",
    "    except KeyError:\n",
    "      continue"
   ]
  },
  {
   "cell_type": "code",
   "execution_count": 41,
   "id": "f7d1685f",
   "metadata": {},
   "outputs": [
    {
     "data": {
      "application/vnd.microsoft.datawrangler.viewer.v0+json": {
       "columns": [
        {
         "name": "index",
         "rawType": "int64",
         "type": "integer"
        },
        {
         "name": "objectID",
         "rawType": "int64",
         "type": "integer"
        },
        {
         "name": "title",
         "rawType": "object",
         "type": "string"
        },
        {
         "name": "artistDisplayName",
         "rawType": "object",
         "type": "string"
        },
        {
         "name": "department",
         "rawType": "object",
         "type": "string"
        },
        {
         "name": "objectBeginDate",
         "rawType": "int64",
         "type": "integer"
        },
        {
         "name": "objectEndDate",
         "rawType": "int64",
         "type": "integer"
        },
        {
         "name": "period",
         "rawType": "object",
         "type": "string"
        },
        {
         "name": "objectName",
         "rawType": "object",
         "type": "string"
        },
        {
         "name": "culture",
         "rawType": "object",
         "type": "string"
        }
       ],
       "ref": "7201afe2-1647-4b01-a009-31f9725b0fee",
       "rows": [
        [
         "0",
         "49698",
         "Cat",
         "Zhang Yuguang",
         "Asian Art",
         "1900",
         "1968",
         "",
         "Folding fan mounted as an album leaf",
         "China"
        ],
        [
         "0",
         "49470",
         "Cat",
         "Wang Li",
         "Asian Art",
         "1813",
         "1879",
         "Qing dynasty (1644–1911)",
         "Hanging scroll",
         "China"
        ],
        [
         "0",
         "36221",
         "Cat",
         "Wang Yun",
         "Asian Art",
         "1900",
         "1933",
         "",
         "Hanging scroll",
         "China"
        ],
        [
         "0",
         "53222",
         "Musk Cat",
         "Uto Gyoshi",
         "Asian Art",
         "1550",
         "1599",
         "Muromachi period (1392–1573)",
         "Hanging scroll",
         "Japan"
        ],
        [
         "0",
         "60873",
         "Head ornament",
         "",
         "Asian Art",
         "960",
         "1279",
         "Song dynasty (960–1279) or later",
         "Head ornament",
         "China"
        ]
       ],
       "shape": {
        "columns": 9,
        "rows": 5
       }
      },
      "text/html": [
       "<div>\n",
       "<style scoped>\n",
       "    .dataframe tbody tr th:only-of-type {\n",
       "        vertical-align: middle;\n",
       "    }\n",
       "\n",
       "    .dataframe tbody tr th {\n",
       "        vertical-align: top;\n",
       "    }\n",
       "\n",
       "    .dataframe thead th {\n",
       "        text-align: right;\n",
       "    }\n",
       "</style>\n",
       "<table border=\"1\" class=\"dataframe\">\n",
       "  <thead>\n",
       "    <tr style=\"text-align: right;\">\n",
       "      <th></th>\n",
       "      <th>objectID</th>\n",
       "      <th>title</th>\n",
       "      <th>artistDisplayName</th>\n",
       "      <th>department</th>\n",
       "      <th>objectBeginDate</th>\n",
       "      <th>objectEndDate</th>\n",
       "      <th>period</th>\n",
       "      <th>objectName</th>\n",
       "      <th>culture</th>\n",
       "    </tr>\n",
       "  </thead>\n",
       "  <tbody>\n",
       "    <tr>\n",
       "      <th>0</th>\n",
       "      <td>49698</td>\n",
       "      <td>Cat</td>\n",
       "      <td>Zhang Yuguang</td>\n",
       "      <td>Asian Art</td>\n",
       "      <td>1900</td>\n",
       "      <td>1968</td>\n",
       "      <td></td>\n",
       "      <td>Folding fan mounted as an album leaf</td>\n",
       "      <td>China</td>\n",
       "    </tr>\n",
       "    <tr>\n",
       "      <th>0</th>\n",
       "      <td>49470</td>\n",
       "      <td>Cat</td>\n",
       "      <td>Wang Li</td>\n",
       "      <td>Asian Art</td>\n",
       "      <td>1813</td>\n",
       "      <td>1879</td>\n",
       "      <td>Qing dynasty (1644–1911)</td>\n",
       "      <td>Hanging scroll</td>\n",
       "      <td>China</td>\n",
       "    </tr>\n",
       "    <tr>\n",
       "      <th>0</th>\n",
       "      <td>36221</td>\n",
       "      <td>Cat</td>\n",
       "      <td>Wang Yun</td>\n",
       "      <td>Asian Art</td>\n",
       "      <td>1900</td>\n",
       "      <td>1933</td>\n",
       "      <td></td>\n",
       "      <td>Hanging scroll</td>\n",
       "      <td>China</td>\n",
       "    </tr>\n",
       "    <tr>\n",
       "      <th>0</th>\n",
       "      <td>53222</td>\n",
       "      <td>Musk Cat</td>\n",
       "      <td>Uto Gyoshi</td>\n",
       "      <td>Asian Art</td>\n",
       "      <td>1550</td>\n",
       "      <td>1599</td>\n",
       "      <td>Muromachi period (1392–1573)</td>\n",
       "      <td>Hanging scroll</td>\n",
       "      <td>Japan</td>\n",
       "    </tr>\n",
       "    <tr>\n",
       "      <th>0</th>\n",
       "      <td>60873</td>\n",
       "      <td>Head ornament</td>\n",
       "      <td></td>\n",
       "      <td>Asian Art</td>\n",
       "      <td>960</td>\n",
       "      <td>1279</td>\n",
       "      <td>Song dynasty (960–1279) or later</td>\n",
       "      <td>Head ornament</td>\n",
       "      <td>China</td>\n",
       "    </tr>\n",
       "  </tbody>\n",
       "</table>\n",
       "</div>"
      ],
      "text/plain": [
       "   objectID          title artistDisplayName department  objectBeginDate  \\\n",
       "0     49698            Cat     Zhang Yuguang  Asian Art             1900   \n",
       "0     49470            Cat           Wang Li  Asian Art             1813   \n",
       "0     36221            Cat          Wang Yun  Asian Art             1900   \n",
       "0     53222       Musk Cat        Uto Gyoshi  Asian Art             1550   \n",
       "0     60873  Head ornament                    Asian Art              960   \n",
       "\n",
       "   objectEndDate                            period  \\\n",
       "0           1968                                     \n",
       "0           1879          Qing dynasty (1644–1911)   \n",
       "0           1933                                     \n",
       "0           1599      Muromachi period (1392–1573)   \n",
       "0           1279  Song dynasty (960–1279) or later   \n",
       "\n",
       "                             objectName culture  \n",
       "0  Folding fan mounted as an album leaf   China  \n",
       "0                        Hanging scroll   China  \n",
       "0                        Hanging scroll   China  \n",
       "0                        Hanging scroll   Japan  \n",
       "0                         Head ornament   China  "
      ]
     },
     "execution_count": 41,
     "metadata": {},
     "output_type": "execute_result"
    }
   ],
   "source": [
    "object_df.head()"
   ]
  },
  {
   "cell_type": "code",
   "execution_count": 42,
   "id": "9fc4f176",
   "metadata": {},
   "outputs": [
    {
     "data": {
      "application/vnd.microsoft.datawrangler.viewer.v0+json": {
       "columns": [
        {
         "name": "index",
         "rawType": "object",
         "type": "string"
        },
        {
         "name": "0",
         "rawType": "object",
         "type": "unknown"
        }
       ],
       "ref": "c09d55da-009b-4531-93d7-4a7d35073da4",
       "rows": [
        [
         "period",
         "Edo period (1615–1868)"
        ],
        [
         "count",
         "312"
        ]
       ],
       "shape": {
        "columns": 1,
        "rows": 2
       }
      },
      "text/plain": [
       "period    Edo period (1615–1868)\n",
       "count                        312\n",
       "Name: 0, dtype: object"
      ]
     },
     "execution_count": 42,
     "metadata": {},
     "output_type": "execute_result"
    }
   ],
   "source": [
    "object_df.period.value_counts().reset_index().iloc[0]"
   ]
  }
 ],
 "metadata": {
  "kernelspec": {
   "display_name": "Python 3",
   "language": "python",
   "name": "python3"
  },
  "language_info": {
   "codemirror_mode": {
    "name": "ipython",
    "version": 3
   },
   "file_extension": ".py",
   "mimetype": "text/x-python",
   "name": "python",
   "nbconvert_exporter": "python",
   "pygments_lexer": "ipython3",
   "version": "3.11.9"
  }
 },
 "nbformat": 4,
 "nbformat_minor": 5
}
