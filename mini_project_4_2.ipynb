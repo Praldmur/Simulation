{
 "cells": [
  {
   "cell_type": "code",
   "execution_count": 2,
   "id": "6967a333",
   "metadata": {},
   "outputs": [],
   "source": [
    "import pandas as pd\n",
    "import os\n",
    "import numpy as np\n",
    "\n",
    "import seaborn as sns\n",
    "import matplotlib.pyplot as plt\n",
    "\n",
    "%matplotlib inline "
   ]
  },
  {
   "cell_type": "code",
   "execution_count": 3,
   "id": "ff9aef5f",
   "metadata": {},
   "outputs": [],
   "source": [
    "path_inn = r'F:\\!PR\\Simulation\\data\\4_inn.xls'"
   ]
  },
  {
   "cell_type": "code",
   "execution_count": 4,
   "id": "92ed496e",
   "metadata": {},
   "outputs": [],
   "source": [
    "path_necessary_inn = r'F:\\!PR\\Simulation\\data\\4_necessary_inn.txt'"
   ]
  },
  {
   "cell_type": "code",
   "execution_count": 7,
   "id": "c3393cb4",
   "metadata": {},
   "outputs": [],
   "source": [
    "inn = pd.read_excel(path_inn)"
   ]
  },
  {
   "cell_type": "code",
   "execution_count": 18,
   "id": "821bf4ff",
   "metadata": {},
   "outputs": [],
   "source": [
    "necessary_inn = pd.read_csv(path_necessary_inn, names=['head_inn'], header=None)"
   ]
  },
  {
   "cell_type": "code",
   "execution_count": 10,
   "id": "ae1fcb4c",
   "metadata": {},
   "outputs": [
    {
     "data": {
      "application/vnd.microsoft.datawrangler.viewer.v0+json": {
       "columns": [
        {
         "name": "index",
         "rawType": "int64",
         "type": "integer"
        },
        {
         "name": "Unnamed: 0",
         "rawType": "int64",
         "type": "integer"
        },
        {
         "name": "#",
         "rawType": "int64",
         "type": "integer"
        },
        {
         "name": "name",
         "rawType": "object",
         "type": "string"
        },
        {
         "name": "reg_number",
         "rawType": "int64",
         "type": "integer"
        },
        {
         "name": "address",
         "rawType": "object",
         "type": "string"
        },
        {
         "name": "head",
         "rawType": "object",
         "type": "string"
        },
        {
         "name": "head_job",
         "rawType": "object",
         "type": "string"
        },
        {
         "name": "head_inn",
         "rawType": "int64",
         "type": "integer"
        },
        {
         "name": "phone",
         "rawType": "object",
         "type": "string"
        },
        {
         "name": "email",
         "rawType": "object",
         "type": "string"
        },
        {
         "name": "site",
         "rawType": "object",
         "type": "string"
        },
        {
         "name": "registration_date",
         "rawType": "object",
         "type": "string"
        },
        {
         "name": "nalogoplatelschik_code",
         "rawType": "object",
         "type": "string"
        },
        {
         "name": "oktmo_code",
         "rawType": "int64",
         "type": "integer"
        },
        {
         "name": "okato_code",
         "rawType": "int64",
         "type": "integer"
        },
        {
         "name": "registration_region",
         "rawType": "object",
         "type": "string"
        },
        {
         "name": "okato_name",
         "rawType": "object",
         "type": "string"
        },
        {
         "name": "field",
         "rawType": "object",
         "type": "string"
        },
        {
         "name": "capital,RUB",
         "rawType": "int64",
         "type": "integer"
        },
        {
         "name": "income,RUB",
         "rawType": "int64",
         "type": "integer"
        }
       ],
       "ref": "20089e62-4c34-446d-835a-603ccdd7e86b",
       "rows": [
        [
         "0",
         "0",
         "0",
         "ЗАО «Власова, Макаров и Шашков»",
         "1143692580560",
         "д. Кирово-Чепецк, пр. Металлургов, д. 537 к. 3/2, 624959",
         "Жданов Карл Виленович",
         "Маммолог",
         "109092209811",
         "+7 (559) 338-87-76",
         "bogdanovavtonom@yahoo.com",
         "ooo.info",
         "2015-01-07",
         "2006-10-04",
         "21112877268",
         "73423615032",
         "Ulan-Ude",
         "к. Тосно, ул. Пушкинская, д. 896, 617222",
         "Синхронизация критически важных отношений",
         "54875526078",
         "32205872896"
        ],
        [
         "1",
         "1",
         "1",
         "РАО «Тимофеева, Алексеева и Кузнецова»",
         "9342309660697",
         "г. Арзамас, наб. Фестивальная, д. 7 стр. 8/2, 424504",
         "Рожков Харлампий Алексеевич",
         "Воспитатель",
         "704229465069",
         "8 (632) 620-8879",
         "safonovantonin@rao.org",
         "ooo.net",
         "1990-05-16",
         "2019-01-18",
         "18393547520",
         "19072454279",
         "Tyoply Stan",
         "ст. Кяхта, бул. Нефтяников, д. 24, 768742",
         "Формирование заказных методик",
         "33876448811",
         "47437574301"
        ],
        [
         "2",
         "2",
         "2",
         "РАО «Юдин-Ефимова»",
         "1277485323451",
         "п. Меренга, алл. Достоевского, д. 3/4 к. 497, 553869",
         "Филимон Фадеевич Дьячков",
         "Автослесарь",
         "267655036377",
         "+74925330378",
         "kdorofeev@npo.ru",
         "ao.com",
         "1982-11-04",
         "1986-06-19",
         "56104355836",
         "18629292792",
         "Danilov",
         "клх Усолье Сибирское, алл. Шишкина, д. 3/9 к. 4/6, 156744",
         "Максимизация корпоративных метрик",
         "94073834991",
         "7701710065"
        ],
        [
         "3",
         "3",
         "3",
         "Доронин Инкорпорэйтед",
         "7139161431511",
         "д. Иваново, ул. Красных Партизан, д. 83 к. 4, 920835",
         "Крылов Глеб Якубович",
         "Тюремный надзиратель",
         "362024991175",
         "+7 118 643 21 48",
         "nkulakova@mail.ru",
         "ooo.ru",
         "2005-01-02",
         "2004-04-06",
         "10398489351",
         "32502585383",
         "Beryozovsky",
         "г. Заводоуковск, ул. Гражданская, д. 7 к. 8/5, 583945",
         "Разработка ориентированных на пользователя интернет-услуг",
         "86971505490",
         "61148002572"
        ],
        [
         "4",
         "4",
         "4",
         "Объединенная энергетическая компания",
         "6114798049639",
         "к. Энгельс, наб. Шишкина, д. 120, 823828",
         "Субботин Вячеслав Федотович",
         "Инженер-электрик",
         "257948948010",
         "8 642 249 2134",
         "evgraf_18@yahoo.com",
         "gerasimova.biz",
         "1983-07-02",
         "1992-06-20",
         "20074507047",
         "40083207999",
         "Bavly",
         "к. Соль-Илецк, пер. Пригородный, д. 804 к. 1/3, 182316",
         "Монетизация интуитивных веб-сервисов",
         "36351136214",
         "34861533393"
        ]
       ],
       "shape": {
        "columns": 20,
        "rows": 5
       }
      },
      "text/html": [
       "<div>\n",
       "<style scoped>\n",
       "    .dataframe tbody tr th:only-of-type {\n",
       "        vertical-align: middle;\n",
       "    }\n",
       "\n",
       "    .dataframe tbody tr th {\n",
       "        vertical-align: top;\n",
       "    }\n",
       "\n",
       "    .dataframe thead th {\n",
       "        text-align: right;\n",
       "    }\n",
       "</style>\n",
       "<table border=\"1\" class=\"dataframe\">\n",
       "  <thead>\n",
       "    <tr style=\"text-align: right;\">\n",
       "      <th></th>\n",
       "      <th>Unnamed: 0</th>\n",
       "      <th>#</th>\n",
       "      <th>name</th>\n",
       "      <th>reg_number</th>\n",
       "      <th>address</th>\n",
       "      <th>head</th>\n",
       "      <th>head_job</th>\n",
       "      <th>head_inn</th>\n",
       "      <th>phone</th>\n",
       "      <th>email</th>\n",
       "      <th>site</th>\n",
       "      <th>registration_date</th>\n",
       "      <th>nalogoplatelschik_code</th>\n",
       "      <th>oktmo_code</th>\n",
       "      <th>okato_code</th>\n",
       "      <th>registration_region</th>\n",
       "      <th>okato_name</th>\n",
       "      <th>field</th>\n",
       "      <th>capital,RUB</th>\n",
       "      <th>income,RUB</th>\n",
       "    </tr>\n",
       "  </thead>\n",
       "  <tbody>\n",
       "    <tr>\n",
       "      <th>0</th>\n",
       "      <td>0</td>\n",
       "      <td>0</td>\n",
       "      <td>ЗАО «Власова, Макаров и Шашков»</td>\n",
       "      <td>1143692580560</td>\n",
       "      <td>д. Кирово-Чепецк, пр. Металлургов, д. 537 к. 3...</td>\n",
       "      <td>Жданов Карл Виленович</td>\n",
       "      <td>Маммолог</td>\n",
       "      <td>109092209811</td>\n",
       "      <td>+7 (559) 338-87-76</td>\n",
       "      <td>bogdanovavtonom@yahoo.com</td>\n",
       "      <td>ooo.info</td>\n",
       "      <td>2015-01-07</td>\n",
       "      <td>2006-10-04</td>\n",
       "      <td>21112877268</td>\n",
       "      <td>73423615032</td>\n",
       "      <td>Ulan-Ude</td>\n",
       "      <td>к. Тосно, ул. Пушкинская, д. 896, 617222</td>\n",
       "      <td>Синхронизация критически важных отношений</td>\n",
       "      <td>54875526078</td>\n",
       "      <td>32205872896</td>\n",
       "    </tr>\n",
       "    <tr>\n",
       "      <th>1</th>\n",
       "      <td>1</td>\n",
       "      <td>1</td>\n",
       "      <td>РАО «Тимофеева, Алексеева и Кузнецова»</td>\n",
       "      <td>9342309660697</td>\n",
       "      <td>г. Арзамас, наб. Фестивальная, д. 7 стр. 8/2, ...</td>\n",
       "      <td>Рожков Харлампий Алексеевич</td>\n",
       "      <td>Воспитатель</td>\n",
       "      <td>704229465069</td>\n",
       "      <td>8 (632) 620-8879</td>\n",
       "      <td>safonovantonin@rao.org</td>\n",
       "      <td>ooo.net</td>\n",
       "      <td>1990-05-16</td>\n",
       "      <td>2019-01-18</td>\n",
       "      <td>18393547520</td>\n",
       "      <td>19072454279</td>\n",
       "      <td>Tyoply Stan</td>\n",
       "      <td>ст. Кяхта, бул. Нефтяников, д. 24, 768742</td>\n",
       "      <td>Формирование заказных методик</td>\n",
       "      <td>33876448811</td>\n",
       "      <td>47437574301</td>\n",
       "    </tr>\n",
       "    <tr>\n",
       "      <th>2</th>\n",
       "      <td>2</td>\n",
       "      <td>2</td>\n",
       "      <td>РАО «Юдин-Ефимова»</td>\n",
       "      <td>1277485323451</td>\n",
       "      <td>п. Меренга, алл. Достоевского, д. 3/4 к. 497, ...</td>\n",
       "      <td>Филимон Фадеевич Дьячков</td>\n",
       "      <td>Автослесарь</td>\n",
       "      <td>267655036377</td>\n",
       "      <td>+74925330378</td>\n",
       "      <td>kdorofeev@npo.ru</td>\n",
       "      <td>ao.com</td>\n",
       "      <td>1982-11-04</td>\n",
       "      <td>1986-06-19</td>\n",
       "      <td>56104355836</td>\n",
       "      <td>18629292792</td>\n",
       "      <td>Danilov</td>\n",
       "      <td>клх Усолье Сибирское, алл. Шишкина, д. 3/9 к. ...</td>\n",
       "      <td>Максимизация корпоративных метрик</td>\n",
       "      <td>94073834991</td>\n",
       "      <td>7701710065</td>\n",
       "    </tr>\n",
       "    <tr>\n",
       "      <th>3</th>\n",
       "      <td>3</td>\n",
       "      <td>3</td>\n",
       "      <td>Доронин Инкорпорэйтед</td>\n",
       "      <td>7139161431511</td>\n",
       "      <td>д. Иваново, ул. Красных Партизан, д. 83 к. 4, ...</td>\n",
       "      <td>Крылов Глеб Якубович</td>\n",
       "      <td>Тюремный надзиратель</td>\n",
       "      <td>362024991175</td>\n",
       "      <td>+7 118 643 21 48</td>\n",
       "      <td>nkulakova@mail.ru</td>\n",
       "      <td>ooo.ru</td>\n",
       "      <td>2005-01-02</td>\n",
       "      <td>2004-04-06</td>\n",
       "      <td>10398489351</td>\n",
       "      <td>32502585383</td>\n",
       "      <td>Beryozovsky</td>\n",
       "      <td>г. Заводоуковск, ул. Гражданская, д. 7 к. 8/5,...</td>\n",
       "      <td>Разработка ориентированных на пользователя инт...</td>\n",
       "      <td>86971505490</td>\n",
       "      <td>61148002572</td>\n",
       "    </tr>\n",
       "    <tr>\n",
       "      <th>4</th>\n",
       "      <td>4</td>\n",
       "      <td>4</td>\n",
       "      <td>Объединенная энергетическая компания</td>\n",
       "      <td>6114798049639</td>\n",
       "      <td>к. Энгельс, наб. Шишкина, д. 120, 823828</td>\n",
       "      <td>Субботин Вячеслав Федотович</td>\n",
       "      <td>Инженер-электрик</td>\n",
       "      <td>257948948010</td>\n",
       "      <td>8 642 249 2134</td>\n",
       "      <td>evgraf_18@yahoo.com</td>\n",
       "      <td>gerasimova.biz</td>\n",
       "      <td>1983-07-02</td>\n",
       "      <td>1992-06-20</td>\n",
       "      <td>20074507047</td>\n",
       "      <td>40083207999</td>\n",
       "      <td>Bavly</td>\n",
       "      <td>к. Соль-Илецк, пер. Пригородный, д. 804 к. 1/3...</td>\n",
       "      <td>Монетизация интуитивных веб-сервисов</td>\n",
       "      <td>36351136214</td>\n",
       "      <td>34861533393</td>\n",
       "    </tr>\n",
       "  </tbody>\n",
       "</table>\n",
       "</div>"
      ],
      "text/plain": [
       "   Unnamed: 0  #                                    name     reg_number  \\\n",
       "0           0  0         ЗАО «Власова, Макаров и Шашков»  1143692580560   \n",
       "1           1  1  РАО «Тимофеева, Алексеева и Кузнецова»  9342309660697   \n",
       "2           2  2                      РАО «Юдин-Ефимова»  1277485323451   \n",
       "3           3  3                   Доронин Инкорпорэйтед  7139161431511   \n",
       "4           4  4    Объединенная энергетическая компания  6114798049639   \n",
       "\n",
       "                                             address  \\\n",
       "0  д. Кирово-Чепецк, пр. Металлургов, д. 537 к. 3...   \n",
       "1  г. Арзамас, наб. Фестивальная, д. 7 стр. 8/2, ...   \n",
       "2  п. Меренга, алл. Достоевского, д. 3/4 к. 497, ...   \n",
       "3  д. Иваново, ул. Красных Партизан, д. 83 к. 4, ...   \n",
       "4           к. Энгельс, наб. Шишкина, д. 120, 823828   \n",
       "\n",
       "                          head              head_job      head_inn  \\\n",
       "0        Жданов Карл Виленович              Маммолог  109092209811   \n",
       "1  Рожков Харлампий Алексеевич           Воспитатель  704229465069   \n",
       "2     Филимон Фадеевич Дьячков           Автослесарь  267655036377   \n",
       "3         Крылов Глеб Якубович  Тюремный надзиратель  362024991175   \n",
       "4  Субботин Вячеслав Федотович      Инженер-электрик  257948948010   \n",
       "\n",
       "                phone                      email            site  \\\n",
       "0  +7 (559) 338-87-76  bogdanovavtonom@yahoo.com        ooo.info   \n",
       "1    8 (632) 620-8879     safonovantonin@rao.org         ooo.net   \n",
       "2        +74925330378           kdorofeev@npo.ru          ao.com   \n",
       "3    +7 118 643 21 48          nkulakova@mail.ru          ooo.ru   \n",
       "4      8 642 249 2134        evgraf_18@yahoo.com  gerasimova.biz   \n",
       "\n",
       "  registration_date nalogoplatelschik_code   oktmo_code   okato_code  \\\n",
       "0        2015-01-07             2006-10-04  21112877268  73423615032   \n",
       "1        1990-05-16             2019-01-18  18393547520  19072454279   \n",
       "2        1982-11-04             1986-06-19  56104355836  18629292792   \n",
       "3        2005-01-02             2004-04-06  10398489351  32502585383   \n",
       "4        1983-07-02             1992-06-20  20074507047  40083207999   \n",
       "\n",
       "  registration_region                                         okato_name  \\\n",
       "0            Ulan-Ude           к. Тосно, ул. Пушкинская, д. 896, 617222   \n",
       "1         Tyoply Stan          ст. Кяхта, бул. Нефтяников, д. 24, 768742   \n",
       "2             Danilov  клх Усолье Сибирское, алл. Шишкина, д. 3/9 к. ...   \n",
       "3         Beryozovsky  г. Заводоуковск, ул. Гражданская, д. 7 к. 8/5,...   \n",
       "4               Bavly  к. Соль-Илецк, пер. Пригородный, д. 804 к. 1/3...   \n",
       "\n",
       "                                               field  capital,RUB   income,RUB  \n",
       "0          Синхронизация критически важных отношений  54875526078  32205872896  \n",
       "1                      Формирование заказных методик  33876448811  47437574301  \n",
       "2                  Максимизация корпоративных метрик  94073834991   7701710065  \n",
       "3  Разработка ориентированных на пользователя инт...  86971505490  61148002572  \n",
       "4               Монетизация интуитивных веб-сервисов  36351136214  34861533393  "
      ]
     },
     "execution_count": 10,
     "metadata": {},
     "output_type": "execute_result"
    }
   ],
   "source": [
    "inn.head()"
   ]
  },
  {
   "cell_type": "code",
   "execution_count": 19,
   "id": "b4ada75f",
   "metadata": {},
   "outputs": [
    {
     "data": {
      "application/vnd.microsoft.datawrangler.viewer.v0+json": {
       "columns": [
        {
         "name": "index",
         "rawType": "int64",
         "type": "integer"
        },
        {
         "name": "head_inn",
         "rawType": "int64",
         "type": "integer"
        }
       ],
       "ref": "0679af2b-3d5f-4192-b71b-46c9d1d2c976",
       "rows": [
        [
         "0",
         "394609645484"
        ],
        [
         "1",
         "281578625230"
        ],
        [
         "2",
         "923769811917"
        ],
        [
         "3",
         "998694734508"
        ],
        [
         "4",
         "271011690615"
        ],
        [
         "5",
         "924952812367"
        ],
        [
         "6",
         "646685244561"
        ],
        [
         "7",
         "581531230312"
        ],
        [
         "8",
         "841967395801"
        ],
        [
         "9",
         "962179889311"
        ],
        [
         "10",
         "873191383820"
        ],
        [
         "11",
         "590538076039"
        ],
        [
         "12",
         "194319975048"
        ],
        [
         "13",
         "614658394086"
        ],
        [
         "14",
         "571270160555"
        ],
        [
         "15",
         "609400911893"
        ],
        [
         "16",
         "595260069852"
        ],
        [
         "17",
         "706966142477"
        ],
        [
         "18",
         "173050718969"
        ],
        [
         "19",
         "968048428696"
        ],
        [
         "20",
         "806967744814"
        ],
        [
         "21",
         "575198252501"
        ],
        [
         "22",
         "283081417246"
        ],
        [
         "23",
         "663119569897"
        ],
        [
         "24",
         "600958529354"
        ],
        [
         "25",
         "280452832937"
        ],
        [
         "26",
         "415557497037"
        ],
        [
         "27",
         "195142638722"
        ],
        [
         "28",
         "472181033836"
        ],
        [
         "29",
         "722903871682"
        ],
        [
         "30",
         "442387408954"
        ],
        [
         "31",
         "196518820495"
        ],
        [
         "32",
         "653798670054"
        ],
        [
         "33",
         "126259856639"
        ],
        [
         "34",
         "175482780898"
        ],
        [
         "35",
         "192518356612"
        ],
        [
         "36",
         "817648134701"
        ],
        [
         "37",
         "321724220657"
        ],
        [
         "38",
         "864970037680"
        ],
        [
         "39",
         "822991191528"
        ],
        [
         "40",
         "205472219644"
        ],
        [
         "41",
         "532801459453"
        ],
        [
         "42",
         "657038381012"
        ],
        [
         "43",
         "197916669463"
        ],
        [
         "44",
         "849814898285"
        ],
        [
         "45",
         "617082656257"
        ],
        [
         "46",
         "500480544925"
        ],
        [
         "47",
         "765833725639"
        ],
        [
         "48",
         "263518962896"
        ],
        [
         "49",
         "415856290529"
        ]
       ],
       "shape": {
        "columns": 1,
        "rows": 115
       }
      },
      "text/html": [
       "<div>\n",
       "<style scoped>\n",
       "    .dataframe tbody tr th:only-of-type {\n",
       "        vertical-align: middle;\n",
       "    }\n",
       "\n",
       "    .dataframe tbody tr th {\n",
       "        vertical-align: top;\n",
       "    }\n",
       "\n",
       "    .dataframe thead th {\n",
       "        text-align: right;\n",
       "    }\n",
       "</style>\n",
       "<table border=\"1\" class=\"dataframe\">\n",
       "  <thead>\n",
       "    <tr style=\"text-align: right;\">\n",
       "      <th></th>\n",
       "      <th>head_inn</th>\n",
       "    </tr>\n",
       "  </thead>\n",
       "  <tbody>\n",
       "    <tr>\n",
       "      <th>0</th>\n",
       "      <td>394609645484</td>\n",
       "    </tr>\n",
       "    <tr>\n",
       "      <th>1</th>\n",
       "      <td>281578625230</td>\n",
       "    </tr>\n",
       "    <tr>\n",
       "      <th>2</th>\n",
       "      <td>923769811917</td>\n",
       "    </tr>\n",
       "    <tr>\n",
       "      <th>3</th>\n",
       "      <td>998694734508</td>\n",
       "    </tr>\n",
       "    <tr>\n",
       "      <th>4</th>\n",
       "      <td>271011690615</td>\n",
       "    </tr>\n",
       "    <tr>\n",
       "      <th>...</th>\n",
       "      <td>...</td>\n",
       "    </tr>\n",
       "    <tr>\n",
       "      <th>110</th>\n",
       "      <td>664306216794</td>\n",
       "    </tr>\n",
       "    <tr>\n",
       "      <th>111</th>\n",
       "      <td>991951385204</td>\n",
       "    </tr>\n",
       "    <tr>\n",
       "      <th>112</th>\n",
       "      <td>129413497752</td>\n",
       "    </tr>\n",
       "    <tr>\n",
       "      <th>113</th>\n",
       "      <td>447901012904</td>\n",
       "    </tr>\n",
       "    <tr>\n",
       "      <th>114</th>\n",
       "      <td>634037614688</td>\n",
       "    </tr>\n",
       "  </tbody>\n",
       "</table>\n",
       "<p>115 rows × 1 columns</p>\n",
       "</div>"
      ],
      "text/plain": [
       "         head_inn\n",
       "0    394609645484\n",
       "1    281578625230\n",
       "2    923769811917\n",
       "3    998694734508\n",
       "4    271011690615\n",
       "..            ...\n",
       "110  664306216794\n",
       "111  991951385204\n",
       "112  129413497752\n",
       "113  447901012904\n",
       "114  634037614688\n",
       "\n",
       "[115 rows x 1 columns]"
      ]
     },
     "execution_count": 19,
     "metadata": {},
     "output_type": "execute_result"
    }
   ],
   "source": [
    "necessary_inn"
   ]
  },
  {
   "cell_type": "code",
   "execution_count": 20,
   "id": "9ec4e2ae",
   "metadata": {},
   "outputs": [],
   "source": [
    "selected_inn = inn.merge(necessary_inn, on = 'head_inn')"
   ]
  },
  {
   "cell_type": "code",
   "execution_count": 25,
   "id": "7dec37e2",
   "metadata": {},
   "outputs": [
    {
     "data": {
      "text/plain": [
       "np.int64(6104522627393)"
      ]
     },
     "execution_count": 25,
     "metadata": {},
     "output_type": "execute_result"
    }
   ],
   "source": [
    "selected_inn['income,RUB'].sum()"
   ]
  },
  {
   "cell_type": "code",
   "execution_count": 26,
   "id": "1abe8881",
   "metadata": {},
   "outputs": [],
   "source": [
    "selected_inn.to_csv('selected_inn.csv', index=False)"
   ]
  }
 ],
 "metadata": {
  "kernelspec": {
   "display_name": "Python 3",
   "language": "python",
   "name": "python3"
  },
  "language_info": {
   "codemirror_mode": {
    "name": "ipython",
    "version": 3
   },
   "file_extension": ".py",
   "mimetype": "text/x-python",
   "name": "python",
   "nbconvert_exporter": "python",
   "pygments_lexer": "ipython3",
   "version": "3.13.3"
  }
 },
 "nbformat": 4,
 "nbformat_minor": 5
}
