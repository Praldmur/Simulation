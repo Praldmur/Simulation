{
 "cells": [
  {
   "cell_type": "code",
   "execution_count": 1,
   "id": "5bb2a4ff",
   "metadata": {},
   "outputs": [],
   "source": [
    "import pandas as pd\n",
    "import numpy as np\n",
    "%matplotlib inline\n",
    "import matplotlib.pyplot as plt\n",
    "import seaborn as sns\n",
    "\n",
    "import plotly.express as px"
   ]
  },
  {
   "cell_type": "code",
   "execution_count": 19,
   "id": "8d0b3d32",
   "metadata": {},
   "outputs": [],
   "source": [
    "ads = pd.read_csv(r'C:\\Users\\PC\\Desktop\\Софт\\Simulation\\Simulation\\data\\ads_data.csv', parse_dates=['date', 'time'])"
   ]
  },
  {
   "cell_type": "code",
   "execution_count": 21,
   "id": "ef7c1f60",
   "metadata": {},
   "outputs": [
    {
     "data": {
      "application/vnd.microsoft.datawrangler.viewer.v0+json": {
       "columns": [
        {
         "name": "index",
         "rawType": "int64",
         "type": "integer"
        },
        {
         "name": "date",
         "rawType": "datetime64[ns]",
         "type": "datetime"
        },
        {
         "name": "time",
         "rawType": "datetime64[ns]",
         "type": "datetime"
        },
        {
         "name": "event",
         "rawType": "object",
         "type": "string"
        },
        {
         "name": "platform",
         "rawType": "object",
         "type": "string"
        },
        {
         "name": "ad_id",
         "rawType": "int64",
         "type": "integer"
        },
        {
         "name": "client_union_id",
         "rawType": "int64",
         "type": "integer"
        },
        {
         "name": "campaign_union_id",
         "rawType": "int64",
         "type": "integer"
        },
        {
         "name": "ad_cost_type",
         "rawType": "object",
         "type": "string"
        },
        {
         "name": "ad_cost",
         "rawType": "float64",
         "type": "float"
        },
        {
         "name": "has_video",
         "rawType": "int64",
         "type": "integer"
        },
        {
         "name": "target_audience_count",
         "rawType": "int64",
         "type": "integer"
        }
       ],
       "ref": "3f18dddd-2cbd-4520-83b8-ba1916a538bf",
       "rows": [
        [
         "0",
         "2019-04-01 00:00:00",
         "2019-04-01 00:00:48",
         "view",
         "android",
         "45061",
         "34734",
         "45061",
         "CPM",
         "200.6",
         "0",
         "1955269"
        ],
        [
         "1",
         "2019-04-01 00:00:00",
         "2019-04-01 00:00:48",
         "view",
         "web",
         "121288",
         "121288",
         "121288",
         "CPM",
         "187.4",
         "0",
         "232011"
        ],
        [
         "2",
         "2019-04-01 00:00:00",
         "2019-04-01 00:01:03",
         "view",
         "android",
         "102737",
         "102535",
         "102564",
         "CPC",
         "60.7",
         "0",
         "4410"
        ],
        [
         "3",
         "2019-04-01 00:00:00",
         "2019-04-01 00:01:03",
         "view",
         "android",
         "107564",
         "106914",
         "107564",
         "CPM",
         "217.3",
         "0",
         "62711"
        ],
        [
         "4",
         "2019-04-01 00:00:00",
         "2019-04-01 00:01:09",
         "view",
         "android",
         "4922",
         "37",
         "4400",
         "CPC",
         "60.1",
         "0",
         "1183501"
        ]
       ],
       "shape": {
        "columns": 11,
        "rows": 5
       }
      },
      "text/html": [
       "<div>\n",
       "<style scoped>\n",
       "    .dataframe tbody tr th:only-of-type {\n",
       "        vertical-align: middle;\n",
       "    }\n",
       "\n",
       "    .dataframe tbody tr th {\n",
       "        vertical-align: top;\n",
       "    }\n",
       "\n",
       "    .dataframe thead th {\n",
       "        text-align: right;\n",
       "    }\n",
       "</style>\n",
       "<table border=\"1\" class=\"dataframe\">\n",
       "  <thead>\n",
       "    <tr style=\"text-align: right;\">\n",
       "      <th></th>\n",
       "      <th>date</th>\n",
       "      <th>time</th>\n",
       "      <th>event</th>\n",
       "      <th>platform</th>\n",
       "      <th>ad_id</th>\n",
       "      <th>client_union_id</th>\n",
       "      <th>campaign_union_id</th>\n",
       "      <th>ad_cost_type</th>\n",
       "      <th>ad_cost</th>\n",
       "      <th>has_video</th>\n",
       "      <th>target_audience_count</th>\n",
       "    </tr>\n",
       "  </thead>\n",
       "  <tbody>\n",
       "    <tr>\n",
       "      <th>0</th>\n",
       "      <td>2019-04-01</td>\n",
       "      <td>2019-04-01 00:00:48</td>\n",
       "      <td>view</td>\n",
       "      <td>android</td>\n",
       "      <td>45061</td>\n",
       "      <td>34734</td>\n",
       "      <td>45061</td>\n",
       "      <td>CPM</td>\n",
       "      <td>200.6</td>\n",
       "      <td>0</td>\n",
       "      <td>1955269</td>\n",
       "    </tr>\n",
       "    <tr>\n",
       "      <th>1</th>\n",
       "      <td>2019-04-01</td>\n",
       "      <td>2019-04-01 00:00:48</td>\n",
       "      <td>view</td>\n",
       "      <td>web</td>\n",
       "      <td>121288</td>\n",
       "      <td>121288</td>\n",
       "      <td>121288</td>\n",
       "      <td>CPM</td>\n",
       "      <td>187.4</td>\n",
       "      <td>0</td>\n",
       "      <td>232011</td>\n",
       "    </tr>\n",
       "    <tr>\n",
       "      <th>2</th>\n",
       "      <td>2019-04-01</td>\n",
       "      <td>2019-04-01 00:01:03</td>\n",
       "      <td>view</td>\n",
       "      <td>android</td>\n",
       "      <td>102737</td>\n",
       "      <td>102535</td>\n",
       "      <td>102564</td>\n",
       "      <td>CPC</td>\n",
       "      <td>60.7</td>\n",
       "      <td>0</td>\n",
       "      <td>4410</td>\n",
       "    </tr>\n",
       "    <tr>\n",
       "      <th>3</th>\n",
       "      <td>2019-04-01</td>\n",
       "      <td>2019-04-01 00:01:03</td>\n",
       "      <td>view</td>\n",
       "      <td>android</td>\n",
       "      <td>107564</td>\n",
       "      <td>106914</td>\n",
       "      <td>107564</td>\n",
       "      <td>CPM</td>\n",
       "      <td>217.3</td>\n",
       "      <td>0</td>\n",
       "      <td>62711</td>\n",
       "    </tr>\n",
       "    <tr>\n",
       "      <th>4</th>\n",
       "      <td>2019-04-01</td>\n",
       "      <td>2019-04-01 00:01:09</td>\n",
       "      <td>view</td>\n",
       "      <td>android</td>\n",
       "      <td>4922</td>\n",
       "      <td>37</td>\n",
       "      <td>4400</td>\n",
       "      <td>CPC</td>\n",
       "      <td>60.1</td>\n",
       "      <td>0</td>\n",
       "      <td>1183501</td>\n",
       "    </tr>\n",
       "  </tbody>\n",
       "</table>\n",
       "</div>"
      ],
      "text/plain": [
       "        date                time event platform   ad_id  client_union_id  \\\n",
       "0 2019-04-01 2019-04-01 00:00:48  view  android   45061            34734   \n",
       "1 2019-04-01 2019-04-01 00:00:48  view      web  121288           121288   \n",
       "2 2019-04-01 2019-04-01 00:01:03  view  android  102737           102535   \n",
       "3 2019-04-01 2019-04-01 00:01:03  view  android  107564           106914   \n",
       "4 2019-04-01 2019-04-01 00:01:09  view  android    4922               37   \n",
       "\n",
       "   campaign_union_id ad_cost_type  ad_cost  has_video  target_audience_count  \n",
       "0              45061          CPM    200.6          0                1955269  \n",
       "1             121288          CPM    187.4          0                 232011  \n",
       "2             102564          CPC     60.7          0                   4410  \n",
       "3             107564          CPM    217.3          0                  62711  \n",
       "4               4400          CPC     60.1          0                1183501  "
      ]
     },
     "execution_count": 21,
     "metadata": {},
     "output_type": "execute_result"
    }
   ],
   "source": [
    "ads.head()"
   ]
  },
  {
   "cell_type": "code",
   "execution_count": 20,
   "id": "9e8c4ef4",
   "metadata": {},
   "outputs": [
    {
     "name": "stdout",
     "output_type": "stream",
     "text": [
      "<class 'pandas.core.frame.DataFrame'>\n",
      "RangeIndex: 1000000 entries, 0 to 999999\n",
      "Data columns (total 11 columns):\n",
      " #   Column                 Non-Null Count    Dtype         \n",
      "---  ------                 --------------    -----         \n",
      " 0   date                   1000000 non-null  datetime64[ns]\n",
      " 1   time                   1000000 non-null  datetime64[ns]\n",
      " 2   event                  1000000 non-null  object        \n",
      " 3   platform               1000000 non-null  object        \n",
      " 4   ad_id                  1000000 non-null  int64         \n",
      " 5   client_union_id        1000000 non-null  int64         \n",
      " 6   campaign_union_id      1000000 non-null  int64         \n",
      " 7   ad_cost_type           1000000 non-null  object        \n",
      " 8   ad_cost                1000000 non-null  float64       \n",
      " 9   has_video              1000000 non-null  int64         \n",
      " 10  target_audience_count  1000000 non-null  int64         \n",
      "dtypes: datetime64[ns](2), float64(1), int64(5), object(3)\n",
      "memory usage: 83.9+ MB\n"
     ]
    }
   ],
   "source": [
    "ads.info()"
   ]
  },
  {
   "cell_type": "code",
   "execution_count": 22,
   "id": "c98ac426",
   "metadata": {},
   "outputs": [
    {
     "data": {
      "application/vnd.microsoft.datawrangler.viewer.v0+json": {
       "columns": [
        {
         "name": "index",
         "rawType": "object",
         "type": "string"
        },
        {
         "name": "date",
         "rawType": "object",
         "type": "unknown"
        },
        {
         "name": "time",
         "rawType": "object",
         "type": "unknown"
        },
        {
         "name": "event",
         "rawType": "object",
         "type": "unknown"
        },
        {
         "name": "platform",
         "rawType": "object",
         "type": "unknown"
        },
        {
         "name": "ad_id",
         "rawType": "float64",
         "type": "float"
        },
        {
         "name": "client_union_id",
         "rawType": "float64",
         "type": "float"
        },
        {
         "name": "campaign_union_id",
         "rawType": "float64",
         "type": "float"
        },
        {
         "name": "ad_cost_type",
         "rawType": "object",
         "type": "unknown"
        },
        {
         "name": "ad_cost",
         "rawType": "float64",
         "type": "float"
        },
        {
         "name": "has_video",
         "rawType": "float64",
         "type": "float"
        },
        {
         "name": "target_audience_count",
         "rawType": "float64",
         "type": "float"
        }
       ],
       "ref": "6084f295-e996-4b87-8dd8-2b04c4db39e9",
       "rows": [
        [
         "count",
         "1000000",
         "1000000",
         "1000000",
         "1000000",
         "1000000.0",
         "1000000.0",
         "1000000.0",
         "1000000",
         "1000000.0",
         "1000000.0",
         "1000000.0"
        ],
        [
         "unique",
         null,
         null,
         "2",
         "3",
         null,
         null,
         null,
         "2",
         null,
         null,
         null
        ],
        [
         "top",
         null,
         null,
         "view",
         "android",
         null,
         null,
         null,
         "CPM",
         null,
         null,
         null
        ],
        [
         "freq",
         null,
         null,
         "890822",
         "500356",
         null,
         null,
         null,
         "953771",
         null,
         null,
         null
        ],
        [
         "mean",
         "2019-04-04 10:50:13.142400",
         "2019-04-04 21:48:32.040999680",
         null,
         null,
         "94521.639602",
         "91435.486997",
         "94368.663159",
         null,
         "196.36057869999996",
         "0.005347",
         "8395492.924453"
        ],
        [
         "min",
         "2019-04-01 00:00:00",
         "2019-04-01 00:00:48",
         null,
         null,
         "2.0",
         "1.0",
         "1.0",
         null,
         "33.2",
         "0.0",
         "109.0"
        ],
        [
         "25%",
         "2019-04-04 00:00:00",
         "2019-04-04 12:19:25",
         null,
         null,
         "107729.0",
         "107076.0",
         "107728.0",
         null,
         "190.9",
         "0.0",
         "22392.0"
        ],
        [
         "50%",
         "2019-04-05 00:00:00",
         "2019-04-05 06:16:53",
         null,
         null,
         "112583.0",
         "111818.0",
         "112260.0",
         null,
         "208.7",
         "0.0",
         "32756.0"
        ],
        [
         "75%",
         "2019-04-05 00:00:00",
         "2019-04-05 15:39:30",
         null,
         null,
         "112583.0",
         "111818.0",
         "112260.0",
         null,
         "210.1",
         "0.0",
         "2512711.0"
        ],
        [
         "max",
         "2019-04-06 00:00:00",
         "2019-04-05 23:59:30",
         null,
         null,
         "122078.0",
         "122078.0",
         "122078.0",
         null,
         "227.5",
         "1.0",
         "154827091.0"
        ],
        [
         "std",
         null,
         null,
         null,
         null,
         "32391.671947173352",
         "37019.31486184269",
         "32316.7403651319",
         null,
         "33.248420174326334",
         "0.07292746334142515",
         "16017874.560306748"
        ]
       ],
       "shape": {
        "columns": 11,
        "rows": 11
       }
      },
      "text/html": [
       "<div>\n",
       "<style scoped>\n",
       "    .dataframe tbody tr th:only-of-type {\n",
       "        vertical-align: middle;\n",
       "    }\n",
       "\n",
       "    .dataframe tbody tr th {\n",
       "        vertical-align: top;\n",
       "    }\n",
       "\n",
       "    .dataframe thead th {\n",
       "        text-align: right;\n",
       "    }\n",
       "</style>\n",
       "<table border=\"1\" class=\"dataframe\">\n",
       "  <thead>\n",
       "    <tr style=\"text-align: right;\">\n",
       "      <th></th>\n",
       "      <th>date</th>\n",
       "      <th>time</th>\n",
       "      <th>event</th>\n",
       "      <th>platform</th>\n",
       "      <th>ad_id</th>\n",
       "      <th>client_union_id</th>\n",
       "      <th>campaign_union_id</th>\n",
       "      <th>ad_cost_type</th>\n",
       "      <th>ad_cost</th>\n",
       "      <th>has_video</th>\n",
       "      <th>target_audience_count</th>\n",
       "    </tr>\n",
       "  </thead>\n",
       "  <tbody>\n",
       "    <tr>\n",
       "      <th>count</th>\n",
       "      <td>1000000</td>\n",
       "      <td>1000000</td>\n",
       "      <td>1000000</td>\n",
       "      <td>1000000</td>\n",
       "      <td>1000000.000000</td>\n",
       "      <td>1000000.000000</td>\n",
       "      <td>1000000.000000</td>\n",
       "      <td>1000000</td>\n",
       "      <td>1000000.000000</td>\n",
       "      <td>1000000.000000</td>\n",
       "      <td>1.000000e+06</td>\n",
       "    </tr>\n",
       "    <tr>\n",
       "      <th>unique</th>\n",
       "      <td>NaN</td>\n",
       "      <td>NaN</td>\n",
       "      <td>2</td>\n",
       "      <td>3</td>\n",
       "      <td>NaN</td>\n",
       "      <td>NaN</td>\n",
       "      <td>NaN</td>\n",
       "      <td>2</td>\n",
       "      <td>NaN</td>\n",
       "      <td>NaN</td>\n",
       "      <td>NaN</td>\n",
       "    </tr>\n",
       "    <tr>\n",
       "      <th>top</th>\n",
       "      <td>NaN</td>\n",
       "      <td>NaN</td>\n",
       "      <td>view</td>\n",
       "      <td>android</td>\n",
       "      <td>NaN</td>\n",
       "      <td>NaN</td>\n",
       "      <td>NaN</td>\n",
       "      <td>CPM</td>\n",
       "      <td>NaN</td>\n",
       "      <td>NaN</td>\n",
       "      <td>NaN</td>\n",
       "    </tr>\n",
       "    <tr>\n",
       "      <th>freq</th>\n",
       "      <td>NaN</td>\n",
       "      <td>NaN</td>\n",
       "      <td>890822</td>\n",
       "      <td>500356</td>\n",
       "      <td>NaN</td>\n",
       "      <td>NaN</td>\n",
       "      <td>NaN</td>\n",
       "      <td>953771</td>\n",
       "      <td>NaN</td>\n",
       "      <td>NaN</td>\n",
       "      <td>NaN</td>\n",
       "    </tr>\n",
       "    <tr>\n",
       "      <th>mean</th>\n",
       "      <td>2019-04-04 10:50:13.142400</td>\n",
       "      <td>2019-04-04 21:48:32.040999680</td>\n",
       "      <td>NaN</td>\n",
       "      <td>NaN</td>\n",
       "      <td>94521.639602</td>\n",
       "      <td>91435.486997</td>\n",
       "      <td>94368.663159</td>\n",
       "      <td>NaN</td>\n",
       "      <td>196.360579</td>\n",
       "      <td>0.005347</td>\n",
       "      <td>8.395493e+06</td>\n",
       "    </tr>\n",
       "    <tr>\n",
       "      <th>min</th>\n",
       "      <td>2019-04-01 00:00:00</td>\n",
       "      <td>2019-04-01 00:00:48</td>\n",
       "      <td>NaN</td>\n",
       "      <td>NaN</td>\n",
       "      <td>2.000000</td>\n",
       "      <td>1.000000</td>\n",
       "      <td>1.000000</td>\n",
       "      <td>NaN</td>\n",
       "      <td>33.200000</td>\n",
       "      <td>0.000000</td>\n",
       "      <td>1.090000e+02</td>\n",
       "    </tr>\n",
       "    <tr>\n",
       "      <th>25%</th>\n",
       "      <td>2019-04-04 00:00:00</td>\n",
       "      <td>2019-04-04 12:19:25</td>\n",
       "      <td>NaN</td>\n",
       "      <td>NaN</td>\n",
       "      <td>107729.000000</td>\n",
       "      <td>107076.000000</td>\n",
       "      <td>107728.000000</td>\n",
       "      <td>NaN</td>\n",
       "      <td>190.900000</td>\n",
       "      <td>0.000000</td>\n",
       "      <td>2.239200e+04</td>\n",
       "    </tr>\n",
       "    <tr>\n",
       "      <th>50%</th>\n",
       "      <td>2019-04-05 00:00:00</td>\n",
       "      <td>2019-04-05 06:16:53</td>\n",
       "      <td>NaN</td>\n",
       "      <td>NaN</td>\n",
       "      <td>112583.000000</td>\n",
       "      <td>111818.000000</td>\n",
       "      <td>112260.000000</td>\n",
       "      <td>NaN</td>\n",
       "      <td>208.700000</td>\n",
       "      <td>0.000000</td>\n",
       "      <td>3.275600e+04</td>\n",
       "    </tr>\n",
       "    <tr>\n",
       "      <th>75%</th>\n",
       "      <td>2019-04-05 00:00:00</td>\n",
       "      <td>2019-04-05 15:39:30</td>\n",
       "      <td>NaN</td>\n",
       "      <td>NaN</td>\n",
       "      <td>112583.000000</td>\n",
       "      <td>111818.000000</td>\n",
       "      <td>112260.000000</td>\n",
       "      <td>NaN</td>\n",
       "      <td>210.100000</td>\n",
       "      <td>0.000000</td>\n",
       "      <td>2.512711e+06</td>\n",
       "    </tr>\n",
       "    <tr>\n",
       "      <th>max</th>\n",
       "      <td>2019-04-06 00:00:00</td>\n",
       "      <td>2019-04-05 23:59:30</td>\n",
       "      <td>NaN</td>\n",
       "      <td>NaN</td>\n",
       "      <td>122078.000000</td>\n",
       "      <td>122078.000000</td>\n",
       "      <td>122078.000000</td>\n",
       "      <td>NaN</td>\n",
       "      <td>227.500000</td>\n",
       "      <td>1.000000</td>\n",
       "      <td>1.548271e+08</td>\n",
       "    </tr>\n",
       "    <tr>\n",
       "      <th>std</th>\n",
       "      <td>NaN</td>\n",
       "      <td>NaN</td>\n",
       "      <td>NaN</td>\n",
       "      <td>NaN</td>\n",
       "      <td>32391.671947</td>\n",
       "      <td>37019.314862</td>\n",
       "      <td>32316.740365</td>\n",
       "      <td>NaN</td>\n",
       "      <td>33.248420</td>\n",
       "      <td>0.072927</td>\n",
       "      <td>1.601787e+07</td>\n",
       "    </tr>\n",
       "  </tbody>\n",
       "</table>\n",
       "</div>"
      ],
      "text/plain": [
       "                              date                           time    event  \\\n",
       "count                      1000000                        1000000  1000000   \n",
       "unique                         NaN                            NaN        2   \n",
       "top                            NaN                            NaN     view   \n",
       "freq                           NaN                            NaN   890822   \n",
       "mean    2019-04-04 10:50:13.142400  2019-04-04 21:48:32.040999680      NaN   \n",
       "min            2019-04-01 00:00:00            2019-04-01 00:00:48      NaN   \n",
       "25%            2019-04-04 00:00:00            2019-04-04 12:19:25      NaN   \n",
       "50%            2019-04-05 00:00:00            2019-04-05 06:16:53      NaN   \n",
       "75%            2019-04-05 00:00:00            2019-04-05 15:39:30      NaN   \n",
       "max            2019-04-06 00:00:00            2019-04-05 23:59:30      NaN   \n",
       "std                            NaN                            NaN      NaN   \n",
       "\n",
       "       platform           ad_id  client_union_id  campaign_union_id  \\\n",
       "count   1000000  1000000.000000   1000000.000000     1000000.000000   \n",
       "unique        3             NaN              NaN                NaN   \n",
       "top     android             NaN              NaN                NaN   \n",
       "freq     500356             NaN              NaN                NaN   \n",
       "mean        NaN    94521.639602     91435.486997       94368.663159   \n",
       "min         NaN        2.000000         1.000000           1.000000   \n",
       "25%         NaN   107729.000000    107076.000000      107728.000000   \n",
       "50%         NaN   112583.000000    111818.000000      112260.000000   \n",
       "75%         NaN   112583.000000    111818.000000      112260.000000   \n",
       "max         NaN   122078.000000    122078.000000      122078.000000   \n",
       "std         NaN    32391.671947     37019.314862       32316.740365   \n",
       "\n",
       "       ad_cost_type         ad_cost       has_video  target_audience_count  \n",
       "count       1000000  1000000.000000  1000000.000000           1.000000e+06  \n",
       "unique            2             NaN             NaN                    NaN  \n",
       "top             CPM             NaN             NaN                    NaN  \n",
       "freq         953771             NaN             NaN                    NaN  \n",
       "mean            NaN      196.360579        0.005347           8.395493e+06  \n",
       "min             NaN       33.200000        0.000000           1.090000e+02  \n",
       "25%             NaN      190.900000        0.000000           2.239200e+04  \n",
       "50%             NaN      208.700000        0.000000           3.275600e+04  \n",
       "75%             NaN      210.100000        0.000000           2.512711e+06  \n",
       "max             NaN      227.500000        1.000000           1.548271e+08  \n",
       "std             NaN       33.248420        0.072927           1.601787e+07  "
      ]
     },
     "execution_count": 22,
     "metadata": {},
     "output_type": "execute_result"
    }
   ],
   "source": [
    "ads.describe(include='all')"
   ]
  },
  {
   "cell_type": "code",
   "execution_count": 23,
   "id": "79d5e691",
   "metadata": {},
   "outputs": [],
   "source": [
    "ads_clients = pd.read_csv(r'C:\\Users\\PC\\Desktop\\Софт\\Simulation\\Simulation\\data\\ads_clients_data.csv', parse_dates=['date', 'create_date'])"
   ]
  },
  {
   "cell_type": "code",
   "execution_count": 24,
   "id": "9df59278",
   "metadata": {},
   "outputs": [
    {
     "data": {
      "application/vnd.microsoft.datawrangler.viewer.v0+json": {
       "columns": [
        {
         "name": "index",
         "rawType": "int64",
         "type": "integer"
        },
        {
         "name": "date",
         "rawType": "datetime64[ns]",
         "type": "datetime"
        },
        {
         "name": "client_union_id",
         "rawType": "int64",
         "type": "integer"
        },
        {
         "name": "community_id",
         "rawType": "int64",
         "type": "integer"
        },
        {
         "name": "create_date",
         "rawType": "datetime64[ns]",
         "type": "datetime"
        }
       ],
       "ref": "ac1dc562-1c6e-4c97-99ef-ade5a57dccc1",
       "rows": [
        [
         "0",
         "2020-05-07 00:00:00",
         "1",
         "-130371893",
         "2018-12-24 00:00:00"
        ],
        [
         "1",
         "2020-05-07 00:00:00",
         "2",
         "-130304626",
         "2019-02-10 00:00:00"
        ],
        [
         "2",
         "2020-05-07 00:00:00",
         "3",
         "-130462599",
         "2019-01-25 00:00:00"
        ],
        [
         "3",
         "2020-05-07 00:00:00",
         "4",
         "-130574300",
         "2018-12-09 00:00:00"
        ],
        [
         "4",
         "2020-05-07 00:00:00",
         "5",
         "-130292358",
         "2019-01-08 00:00:00"
        ]
       ],
       "shape": {
        "columns": 4,
        "rows": 5
       }
      },
      "text/html": [
       "<div>\n",
       "<style scoped>\n",
       "    .dataframe tbody tr th:only-of-type {\n",
       "        vertical-align: middle;\n",
       "    }\n",
       "\n",
       "    .dataframe tbody tr th {\n",
       "        vertical-align: top;\n",
       "    }\n",
       "\n",
       "    .dataframe thead th {\n",
       "        text-align: right;\n",
       "    }\n",
       "</style>\n",
       "<table border=\"1\" class=\"dataframe\">\n",
       "  <thead>\n",
       "    <tr style=\"text-align: right;\">\n",
       "      <th></th>\n",
       "      <th>date</th>\n",
       "      <th>client_union_id</th>\n",
       "      <th>community_id</th>\n",
       "      <th>create_date</th>\n",
       "    </tr>\n",
       "  </thead>\n",
       "  <tbody>\n",
       "    <tr>\n",
       "      <th>0</th>\n",
       "      <td>2020-05-07</td>\n",
       "      <td>1</td>\n",
       "      <td>-130371893</td>\n",
       "      <td>2018-12-24</td>\n",
       "    </tr>\n",
       "    <tr>\n",
       "      <th>1</th>\n",
       "      <td>2020-05-07</td>\n",
       "      <td>2</td>\n",
       "      <td>-130304626</td>\n",
       "      <td>2019-02-10</td>\n",
       "    </tr>\n",
       "    <tr>\n",
       "      <th>2</th>\n",
       "      <td>2020-05-07</td>\n",
       "      <td>3</td>\n",
       "      <td>-130462599</td>\n",
       "      <td>2019-01-25</td>\n",
       "    </tr>\n",
       "    <tr>\n",
       "      <th>3</th>\n",
       "      <td>2020-05-07</td>\n",
       "      <td>4</td>\n",
       "      <td>-130574300</td>\n",
       "      <td>2018-12-09</td>\n",
       "    </tr>\n",
       "    <tr>\n",
       "      <th>4</th>\n",
       "      <td>2020-05-07</td>\n",
       "      <td>5</td>\n",
       "      <td>-130292358</td>\n",
       "      <td>2019-01-08</td>\n",
       "    </tr>\n",
       "  </tbody>\n",
       "</table>\n",
       "</div>"
      ],
      "text/plain": [
       "        date  client_union_id  community_id create_date\n",
       "0 2020-05-07                1    -130371893  2018-12-24\n",
       "1 2020-05-07                2    -130304626  2019-02-10\n",
       "2 2020-05-07                3    -130462599  2019-01-25\n",
       "3 2020-05-07                4    -130574300  2018-12-09\n",
       "4 2020-05-07                5    -130292358  2019-01-08"
      ]
     },
     "execution_count": 24,
     "metadata": {},
     "output_type": "execute_result"
    }
   ],
   "source": [
    "ads_clients.head()"
   ]
  },
  {
   "cell_type": "code",
   "execution_count": 25,
   "id": "6915aae7",
   "metadata": {},
   "outputs": [
    {
     "name": "stdout",
     "output_type": "stream",
     "text": [
      "<class 'pandas.core.frame.DataFrame'>\n",
      "RangeIndex: 122078 entries, 0 to 122077\n",
      "Data columns (total 4 columns):\n",
      " #   Column           Non-Null Count   Dtype         \n",
      "---  ------           --------------   -----         \n",
      " 0   date             122078 non-null  datetime64[ns]\n",
      " 1   client_union_id  122078 non-null  int64         \n",
      " 2   community_id     122078 non-null  int64         \n",
      " 3   create_date      122078 non-null  datetime64[ns]\n",
      "dtypes: datetime64[ns](2), int64(2)\n",
      "memory usage: 3.7 MB\n"
     ]
    }
   ],
   "source": [
    "ads_clients.info()"
   ]
  },
  {
   "cell_type": "code",
   "execution_count": 26,
   "id": "f61f7f58",
   "metadata": {},
   "outputs": [
    {
     "data": {
      "application/vnd.microsoft.datawrangler.viewer.v0+json": {
       "columns": [
        {
         "name": "index",
         "rawType": "object",
         "type": "string"
        },
        {
         "name": "date",
         "rawType": "object",
         "type": "unknown"
        },
        {
         "name": "client_union_id",
         "rawType": "float64",
         "type": "float"
        },
        {
         "name": "community_id",
         "rawType": "float64",
         "type": "float"
        },
        {
         "name": "create_date",
         "rawType": "object",
         "type": "unknown"
        }
       ],
       "ref": "4d02084d-5733-4e92-9709-474310c35d78",
       "rows": [
        [
         "count",
         "122078",
         "122078.0",
         "122078.0",
         "122078"
        ],
        [
         "mean",
         "2020-05-07 00:00:00",
         "61039.5",
         "-130499541.2110536",
         "2018-11-28 10:18:05.089861120"
        ],
        [
         "min",
         "2020-05-07 00:00:00",
         "1.0",
         "-130999996.0",
         "2018-07-28 00:00:00"
        ],
        [
         "25%",
         "2020-05-07 00:00:00",
         "30520.25",
         "-130749801.0",
         "2018-10-17 00:00:00"
        ],
        [
         "50%",
         "2020-05-07 00:00:00",
         "61039.5",
         "-130500070.0",
         "2018-12-02 00:00:00"
        ],
        [
         "75%",
         "2020-05-07 00:00:00",
         "91558.75",
         "-130249750.5",
         "2019-01-17 00:00:00"
        ],
        [
         "max",
         "2020-05-07 00:00:00",
         "122078.0",
         "-130000009.0",
         "2019-03-06 00:00:00"
        ],
        [
         "std",
         null,
         "35241.02741833728",
         "288944.4700288036",
         null
        ]
       ],
       "shape": {
        "columns": 4,
        "rows": 8
       }
      },
      "text/html": [
       "<div>\n",
       "<style scoped>\n",
       "    .dataframe tbody tr th:only-of-type {\n",
       "        vertical-align: middle;\n",
       "    }\n",
       "\n",
       "    .dataframe tbody tr th {\n",
       "        vertical-align: top;\n",
       "    }\n",
       "\n",
       "    .dataframe thead th {\n",
       "        text-align: right;\n",
       "    }\n",
       "</style>\n",
       "<table border=\"1\" class=\"dataframe\">\n",
       "  <thead>\n",
       "    <tr style=\"text-align: right;\">\n",
       "      <th></th>\n",
       "      <th>date</th>\n",
       "      <th>client_union_id</th>\n",
       "      <th>community_id</th>\n",
       "      <th>create_date</th>\n",
       "    </tr>\n",
       "  </thead>\n",
       "  <tbody>\n",
       "    <tr>\n",
       "      <th>count</th>\n",
       "      <td>122078</td>\n",
       "      <td>122078.000000</td>\n",
       "      <td>1.220780e+05</td>\n",
       "      <td>122078</td>\n",
       "    </tr>\n",
       "    <tr>\n",
       "      <th>mean</th>\n",
       "      <td>2020-05-07 00:00:00</td>\n",
       "      <td>61039.500000</td>\n",
       "      <td>-1.304995e+08</td>\n",
       "      <td>2018-11-28 10:18:05.089861120</td>\n",
       "    </tr>\n",
       "    <tr>\n",
       "      <th>min</th>\n",
       "      <td>2020-05-07 00:00:00</td>\n",
       "      <td>1.000000</td>\n",
       "      <td>-1.310000e+08</td>\n",
       "      <td>2018-07-28 00:00:00</td>\n",
       "    </tr>\n",
       "    <tr>\n",
       "      <th>25%</th>\n",
       "      <td>2020-05-07 00:00:00</td>\n",
       "      <td>30520.250000</td>\n",
       "      <td>-1.307498e+08</td>\n",
       "      <td>2018-10-17 00:00:00</td>\n",
       "    </tr>\n",
       "    <tr>\n",
       "      <th>50%</th>\n",
       "      <td>2020-05-07 00:00:00</td>\n",
       "      <td>61039.500000</td>\n",
       "      <td>-1.305001e+08</td>\n",
       "      <td>2018-12-02 00:00:00</td>\n",
       "    </tr>\n",
       "    <tr>\n",
       "      <th>75%</th>\n",
       "      <td>2020-05-07 00:00:00</td>\n",
       "      <td>91558.750000</td>\n",
       "      <td>-1.302498e+08</td>\n",
       "      <td>2019-01-17 00:00:00</td>\n",
       "    </tr>\n",
       "    <tr>\n",
       "      <th>max</th>\n",
       "      <td>2020-05-07 00:00:00</td>\n",
       "      <td>122078.000000</td>\n",
       "      <td>-1.300000e+08</td>\n",
       "      <td>2019-03-06 00:00:00</td>\n",
       "    </tr>\n",
       "    <tr>\n",
       "      <th>std</th>\n",
       "      <td>NaN</td>\n",
       "      <td>35241.027418</td>\n",
       "      <td>2.889445e+05</td>\n",
       "      <td>NaN</td>\n",
       "    </tr>\n",
       "  </tbody>\n",
       "</table>\n",
       "</div>"
      ],
      "text/plain": [
       "                      date  client_union_id  community_id  \\\n",
       "count               122078    122078.000000  1.220780e+05   \n",
       "mean   2020-05-07 00:00:00     61039.500000 -1.304995e+08   \n",
       "min    2020-05-07 00:00:00         1.000000 -1.310000e+08   \n",
       "25%    2020-05-07 00:00:00     30520.250000 -1.307498e+08   \n",
       "50%    2020-05-07 00:00:00     61039.500000 -1.305001e+08   \n",
       "75%    2020-05-07 00:00:00     91558.750000 -1.302498e+08   \n",
       "max    2020-05-07 00:00:00    122078.000000 -1.300000e+08   \n",
       "std                    NaN     35241.027418  2.889445e+05   \n",
       "\n",
       "                         create_date  \n",
       "count                         122078  \n",
       "mean   2018-11-28 10:18:05.089861120  \n",
       "min              2018-07-28 00:00:00  \n",
       "25%              2018-10-17 00:00:00  \n",
       "50%              2018-12-02 00:00:00  \n",
       "75%              2019-01-17 00:00:00  \n",
       "max              2019-03-06 00:00:00  \n",
       "std                              NaN  "
      ]
     },
     "execution_count": 26,
     "metadata": {},
     "output_type": "execute_result"
    }
   ],
   "source": [
    "ads_clients.describe(include='all')"
   ]
  },
  {
   "cell_type": "markdown",
   "id": "cd0ac554",
   "metadata": {},
   "source": [
    "Для начала посчитаем среднее количество разных рекламных событий (показы и клики) по объявлениям. Тонкий момент: помните, что некоторые показываемые объявления не кликались, и при группировке в таких случаях не будет строк с кликами, а для подсчёта среднего по объявлениям их нужно учитывать. Округлите ответы до целых чисел.\n",
    "Могут понадобиться:  \n",
    "•\tpivot()  \n",
    "•\tfillna()"
   ]
  },
  {
   "cell_type": "code",
   "execution_count": 51,
   "id": "e9c51c07",
   "metadata": {},
   "outputs": [
    {
     "data": {
      "application/vnd.microsoft.datawrangler.viewer.v0+json": {
       "columns": [
        {
         "name": "index",
         "rawType": "int64",
         "type": "integer"
        },
        {
         "name": "ad_id",
         "rawType": "int64",
         "type": "integer"
        },
        {
         "name": "event",
         "rawType": "object",
         "type": "string"
        },
        {
         "name": "size",
         "rawType": "int64",
         "type": "integer"
        }
       ],
       "ref": "604e2964-6d18-4376-873a-01cc727f164a",
       "rows": [
        [
         "0",
         "2",
         "click",
         "1"
        ],
        [
         "1",
         "2",
         "view",
         "101"
        ],
        [
         "2",
         "3",
         "click",
         "3"
        ],
        [
         "3",
         "3",
         "view",
         "184"
        ],
        [
         "4",
         "1902",
         "click",
         "1"
        ],
        [
         "5",
         "1902",
         "view",
         "41"
        ],
        [
         "6",
         "2064",
         "view",
         "35"
        ],
        [
         "7",
         "2132",
         "click",
         "1"
        ],
        [
         "8",
         "2132",
         "view",
         "58"
        ],
        [
         "9",
         "2468",
         "view",
         "39"
        ],
        [
         "10",
         "2494",
         "click",
         "1"
        ],
        [
         "11",
         "2494",
         "view",
         "324"
        ],
        [
         "12",
         "2604",
         "click",
         "4"
        ],
        [
         "13",
         "2604",
         "view",
         "402"
        ],
        [
         "14",
         "2709",
         "click",
         "14"
        ],
        [
         "15",
         "2709",
         "view",
         "2628"
        ],
        [
         "16",
         "3787",
         "click",
         "6"
        ],
        [
         "17",
         "3787",
         "view",
         "359"
        ],
        [
         "18",
         "4365",
         "click",
         "8"
        ],
        [
         "19",
         "4365",
         "view",
         "157"
        ],
        [
         "20",
         "4369",
         "click",
         "27"
        ],
        [
         "21",
         "4369",
         "view",
         "584"
        ],
        [
         "22",
         "4450",
         "click",
         "2"
        ],
        [
         "23",
         "4450",
         "view",
         "19"
        ],
        [
         "24",
         "4483",
         "view",
         "21"
        ],
        [
         "25",
         "4804",
         "view",
         "33"
        ],
        [
         "26",
         "4922",
         "click",
         "20"
        ],
        [
         "27",
         "4922",
         "view",
         "1465"
        ],
        [
         "28",
         "4933",
         "click",
         "10"
        ],
        [
         "29",
         "4933",
         "view",
         "773"
        ],
        [
         "30",
         "4953",
         "click",
         "2"
        ],
        [
         "31",
         "4953",
         "view",
         "477"
        ],
        [
         "32",
         "6338",
         "click",
         "23"
        ],
        [
         "33",
         "6338",
         "view",
         "409"
        ],
        [
         "34",
         "7358",
         "click",
         "1"
        ],
        [
         "35",
         "7358",
         "view",
         "18"
        ],
        [
         "36",
         "7494",
         "click",
         "1"
        ],
        [
         "37",
         "7494",
         "view",
         "114"
        ],
        [
         "38",
         "8276",
         "click",
         "1"
        ],
        [
         "39",
         "8276",
         "view",
         "85"
        ],
        [
         "40",
         "9123",
         "click",
         "1"
        ],
        [
         "41",
         "9123",
         "view",
         "653"
        ],
        [
         "42",
         "9418",
         "click",
         "2"
        ],
        [
         "43",
         "9418",
         "view",
         "18"
        ],
        [
         "44",
         "9431",
         "view",
         "125"
        ],
        [
         "45",
         "9471",
         "click",
         "1"
        ],
        [
         "46",
         "9471",
         "view",
         "124"
        ],
        [
         "47",
         "9720",
         "click",
         "6"
        ],
        [
         "48",
         "9720",
         "view",
         "116"
        ],
        [
         "49",
         "9767",
         "view",
         "75"
        ]
       ],
       "shape": {
        "columns": 3,
        "rows": 1481
       }
      },
      "text/html": [
       "<div>\n",
       "<style scoped>\n",
       "    .dataframe tbody tr th:only-of-type {\n",
       "        vertical-align: middle;\n",
       "    }\n",
       "\n",
       "    .dataframe tbody tr th {\n",
       "        vertical-align: top;\n",
       "    }\n",
       "\n",
       "    .dataframe thead th {\n",
       "        text-align: right;\n",
       "    }\n",
       "</style>\n",
       "<table border=\"1\" class=\"dataframe\">\n",
       "  <thead>\n",
       "    <tr style=\"text-align: right;\">\n",
       "      <th></th>\n",
       "      <th>ad_id</th>\n",
       "      <th>event</th>\n",
       "      <th>size</th>\n",
       "    </tr>\n",
       "  </thead>\n",
       "  <tbody>\n",
       "    <tr>\n",
       "      <th>0</th>\n",
       "      <td>2</td>\n",
       "      <td>click</td>\n",
       "      <td>1</td>\n",
       "    </tr>\n",
       "    <tr>\n",
       "      <th>1</th>\n",
       "      <td>2</td>\n",
       "      <td>view</td>\n",
       "      <td>101</td>\n",
       "    </tr>\n",
       "    <tr>\n",
       "      <th>2</th>\n",
       "      <td>3</td>\n",
       "      <td>click</td>\n",
       "      <td>3</td>\n",
       "    </tr>\n",
       "    <tr>\n",
       "      <th>3</th>\n",
       "      <td>3</td>\n",
       "      <td>view</td>\n",
       "      <td>184</td>\n",
       "    </tr>\n",
       "    <tr>\n",
       "      <th>4</th>\n",
       "      <td>1902</td>\n",
       "      <td>click</td>\n",
       "      <td>1</td>\n",
       "    </tr>\n",
       "    <tr>\n",
       "      <th>...</th>\n",
       "      <td>...</td>\n",
       "      <td>...</td>\n",
       "      <td>...</td>\n",
       "    </tr>\n",
       "    <tr>\n",
       "      <th>1476</th>\n",
       "      <td>122013</td>\n",
       "      <td>view</td>\n",
       "      <td>156</td>\n",
       "    </tr>\n",
       "    <tr>\n",
       "      <th>1477</th>\n",
       "      <td>122023</td>\n",
       "      <td>view</td>\n",
       "      <td>68</td>\n",
       "    </tr>\n",
       "    <tr>\n",
       "      <th>1478</th>\n",
       "      <td>122031</td>\n",
       "      <td>click</td>\n",
       "      <td>1</td>\n",
       "    </tr>\n",
       "    <tr>\n",
       "      <th>1479</th>\n",
       "      <td>122031</td>\n",
       "      <td>view</td>\n",
       "      <td>138</td>\n",
       "    </tr>\n",
       "    <tr>\n",
       "      <th>1480</th>\n",
       "      <td>122078</td>\n",
       "      <td>view</td>\n",
       "      <td>42</td>\n",
       "    </tr>\n",
       "  </tbody>\n",
       "</table>\n",
       "<p>1481 rows × 3 columns</p>\n",
       "</div>"
      ],
      "text/plain": [
       "       ad_id  event  size\n",
       "0          2  click     1\n",
       "1          2   view   101\n",
       "2          3  click     3\n",
       "3          3   view   184\n",
       "4       1902  click     1\n",
       "...      ...    ...   ...\n",
       "1476  122013   view   156\n",
       "1477  122023   view    68\n",
       "1478  122031  click     1\n",
       "1479  122031   view   138\n",
       "1480  122078   view    42\n",
       "\n",
       "[1481 rows x 3 columns]"
      ]
     },
     "execution_count": 51,
     "metadata": {},
     "output_type": "execute_result"
    }
   ],
   "source": [
    "ads.groupby(['ad_id', 'event'], as_index=False)\\\n",
    "    .size()"
   ]
  },
  {
   "cell_type": "code",
   "execution_count": 29,
   "id": "00f7fd92",
   "metadata": {},
   "outputs": [],
   "source": [
    "event_pivot = ads.groupby(['ad_id', 'event'], as_index=False)\\\n",
    "    .size()\\\n",
    "    .pivot(index='ad_id', columns='event', values='size')\\\n",
    "    .fillna(0)"
   ]
  },
  {
   "cell_type": "code",
   "execution_count": 52,
   "id": "04c4a16d",
   "metadata": {},
   "outputs": [
    {
     "data": {
      "application/vnd.microsoft.datawrangler.viewer.v0+json": {
       "columns": [
        {
         "name": "ad_id",
         "rawType": "int64",
         "type": "integer"
        },
        {
         "name": "click",
         "rawType": "float64",
         "type": "float"
        },
        {
         "name": "view",
         "rawType": "float64",
         "type": "float"
        }
       ],
       "ref": "ef3d1363-2a8a-446f-ab5a-84b405c8c3f1",
       "rows": [
        [
         "2",
         "1.0",
         "101.0"
        ],
        [
         "3",
         "3.0",
         "184.0"
        ],
        [
         "1902",
         "1.0",
         "41.0"
        ],
        [
         "2064",
         "0.0",
         "35.0"
        ],
        [
         "2132",
         "1.0",
         "58.0"
        ],
        [
         "2468",
         "0.0",
         "39.0"
        ],
        [
         "2494",
         "1.0",
         "324.0"
        ],
        [
         "2604",
         "4.0",
         "402.0"
        ],
        [
         "2709",
         "14.0",
         "2628.0"
        ],
        [
         "3787",
         "6.0",
         "359.0"
        ],
        [
         "4365",
         "8.0",
         "157.0"
        ],
        [
         "4369",
         "27.0",
         "584.0"
        ],
        [
         "4450",
         "2.0",
         "19.0"
        ],
        [
         "4483",
         "0.0",
         "21.0"
        ],
        [
         "4804",
         "0.0",
         "33.0"
        ],
        [
         "4922",
         "20.0",
         "1465.0"
        ],
        [
         "4933",
         "10.0",
         "773.0"
        ],
        [
         "4953",
         "2.0",
         "477.0"
        ],
        [
         "6338",
         "23.0",
         "409.0"
        ],
        [
         "7358",
         "1.0",
         "18.0"
        ],
        [
         "7494",
         "1.0",
         "114.0"
        ],
        [
         "8276",
         "1.0",
         "85.0"
        ],
        [
         "9123",
         "1.0",
         "653.0"
        ],
        [
         "9418",
         "2.0",
         "18.0"
        ],
        [
         "9431",
         "0.0",
         "125.0"
        ],
        [
         "9471",
         "1.0",
         "124.0"
        ],
        [
         "9720",
         "6.0",
         "116.0"
        ],
        [
         "9767",
         "0.0",
         "75.0"
        ],
        [
         "9808",
         "0.0",
         "16.0"
        ],
        [
         "9830",
         "1.0",
         "24.0"
        ],
        [
         "9996",
         "0.0",
         "200.0"
        ],
        [
         "10008",
         "0.0",
         "229.0"
        ],
        [
         "10012",
         "3.0",
         "299.0"
        ],
        [
         "10325",
         "0.0",
         "63.0"
        ],
        [
         "10629",
         "1.0",
         "32.0"
        ],
        [
         "10678",
         "0.0",
         "207.0"
        ],
        [
         "10705",
         "0.0",
         "14.0"
        ],
        [
         "10789",
         "0.0",
         "43.0"
        ],
        [
         "10793",
         "0.0",
         "27.0"
        ],
        [
         "10794",
         "22.0",
         "526.0"
        ],
        [
         "11358",
         "0.0",
         "17.0"
        ],
        [
         "11409",
         "2.0",
         "54.0"
        ],
        [
         "11532",
         "7.0",
         "197.0"
        ],
        [
         "11797",
         "0.0",
         "28.0"
        ],
        [
         "12022",
         "0.0",
         "18.0"
        ],
        [
         "12025",
         "0.0",
         "55.0"
        ],
        [
         "12030",
         "10.0",
         "902.0"
        ],
        [
         "12122",
         "2.0",
         "54.0"
        ],
        [
         "12282",
         "3.0",
         "214.0"
        ],
        [
         "12530",
         "0.0",
         "40.0"
        ]
       ],
       "shape": {
        "columns": 2,
        "rows": 965
       }
      },
      "text/html": [
       "<div>\n",
       "<style scoped>\n",
       "    .dataframe tbody tr th:only-of-type {\n",
       "        vertical-align: middle;\n",
       "    }\n",
       "\n",
       "    .dataframe tbody tr th {\n",
       "        vertical-align: top;\n",
       "    }\n",
       "\n",
       "    .dataframe thead th {\n",
       "        text-align: right;\n",
       "    }\n",
       "</style>\n",
       "<table border=\"1\" class=\"dataframe\">\n",
       "  <thead>\n",
       "    <tr style=\"text-align: right;\">\n",
       "      <th>event</th>\n",
       "      <th>click</th>\n",
       "      <th>view</th>\n",
       "    </tr>\n",
       "    <tr>\n",
       "      <th>ad_id</th>\n",
       "      <th></th>\n",
       "      <th></th>\n",
       "    </tr>\n",
       "  </thead>\n",
       "  <tbody>\n",
       "    <tr>\n",
       "      <th>2</th>\n",
       "      <td>1.0</td>\n",
       "      <td>101.0</td>\n",
       "    </tr>\n",
       "    <tr>\n",
       "      <th>3</th>\n",
       "      <td>3.0</td>\n",
       "      <td>184.0</td>\n",
       "    </tr>\n",
       "    <tr>\n",
       "      <th>1902</th>\n",
       "      <td>1.0</td>\n",
       "      <td>41.0</td>\n",
       "    </tr>\n",
       "    <tr>\n",
       "      <th>2064</th>\n",
       "      <td>0.0</td>\n",
       "      <td>35.0</td>\n",
       "    </tr>\n",
       "    <tr>\n",
       "      <th>2132</th>\n",
       "      <td>1.0</td>\n",
       "      <td>58.0</td>\n",
       "    </tr>\n",
       "    <tr>\n",
       "      <th>...</th>\n",
       "      <td>...</td>\n",
       "      <td>...</td>\n",
       "    </tr>\n",
       "    <tr>\n",
       "      <th>122004</th>\n",
       "      <td>4.0</td>\n",
       "      <td>100.0</td>\n",
       "    </tr>\n",
       "    <tr>\n",
       "      <th>122013</th>\n",
       "      <td>0.0</td>\n",
       "      <td>156.0</td>\n",
       "    </tr>\n",
       "    <tr>\n",
       "      <th>122023</th>\n",
       "      <td>0.0</td>\n",
       "      <td>68.0</td>\n",
       "    </tr>\n",
       "    <tr>\n",
       "      <th>122031</th>\n",
       "      <td>1.0</td>\n",
       "      <td>138.0</td>\n",
       "    </tr>\n",
       "    <tr>\n",
       "      <th>122078</th>\n",
       "      <td>0.0</td>\n",
       "      <td>42.0</td>\n",
       "    </tr>\n",
       "  </tbody>\n",
       "</table>\n",
       "<p>965 rows × 2 columns</p>\n",
       "</div>"
      ],
      "text/plain": [
       "event   click   view\n",
       "ad_id               \n",
       "2         1.0  101.0\n",
       "3         3.0  184.0\n",
       "1902      1.0   41.0\n",
       "2064      0.0   35.0\n",
       "2132      1.0   58.0\n",
       "...       ...    ...\n",
       "122004    4.0  100.0\n",
       "122013    0.0  156.0\n",
       "122023    0.0   68.0\n",
       "122031    1.0  138.0\n",
       "122078    0.0   42.0\n",
       "\n",
       "[965 rows x 2 columns]"
      ]
     },
     "execution_count": 52,
     "metadata": {},
     "output_type": "execute_result"
    }
   ],
   "source": [
    "event_pivot"
   ]
  },
  {
   "cell_type": "code",
   "execution_count": 31,
   "id": "7c9d7c48",
   "metadata": {},
   "outputs": [
    {
     "data": {
      "application/vnd.microsoft.datawrangler.viewer.v0+json": {
       "columns": [
        {
         "name": "event",
         "rawType": "object",
         "type": "string"
        },
        {
         "name": "0",
         "rawType": "float64",
         "type": "float"
        }
       ],
       "ref": "933f3ae3-80e4-4bc0-8cb1-db794b542b37",
       "rows": [
        [
         "click",
         "113.0"
        ],
        [
         "view",
         "923.0"
        ]
       ],
       "shape": {
        "columns": 1,
        "rows": 2
       }
      },
      "text/plain": [
       "event\n",
       "click    113.0\n",
       "view     923.0\n",
       "dtype: float64"
      ]
     },
     "execution_count": 31,
     "metadata": {},
     "output_type": "execute_result"
    }
   ],
   "source": [
    "event_pivot.mean().round(0)"
   ]
  },
  {
   "cell_type": "markdown",
   "id": "6633f92c",
   "metadata": {},
   "source": [
    "Давайте посмотрим на распределение показов объявлений!  \n",
    "•\tПо оси x – число показов  \n",
    "•\tПо оси y – доля объявлений с такими показами  \n",
    "Прологарифмируйте число показов, а затем постройте такой график, чтобы можно было понять форму распределения.  \n",
    "Для такого же отображения используйте эти настройки  \n",
    "sns.set(  \n",
    "    font_scale=2,  \n",
    "    style=\"whitegrid\",  \n",
    "    rc={'figure.figsize':(20,7)}  \n",
    "        )  \n",
    "Могут пригодиться:  \n",
    "•\tsns.distplot  \n",
    "•\tnp.log"
   ]
  },
  {
   "cell_type": "code",
   "execution_count": 45,
   "id": "97d54eec",
   "metadata": {},
   "outputs": [],
   "source": [
    "import seaborn as sns\n",
    "\n",
    "sns.set_theme(\n",
    "    context=\"notebook\",\n",
    "    style=\"whitegrid\",\n",
    "    font_scale=2,\n",
    "    rc={'figure.figsize': (20, 7)}\n",
    ")"
   ]
  },
  {
   "cell_type": "code",
   "execution_count": 46,
   "id": "47586356",
   "metadata": {},
   "outputs": [],
   "source": [
    "view_counts = ads[ads['event'] == 'view']\\\n",
    "    .groupby('ad_id')\\\n",
    "    .size()"
   ]
  },
  {
   "cell_type": "code",
   "execution_count": 47,
   "id": "9f84d8cb",
   "metadata": {},
   "outputs": [
    {
     "data": {
      "application/vnd.microsoft.datawrangler.viewer.v0+json": {
       "columns": [
        {
         "name": "ad_id",
         "rawType": "int64",
         "type": "integer"
        },
        {
         "name": "0",
         "rawType": "int64",
         "type": "integer"
        }
       ],
       "ref": "09cdd45e-c0fa-4452-afcd-2a5844261f85",
       "rows": [
        [
         "2",
         "101"
        ],
        [
         "3",
         "184"
        ],
        [
         "1902",
         "41"
        ],
        [
         "2064",
         "35"
        ],
        [
         "2132",
         "58"
        ]
       ],
       "shape": {
        "columns": 1,
        "rows": 5
       }
      },
      "text/plain": [
       "ad_id\n",
       "2       101\n",
       "3       184\n",
       "1902     41\n",
       "2064     35\n",
       "2132     58\n",
       "dtype: int64"
      ]
     },
     "execution_count": 47,
     "metadata": {},
     "output_type": "execute_result"
    }
   ],
   "source": [
    "view_counts.head()"
   ]
  },
  {
   "cell_type": "code",
   "execution_count": 48,
   "id": "945d39b3",
   "metadata": {},
   "outputs": [],
   "source": [
    "log_view_counts = np.log(view_counts+1)"
   ]
  },
  {
   "cell_type": "code",
   "execution_count": 49,
   "id": "cf04aa0b",
   "metadata": {},
   "outputs": [
    {
     "data": {
      "text/plain": [
       "<seaborn.axisgrid.FacetGrid at 0x1fc59e8c6d0>"
      ]
     },
     "execution_count": 49,
     "metadata": {},
     "output_type": "execute_result"
    },
    {
     "data": {
      "image/png": "[encoded data removed]",
      "text/plain": [
       "<Figure size 500x500 with 1 Axes>"
      ]
     },
     "metadata": {},
     "output_type": "display_data"
    }
   ],
   "source": [
    "sns.displot(log_view_counts, kde=True)"
   ]
  },
  {
   "cell_type": "code",
   "execution_count": 55,
   "id": "f7c81914",
   "metadata": {},
   "outputs": [
    {
     "data": {
      "text/plain": [
       "<Axes: ylabel='Density'>"
      ]
     },
     "execution_count": 55,
     "metadata": {},
     "output_type": "execute_result"
    },
    {
     "data": {
      "image/png": "[encoded data removed]",
      "text/plain": [
       "<Figure size 900x500 with 1 Axes>"
      ]
     },
     "metadata": {},
     "output_type": "display_data"
    }
   ],
   "source": [
    "fig, ax = plt.subplots(figsize = (9, 5))\n",
    "sns.histplot(data=log_view_counts, kde=True, stat='density', ax=ax)"
   ]
  },
  {
   "cell_type": "markdown",
   "id": "d03a97a0",
   "metadata": {},
   "source": [
    "Теперь нужно найти среднее количество показов на 1 объявление (ad_id) по дням, не учитывая объявления, у которых не было показов (обычное среднее). После этого посчитайте скользящее среднее по полученному результату с окном в 2 элемента.  \n",
    "Вопрос: Какое значение скользящего среднего получим за 6 апреля 2019 года? Округлите ответ до целого числа.  \n",
    "Могут пригодиться:  \n",
    "•\tpivot()  \n",
    "•\tскользящее среднее"
   ]
  },
  {
   "cell_type": "code",
   "execution_count": 70,
   "id": "f12722e0",
   "metadata": {},
   "outputs": [],
   "source": [
    "view_counts= ads.loc[ads.event == 'view']\\\n",
    "    .groupby(['date', 'ad_id'])\\\n",
    "    .size()\\\n",
    "    .reset_index(name='view_count')"
   ]
  },
  {
   "cell_type": "code",
   "execution_count": 85,
   "id": "34c5f662",
   "metadata": {},
   "outputs": [
    {
     "data": {
      "application/vnd.microsoft.datawrangler.viewer.v0+json": {
       "columns": [
        {
         "name": "index",
         "rawType": "int64",
         "type": "integer"
        },
        {
         "name": "date",
         "rawType": "datetime64[ns]",
         "type": "datetime"
        },
        {
         "name": "ad_id",
         "rawType": "int64",
         "type": "integer"
        },
        {
         "name": "view_count",
         "rawType": "int64",
         "type": "integer"
        }
       ],
       "ref": "08c27b91-36fe-4d70-911d-e45c04409b1b",
       "rows": [
        [
         "0",
         "2019-04-01 00:00:00",
         "2",
         "83"
        ],
        [
         "1",
         "2019-04-01 00:00:00",
         "3",
         "158"
        ],
        [
         "2",
         "2019-04-01 00:00:00",
         "4922",
         "1211"
        ],
        [
         "3",
         "2019-04-01 00:00:00",
         "4933",
         "642"
        ],
        [
         "4",
         "2019-04-01 00:00:00",
         "9418",
         "17"
        ]
       ],
       "shape": {
        "columns": 3,
        "rows": 5
       }
      },
      "text/html": [
       "<div>\n",
       "<style scoped>\n",
       "    .dataframe tbody tr th:only-of-type {\n",
       "        vertical-align: middle;\n",
       "    }\n",
       "\n",
       "    .dataframe tbody tr th {\n",
       "        vertical-align: top;\n",
       "    }\n",
       "\n",
       "    .dataframe thead th {\n",
       "        text-align: right;\n",
       "    }\n",
       "</style>\n",
       "<table border=\"1\" class=\"dataframe\">\n",
       "  <thead>\n",
       "    <tr style=\"text-align: right;\">\n",
       "      <th></th>\n",
       "      <th>date</th>\n",
       "      <th>ad_id</th>\n",
       "      <th>view_count</th>\n",
       "    </tr>\n",
       "  </thead>\n",
       "  <tbody>\n",
       "    <tr>\n",
       "      <th>0</th>\n",
       "      <td>2019-04-01</td>\n",
       "      <td>2</td>\n",
       "      <td>83</td>\n",
       "    </tr>\n",
       "    <tr>\n",
       "      <th>1</th>\n",
       "      <td>2019-04-01</td>\n",
       "      <td>3</td>\n",
       "      <td>158</td>\n",
       "    </tr>\n",
       "    <tr>\n",
       "      <th>2</th>\n",
       "      <td>2019-04-01</td>\n",
       "      <td>4922</td>\n",
       "      <td>1211</td>\n",
       "    </tr>\n",
       "    <tr>\n",
       "      <th>3</th>\n",
       "      <td>2019-04-01</td>\n",
       "      <td>4933</td>\n",
       "      <td>642</td>\n",
       "    </tr>\n",
       "    <tr>\n",
       "      <th>4</th>\n",
       "      <td>2019-04-01</td>\n",
       "      <td>9418</td>\n",
       "      <td>17</td>\n",
       "    </tr>\n",
       "  </tbody>\n",
       "</table>\n",
       "</div>"
      ],
      "text/plain": [
       "        date  ad_id  view_count\n",
       "0 2019-04-01      2          83\n",
       "1 2019-04-01      3         158\n",
       "2 2019-04-01   4922        1211\n",
       "3 2019-04-01   4933         642\n",
       "4 2019-04-01   9418          17"
      ]
     },
     "execution_count": 85,
     "metadata": {},
     "output_type": "execute_result"
    }
   ],
   "source": [
    "view_counts.head()"
   ]
  },
  {
   "cell_type": "code",
   "execution_count": 83,
   "id": "63c85fea",
   "metadata": {},
   "outputs": [],
   "source": [
    "daily_avg_views = view_counts.groupby('date')['view_count'].mean()"
   ]
  },
  {
   "cell_type": "code",
   "execution_count": 84,
   "id": "be86f252",
   "metadata": {},
   "outputs": [
    {
     "data": {
      "application/vnd.microsoft.datawrangler.viewer.v0+json": {
       "columns": [
        {
         "name": "date",
         "rawType": "datetime64[ns]",
         "type": "datetime"
        },
        {
         "name": "view_count",
         "rawType": "float64",
         "type": "float"
        }
       ],
       "ref": "b8522b0e-43f0-42c0-af91-c9dd524476f3",
       "rows": [
        [
         "2019-04-01 00:00:00",
         "154.4822695035461"
        ],
        [
         "2019-04-02 00:00:00",
         "137.7869822485207"
        ],
        [
         "2019-04-03 00:00:00",
         "163.95277777777778"
        ],
        [
         "2019-04-04 00:00:00",
         "675.90171990172"
        ],
        [
         "2019-04-05 00:00:00",
         "919.1096774193549"
        ]
       ],
       "shape": {
        "columns": 1,
        "rows": 5
       }
      },
      "text/plain": [
       "date\n",
       "2019-04-01    154.482270\n",
       "2019-04-02    137.786982\n",
       "2019-04-03    163.952778\n",
       "2019-04-04    675.901720\n",
       "2019-04-05    919.109677\n",
       "Name: view_count, dtype: float64"
      ]
     },
     "execution_count": 84,
     "metadata": {},
     "output_type": "execute_result"
    }
   ],
   "source": [
    "daily_avg_views.head()"
   ]
  },
  {
   "cell_type": "code",
   "execution_count": 89,
   "id": "bf408cee",
   "metadata": {},
   "outputs": [],
   "source": [
    "rolling_avg = daily_avg_views.rolling(window=2).mean()"
   ]
  },
  {
   "cell_type": "code",
   "execution_count": 90,
   "id": "d2a38680",
   "metadata": {},
   "outputs": [
    {
     "data": {
      "application/vnd.microsoft.datawrangler.viewer.v0+json": {
       "columns": [
        {
         "name": "date",
         "rawType": "datetime64[ns]",
         "type": "datetime"
        },
        {
         "name": "view_count",
         "rawType": "float64",
         "type": "float"
        }
       ],
       "ref": "0c0b5016-2947-47e8-8687-dc832d7ea090",
       "rows": [
        [
         "2019-04-01 00:00:00",
         null
        ],
        [
         "2019-04-02 00:00:00",
         "146.1346258760334"
        ],
        [
         "2019-04-03 00:00:00",
         "150.86988001314924"
        ],
        [
         "2019-04-04 00:00:00",
         "419.92724883974887"
        ],
        [
         "2019-04-05 00:00:00",
         "797.5056986605374"
        ]
       ],
       "shape": {
        "columns": 1,
        "rows": 5
       }
      },
      "text/plain": [
       "date\n",
       "2019-04-01           NaN\n",
       "2019-04-02    146.134626\n",
       "2019-04-03    150.869880\n",
       "2019-04-04    419.927249\n",
       "2019-04-05    797.505699\n",
       "Name: view_count, dtype: float64"
      ]
     },
     "execution_count": 90,
     "metadata": {},
     "output_type": "execute_result"
    }
   ],
   "source": [
    "rolling_avg.head()"
   ]
  },
  {
   "cell_type": "code",
   "execution_count": 91,
   "id": "9c536d31",
   "metadata": {},
   "outputs": [
    {
     "data": {
      "text/plain": [
       "598"
      ]
     },
     "execution_count": 91,
     "metadata": {},
     "output_type": "execute_result"
    }
   ],
   "source": [
    "round(rolling_avg['2019-04-06'])"
   ]
  },
  {
   "cell_type": "code",
   "execution_count": 77,
   "id": "8ac12db8",
   "metadata": {},
   "outputs": [],
   "source": [
    "daily_ad_views = ads.loc[ads.event == 'view']\\\n",
    "    .pivot_table(index='ad_id', columns='date', values='time', aggfunc='count')"
   ]
  },
  {
   "cell_type": "code",
   "execution_count": 78,
   "id": "1c5d3cca",
   "metadata": {},
   "outputs": [
    {
     "data": {
      "application/vnd.microsoft.datawrangler.viewer.v0+json": {
       "columns": [
        {
         "name": "ad_id",
         "rawType": "int64",
         "type": "integer"
        },
        {
         "name": "2019-04-01 00:00:00",
         "rawType": "float64",
         "type": "float"
        },
        {
         "name": "2019-04-02 00:00:00",
         "rawType": "float64",
         "type": "float"
        },
        {
         "name": "2019-04-03 00:00:00",
         "rawType": "float64",
         "type": "float"
        },
        {
         "name": "2019-04-04 00:00:00",
         "rawType": "float64",
         "type": "float"
        },
        {
         "name": "2019-04-05 00:00:00",
         "rawType": "float64",
         "type": "float"
        },
        {
         "name": "2019-04-06 00:00:00",
         "rawType": "float64",
         "type": "float"
        }
       ],
       "ref": "d06292dd-f0d3-4447-a4e0-92389cbcd702",
       "rows": [
        [
         "2",
         "83.0",
         "18.0",
         null,
         null,
         null,
         null
        ],
        [
         "3",
         "158.0",
         "26.0",
         null,
         null,
         null,
         null
        ],
        [
         "1902",
         null,
         null,
         "34.0",
         "7.0",
         null,
         null
        ],
        [
         "2064",
         null,
         "28.0",
         "7.0",
         null,
         null,
         null
        ],
        [
         "2132",
         null,
         null,
         "25.0",
         "27.0",
         "6.0",
         null
        ],
        [
         "2468",
         null,
         null,
         null,
         null,
         "32.0",
         "7.0"
        ],
        [
         "2494",
         null,
         "280.0",
         "44.0",
         null,
         null,
         null
        ],
        [
         "2604",
         null,
         null,
         null,
         "351.0",
         "51.0",
         null
        ],
        [
         "2709",
         null,
         null,
         null,
         "2202.0",
         "426.0",
         null
        ],
        [
         "3787",
         null,
         null,
         null,
         "293.0",
         "66.0",
         null
        ],
        [
         "4365",
         null,
         null,
         null,
         null,
         "135.0",
         "22.0"
        ],
        [
         "4369",
         null,
         null,
         null,
         "499.0",
         "85.0",
         null
        ],
        [
         "4450",
         null,
         "18.0",
         "1.0",
         null,
         null,
         null
        ],
        [
         "4483",
         null,
         null,
         null,
         "18.0",
         "3.0",
         null
        ],
        [
         "4804",
         null,
         "25.0",
         "8.0",
         null,
         null,
         null
        ],
        [
         "4922",
         "1211.0",
         "254.0",
         null,
         null,
         null,
         null
        ],
        [
         "4933",
         "642.0",
         "131.0",
         null,
         null,
         null,
         null
        ],
        [
         "4953",
         null,
         "398.0",
         "79.0",
         null,
         null,
         null
        ],
        [
         "6338",
         null,
         null,
         null,
         null,
         "353.0",
         "56.0"
        ],
        [
         "7358",
         null,
         null,
         "18.0",
         null,
         null,
         null
        ],
        [
         "7494",
         null,
         "91.0",
         "23.0",
         null,
         null,
         null
        ],
        [
         "8276",
         null,
         null,
         "70.0",
         "15.0",
         null,
         null
        ],
        [
         "9123",
         null,
         "537.0",
         "116.0",
         null,
         null,
         null
        ],
        [
         "9418",
         "17.0",
         "1.0",
         null,
         null,
         null,
         null
        ],
        [
         "9431",
         null,
         null,
         null,
         "104.0",
         "21.0",
         null
        ],
        [
         "9471",
         null,
         null,
         null,
         "105.0",
         "19.0",
         null
        ],
        [
         "9720",
         "91.0",
         "25.0",
         null,
         null,
         null,
         null
        ],
        [
         "9767",
         null,
         null,
         null,
         "63.0",
         "12.0",
         null
        ],
        [
         "9808",
         null,
         null,
         null,
         "14.0",
         "2.0",
         null
        ],
        [
         "9830",
         "21.0",
         "3.0",
         null,
         null,
         null,
         null
        ],
        [
         "9996",
         null,
         "171.0",
         "29.0",
         null,
         null,
         null
        ],
        [
         "10008",
         null,
         null,
         null,
         null,
         "200.0",
         "29.0"
        ],
        [
         "10012",
         null,
         null,
         null,
         null,
         "270.0",
         "29.0"
        ],
        [
         "10325",
         "54.0",
         "9.0",
         null,
         null,
         null,
         null
        ],
        [
         "10629",
         null,
         "30.0",
         "2.0",
         null,
         null,
         null
        ],
        [
         "10678",
         "170.0",
         "37.0",
         null,
         null,
         null,
         null
        ],
        [
         "10705",
         null,
         null,
         null,
         "13.0",
         "1.0",
         null
        ],
        [
         "10789",
         null,
         null,
         null,
         null,
         "37.0",
         "6.0"
        ],
        [
         "10793",
         null,
         "21.0",
         "6.0",
         null,
         null,
         null
        ],
        [
         "10794",
         null,
         null,
         null,
         null,
         "449.0",
         "77.0"
        ],
        [
         "11358",
         null,
         null,
         null,
         null,
         "13.0",
         "4.0"
        ],
        [
         "11409",
         null,
         null,
         null,
         "43.0",
         "11.0",
         null
        ],
        [
         "11532",
         null,
         null,
         null,
         null,
         "165.0",
         "32.0"
        ],
        [
         "11797",
         null,
         null,
         null,
         null,
         "24.0",
         "4.0"
        ],
        [
         "12022",
         null,
         null,
         null,
         null,
         "16.0",
         "2.0"
        ],
        [
         "12025",
         null,
         null,
         null,
         null,
         "50.0",
         "5.0"
        ],
        [
         "12030",
         null,
         null,
         null,
         null,
         "777.0",
         "125.0"
        ],
        [
         "12122",
         null,
         "43.0",
         "11.0",
         null,
         null,
         null
        ],
        [
         "12282",
         null,
         "171.0",
         "43.0",
         null,
         null,
         null
        ],
        [
         "12530",
         null,
         null,
         null,
         null,
         "34.0",
         "6.0"
        ]
       ],
       "shape": {
        "columns": 6,
        "rows": 956
       }
      },
      "text/html": [
       "<div>\n",
       "<style scoped>\n",
       "    .dataframe tbody tr th:only-of-type {\n",
       "        vertical-align: middle;\n",
       "    }\n",
       "\n",
       "    .dataframe tbody tr th {\n",
       "        vertical-align: top;\n",
       "    }\n",
       "\n",
       "    .dataframe thead th {\n",
       "        text-align: right;\n",
       "    }\n",
       "</style>\n",
       "<table border=\"1\" class=\"dataframe\">\n",
       "  <thead>\n",
       "    <tr style=\"text-align: right;\">\n",
       "      <th>date</th>\n",
       "      <th>2019-04-01</th>\n",
       "      <th>2019-04-02</th>\n",
       "      <th>2019-04-03</th>\n",
       "      <th>2019-04-04</th>\n",
       "      <th>2019-04-05</th>\n",
       "      <th>2019-04-06</th>\n",
       "    </tr>\n",
       "    <tr>\n",
       "      <th>ad_id</th>\n",
       "      <th></th>\n",
       "      <th></th>\n",
       "      <th></th>\n",
       "      <th></th>\n",
       "      <th></th>\n",
       "      <th></th>\n",
       "    </tr>\n",
       "  </thead>\n",
       "  <tbody>\n",
       "    <tr>\n",
       "      <th>2</th>\n",
       "      <td>83.0</td>\n",
       "      <td>18.0</td>\n",
       "      <td>NaN</td>\n",
       "      <td>NaN</td>\n",
       "      <td>NaN</td>\n",
       "      <td>NaN</td>\n",
       "    </tr>\n",
       "    <tr>\n",
       "      <th>3</th>\n",
       "      <td>158.0</td>\n",
       "      <td>26.0</td>\n",
       "      <td>NaN</td>\n",
       "      <td>NaN</td>\n",
       "      <td>NaN</td>\n",
       "      <td>NaN</td>\n",
       "    </tr>\n",
       "    <tr>\n",
       "      <th>1902</th>\n",
       "      <td>NaN</td>\n",
       "      <td>NaN</td>\n",
       "      <td>34.0</td>\n",
       "      <td>7.0</td>\n",
       "      <td>NaN</td>\n",
       "      <td>NaN</td>\n",
       "    </tr>\n",
       "    <tr>\n",
       "      <th>2064</th>\n",
       "      <td>NaN</td>\n",
       "      <td>28.0</td>\n",
       "      <td>7.0</td>\n",
       "      <td>NaN</td>\n",
       "      <td>NaN</td>\n",
       "      <td>NaN</td>\n",
       "    </tr>\n",
       "    <tr>\n",
       "      <th>2132</th>\n",
       "      <td>NaN</td>\n",
       "      <td>NaN</td>\n",
       "      <td>25.0</td>\n",
       "      <td>27.0</td>\n",
       "      <td>6.0</td>\n",
       "      <td>NaN</td>\n",
       "    </tr>\n",
       "    <tr>\n",
       "      <th>...</th>\n",
       "      <td>...</td>\n",
       "      <td>...</td>\n",
       "      <td>...</td>\n",
       "      <td>...</td>\n",
       "      <td>...</td>\n",
       "      <td>...</td>\n",
       "    </tr>\n",
       "    <tr>\n",
       "      <th>122004</th>\n",
       "      <td>85.0</td>\n",
       "      <td>15.0</td>\n",
       "      <td>NaN</td>\n",
       "      <td>NaN</td>\n",
       "      <td>NaN</td>\n",
       "      <td>NaN</td>\n",
       "    </tr>\n",
       "    <tr>\n",
       "      <th>122013</th>\n",
       "      <td>NaN</td>\n",
       "      <td>NaN</td>\n",
       "      <td>NaN</td>\n",
       "      <td>134.0</td>\n",
       "      <td>22.0</td>\n",
       "      <td>NaN</td>\n",
       "    </tr>\n",
       "    <tr>\n",
       "      <th>122023</th>\n",
       "      <td>NaN</td>\n",
       "      <td>NaN</td>\n",
       "      <td>NaN</td>\n",
       "      <td>53.0</td>\n",
       "      <td>15.0</td>\n",
       "      <td>NaN</td>\n",
       "    </tr>\n",
       "    <tr>\n",
       "      <th>122031</th>\n",
       "      <td>NaN</td>\n",
       "      <td>NaN</td>\n",
       "      <td>NaN</td>\n",
       "      <td>NaN</td>\n",
       "      <td>119.0</td>\n",
       "      <td>19.0</td>\n",
       "    </tr>\n",
       "    <tr>\n",
       "      <th>122078</th>\n",
       "      <td>NaN</td>\n",
       "      <td>NaN</td>\n",
       "      <td>36.0</td>\n",
       "      <td>6.0</td>\n",
       "      <td>NaN</td>\n",
       "      <td>NaN</td>\n",
       "    </tr>\n",
       "  </tbody>\n",
       "</table>\n",
       "<p>956 rows × 6 columns</p>\n",
       "</div>"
      ],
      "text/plain": [
       "date    2019-04-01  2019-04-02  2019-04-03  2019-04-04  2019-04-05  2019-04-06\n",
       "ad_id                                                                         \n",
       "2             83.0        18.0         NaN         NaN         NaN         NaN\n",
       "3            158.0        26.0         NaN         NaN         NaN         NaN\n",
       "1902           NaN         NaN        34.0         7.0         NaN         NaN\n",
       "2064           NaN        28.0         7.0         NaN         NaN         NaN\n",
       "2132           NaN         NaN        25.0        27.0         6.0         NaN\n",
       "...            ...         ...         ...         ...         ...         ...\n",
       "122004        85.0        15.0         NaN         NaN         NaN         NaN\n",
       "122013         NaN         NaN         NaN       134.0        22.0         NaN\n",
       "122023         NaN         NaN         NaN        53.0        15.0         NaN\n",
       "122031         NaN         NaN         NaN         NaN       119.0        19.0\n",
       "122078         NaN         NaN        36.0         6.0         NaN         NaN\n",
       "\n",
       "[956 rows x 6 columns]"
      ]
     },
     "execution_count": 78,
     "metadata": {},
     "output_type": "execute_result"
    }
   ],
   "source": [
    "daily_ad_views"
   ]
  }
 ],
 "metadata": {
  "kernelspec": {
   "display_name": "Python 3",
   "language": "python",
   "name": "python3"
  },
  "language_info": {
   "codemirror_mode": {
    "name": "ipython",
    "version": 3
   },
   "file_extension": ".py",
   "mimetype": "text/x-python",
   "name": "python",
   "nbconvert_exporter": "python",
   "pygments_lexer": "ipython3",
   "version": "3.11.9"
  }
 },
 "nbformat": 4,
 "nbformat_minor": 5
}
