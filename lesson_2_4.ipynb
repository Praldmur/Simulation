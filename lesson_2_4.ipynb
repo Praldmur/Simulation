{
 "cells": [
  {
   "cell_type": "markdown",
   "id": "662f6bc5",
   "metadata": {},
   "source": [
    "В переменной df находится датафрэйм. Запишите в переменную  df_shape строку с информацией о том, сколько строк и столбцов он содержит, в следующем виде:\n",
    "'df has y rows and x columns'\n",
    "где y — число строк, а x — число колонок."
   ]
  },
  {
   "cell_type": "code",
   "execution_count": null,
   "id": "4fd0de7e",
   "metadata": {},
   "outputs": [],
   "source": [
    "rows, cols = taxi.shape\n",
    "df_shape = f'df has {rows} rows, and {cols} columns'"
   ]
  },
  {
   "cell_type": "markdown",
   "id": "82ad89e3",
   "metadata": {},
   "source": [
    "Сохраните в переменную na_number серию, в которой для каждой колонки будет указано, сколько пропущенных значений она содержит. Например, для такого датафрейма:"
   ]
  },
  {
   "cell_type": "code",
   "execution_count": null,
   "id": "f340afba",
   "metadata": {},
   "outputs": [],
   "source": [
    "na_number = df.isna().sum()"
   ]
  },
  {
   "cell_type": "markdown",
   "id": "a48b67be",
   "metadata": {},
   "source": [
    "Сохраните в переменную df_types типы данных каждой колонки датафрэйма df."
   ]
  },
  {
   "cell_type": "code",
   "execution_count": null,
   "id": "9594e6f9",
   "metadata": {},
   "outputs": [],
   "source": [
    "df_types = df.info()"
   ]
  },
  {
   "cell_type": "markdown",
   "id": "53bb8953",
   "metadata": {},
   "source": [
    "Внезапно оказалось, что в колонке age значения хранятся в виде строк! Поменяйте тип значений на целочисленный в этой колонке датафрэйма df."
   ]
  },
  {
   "cell_type": "code",
   "execution_count": null,
   "id": "a9a15250",
   "metadata": {},
   "outputs": [],
   "source": [
    "df = df.astype({'age': 'int'})"
   ]
  },
  {
   "cell_type": "code",
   "execution_count": null,
   "id": "c59760f5",
   "metadata": {},
   "outputs": [],
   "source": [
    "df.age = df.age.astepe(int)"
   ]
  },
  {
   "cell_type": "markdown",
   "id": "dcddcccb",
   "metadata": {},
   "source": [
    "Как выяснилось, для дальнейшего анализа нам не понадобятся колонки sex и age – удалите их из датафрэйма."
   ]
  },
  {
   "cell_type": "code",
   "execution_count": null,
   "id": "7cfbcda3",
   "metadata": {},
   "outputs": [],
   "source": [
    "df = df.drop(['sex', 'age'], axis=1)"
   ]
  },
  {
   "cell_type": "markdown",
   "id": "30323b68",
   "metadata": {},
   "source": [
    "А теперь проверим, есть ли в нашей таблице df дубликаты по полю client_id. Сохраните в переменную df датафрейм, в котором не будет дубликатов по колонке client_id, оставив первую строку с id"
   ]
  },
  {
   "cell_type": "code",
   "execution_count": null,
   "id": "8b4769bb",
   "metadata": {},
   "outputs": [],
   "source": [
    "df = df.drop_duplicates(subset=['client_id'], keep='first')"
   ]
  },
  {
   "cell_type": "markdown",
   "id": "783a82de",
   "metadata": {},
   "source": [
    "В списке numbers содержатся числа. Добавьте через цикл в список positive_numbers положительные числа из numbers. Если вам попался 0, то нужно прекратить этот цикл.\n",
    "Например,  \n",
    "numbers = [1, -2, 3, 0, -3, 2]  \n",
    "Тогда positive_numbers должен быть:  \n",
    "positive_numbers = [1, 3]  \n",
    "Hint: список numbers  уже создан."
   ]
  },
  {
   "cell_type": "code",
   "execution_count": 2,
   "id": "e11bc9bd",
   "metadata": {},
   "outputs": [
    {
     "name": "stdout",
     "output_type": "stream",
     "text": [
      "[1, 3]\n"
     ]
    }
   ],
   "source": [
    "numbers = [1, -2, 3, 0, -3, 2]\n",
    "positive_numbers = []\n",
    "for i in numbers:\n",
    "    if i == 0:\n",
    "        break\n",
    "    if i > 0:\n",
    "        positive_numbers.append(i)\n",
    "print(positive_numbers)"
   ]
  },
  {
   "cell_type": "markdown",
   "id": "161eef53",
   "metadata": {},
   "source": [
    "Продолжим анализ данных по поездкам на такси из Перу. В предыдущем уроке вы изучили распределения оценок водителей и клиентов. Теперь посмотрим на колонки со временем!  \n",
    "Ссылка на датасет находится в переменной path_to_file. Сохраните данные в переменную taxi, разделитель — ;.  \n",
    "Затем приведите столбцы start_at, end_at, arrived_at к формату даты, используя pd.to_datetime(). Отфильтруйте данные и оставьте наблюдения со статусом заказа \"asap\" и \"reserved\" (start_type) ."
   ]
  },
  {
   "cell_type": "code",
   "execution_count": 25,
   "id": "a9fca6d3",
   "metadata": {},
   "outputs": [],
   "source": [
    "import pandas as pd\n",
    "import numpy as np\n",
    "\n",
    "import seaborn as sns\n",
    "import matplotlib.pyplot as plt\n",
    "\n",
    "%matplotlib inline "
   ]
  },
  {
   "cell_type": "code",
   "execution_count": 2,
   "id": "508054b9",
   "metadata": {},
   "outputs": [],
   "source": [
    "taxi = pd.read_csv(r'C:\\Users\\PC\\Desktop\\Софт\\Simulation\\Simulation\\data\\3_taxi_peru.csv', parse_dates=['start_at', 'end_at', 'arrived_at'], encoding='windows-1251', sep=';')"
   ]
  },
  {
   "cell_type": "code",
   "execution_count": 40,
   "id": "27cc6c9a",
   "metadata": {},
   "outputs": [
    {
     "data": {
      "application/vnd.microsoft.datawrangler.viewer.v0+json": {
       "columns": [
        {
         "name": "index",
         "rawType": "int64",
         "type": "integer"
        },
        {
         "name": "journey_id",
         "rawType": "object",
         "type": "string"
        },
        {
         "name": "user_id",
         "rawType": "object",
         "type": "string"
        },
        {
         "name": "driver_id",
         "rawType": "object",
         "type": "unknown"
        },
        {
         "name": "taxi_id",
         "rawType": "object",
         "type": "unknown"
        },
        {
         "name": "icon",
         "rawType": "object",
         "type": "string"
        },
        {
         "name": "start_type",
         "rawType": "object",
         "type": "string"
        },
        {
         "name": "start_at",
         "rawType": "datetime64[ns]",
         "type": "datetime"
        },
        {
         "name": "start_lat",
         "rawType": "object",
         "type": "string"
        },
        {
         "name": "start_lon",
         "rawType": "object",
         "type": "string"
        },
        {
         "name": "end_at",
         "rawType": "datetime64[ns]",
         "type": "datetime"
        },
        {
         "name": "end_lat",
         "rawType": "object",
         "type": "string"
        },
        {
         "name": "end_lon",
         "rawType": "object",
         "type": "string"
        },
        {
         "name": "end_state",
         "rawType": "object",
         "type": "string"
        },
        {
         "name": "driver_start_lat",
         "rawType": "object",
         "type": "unknown"
        },
        {
         "name": "driver_start_lon",
         "rawType": "object",
         "type": "unknown"
        },
        {
         "name": "arrived_at",
         "rawType": "datetime64[ns]",
         "type": "datetime"
        },
        {
         "name": "source",
         "rawType": "object",
         "type": "string"
        },
        {
         "name": "driver_score",
         "rawType": "float64",
         "type": "float"
        },
        {
         "name": "rider_score",
         "rawType": "float64",
         "type": "float"
        },
        {
         "name": "wait_time",
         "rawType": "float64",
         "type": "float"
        },
        {
         "name": "month",
         "rawType": "period[M]",
         "type": "unknown"
        },
        {
         "name": "weekday",
         "rawType": "category",
         "type": "unknown"
        },
        {
         "name": "day",
         "rawType": "object",
         "type": "unknown"
        },
        {
         "name": "week",
         "rawType": "UInt32",
         "type": "integer"
        }
       ],
       "ref": "4dd572fe-4fcc-4433-95cd-84a888bdab54",
       "rows": [
        [
         "0",
         "23a1406fc6a11d866e3c82f22eed4d4c",
         "0e9af5bbf1edfe591b54ecdfd7e91e26",
         "583949a89a9ee17d19e3ca4f137b6b4c",
         "b12f4f09c783e29fe0d0ea624530db56",
         "executive",
         "asap",
         "2010-11-16 16:44:00",
         "-12,13983536",
         "-77,02355957",
         "2010-11-16 17:29:00",
         "-12,05537033",
         "-77,0413208",
         "drop off",
         "-12,10825481",
         "-77,0272739",
         "2010-11-16 17:02:00",
         "iPhone",
         "5.0",
         "5.0",
         "18.0",
         "2010-11",
         "Tuesday",
         "2010-11-16",
         "46"
        ],
        [
         "1",
         "dd2af4715d0dc16eded53afc0e243577",
         "a553c46e3a22fb9c326aeb3d72b3334e",
         null,
         null,
         "executive",
         "asap",
         "2010-06-01 00:34:00",
         "-12,13874817",
         "-76,99536133",
         "2010-06-01 00:37:00",
         "-12,12465668",
         "-77,02886963",
         "not found",
         null,
         null,
         null,
         "iPhone",
         null,
         null,
         null,
         "2010-06",
         "Tuesday",
         "2010-06-01",
         "22"
        ],
        [
         "2",
         "dd91e131888064bf7df3ce08f3d4b4ad",
         "a553c46e3a22fb9c326aeb3d72b3334e",
         null,
         null,
         "executive",
         "asap",
         "2010-05-31 05:01:00",
         "-12,12453079",
         "-77,02780151",
         "2010-05-31 05:04:00",
         "-12,13883209",
         "-76,99530029",
         "not found",
         null,
         null,
         null,
         "iPhone",
         null,
         null,
         null,
         "2010-05",
         "Monday",
         "2010-05-31",
         "22"
        ],
        [
         "3",
         "dd2af4715d0dc16eded53afc0e2466d0",
         "a553c46e3a22fb9c326aeb3d72b3334e",
         null,
         null,
         "executive",
         "asap",
         "2010-06-01 00:29:00",
         "-12,13885117",
         "-76,99530029",
         "2010-06-01 00:32:00",
         "-12,12458801",
         "-77,02896118",
         "not found",
         null,
         null,
         null,
         "iPhone",
         null,
         null,
         null,
         "2010-06",
         "Tuesday",
         "2010-06-01",
         "22"
        ],
        [
         "4",
         "85b7eabcf5d84e42dc7629b7d27781af",
         "56772d544fdfa589a020a1ff894a86f7",
         "d665fb9f75ef5d9cd0fd89479380ba78",
         "0accdd3aa5a322f4129fa20b53278c69",
         "executive",
         "reserved",
         "2010-09-11 23:55:00",
         "-12,08995438",
         "-76,92626953",
         "2010-09-12 01:07:00",
         "-12,02223206",
         "-77,10638428",
         "drop off",
         "-12,08311558",
         "-76,9277072",
         "2010-09-11 23:50:00",
         "iPhone",
         "4.0",
         "5.0",
         "-5.0",
         "2010-09",
         "Saturday",
         "2010-09-11",
         "36"
        ]
       ],
       "shape": {
        "columns": 24,
        "rows": 5
       }
      },
      "text/html": [
       "<div>\n",
       "<style scoped>\n",
       "    .dataframe tbody tr th:only-of-type {\n",
       "        vertical-align: middle;\n",
       "    }\n",
       "\n",
       "    .dataframe tbody tr th {\n",
       "        vertical-align: top;\n",
       "    }\n",
       "\n",
       "    .dataframe thead th {\n",
       "        text-align: right;\n",
       "    }\n",
       "</style>\n",
       "<table border=\"1\" class=\"dataframe\">\n",
       "  <thead>\n",
       "    <tr style=\"text-align: right;\">\n",
       "      <th></th>\n",
       "      <th>journey_id</th>\n",
       "      <th>user_id</th>\n",
       "      <th>driver_id</th>\n",
       "      <th>taxi_id</th>\n",
       "      <th>icon</th>\n",
       "      <th>start_type</th>\n",
       "      <th>start_at</th>\n",
       "      <th>start_lat</th>\n",
       "      <th>start_lon</th>\n",
       "      <th>end_at</th>\n",
       "      <th>...</th>\n",
       "      <th>driver_start_lon</th>\n",
       "      <th>arrived_at</th>\n",
       "      <th>source</th>\n",
       "      <th>driver_score</th>\n",
       "      <th>rider_score</th>\n",
       "      <th>wait_time</th>\n",
       "      <th>month</th>\n",
       "      <th>weekday</th>\n",
       "      <th>day</th>\n",
       "      <th>week</th>\n",
       "    </tr>\n",
       "  </thead>\n",
       "  <tbody>\n",
       "    <tr>\n",
       "      <th>0</th>\n",
       "      <td>23a1406fc6a11d866e3c82f22eed4d4c</td>\n",
       "      <td>0e9af5bbf1edfe591b54ecdfd7e91e26</td>\n",
       "      <td>583949a89a9ee17d19e3ca4f137b6b4c</td>\n",
       "      <td>b12f4f09c783e29fe0d0ea624530db56</td>\n",
       "      <td>executive</td>\n",
       "      <td>asap</td>\n",
       "      <td>2010-11-16 16:44:00</td>\n",
       "      <td>-12,13983536</td>\n",
       "      <td>-77,02355957</td>\n",
       "      <td>2010-11-16 17:29:00</td>\n",
       "      <td>...</td>\n",
       "      <td>-77,0272739</td>\n",
       "      <td>2010-11-16 17:02:00</td>\n",
       "      <td>iPhone</td>\n",
       "      <td>5.0</td>\n",
       "      <td>5.0</td>\n",
       "      <td>18.0</td>\n",
       "      <td>2010-11</td>\n",
       "      <td>Tuesday</td>\n",
       "      <td>2010-11-16</td>\n",
       "      <td>46</td>\n",
       "    </tr>\n",
       "    <tr>\n",
       "      <th>1</th>\n",
       "      <td>dd2af4715d0dc16eded53afc0e243577</td>\n",
       "      <td>a553c46e3a22fb9c326aeb3d72b3334e</td>\n",
       "      <td>NaN</td>\n",
       "      <td>NaN</td>\n",
       "      <td>executive</td>\n",
       "      <td>asap</td>\n",
       "      <td>2010-06-01 00:34:00</td>\n",
       "      <td>-12,13874817</td>\n",
       "      <td>-76,99536133</td>\n",
       "      <td>2010-06-01 00:37:00</td>\n",
       "      <td>...</td>\n",
       "      <td>NaN</td>\n",
       "      <td>NaT</td>\n",
       "      <td>iPhone</td>\n",
       "      <td>NaN</td>\n",
       "      <td>NaN</td>\n",
       "      <td>NaN</td>\n",
       "      <td>2010-06</td>\n",
       "      <td>Tuesday</td>\n",
       "      <td>2010-06-01</td>\n",
       "      <td>22</td>\n",
       "    </tr>\n",
       "    <tr>\n",
       "      <th>2</th>\n",
       "      <td>dd91e131888064bf7df3ce08f3d4b4ad</td>\n",
       "      <td>a553c46e3a22fb9c326aeb3d72b3334e</td>\n",
       "      <td>NaN</td>\n",
       "      <td>NaN</td>\n",
       "      <td>executive</td>\n",
       "      <td>asap</td>\n",
       "      <td>2010-05-31 05:01:00</td>\n",
       "      <td>-12,12453079</td>\n",
       "      <td>-77,02780151</td>\n",
       "      <td>2010-05-31 05:04:00</td>\n",
       "      <td>...</td>\n",
       "      <td>NaN</td>\n",
       "      <td>NaT</td>\n",
       "      <td>iPhone</td>\n",
       "      <td>NaN</td>\n",
       "      <td>NaN</td>\n",
       "      <td>NaN</td>\n",
       "      <td>2010-05</td>\n",
       "      <td>Monday</td>\n",
       "      <td>2010-05-31</td>\n",
       "      <td>22</td>\n",
       "    </tr>\n",
       "    <tr>\n",
       "      <th>3</th>\n",
       "      <td>dd2af4715d0dc16eded53afc0e2466d0</td>\n",
       "      <td>a553c46e3a22fb9c326aeb3d72b3334e</td>\n",
       "      <td>NaN</td>\n",
       "      <td>NaN</td>\n",
       "      <td>executive</td>\n",
       "      <td>asap</td>\n",
       "      <td>2010-06-01 00:29:00</td>\n",
       "      <td>-12,13885117</td>\n",
       "      <td>-76,99530029</td>\n",
       "      <td>2010-06-01 00:32:00</td>\n",
       "      <td>...</td>\n",
       "      <td>NaN</td>\n",
       "      <td>NaT</td>\n",
       "      <td>iPhone</td>\n",
       "      <td>NaN</td>\n",
       "      <td>NaN</td>\n",
       "      <td>NaN</td>\n",
       "      <td>2010-06</td>\n",
       "      <td>Tuesday</td>\n",
       "      <td>2010-06-01</td>\n",
       "      <td>22</td>\n",
       "    </tr>\n",
       "    <tr>\n",
       "      <th>4</th>\n",
       "      <td>85b7eabcf5d84e42dc7629b7d27781af</td>\n",
       "      <td>56772d544fdfa589a020a1ff894a86f7</td>\n",
       "      <td>d665fb9f75ef5d9cd0fd89479380ba78</td>\n",
       "      <td>0accdd3aa5a322f4129fa20b53278c69</td>\n",
       "      <td>executive</td>\n",
       "      <td>reserved</td>\n",
       "      <td>2010-09-11 23:55:00</td>\n",
       "      <td>-12,08995438</td>\n",
       "      <td>-76,92626953</td>\n",
       "      <td>2010-09-12 01:07:00</td>\n",
       "      <td>...</td>\n",
       "      <td>-76,9277072</td>\n",
       "      <td>2010-09-11 23:50:00</td>\n",
       "      <td>iPhone</td>\n",
       "      <td>4.0</td>\n",
       "      <td>5.0</td>\n",
       "      <td>-5.0</td>\n",
       "      <td>2010-09</td>\n",
       "      <td>Saturday</td>\n",
       "      <td>2010-09-11</td>\n",
       "      <td>36</td>\n",
       "    </tr>\n",
       "  </tbody>\n",
       "</table>\n",
       "<p>5 rows × 24 columns</p>\n",
       "</div>"
      ],
      "text/plain": [
       "                         journey_id                           user_id  \\\n",
       "0  23a1406fc6a11d866e3c82f22eed4d4c  0e9af5bbf1edfe591b54ecdfd7e91e26   \n",
       "1  dd2af4715d0dc16eded53afc0e243577  a553c46e3a22fb9c326aeb3d72b3334e   \n",
       "2  dd91e131888064bf7df3ce08f3d4b4ad  a553c46e3a22fb9c326aeb3d72b3334e   \n",
       "3  dd2af4715d0dc16eded53afc0e2466d0  a553c46e3a22fb9c326aeb3d72b3334e   \n",
       "4  85b7eabcf5d84e42dc7629b7d27781af  56772d544fdfa589a020a1ff894a86f7   \n",
       "\n",
       "                          driver_id                           taxi_id  \\\n",
       "0  583949a89a9ee17d19e3ca4f137b6b4c  b12f4f09c783e29fe0d0ea624530db56   \n",
       "1                               NaN                               NaN   \n",
       "2                               NaN                               NaN   \n",
       "3                               NaN                               NaN   \n",
       "4  d665fb9f75ef5d9cd0fd89479380ba78  0accdd3aa5a322f4129fa20b53278c69   \n",
       "\n",
       "        icon start_type            start_at     start_lat     start_lon  \\\n",
       "0  executive       asap 2010-11-16 16:44:00  -12,13983536  -77,02355957   \n",
       "1  executive       asap 2010-06-01 00:34:00  -12,13874817  -76,99536133   \n",
       "2  executive       asap 2010-05-31 05:01:00  -12,12453079  -77,02780151   \n",
       "3  executive       asap 2010-06-01 00:29:00  -12,13885117  -76,99530029   \n",
       "4  executive   reserved 2010-09-11 23:55:00  -12,08995438  -76,92626953   \n",
       "\n",
       "               end_at  ... driver_start_lon          arrived_at  source  \\\n",
       "0 2010-11-16 17:29:00  ...      -77,0272739 2010-11-16 17:02:00  iPhone   \n",
       "1 2010-06-01 00:37:00  ...              NaN                 NaT  iPhone   \n",
       "2 2010-05-31 05:04:00  ...              NaN                 NaT  iPhone   \n",
       "3 2010-06-01 00:32:00  ...              NaN                 NaT  iPhone   \n",
       "4 2010-09-12 01:07:00  ...      -76,9277072 2010-09-11 23:50:00  iPhone   \n",
       "\n",
       "  driver_score rider_score wait_time    month   weekday         day  week  \n",
       "0          5.0         5.0      18.0  2010-11   Tuesday  2010-11-16    46  \n",
       "1          NaN         NaN       NaN  2010-06   Tuesday  2010-06-01    22  \n",
       "2          NaN         NaN       NaN  2010-05    Monday  2010-05-31    22  \n",
       "3          NaN         NaN       NaN  2010-06   Tuesday  2010-06-01    22  \n",
       "4          4.0         5.0      -5.0  2010-09  Saturday  2010-09-11    36  \n",
       "\n",
       "[5 rows x 24 columns]"
      ]
     },
     "execution_count": 40,
     "metadata": {},
     "output_type": "execute_result"
    }
   ],
   "source": [
    "taxi.head()"
   ]
  },
  {
   "cell_type": "code",
   "execution_count": null,
   "id": "b1d34cf2",
   "metadata": {},
   "outputs": [],
   "source": [
    "# for col in ['start_at', 'end_at', 'arrived_at']:\n",
    "    # taxi[col] = pd.to_datetime(taxi[col])"
   ]
  },
  {
   "cell_type": "code",
   "execution_count": null,
   "id": "f04a1010",
   "metadata": {},
   "outputs": [],
   "source": [
    "# taxi.loc[(taxi.start_type == 'asap')|(taxi.start_type == 'reserved')]"
   ]
  },
  {
   "cell_type": "code",
   "execution_count": null,
   "id": "1a075313",
   "metadata": {},
   "outputs": [],
   "source": [
    "taxi = taxi.loc[taxi.start_type.isin(['asap', 'reversed'])]"
   ]
  },
  {
   "cell_type": "markdown",
   "id": "d402a2ee",
   "metadata": {},
   "source": [
    "Создайте колонку wait_time, в которой будет храниться разница между временем подачи машины (arrived_at) и временем заказа (start_at) в минутах."
   ]
  },
  {
   "cell_type": "code",
   "execution_count": null,
   "id": "a8527094",
   "metadata": {},
   "outputs": [],
   "source": [
    "# taxi['wait_tame'] = (taxi['arrived_at'] - taxi['start_at']).astype('timedelta64[m]')"
   ]
  },
  {
   "cell_type": "code",
   "execution_count": 4,
   "id": "24d182ff",
   "metadata": {},
   "outputs": [],
   "source": [
    "taxi['wait_time'] = (taxi['arrived_at'] - taxi['start_at']).dt.total_seconds() / 60"
   ]
  },
  {
   "cell_type": "markdown",
   "id": "68c32c8f",
   "metadata": {},
   "source": [
    "Посмотрим, какие водители опаздывали на заказы к определенному времени (start_type == 'reserved'). Опозданием считается время ожидания wait_time > 0.0.\n",
    "Сгруппируйте отфильтрованные данные по driver_id и в качестве ответа укажите id водителя, который опоздал на заказ интересующего нас типа наибольшее число раз"
   ]
  },
  {
   "cell_type": "code",
   "execution_count": 5,
   "id": "5bc7a152",
   "metadata": {},
   "outputs": [
    {
     "data": {
      "application/vnd.microsoft.datawrangler.viewer.v0+json": {
       "columns": [
        {
         "name": "index",
         "rawType": "object",
         "type": "string"
        },
        {
         "name": "0",
         "rawType": "object",
         "type": "string"
        }
       ],
       "ref": "4d0b29ad-bba5-412b-a597-a25ecce55702",
       "rows": [
        [
         "wait_time",
         "406921adcca37705ef527b4246c0cfea"
        ]
       ],
       "shape": {
        "columns": 1,
        "rows": 1
       }
      },
      "text/plain": [
       "wait_time    406921adcca37705ef527b4246c0cfea\n",
       "dtype: object"
      ]
     },
     "execution_count": 5,
     "metadata": {},
     "output_type": "execute_result"
    }
   ],
   "source": [
    "taxi.loc[(taxi.start_type == 'reserved')&(taxi.wait_time > 0.0)]\\\n",
    "    .groupby('driver_id')\\\n",
    "    .agg({'wait_time': 'count'})\\\n",
    "    .idxmax()"
   ]
  },
  {
   "cell_type": "markdown",
   "id": "1dac9cd7",
   "metadata": {},
   "source": [
    "Добавьте столбец month, где будет храниться номер месяца, в котором был сделан заказ (start_at),  и столбец weekday – название дня недели."
   ]
  },
  {
   "cell_type": "code",
   "execution_count": 20,
   "id": "2fe2f3f7",
   "metadata": {},
   "outputs": [],
   "source": [
    "taxi['month'] = taxi['start_at'].dt.month\n",
    "taxi['weekday'] = taxi['start_at'].dt.day_name()"
   ]
  },
  {
   "cell_type": "markdown",
   "id": "730d7b9d",
   "metadata": {},
   "source": [
    "Постройте график числа заказов по месяцам (month). Подумайте, с чем может быть связана полученная картина.   \n",
    "Вопрос: в каком летнем месяце было сделано наименьшее число заказов? В качестве ответа введите номер месяца (6, 7 или 8). "
   ]
  },
  {
   "cell_type": "code",
   "execution_count": 27,
   "id": "71c05b08",
   "metadata": {},
   "outputs": [
    {
     "data": {
      "text/plain": [
       "<Axes: xlabel='month', ylabel='count'>"
      ]
     },
     "execution_count": 27,
     "metadata": {},
     "output_type": "execute_result"
    },
    {
     "data": {
      "image/png": "[encoded data removed]",
      "text/plain": [
       "<Figure size 640x480 with 1 Axes>"
      ]
     },
     "metadata": {},
     "output_type": "display_data"
    }
   ],
   "source": [
    "sns.countplot(data = taxi, x='month')"
   ]
  },
  {
   "cell_type": "markdown",
   "id": "5edab168",
   "metadata": {},
   "source": [
    "А теперь – график по дням недели (weekday). Задать порядок столбиков на графике можно с помощью аргумента order, которому нужно передать список названий в нужном порядке. Например:   \n",
    "sns.countplot(data['column'], order=['One', 'Two', 'Three'])  \n",
    "Вопрос: в какой день недели суммарно поступает меньше всего заказов? Укажите то название, которое написано в самом датафрейме."
   ]
  },
  {
   "cell_type": "code",
   "execution_count": 33,
   "id": "98c6b2b1",
   "metadata": {},
   "outputs": [],
   "source": [
    "order=['Monday', 'Tuesday', 'Wednesday', 'Thursday', 'Friday', 'Saturday', 'Sunday']"
   ]
  },
  {
   "cell_type": "code",
   "execution_count": 34,
   "id": "e7b582d3",
   "metadata": {},
   "outputs": [
    {
     "data": {
      "text/plain": [
       "<Axes: xlabel='weekday', ylabel='count'>"
      ]
     },
     "execution_count": 34,
     "metadata": {},
     "output_type": "execute_result"
    },
    {
     "data": {
      "image/png": "[encoded data removed]",
      "text/plain": [
       "<Figure size 640x480 with 1 Axes>"
      ]
     },
     "metadata": {},
     "output_type": "display_data"
    }
   ],
   "source": [
    "sns.countplot(data=taxi, x='weekday', order=order)"
   ]
  },
  {
   "cell_type": "code",
   "execution_count": 36,
   "id": "519fe885",
   "metadata": {},
   "outputs": [],
   "source": [
    "taxi.weekday = pd.Categorical(taxi.weekday, ordered=True, categories=order)"
   ]
  },
  {
   "cell_type": "code",
   "execution_count": 37,
   "id": "64c7304d",
   "metadata": {},
   "outputs": [
    {
     "data": {
      "image/png": "[encoded data removed]",
      "text/plain": [
       "<Figure size 640x480 with 1 Axes>"
      ]
     },
     "metadata": {},
     "output_type": "display_data"
    }
   ],
   "source": [
    "ax = sns.countplot(data=taxi, x='weekday')\n",
    "ax.tick_params(axis='x', rotation=45)"
   ]
  },
  {
   "cell_type": "markdown",
   "id": "7d0826c0",
   "metadata": {},
   "source": [
    "Также мы можем посмотреть на несколько простых метрик, показывающих число уникальных пользователей за определённый период:  \n",
    "•\tDAU (daily active users) – число уникальных пользователей за день  \n",
    "•\tWAU (weekly active users) – число уникальных пользователей за неделю  \n",
    "•\tMAU (monthly active users) – число уникальных пользователей за месяц  \n",
    "Активные пользователи – те, кто воспользовался приложением и сделал хотя бы один заказ за выбранный промежуток времени. Постройте график MAU и выберите верные утверждения.   \n",
    "Могут пригодиться:  \n",
    "•\tgroupby – группировка  \n",
    "•\tnunique – число уникальных значений  \n",
    "•\tplot.line – линейная диаграмма  "
   ]
  },
  {
   "cell_type": "code",
   "execution_count": 39,
   "id": "7482b1c8",
   "metadata": {},
   "outputs": [],
   "source": [
    "taxi['day'] = taxi['start_at'].dt.date\n",
    "taxi['week'] = taxi['start_at'].dt.isocalendar().week\n",
    "taxi['month'] = taxi['start_at'].dt.to_period('M')"
   ]
  },
  {
   "cell_type": "code",
   "execution_count": 42,
   "id": "ab3c96d3",
   "metadata": {},
   "outputs": [],
   "source": [
    "dau = taxi.groupby('day')['user_id'].nunique()"
   ]
  },
  {
   "cell_type": "code",
   "execution_count": 44,
   "id": "5099b97c",
   "metadata": {},
   "outputs": [],
   "source": [
    "wau = taxi.groupby('week')['user_id'].nunique()"
   ]
  },
  {
   "cell_type": "code",
   "execution_count": 45,
   "id": "b810fbe7",
   "metadata": {},
   "outputs": [],
   "source": [
    "mau = taxi.groupby('month')['user_id'].nunique()"
   ]
  },
  {
   "cell_type": "code",
   "execution_count": 46,
   "id": "d961bf61",
   "metadata": {},
   "outputs": [
    {
     "data": {
      "image/png": "[encoded data removed]",
      "text/plain": [
       "<Figure size 1000x500 with 1 Axes>"
      ]
     },
     "metadata": {},
     "output_type": "display_data"
    }
   ],
   "source": [
    "plt.figure(figsize=(10, 5))\n",
    "mau.plot(kind='line', marker='o')\n",
    "plt.title('MAU — Monthly Active Users')\n",
    "plt.xlabel('Месяц')\n",
    "plt.ylabel('Уникальные пользователи')\n",
    "plt.grid(True)\n",
    "plt.xticks(rotation=45)\n",
    "plt.tight_layout()\n",
    "plt.show()"
   ]
  }
 ],
 "metadata": {
  "kernelspec": {
   "display_name": "Python 3",
   "language": "python",
   "name": "python3"
  },
  "language_info": {
   "codemirror_mode": {
    "name": "ipython",
    "version": 3
   },
   "file_extension": ".py",
   "mimetype": "text/x-python",
   "name": "python",
   "nbconvert_exporter": "python",
   "pygments_lexer": "ipython3",
   "version": "3.11.9"
  }
 },
 "nbformat": 4,
 "nbformat_minor": 5
}
