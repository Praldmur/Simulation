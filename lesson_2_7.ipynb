{
 "cells": [
  {
   "cell_type": "markdown",
   "id": "72f5a69c",
   "metadata": {},
   "source": [
    "Считайте данные из Google Sheets, которые находятся по этой ссылке при помощи библиотеки requests. Посчитайте процент мужчин среди всех посетителей сайта, округлите ответ до целых.  \n",
    "Воспользуйтесь этим кодом, чтобы перевести данные из реквеста в пандас\n",
    "from io import BytesIO  \n",
    "import requests  \n",
    "req = requests.get(your_link)  \n",
    "data = req.content  \n",
    "df = pd.read_csv(BytesIO(data))  "
   ]
  },
  {
   "cell_type": "code",
   "execution_count": 9,
   "id": "4c49dfc3",
   "metadata": {},
   "outputs": [],
   "source": [
    "import pandas as pd\n",
    "import numpy as np\n",
    "import datetime\n",
    "import vk_api\n",
    "import os\n",
    "import requests\n",
    "import json\n",
    "import random\n",
    "from io import StringIO\n",
    "from io import BytesIO\n",
    "\n",
    "%matplotlib inline\n",
    "import matplotlib.pyplot as plt\n",
    "import seaborn as sns\n",
    "import sys"
   ]
  },
  {
   "cell_type": "code",
   "execution_count": 13,
   "id": "6c58ff5f",
   "metadata": {},
   "outputs": [],
   "source": [
    "url = 'https://docs.google.com/spreadsheets/d/1e3PRXmMNXo9AZZnaol1aHgYxtH6KYaCDymEQlK6jaO8/export?format=csv'\n",
    "req = requests.get(url)\n",
    "data = req.content\n",
    "df = pd.read_csv(BytesIO(data))"
   ]
  },
  {
   "cell_type": "code",
   "execution_count": 15,
   "id": "69486c19",
   "metadata": {},
   "outputs": [
    {
     "data": {
      "application/vnd.microsoft.datawrangler.viewer.v0+json": {
       "columns": [
        {
         "name": "index",
         "rawType": "int64",
         "type": "integer"
        },
        {
         "name": "date",
         "rawType": "object",
         "type": "string"
        },
        {
         "name": "gender",
         "rawType": "object",
         "type": "string"
        },
        {
         "name": "users",
         "rawType": "int64",
         "type": "integer"
        },
        {
         "name": "percent",
         "rawType": "float64",
         "type": "float"
        }
       ],
       "ref": "88eff563-75a5-4c5b-8eab-592c368b6a37",
       "rows": [
        [
         "0",
         "2020-06-14",
         "Not specified",
         "150",
         "52.0"
        ],
        [
         "1",
         "2020-06-14",
         "male",
         "117",
         "41.0"
        ],
        [
         "2",
         "2020-06-14",
         "female",
         "21",
         "7.0"
        ]
       ],
       "shape": {
        "columns": 4,
        "rows": 3
       }
      },
      "text/html": [
       "<div>\n",
       "<style scoped>\n",
       "    .dataframe tbody tr th:only-of-type {\n",
       "        vertical-align: middle;\n",
       "    }\n",
       "\n",
       "    .dataframe tbody tr th {\n",
       "        vertical-align: top;\n",
       "    }\n",
       "\n",
       "    .dataframe thead th {\n",
       "        text-align: right;\n",
       "    }\n",
       "</style>\n",
       "<table border=\"1\" class=\"dataframe\">\n",
       "  <thead>\n",
       "    <tr style=\"text-align: right;\">\n",
       "      <th></th>\n",
       "      <th>date</th>\n",
       "      <th>gender</th>\n",
       "      <th>users</th>\n",
       "      <th>percent</th>\n",
       "    </tr>\n",
       "  </thead>\n",
       "  <tbody>\n",
       "    <tr>\n",
       "      <th>0</th>\n",
       "      <td>2020-06-14</td>\n",
       "      <td>Not specified</td>\n",
       "      <td>150</td>\n",
       "      <td>52.0</td>\n",
       "    </tr>\n",
       "    <tr>\n",
       "      <th>1</th>\n",
       "      <td>2020-06-14</td>\n",
       "      <td>male</td>\n",
       "      <td>117</td>\n",
       "      <td>41.0</td>\n",
       "    </tr>\n",
       "    <tr>\n",
       "      <th>2</th>\n",
       "      <td>2020-06-14</td>\n",
       "      <td>female</td>\n",
       "      <td>21</td>\n",
       "      <td>7.0</td>\n",
       "    </tr>\n",
       "  </tbody>\n",
       "</table>\n",
       "</div>"
      ],
      "text/plain": [
       "         date         gender  users  percent\n",
       "0  2020-06-14  Not specified    150     52.0\n",
       "1  2020-06-14           male    117     41.0\n",
       "2  2020-06-14         female     21      7.0"
      ]
     },
     "execution_count": 28,
     "metadata": {},
     "output_type": "execute_result"
    }
   ],
   "source": [
    "df.head()"
   ]
  },
  {
   "cell_type": "code",
   "execution_count": 27,
   "id": "47ad2d56",
   "metadata": {},
   "outputs": [],
   "source": [
    "df['percent'] = (df.users / df.users.sum() * 100).round(0)"
   ]
  },
  {
   "cell_type": "markdown",
   "id": "048c6867",
   "metadata": {},
   "source": [
    "Скачайте файл с данными посещаемости сайта Яндекс.Метрика отсюда (сохранен в переменную df). При помощи функции np.where создайте серию, в которую будет записываться 1, если посещения были сделаны роботами с браузера, содержащего Chrome в названии, и 0 в других случаях. Поместите получившуюся серию в переменную chrome_robots.  \n",
    "Может понадобиться:  \n",
    "•\tstr.contains()"
   ]
  },
  {
   "cell_type": "code",
   "execution_count": null,
   "id": "8ce341ba",
   "metadata": {},
   "outputs": [],
   "source": [
    "chrome_robots = pd.Series(np.where((df.browser.str.contains('Chrome')) & (df.user.type == 'Robots'), 1, 0))"
   ]
  },
  {
   "cell_type": "markdown",
   "id": "8c462db3",
   "metadata": {},
   "source": [
    "У вас есть датасет с данными о кликах и показах по объявлению, в котором есть пропуски. Вычислите количество строк без пропусков в колонке click_type. Запишите ответ в переменную not_nan_count  \n",
    "•\tad_id – id объявления  \n",
    "•\tuser_id – id пользователя  \n",
    "•\tclick_type – тип клика (клик по заголовку объявления, клик по центру)"
   ]
  },
  {
   "cell_type": "code",
   "execution_count": 10,
   "id": "e715283c",
   "metadata": {},
   "outputs": [],
   "source": [
    "df = pd.read_csv(r'F:\\!PR\\Simulation\\data\\7_sample_ads.csv')"
   ]
  },
  {
   "cell_type": "code",
   "execution_count": 11,
   "id": "48654f1a",
   "metadata": {},
   "outputs": [
    {
     "data": {
      "application/vnd.microsoft.datawrangler.viewer.v0+json": {
       "columns": [
        {
         "name": "index",
         "rawType": "int64",
         "type": "integer"
        },
        {
         "name": "ad_id",
         "rawType": "int64",
         "type": "integer"
        },
        {
         "name": "user_id",
         "rawType": "object",
         "type": "string"
        },
        {
         "name": "click_type",
         "rawType": "object",
         "type": "unknown"
        }
       ],
       "ref": "cd2ad8d8-ddfc-4886-9f1d-3dd18130bafa",
       "rows": [
        [
         "0",
         "12345",
         "qwert",
         "top"
        ],
        [
         "1",
         "12345",
         "fsssc",
         "center"
        ],
        [
         "2",
         "12345",
         "vfvgg",
         null
        ],
        [
         "3",
         "12345",
         "asrvv",
         null
        ],
        [
         "4",
         "12345",
         "tynuy",
         "top"
        ]
       ],
       "shape": {
        "columns": 3,
        "rows": 5
       }
      },
      "text/html": [
       "<div>\n",
       "<style scoped>\n",
       "    .dataframe tbody tr th:only-of-type {\n",
       "        vertical-align: middle;\n",
       "    }\n",
       "\n",
       "    .dataframe tbody tr th {\n",
       "        vertical-align: top;\n",
       "    }\n",
       "\n",
       "    .dataframe thead th {\n",
       "        text-align: right;\n",
       "    }\n",
       "</style>\n",
       "<table border=\"1\" class=\"dataframe\">\n",
       "  <thead>\n",
       "    <tr style=\"text-align: right;\">\n",
       "      <th></th>\n",
       "      <th>ad_id</th>\n",
       "      <th>user_id</th>\n",
       "      <th>click_type</th>\n",
       "    </tr>\n",
       "  </thead>\n",
       "  <tbody>\n",
       "    <tr>\n",
       "      <th>0</th>\n",
       "      <td>12345</td>\n",
       "      <td>qwert</td>\n",
       "      <td>top</td>\n",
       "    </tr>\n",
       "    <tr>\n",
       "      <th>1</th>\n",
       "      <td>12345</td>\n",
       "      <td>fsssc</td>\n",
       "      <td>center</td>\n",
       "    </tr>\n",
       "    <tr>\n",
       "      <th>2</th>\n",
       "      <td>12345</td>\n",
       "      <td>vfvgg</td>\n",
       "      <td>NaN</td>\n",
       "    </tr>\n",
       "    <tr>\n",
       "      <th>3</th>\n",
       "      <td>12345</td>\n",
       "      <td>asrvv</td>\n",
       "      <td>NaN</td>\n",
       "    </tr>\n",
       "    <tr>\n",
       "      <th>4</th>\n",
       "      <td>12345</td>\n",
       "      <td>tynuy</td>\n",
       "      <td>top</td>\n",
       "    </tr>\n",
       "  </tbody>\n",
       "</table>\n",
       "</div>"
      ],
      "text/plain": [
       "   ad_id user_id click_type\n",
       "0  12345   qwert        top\n",
       "1  12345   fsssc     center\n",
       "2  12345   vfvgg        NaN\n",
       "3  12345   asrvv        NaN\n",
       "4  12345   tynuy        top"
      ]
     },
     "execution_count": 11,
     "metadata": {},
     "output_type": "execute_result"
    }
   ],
   "source": [
    "df.head()"
   ]
  },
  {
   "cell_type": "markdown",
   "id": "dbf309c1",
   "metadata": {},
   "source": [
    "Мой код:"
   ]
  },
  {
   "cell_type": "code",
   "execution_count": 12,
   "id": "255ddb5e",
   "metadata": {},
   "outputs": [
    {
     "data": {
      "text/plain": [
       "np.int64(11)"
      ]
     },
     "execution_count": 12,
     "metadata": {},
     "output_type": "execute_result"
    }
   ],
   "source": [
    "df['click_type'].count()"
   ]
  },
  {
   "cell_type": "markdown",
   "id": "a7b56fd3",
   "metadata": {},
   "source": [
    "Код из ответов:"
   ]
  },
  {
   "cell_type": "code",
   "execution_count": 13,
   "id": "8c310ad6",
   "metadata": {},
   "outputs": [
    {
     "data": {
      "text/plain": [
       "np.int64(11)"
      ]
     },
     "execution_count": 13,
     "metadata": {},
     "output_type": "execute_result"
    }
   ],
   "source": [
    "df.click_type.notna().sum()"
   ]
  },
  {
   "cell_type": "markdown",
   "id": "7c41069e",
   "metadata": {},
   "source": [
    "В списке lst находятся различные элементы. Создайте список new_list и сделайте следующее:  \n",
    "•\tпри помощи конструкции try except и цикла попробуйте преобразовать каждое значение в листе в int  \n",
    "•\tесли это получилось – добавьте преобразованное значение  в список new_list  "
   ]
  },
  {
   "cell_type": "code",
   "execution_count": null,
   "id": "a4124f2b",
   "metadata": {},
   "outputs": [],
   "source": [
    "lst = [1, 'lol', '88005553535', '42.0', 295, -0.5, None]"
   ]
  },
  {
   "cell_type": "code",
   "execution_count": 34,
   "id": "dc925f57",
   "metadata": {},
   "outputs": [],
   "source": [
    "new_list = []\n",
    "for i in lst:\n",
    "    try:\n",
    "        if i is None:\n",
    "            continue\n",
    "        n = int(float(i))\n",
    "        new_list.append(n)\n",
    "    except (ValueError, TypeError):\n",
    "        pass"
   ]
  },
  {
   "cell_type": "markdown",
   "id": "f075111d",
   "metadata": {},
   "source": [
    "А теперь попробуем воспользоваться знаниями использования Telegram API. Отправьте себе в личку любое послание, а в ответ к этому шагу напишите ник бота, от имени которого будете отправлять сообщения."
   ]
  }
 ],
 "metadata": {
  "kernelspec": {
   "display_name": "Python 3",
   "language": "python",
   "name": "python3"
  },
  "language_info": {
   "codemirror_mode": {
    "name": "ipython",
    "version": 3
   },
   "file_extension": ".py",
   "mimetype": "text/x-python",
   "name": "python",
   "nbconvert_exporter": "python",
   "pygments_lexer": "ipython3",
   "version": "3.13.3"
  }
 },
 "nbformat": 4,
 "nbformat_minor": 5
}
