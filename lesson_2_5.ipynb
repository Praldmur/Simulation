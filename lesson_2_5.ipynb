{
 "cells": [
  {
   "cell_type": "code",
   "execution_count": 1,
   "id": "89ffb6db",
   "metadata": {},
   "outputs": [],
   "source": [
    "import pandas as pd\n",
    "import os\n",
    "import numpy as np\n",
    "\n",
    "import seaborn as sns\n",
    "import matplotlib.pyplot as plt\n",
    "\n",
    "%matplotlib inline "
   ]
  },
  {
   "cell_type": "markdown",
   "id": "cca8a0df",
   "metadata": {},
   "source": [
    "В данной задаче ссылка для считывания данных лежит в переменной path_to_file.  \n",
    "Импортируйте пандас и прочитайте данные с кодировкой ISO-8859-1. Запишите полученный датафрейм в retail, а названия колонок сохраните в переменную retail_columns."
   ]
  },
  {
   "cell_type": "code",
   "execution_count": null,
   "id": "c8ffadbc",
   "metadata": {},
   "outputs": [],
   "source": [
    "retail = pd.read_csv(r'path_to_file', encoding='ISO-8859-1')"
   ]
  },
  {
   "cell_type": "code",
   "execution_count": null,
   "id": "5d5e7feb",
   "metadata": {},
   "outputs": [],
   "source": [
    "retail_columns = retail.columns"
   ]
  },
  {
   "cell_type": "markdown",
   "id": "9d00d61e",
   "metadata": {},
   "source": [
    "Проверьте, встречаются ли в данных повторяющиеся наблюдения, и в качестве ответа укажите их количество. Если они есть, то удалите их из retail."
   ]
  },
  {
   "cell_type": "code",
   "execution_count": null,
   "id": "b1ac4199",
   "metadata": {},
   "outputs": [],
   "source": [
    "duplicates = retail[retail.duplicated(keep=False)]"
   ]
  },
  {
   "cell_type": "code",
   "execution_count": null,
   "id": "31fe134f",
   "metadata": {},
   "outputs": [],
   "source": [
    "len(retail) - len(retail.drop_duplicates())"
   ]
  },
  {
   "cell_type": "code",
   "execution_count": null,
   "id": "4ff7cab1",
   "metadata": {},
   "outputs": [],
   "source": [
    "retail = retail.drop_duplicates()"
   ]
  },
  {
   "cell_type": "markdown",
   "id": "fa4c8f93",
   "metadata": {},
   "source": [
    "Данные содержат в себе записи как об успешных транзакциях, так и об отмененных. Если пользователь отменил заказ, в начале номера транзакции (InvoiceNo) ставится C (canceled). \n",
    "Сколько всего транзакций отменили пользователи? Считайте, что каждая строка - это отдельная транзакция."
   ]
  },
  {
   "cell_type": "code",
   "execution_count": null,
   "id": "0d07513e",
   "metadata": {},
   "outputs": [],
   "source": [
    "len(retail[retail['InvoiceNo'].str.startswith('C')])"
   ]
  },
  {
   "cell_type": "markdown",
   "id": "dc8dcd7f",
   "metadata": {},
   "source": [
    "Теперь отфильтруйте данные и оставьте в retail только те заказы, где Quantity > 0. В качестве ответа укажите число оставшихся строк"
   ]
  },
  {
   "cell_type": "code",
   "execution_count": null,
   "id": "886695c3",
   "metadata": {},
   "outputs": [],
   "source": [
    "retail = retail[retail.Quantity > 0]"
   ]
  },
  {
   "cell_type": "code",
   "execution_count": null,
   "id": "f58a505b",
   "metadata": {},
   "outputs": [],
   "source": [
    "retail.shape"
   ]
  }
 ],
 "metadata": {
  "kernelspec": {
   "display_name": "Python 3",
   "language": "python",
   "name": "python3"
  },
  "language_info": {
   "codemirror_mode": {
    "name": "ipython",
    "version": 3
   },
   "file_extension": ".py",
   "mimetype": "text/x-python",
   "name": "python",
   "nbconvert_exporter": "python",
   "pygments_lexer": "ipython3",
   "version": "3.13.3"
  }
 },
 "nbformat": 4,
 "nbformat_minor": 5
}
