{
 "cells": [
  {
   "cell_type": "code",
   "execution_count": 1,
   "id": "89ffb6db",
   "metadata": {},
   "outputs": [],
   "source": [
    "import pandas as pd\n",
    "import os\n",
    "import numpy as np\n",
    "\n",
    "import seaborn as sns\n",
    "import matplotlib.pyplot as plt\n",
    "\n",
    "%matplotlib inline "
   ]
  },
  {
   "cell_type": "markdown",
   "id": "cca8a0df",
   "metadata": {},
   "source": [
    "В данной задаче ссылка для считывания данных лежит в переменной path_to_file.  \n",
    "Импортируйте пандас и прочитайте данные с кодировкой ISO-8859-1. Запишите полученный датафрейм в retail, а названия колонок сохраните в переменную retail_columns."
   ]
  },
  {
   "cell_type": "code",
   "execution_count": null,
   "id": "c8ffadbc",
   "metadata": {},
   "outputs": [],
   "source": [
    "retail = pd.read_csv(r'path_to_file', encoding='ISO-8859-1')"
   ]
  },
  {
   "cell_type": "code",
   "execution_count": null,
   "id": "5d5e7feb",
   "metadata": {},
   "outputs": [],
   "source": [
    "retail_columns = retail.columns"
   ]
  },
  {
   "cell_type": "markdown",
   "id": "9d00d61e",
   "metadata": {},
   "source": [
    "Проверьте, встречаются ли в данных повторяющиеся наблюдения, и в качестве ответа укажите их количество. Если они есть, то удалите их из retail."
   ]
  },
  {
   "cell_type": "code",
   "execution_count": null,
   "id": "b1ac4199",
   "metadata": {},
   "outputs": [],
   "source": [
    "duplicates = retail[retail.duplicated(keep=False)]"
   ]
  },
  {
   "cell_type": "code",
   "execution_count": null,
   "id": "31fe134f",
   "metadata": {},
   "outputs": [],
   "source": [
    "len(retail) - len(retail.drop_duplicates())"
   ]
  },
  {
   "cell_type": "code",
   "execution_count": null,
   "id": "4ff7cab1",
   "metadata": {},
   "outputs": [],
   "source": [
    "retail = retail.drop_duplicates()"
   ]
  },
  {
   "cell_type": "markdown",
   "id": "fa4c8f93",
   "metadata": {},
   "source": [
    "Данные содержат в себе записи как об успешных транзакциях, так и об отмененных. Если пользователь отменил заказ, в начале номера транзакции (InvoiceNo) ставится C (canceled). \n",
    "Сколько всего транзакций отменили пользователи? Считайте, что каждая строка - это отдельная транзакция."
   ]
  },
  {
   "cell_type": "code",
   "execution_count": null,
   "id": "0d07513e",
   "metadata": {},
   "outputs": [],
   "source": [
    "len(retail[retail['InvoiceNo'].str.startswith('C')])"
   ]
  },
  {
   "cell_type": "markdown",
   "id": "dc8dcd7f",
   "metadata": {},
   "source": [
    "Теперь отфильтруйте данные и оставьте в retail только те заказы, где Quantity > 0. В качестве ответа укажите число оставшихся строк"
   ]
  },
  {
   "cell_type": "code",
   "execution_count": null,
   "id": "886695c3",
   "metadata": {},
   "outputs": [],
   "source": [
    "retail = retail[retail.Quantity > 0]"
   ]
  },
  {
   "cell_type": "code",
   "execution_count": null,
   "id": "f58a505b",
   "metadata": {},
   "outputs": [],
   "source": [
    "retail.shape"
   ]
  },
  {
   "cell_type": "markdown",
   "id": "0814d052",
   "metadata": {},
   "source": [
    "Посчитайте число заказов для каждого пользователя (CustomerID) из Германии (Germany). Оставьте только тех, кто совершил более N транзакций (InvoiceNo), где N – 80% процентиль. Запишите полученные id пользователей в germany_top (не весь датафрейм, только id)."
   ]
  },
  {
   "cell_type": "code",
   "execution_count": null,
   "id": "391ce09a",
   "metadata": {},
   "outputs": [],
   "source": [
    "retail_germany = retail[retail.Country == 'Germany']\\\n",
    "    .groupby('CustomerID')\\\n",
    "    .agg({'InvoiceNo': 'nunique'})"
   ]
  },
  {
   "cell_type": "code",
   "execution_count": null,
   "id": "079c8029",
   "metadata": {},
   "outputs": [],
   "source": [
    "N = retail_germany.quantile(q=0.8)"
   ]
  },
  {
   "cell_type": "code",
   "execution_count": null,
   "id": "939cca08",
   "metadata": {},
   "outputs": [],
   "source": [
    "germany_top = retail_germany[retail_germany.InvoiceNo > N.InvoiceNo].index.tolist()"
   ]
  },
  {
   "cell_type": "code",
   "execution_count": null,
   "id": "57709260",
   "metadata": {},
   "outputs": [],
   "source": [
    "invoice_dist = retail[retail.Country == 'Germany']\\\n",
    "    .groupby('CustomerID', as_index=False)\\\n",
    "    .agg(total_invoices = ('InvoiceNo', 'nunique'))"
   ]
  },
  {
   "cell_type": "code",
   "execution_count": null,
   "id": "8126bb2d",
   "metadata": {},
   "outputs": [],
   "source": [
    "N = invoice_dist.total_invoices.quantile(q=0.8)"
   ]
  },
  {
   "cell_type": "code",
   "execution_count": null,
   "id": "418b094f",
   "metadata": {},
   "outputs": [],
   "source": [
    "germany_top = invoice_dist.loc[invoice_dist.total_invoices > N]['CustomerID']"
   ]
  },
  {
   "cell_type": "markdown",
   "id": "0be009f6",
   "metadata": {},
   "source": [
    "Используя объект с id пользователей (germany_top), полученный на предыдущем шаге, отфильтруйте наблюдения и оставьте в данных записи только по интересующим нас юзерам. Результирующий датафрейм запишите в top_retail_germany."
   ]
  },
  {
   "cell_type": "code",
   "execution_count": null,
   "id": "8cee45a1",
   "metadata": {},
   "outputs": [],
   "source": [
    "top_retail_germany = retail.loc[retail.CustomerID.isin(germany_top)]"
   ]
  },
  {
   "cell_type": "markdown",
   "id": "c050677e",
   "metadata": {},
   "source": [
    "Сгруппируйте top_retail_germany по коду товара (StockCode). Какой из продуктов добавляли в корзину чаще всего, кроме POST?   \n",
    "Note: одним заказом считается единовременная покупка любого количества товара, т.е. без учета Quantity."
   ]
  },
  {
   "cell_type": "code",
   "execution_count": null,
   "id": "55e31c51",
   "metadata": {},
   "outputs": [],
   "source": [
    "top_retail_germany.groupby('StockCode')\\\n",
    "    .size()\\\n",
    "    .value_counts()\\\n",
    "    .sort_values(ascending=False)"
   ]
  },
  {
   "cell_type": "markdown",
   "id": "5460d19a",
   "metadata": {},
   "source": [
    "Вернемся к анализу полного датасета retail. Создайте колонку Revenue с суммой покупки, используя колонки Quantity и UnitPrice."
   ]
  },
  {
   "cell_type": "code",
   "execution_count": null,
   "id": "083d18b4",
   "metadata": {},
   "outputs": [],
   "source": [
    "retail['Revenue'] = retail.Quantity * retail.UnitPrice"
   ]
  },
  {
   "cell_type": "markdown",
   "id": "8c4297de",
   "metadata": {},
   "source": [
    "Для каждой транзакции (InvoiceNo), посчитайте финальную сумму заказа. В качестве ответа укажите топ-5 (InvoiceNo) по сумме заказа (через запятую с пробелом и в порядке убывания TotalRevenue)"
   ]
  },
  {
   "cell_type": "code",
   "execution_count": null,
   "id": "ae9e28e7",
   "metadata": {},
   "outputs": [],
   "source": [
    "top_revenue = retail.groupby('InvoiceNO')\\\n",
    "    .agg(TotalRevenue = ('Revenue', 'sum'))\\\n",
    "    .sort_values()\\\n",
    "    .head()\\\n",
    "    .index"
   ]
  }
 ],
 "metadata": {
  "kernelspec": {
   "display_name": "Python 3",
   "language": "python",
   "name": "python3"
  },
  "language_info": {
   "codemirror_mode": {
    "name": "ipython",
    "version": 3
   },
   "file_extension": ".py",
   "mimetype": "text/x-python",
   "name": "python",
   "nbconvert_exporter": "python",
   "pygments_lexer": "ipython3",
   "version": "3.13.3"
  }
 },
 "nbformat": 4,
 "nbformat_minor": 5
}
