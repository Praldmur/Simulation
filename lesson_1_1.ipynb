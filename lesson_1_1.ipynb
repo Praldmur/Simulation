{
 "cells": [
  {
   "cell_type": "code",
   "execution_count": 3,
   "id": "a44c22f8",
   "metadata": {},
   "outputs": [],
   "source": [
    "age = 15\n",
    "name = 'Sevatar'"
   ]
  },
  {
   "cell_type": "code",
   "execution_count": 5,
   "id": "4476318f",
   "metadata": {},
   "outputs": [],
   "source": [
    "user_info = ['Sevatar', 'Sheng', 500000.50, 10]"
   ]
  },
  {
   "cell_type": "code",
   "execution_count": null,
   "id": "ff6ddb26",
   "metadata": {},
   "outputs": [],
   "source": [
    "salaries = [42, 100, 70, 80]"
   ]
  },
  {
   "cell_type": "code",
   "execution_count": 8,
   "id": "db1bc921",
   "metadata": {},
   "outputs": [],
   "source": [
    "first = salaries[0]"
   ]
  },
  {
   "cell_type": "code",
   "execution_count": 9,
   "id": "10efebb1",
   "metadata": {},
   "outputs": [],
   "source": [
    "users = ['Zhorikov, Zhirinovsky']"
   ]
  },
  {
   "cell_type": "code",
   "execution_count": null,
   "id": "94021565",
   "metadata": {},
   "outputs": [],
   "source": [
    "users.append('Voronov')\n",
    "users.append('42')"
   ]
  },
  {
   "cell_type": "code",
   "execution_count": null,
   "id": "a75097a1",
   "metadata": {},
   "outputs": [],
   "source": [
    "user_ages = [10, 18, 21, 35, 42, 27, 12, 16]\n",
    "for i in user_ages:\n",
    "    if i > 18:\n",
    "        print(i)"
   ]
  },
  {
   "cell_type": "code",
   "execution_count": null,
   "id": "621bd53d",
   "metadata": {},
   "outputs": [],
   "source": [
    "worker = user_info\n",
    "user_name, user_family = worker[:2]\n",
    "if worker[3] < 2:\n",
    "    position = 'junior'\n",
    "elif 2 < worker[3] <= 5:\n",
    "    position = 'middle'\n",
    "else:\n",
    "    position = 'senior'\n",
    "status = f'{user_name} {user_family} is {position}'"
   ]
  },
  {
   "cell_type": "code",
   "execution_count": null,
   "id": "4bf37795",
   "metadata": {},
   "outputs": [],
   "source": [
    "values = [12, 134, 10, 47, 100, 20, 50, 160, 210]\n",
    "tens = []\n",
    "for i in values:\n",
    "    if i % 10 == 0:\n",
    "        tens.append(i)"
   ]
  },
  {
   "cell_type": "code",
   "execution_count": null,
   "id": "97f897d4",
   "metadata": {},
   "outputs": [],
   "source": [
    "workers = [['Ivan', 'Ivanov', 100000, 2], ['Petr', 'Petrov', 150000, 2], ['Sidor', 'Sidorov', 200000, 3]]\n",
    "for e in workers:\n",
    "    user_name, user_family = e[:2]\n",
    "    if e[3] < 2:\n",
    "        position = 'junior'\n",
    "    elif 2 <= e[3] <= 5:\n",
    "        position = 'middle'\n",
    "    else:\n",
    "        position = 'senior'\n",
    "    print(f'{user_name} {user_family} is {position}')"
   ]
  },
  {
   "cell_type": "code",
   "execution_count": 4,
   "id": "53f992eb",
   "metadata": {},
   "outputs": [
    {
     "name": "stdout",
     "output_type": "stream",
     "text": [
      "[0, 2, 4, 6, 8, 10]\n"
     ]
    }
   ],
   "source": [
    "lst = []\n",
    "n = 0\n",
    "N = 10\n",
    "dn = 2\n",
    "while n <= N:\n",
    "    lst.append(n)\n",
    "    n += dn\n",
    "print(lst)"
   ]
  },
  {
   "cell_type": "code",
   "execution_count": null,
   "id": "ea3781f4",
   "metadata": {},
   "outputs": [],
   "source": [
    "salaries_dict = {'name': 'Masha', 'surname': 'Volkova', 'age': 25, 'salary': 60000, 'position': 'junior'}"
   ]
  },
  {
   "cell_type": "code",
   "execution_count": 5,
   "id": "798f5ed0",
   "metadata": {},
   "outputs": [],
   "source": [
    "users_dict = {\n",
    "    'mvolkova': {'name': 'Masha', 'surname': 'Volkova', 'age': 25, 'salary': 60000, 'position': 'junior'},\n",
    "    'pvoronov':\t{'name': 'Peter', 'surname': 'Voronov', 'age': 27, 'salary': 100000, 'position': 'junior'},\n",
    "    'pparker': {'name': 'Peter', 'surname': 'Parker', 'age': 35, 'salary': 150000, 'position': 'middle'},\n",
    "    'akarpov': {'name': 'Anatoly', 'surname': 'Karpov', 'age': 30, 'salary': 250000, 'position': 'senior'}\n",
    "}"
   ]
  }
 ],
 "metadata": {
  "kernelspec": {
   "display_name": "Python 3",
   "language": "python",
   "name": "python3"
  },
  "language_info": {
   "codemirror_mode": {
    "name": "ipython",
    "version": 3
   },
   "file_extension": ".py",
   "mimetype": "text/x-python",
   "name": "python",
   "nbconvert_exporter": "python",
   "pygments_lexer": "ipython3",
   "version": "3.11.9"
  }
 },
 "nbformat": 4,
 "nbformat_minor": 5
}
