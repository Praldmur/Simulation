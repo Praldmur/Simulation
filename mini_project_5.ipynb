{
 "cells": [
  {
   "cell_type": "code",
   "execution_count": 1,
   "id": "61a8484e",
   "metadata": {},
   "outputs": [],
   "source": [
    "import pandas as pd\n",
    "import os\n",
    "import numpy as np\n",
    "\n",
    "import seaborn as sns\n",
    "import matplotlib.pyplot as plt\n",
    "\n",
    "%matplotlib inline "
   ]
  },
  {
   "cell_type": "markdown",
   "id": "6e3689da",
   "metadata": {},
   "source": [
    "Загрузите датасет transaction_data.csv. Проверьте размер таблицы, типы переменных, число пропущенных значений и описательную статистику.  \n",
    "Вопрос: сколько в датасете пропущенных значений?"
   ]
  },
  {
   "cell_type": "code",
   "execution_count": null,
   "id": "d1b48c10",
   "metadata": {},
   "outputs": [],
   "source": [
    "data = pd.read_csv(r'F:\\!PR\\Simulation\\data\\5_transaction_data.csv', encoding='Windows-1251', sep=',')"
   ]
  },
  {
   "cell_type": "code",
   "execution_count": 2,
   "id": "525a7746",
   "metadata": {},
   "outputs": [],
   "source": [
    "data = pd.read_csv(r'C:\\Users\\PC\\Desktop\\Софт\\Simulation\\Simulation\\data\\5_transaction_data.csv', encoding='Windows-1251', sep=',')"
   ]
  },
  {
   "cell_type": "code",
   "execution_count": 3,
   "id": "c46667ef",
   "metadata": {},
   "outputs": [
    {
     "data": {
      "application/vnd.microsoft.datawrangler.viewer.v0+json": {
       "columns": [
        {
         "name": "index",
         "rawType": "int64",
         "type": "integer"
        },
        {
         "name": "date",
         "rawType": "object",
         "type": "string"
        },
        {
         "name": "name",
         "rawType": "object",
         "type": "string"
        },
        {
         "name": "transaction",
         "rawType": "object",
         "type": "string"
        }
       ],
       "ref": "88bdabdb-4747-4cc8-9c37-618c6b060983",
       "rows": [
        [
         "0",
         "2020-03-02 00:37:20",
         "Ekaterina_Petrova",
         "cancelled"
        ],
        [
         "1",
         "2020-03-02 00:59:09",
         "Irina_Fedorova",
         "successfull"
        ],
        [
         "2",
         "2020-03-02 01:06:14",
         "Ekaterina_Smirnova",
         "successfull"
        ],
        [
         "3",
         "2020-03-02 00:02:58",
         "Lolita_Polyanova",
         "cancelled"
        ],
        [
         "4",
         "2020-03-02 00:17:52",
         "Julia_Smirnova",
         "cancelled"
        ]
       ],
       "shape": {
        "columns": 3,
        "rows": 5
       }
      },
      "text/html": [
       "<div>\n",
       "<style scoped>\n",
       "    .dataframe tbody tr th:only-of-type {\n",
       "        vertical-align: middle;\n",
       "    }\n",
       "\n",
       "    .dataframe tbody tr th {\n",
       "        vertical-align: top;\n",
       "    }\n",
       "\n",
       "    .dataframe thead th {\n",
       "        text-align: right;\n",
       "    }\n",
       "</style>\n",
       "<table border=\"1\" class=\"dataframe\">\n",
       "  <thead>\n",
       "    <tr style=\"text-align: right;\">\n",
       "      <th></th>\n",
       "      <th>date</th>\n",
       "      <th>name</th>\n",
       "      <th>transaction</th>\n",
       "    </tr>\n",
       "  </thead>\n",
       "  <tbody>\n",
       "    <tr>\n",
       "      <th>0</th>\n",
       "      <td>2020-03-02 00:37:20</td>\n",
       "      <td>Ekaterina_Petrova</td>\n",
       "      <td>cancelled</td>\n",
       "    </tr>\n",
       "    <tr>\n",
       "      <th>1</th>\n",
       "      <td>2020-03-02 00:59:09</td>\n",
       "      <td>Irina_Fedorova</td>\n",
       "      <td>successfull</td>\n",
       "    </tr>\n",
       "    <tr>\n",
       "      <th>2</th>\n",
       "      <td>2020-03-02 01:06:14</td>\n",
       "      <td>Ekaterina_Smirnova</td>\n",
       "      <td>successfull</td>\n",
       "    </tr>\n",
       "    <tr>\n",
       "      <th>3</th>\n",
       "      <td>2020-03-02 00:02:58</td>\n",
       "      <td>Lolita_Polyanova</td>\n",
       "      <td>cancelled</td>\n",
       "    </tr>\n",
       "    <tr>\n",
       "      <th>4</th>\n",
       "      <td>2020-03-02 00:17:52</td>\n",
       "      <td>Julia_Smirnova</td>\n",
       "      <td>cancelled</td>\n",
       "    </tr>\n",
       "  </tbody>\n",
       "</table>\n",
       "</div>"
      ],
      "text/plain": [
       "                  date                name  transaction\n",
       "0  2020-03-02 00:37:20   Ekaterina_Petrova    cancelled\n",
       "1  2020-03-02 00:59:09      Irina_Fedorova  successfull\n",
       "2  2020-03-02 01:06:14  Ekaterina_Smirnova  successfull\n",
       "3  2020-03-02 00:02:58    Lolita_Polyanova    cancelled\n",
       "4  2020-03-02 00:17:52      Julia_Smirnova    cancelled"
      ]
     },
     "execution_count": 3,
     "metadata": {},
     "output_type": "execute_result"
    }
   ],
   "source": [
    "data.head()"
   ]
  },
  {
   "cell_type": "code",
   "execution_count": 4,
   "id": "cc0cde84",
   "metadata": {},
   "outputs": [
    {
     "name": "stdout",
     "output_type": "stream",
     "text": [
      "<class 'pandas.core.frame.DataFrame'>\n",
      "RangeIndex: 5315 entries, 0 to 5314\n",
      "Data columns (total 3 columns):\n",
      " #   Column       Non-Null Count  Dtype \n",
      "---  ------       --------------  ----- \n",
      " 0   date         5315 non-null   object\n",
      " 1   name         5315 non-null   object\n",
      " 2   transaction  5315 non-null   object\n",
      "dtypes: object(3)\n",
      "memory usage: 124.7+ KB\n"
     ]
    }
   ],
   "source": [
    "data.info()"
   ]
  },
  {
   "cell_type": "code",
   "execution_count": 5,
   "id": "734adab2",
   "metadata": {},
   "outputs": [
    {
     "data": {
      "application/vnd.microsoft.datawrangler.viewer.v0+json": {
       "columns": [
        {
         "name": "index",
         "rawType": "object",
         "type": "string"
        },
        {
         "name": "date",
         "rawType": "object",
         "type": "unknown"
        },
        {
         "name": "name",
         "rawType": "object",
         "type": "unknown"
        },
        {
         "name": "transaction",
         "rawType": "object",
         "type": "unknown"
        }
       ],
       "ref": "445bc23b-6ef7-4670-bd68-ced8c89892d7",
       "rows": [
        [
         "count",
         "5315",
         "5315",
         "5315"
        ],
        [
         "unique",
         "3373",
         "56",
         "3"
        ],
        [
         "top",
         "2020-03-02 00:33:10",
         "Masha_Ozerova",
         "successfull"
        ],
        [
         "freq",
         "6",
         "112",
         "3692"
        ]
       ],
       "shape": {
        "columns": 3,
        "rows": 4
       }
      },
      "text/html": [
       "<div>\n",
       "<style scoped>\n",
       "    .dataframe tbody tr th:only-of-type {\n",
       "        vertical-align: middle;\n",
       "    }\n",
       "\n",
       "    .dataframe tbody tr th {\n",
       "        vertical-align: top;\n",
       "    }\n",
       "\n",
       "    .dataframe thead th {\n",
       "        text-align: right;\n",
       "    }\n",
       "</style>\n",
       "<table border=\"1\" class=\"dataframe\">\n",
       "  <thead>\n",
       "    <tr style=\"text-align: right;\">\n",
       "      <th></th>\n",
       "      <th>date</th>\n",
       "      <th>name</th>\n",
       "      <th>transaction</th>\n",
       "    </tr>\n",
       "  </thead>\n",
       "  <tbody>\n",
       "    <tr>\n",
       "      <th>count</th>\n",
       "      <td>5315</td>\n",
       "      <td>5315</td>\n",
       "      <td>5315</td>\n",
       "    </tr>\n",
       "    <tr>\n",
       "      <th>unique</th>\n",
       "      <td>3373</td>\n",
       "      <td>56</td>\n",
       "      <td>3</td>\n",
       "    </tr>\n",
       "    <tr>\n",
       "      <th>top</th>\n",
       "      <td>2020-03-02 00:33:10</td>\n",
       "      <td>Masha_Ozerova</td>\n",
       "      <td>successfull</td>\n",
       "    </tr>\n",
       "    <tr>\n",
       "      <th>freq</th>\n",
       "      <td>6</td>\n",
       "      <td>112</td>\n",
       "      <td>3692</td>\n",
       "    </tr>\n",
       "  </tbody>\n",
       "</table>\n",
       "</div>"
      ],
      "text/plain": [
       "                       date           name  transaction\n",
       "count                  5315           5315         5315\n",
       "unique                 3373             56            3\n",
       "top     2020-03-02 00:33:10  Masha_Ozerova  successfull\n",
       "freq                      6            112         3692"
      ]
     },
     "execution_count": 5,
     "metadata": {},
     "output_type": "execute_result"
    }
   ],
   "source": [
    "data.describe(include='all')"
   ]
  },
  {
   "cell_type": "markdown",
   "id": "7fca846d",
   "metadata": {},
   "source": [
    "Проверьте, какие значения принимает колонка transaction . Сколько наблюдений относятся к тому или иному уровню? Визуализируйте результат с помощью барплота.  \n",
    "Вопрос: расположите уровни переменной в порядке убывания числа относящихся наблюдений (от большего к меньшему)"
   ]
  },
  {
   "cell_type": "code",
   "execution_count": 6,
   "id": "0c9a7a51",
   "metadata": {},
   "outputs": [],
   "source": [
    "tranc_vc = data.transaction.value_counts()"
   ]
  },
  {
   "cell_type": "code",
   "execution_count": null,
   "id": "1044c26b",
   "metadata": {},
   "outputs": [],
   "source": [
    "sns.barplot(x=tranc_vc.index, y=tranc_vc.values)"
   ]
  },
  {
   "cell_type": "code",
   "execution_count": 8,
   "id": "5975c224",
   "metadata": {},
   "outputs": [
    {
     "data": {
      "text/plain": [
       "[Text(0, 0, '3692'), Text(0, 0, '1619'), Text(0, 0, '4')]"
      ]
     },
     "execution_count": 8,
     "metadata": {},
     "output_type": "execute_result"
    },
    {
     "data": {
      "image/png": "[encoded data removed]",
      "text/plain": [
       "<Figure size 600x400 with 1 Axes>"
      ]
     },
     "metadata": {},
     "output_type": "display_data"
    }
   ],
   "source": [
    "fig, ax = plt.subplots(figsize=(6, 4))\n",
    "sns.barplot(x=tranc_vc.index, y=tranc_vc.values, ax=ax)\n",
    "ax.set_ylabel('Количество')\n",
    "ax.set_xlabel('Тип завершения')\n",
    "ax.set_title('Распределение по типам транзакций')\n",
    "ax.bar_label(ax.containers[0])\n"
   ]
  },
  {
   "cell_type": "markdown",
   "id": "053d670f",
   "metadata": {},
   "source": [
    "Сколько произошло ошибок?"
   ]
  },
  {
   "cell_type": "code",
   "execution_count": 10,
   "id": "1e77407c",
   "metadata": {},
   "outputs": [
    {
     "data": {
      "text/plain": [
       "np.int64(4)"
      ]
     },
     "execution_count": 10,
     "metadata": {},
     "output_type": "execute_result"
    }
   ],
   "source": [
    "tranc_vc['error']"
   ]
  },
  {
   "cell_type": "markdown",
   "id": "1e1d2dbd",
   "metadata": {},
   "source": [
    "Сколько транзакций осуществил каждый из пользователей? Осуществлёнными считаются транзакции со значением successfull  \n",
    "Посмотрите на характеристики распределения, а затем постройте гистограмму числа успешных транзакций, совершённых каждым пользователем, где  \n",
    "•\tпо оси x – число транзакций  \n",
    "•\tпо оси y – доля пользователей с таким числом транзакций  "
   ]
  },
  {
   "cell_type": "code",
   "execution_count": 19,
   "id": "eef34fa6",
   "metadata": {},
   "outputs": [],
   "source": [
    "success_per_user = data.loc[data.transaction == 'successfull'].groupby('name', as_index=False).size()"
   ]
  },
  {
   "cell_type": "code",
   "execution_count": 23,
   "id": "379e2cda",
   "metadata": {},
   "outputs": [
    {
     "data": {
      "text/plain": [
       "<seaborn.axisgrid.FacetGrid at 0x183dc033390>"
      ]
     },
     "execution_count": 23,
     "metadata": {},
     "output_type": "execute_result"
    },
    {
     "data": {
      "image/png": "[encoded data removed]",
      "text/plain": [
       "<Figure size 500x500 with 1 Axes>"
      ]
     },
     "metadata": {},
     "output_type": "display_data"
    }
   ],
   "source": [
    "sns.displot(success_per_user, x='size', bins=15)"
   ]
  },
  {
   "cell_type": "markdown",
   "id": "5014533c",
   "metadata": {},
   "source": [
    "К вам пришёл коллега с немного обновленными данными. Постройте сводную таблицу user_vs_minute_pivot, где:  \n",
    "•\tстолбцы – имена пользователей  \n",
    "•\tстроки – минута времени осуществления операции (minute)  \n",
    "•\tзначения – число совершённых операций  \n",
    "Пропущенные значения заполните нулями.  \n",
    "Note: фильтровать успешные транзакции не нужно - постройте табличку по всем"
   ]
  },
  {
   "cell_type": "code",
   "execution_count": 42,
   "id": "285b8b85",
   "metadata": {},
   "outputs": [],
   "source": [
    "df = pd.read_csv(r'C:\\Users\\PC\\Desktop\\Софт\\Simulation\\Simulation\\data\\5_transaction_data_updated.csv', parse_dates=['date'], encoding='Windows-1251', sep=',')"
   ]
  },
  {
   "cell_type": "code",
   "execution_count": 71,
   "id": "96ce41ca",
   "metadata": {},
   "outputs": [
    {
     "data": {
      "application/vnd.microsoft.datawrangler.viewer.v0+json": {
       "columns": [
        {
         "name": "index",
         "rawType": "int64",
         "type": "integer"
        },
        {
         "name": "date",
         "rawType": "datetime64[ns]",
         "type": "datetime"
        },
        {
         "name": "name",
         "rawType": "object",
         "type": "string"
        },
        {
         "name": "transaction",
         "rawType": "object",
         "type": "string"
        },
        {
         "name": "minute",
         "rawType": "int64",
         "type": "integer"
        },
        {
         "name": "true_minute",
         "rawType": "int32",
         "type": "integer"
        }
       ],
       "ref": "0131c6e5-e4c2-4948-9572-983a02874cce",
       "rows": [
        [
         "0",
         "2020-03-02 00:37:20",
         "Ekaterina_Petrova",
         "cancelled",
         "37",
         "37"
        ],
        [
         "1",
         "2020-03-02 00:59:09",
         "Irina_Fedorova",
         "successfull",
         "59",
         "59"
        ],
        [
         "2",
         "2020-03-02 01:06:14",
         "Ekaterina_Smirnova",
         "successfull",
         "6",
         "66"
        ],
        [
         "3",
         "2020-03-02 00:02:58",
         "Lolita_Polyanova",
         "cancelled",
         "2",
         "2"
        ],
        [
         "4",
         "2020-03-02 00:17:52",
         "Julia_Smirnova",
         "cancelled",
         "17",
         "17"
        ]
       ],
       "shape": {
        "columns": 5,
        "rows": 5
       }
      },
      "text/html": [
       "<div>\n",
       "<style scoped>\n",
       "    .dataframe tbody tr th:only-of-type {\n",
       "        vertical-align: middle;\n",
       "    }\n",
       "\n",
       "    .dataframe tbody tr th {\n",
       "        vertical-align: top;\n",
       "    }\n",
       "\n",
       "    .dataframe thead th {\n",
       "        text-align: right;\n",
       "    }\n",
       "</style>\n",
       "<table border=\"1\" class=\"dataframe\">\n",
       "  <thead>\n",
       "    <tr style=\"text-align: right;\">\n",
       "      <th></th>\n",
       "      <th>date</th>\n",
       "      <th>name</th>\n",
       "      <th>transaction</th>\n",
       "      <th>minute</th>\n",
       "      <th>true_minute</th>\n",
       "    </tr>\n",
       "  </thead>\n",
       "  <tbody>\n",
       "    <tr>\n",
       "      <th>0</th>\n",
       "      <td>2020-03-02 00:37:20</td>\n",
       "      <td>Ekaterina_Petrova</td>\n",
       "      <td>cancelled</td>\n",
       "      <td>37</td>\n",
       "      <td>37</td>\n",
       "    </tr>\n",
       "    <tr>\n",
       "      <th>1</th>\n",
       "      <td>2020-03-02 00:59:09</td>\n",
       "      <td>Irina_Fedorova</td>\n",
       "      <td>successfull</td>\n",
       "      <td>59</td>\n",
       "      <td>59</td>\n",
       "    </tr>\n",
       "    <tr>\n",
       "      <th>2</th>\n",
       "      <td>2020-03-02 01:06:14</td>\n",
       "      <td>Ekaterina_Smirnova</td>\n",
       "      <td>successfull</td>\n",
       "      <td>6</td>\n",
       "      <td>66</td>\n",
       "    </tr>\n",
       "    <tr>\n",
       "      <th>3</th>\n",
       "      <td>2020-03-02 00:02:58</td>\n",
       "      <td>Lolita_Polyanova</td>\n",
       "      <td>cancelled</td>\n",
       "      <td>2</td>\n",
       "      <td>2</td>\n",
       "    </tr>\n",
       "    <tr>\n",
       "      <th>4</th>\n",
       "      <td>2020-03-02 00:17:52</td>\n",
       "      <td>Julia_Smirnova</td>\n",
       "      <td>cancelled</td>\n",
       "      <td>17</td>\n",
       "      <td>17</td>\n",
       "    </tr>\n",
       "  </tbody>\n",
       "</table>\n",
       "</div>"
      ],
      "text/plain": [
       "                 date                name  transaction  minute  true_minute\n",
       "0 2020-03-02 00:37:20   Ekaterina_Petrova    cancelled      37           37\n",
       "1 2020-03-02 00:59:09      Irina_Fedorova  successfull      59           59\n",
       "2 2020-03-02 01:06:14  Ekaterina_Smirnova  successfull       6           66\n",
       "3 2020-03-02 00:02:58    Lolita_Polyanova    cancelled       2            2\n",
       "4 2020-03-02 00:17:52      Julia_Smirnova    cancelled      17           17"
      ]
     },
     "execution_count": 71,
     "metadata": {},
     "output_type": "execute_result"
    }
   ],
   "source": [
    "df.head()"
   ]
  },
  {
   "cell_type": "code",
   "execution_count": null,
   "id": "e53561c7",
   "metadata": {},
   "outputs": [],
   "source": [
    "df.info()"
   ]
  },
  {
   "cell_type": "code",
   "execution_count": null,
   "id": "e6e8b046",
   "metadata": {},
   "outputs": [],
   "source": [
    "df.describe(include='all')"
   ]
  },
  {
   "cell_type": "code",
   "execution_count": null,
   "id": "6115c31d",
   "metadata": {},
   "outputs": [],
   "source": [
    "df.groupby(['name', 'minute'], as_index=False)\\\n",
    "    .agg(transaction_count=('transaction', 'count'))\\\n",
    "    .pivot(index='minute', columns='name', values='transaction_count')\\\n",
    "    .fillna(0)"
   ]
  },
  {
   "cell_type": "code",
   "execution_count": null,
   "id": "7e2f8468",
   "metadata": {},
   "outputs": [],
   "source": [
    "df.groupby(['name', 'minute'], as_index=False)\\\n",
    "    .size()\\\n",
    "    .pivot(index='minute', columns='name', values='size')\\\n",
    "    .fillna(0)"
   ]
  },
  {
   "cell_type": "markdown",
   "id": "d7218d30",
   "metadata": {},
   "source": [
    "Исправьте ошибку коллеги (если она есть 😉), и посчитайте число минут, прошедших с начала дня. Результат сохраните в колонку true_minute. Постройте график, как в предыдущем шаге, и посмотрите, произошли ли изменения (график в код включать не нужно)."
   ]
  },
  {
   "cell_type": "code",
   "execution_count": 70,
   "id": "4ac3e823",
   "metadata": {},
   "outputs": [],
   "source": [
    "df['true_minute'] = df['date'].dt.hour * 60 + df['date'].dt.minute"
   ]
  },
  {
   "cell_type": "code",
   "execution_count": 74,
   "id": "0cf3028f",
   "metadata": {},
   "outputs": [],
   "source": [
    "tnwmd = df.groupby(['minute'], as_index=False)\\\n",
    "    .size()"
   ]
  },
  {
   "cell_type": "code",
   "execution_count": 75,
   "id": "b233b6c8",
   "metadata": {},
   "outputs": [
    {
     "data": {
      "image/png": "[encoded data removed]",
      "text/plain": [
       "<Figure size 1400x600 with 1 Axes>"
      ]
     },
     "metadata": {},
     "output_type": "display_data"
    }
   ],
   "source": [
    "plt.figure(figsize=(14, 6)) \n",
    "ax = sns.barplot(x='minute', y=\"size\", data=tnwmd.reset_index())"
   ]
  },
  {
   "cell_type": "code",
   "execution_count": 76,
   "id": "df01ee79",
   "metadata": {},
   "outputs": [],
   "source": [
    "tnwmd_2 = df.groupby(['true_minute'], as_index=False)\\\n",
    "    .size()"
   ]
  },
  {
   "cell_type": "code",
   "execution_count": 78,
   "id": "78dcbddc",
   "metadata": {},
   "outputs": [
    {
     "data": {
      "image/png": "[encoded data removed]",
      "text/plain": [
       "<Figure size 1400x600 with 1 Axes>"
      ]
     },
     "metadata": {},
     "output_type": "display_data"
    }
   ],
   "source": [
    "plt.figure(figsize=(14, 6)) \n",
    "ax = sns.barplot(x='true_minute', y=\"size\", data=tnwmd_2.reset_index())"
   ]
  },
  {
   "cell_type": "code",
   "execution_count": 81,
   "id": "fe7622c3",
   "metadata": {},
   "outputs": [
    {
     "data": {
      "text/plain": [
       "<seaborn.axisgrid.FacetGrid at 0x183e2466fd0>"
      ]
     },
     "execution_count": 81,
     "metadata": {},
     "output_type": "execute_result"
    },
    {
     "data": {
      "image/png": "[encoded data removed]",
      "text/plain": [
       "<Figure size 500x500 with 1 Axes>"
      ]
     },
     "metadata": {},
     "output_type": "display_data"
    }
   ],
   "source": [
    "sns.displot(df, x='true_minute', bins=15, kde=True)"
   ]
  }
 ],
 "metadata": {
  "kernelspec": {
   "display_name": "Python 3",
   "language": "python",
   "name": "python3"
  },
  "language_info": {
   "codemirror_mode": {
    "name": "ipython",
    "version": 3
   },
   "file_extension": ".py",
   "mimetype": "text/x-python",
   "name": "python",
   "nbconvert_exporter": "python",
   "pygments_lexer": "ipython3",
   "version": "3.11.9"
  }
 },
 "nbformat": 4,
 "nbformat_minor": 5
}
