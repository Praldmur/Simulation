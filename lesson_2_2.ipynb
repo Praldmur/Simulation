{
 "cells": [
  {
   "cell_type": "code",
   "execution_count": 2,
   "id": "f8753ec3",
   "metadata": {},
   "outputs": [],
   "source": [
    "import pandas as pd"
   ]
  },
  {
   "cell_type": "code",
   "execution_count": 3,
   "id": "137d470a",
   "metadata": {},
   "outputs": [],
   "source": [
    "path_to_file = r'F:\\!PR\\Simulation\\data\\2_taxi_nyc.csv'"
   ]
  },
  {
   "cell_type": "code",
   "execution_count": null,
   "id": "202df049",
   "metadata": {},
   "outputs": [],
   "source": [
    "path_to_file = r'C:\\Users\\PC\\Desktop\\Софт\\Simulation\\Simulation\\data\\2_taxi_nyc.csv'"
   ]
  },
  {
   "cell_type": "code",
   "execution_count": 4,
   "id": "c066a27a",
   "metadata": {},
   "outputs": [],
   "source": [
    "taxi = pd.read_csv(path_to_file, encoding='Windows-1251', sep=',')"
   ]
  },
  {
   "cell_type": "code",
   "execution_count": null,
   "id": "c9acd885",
   "metadata": {},
   "outputs": [],
   "source": [
    "taxi"
   ]
  },
  {
   "cell_type": "code",
   "execution_count": 6,
   "id": "88c0e1e3",
   "metadata": {},
   "outputs": [
    {
     "data": {
      "text/plain": [
       "(29101, 14)"
      ]
     },
     "execution_count": 6,
     "metadata": {},
     "output_type": "execute_result"
    }
   ],
   "source": [
    "taxi.shape"
   ]
  },
  {
   "cell_type": "code",
   "execution_count": 8,
   "id": "bd996f69",
   "metadata": {},
   "outputs": [
    {
     "name": "stdout",
     "output_type": "stream",
     "text": [
      "rows = 29101, cols = 14\n"
     ]
    }
   ],
   "source": [
    "rows, cols = taxi.shape\n",
    "print(f'{rows = }, {cols = }')"
   ]
  },
  {
   "cell_type": "code",
   "execution_count": null,
   "id": "c1cb74b6",
   "metadata": {},
   "outputs": [],
   "source": [
    "taxi.dtypes"
   ]
  },
  {
   "cell_type": "code",
   "execution_count": 39,
   "id": "1a14d225",
   "metadata": {},
   "outputs": [],
   "source": [
    "taxi = taxi.rename(columns={'pcp 01': 'pcp_01', 'pcp 06': 'pcp_06', 'pcp 24': 'pcp_24'})"
   ]
  },
  {
   "cell_type": "code",
   "execution_count": null,
   "id": "3bfda060",
   "metadata": {},
   "outputs": [],
   "source": [
    "taxi['borough'].value_counts()"
   ]
  },
  {
   "cell_type": "code",
   "execution_count": null,
   "id": "3936bf9a",
   "metadata": {},
   "outputs": [],
   "source": [
    "taxi.pickups.sum()"
   ]
  },
  {
   "cell_type": "code",
   "execution_count": null,
   "id": "4949b09e",
   "metadata": {},
   "outputs": [],
   "source": [
    "taxi.groupby('borough').agg({'pickups': 'sum'})"
   ]
  },
  {
   "cell_type": "code",
   "execution_count": null,
   "id": "5c19cf5c",
   "metadata": {},
   "outputs": [],
   "source": [
    "taxi.groupby('borough').pickups.sum().sort_values(ascending=False)"
   ]
  },
  {
   "cell_type": "code",
   "execution_count": 10,
   "id": "008d566f",
   "metadata": {},
   "outputs": [],
   "source": [
    "min_pickups = taxi.groupby('borough').pickups.sum().idxmin()"
   ]
  },
  {
   "cell_type": "code",
   "execution_count": null,
   "id": "da01a822",
   "metadata": {},
   "outputs": [],
   "source": [
    "taxi.groupby(['borough', 'hday']).pickups.mean()"
   ]
  },
  {
   "cell_type": "code",
   "execution_count": 12,
   "id": "2296da6e",
   "metadata": {},
   "outputs": [],
   "source": [
    "pickups_by_mon_bor = taxi.groupby(['pickup_month', 'borough'], as_index=False).agg({'pickups': 'sum'}).sort_values('pickups', ascending=False)"
   ]
  },
  {
   "cell_type": "code",
   "execution_count": null,
   "id": "84fa1057",
   "metadata": {},
   "outputs": [],
   "source": [
    "pickups_by_mon_bor"
   ]
  },
  {
   "cell_type": "code",
   "execution_count": null,
   "id": "ac2fb20d",
   "metadata": {},
   "outputs": [],
   "source": [
    "def temp_to_celcius(series):\n",
    "    return (series - 23) * 5 / 9"
   ]
  },
  {
   "cell_type": "code",
   "execution_count": null,
   "id": "6f049d56",
   "metadata": {},
   "outputs": [],
   "source": [
    "temp_to_celcius(taxi.temp)"
   ]
  },
  {
   "cell_type": "code",
   "execution_count": null,
   "id": "d3838c78",
   "metadata": {},
   "outputs": [],
   "source": [
    "taxi.temp"
   ]
  }
 ],
 "metadata": {
  "kernelspec": {
   "display_name": "Python 3",
   "language": "python",
   "name": "python3"
  },
  "language_info": {
   "codemirror_mode": {
    "name": "ipython",
    "version": 3
   },
   "file_extension": ".py",
   "mimetype": "text/x-python",
   "name": "python",
   "nbconvert_exporter": "python",
   "pygments_lexer": "ipython3",
   "version": "3.13.3"
  }
 },
 "nbformat": 4,
 "nbformat_minor": 5
}
