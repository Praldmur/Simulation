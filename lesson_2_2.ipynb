{
 "cells": [
  {
   "cell_type": "code",
   "execution_count": 1,
   "id": "f8753ec3",
   "metadata": {},
   "outputs": [],
   "source": [
    "import pandas as pd"
   ]
  },
  {
   "cell_type": "code",
   "execution_count": 2,
   "id": "137d470a",
   "metadata": {},
   "outputs": [],
   "source": [
    "path_to_file = r'F:\\!PR\\Simulation\\data\\2_taxi_nyc.csv'"
   ]
  },
  {
   "cell_type": "code",
   "execution_count": null,
   "id": "202df049",
   "metadata": {},
   "outputs": [],
   "source": [
    "path_to_file = r'C:\\Users\\PC\\Desktop\\Софт\\Simulation\\Simulation\\data\\2_taxi_nyc.csv'"
   ]
  },
  {
   "cell_type": "code",
   "execution_count": 3,
   "id": "c066a27a",
   "metadata": {},
   "outputs": [],
   "source": [
    "taxi = pd.read_csv(path_to_file, encoding='Windows-1251', sep=',')"
   ]
  },
  {
   "cell_type": "code",
   "execution_count": 13,
   "id": "c9acd885",
   "metadata": {},
   "outputs": [
    {
     "data": {
      "application/vnd.microsoft.datawrangler.viewer.v0+json": {
       "columns": [
        {
         "name": "index",
         "rawType": "int64",
         "type": "integer"
        },
        {
         "name": "pickup_dt",
         "rawType": "object",
         "type": "string"
        },
        {
         "name": "pickup_month",
         "rawType": "object",
         "type": "string"
        },
        {
         "name": "borough",
         "rawType": "object",
         "type": "unknown"
        },
        {
         "name": "pickups",
         "rawType": "int64",
         "type": "integer"
        },
        {
         "name": "hday",
         "rawType": "object",
         "type": "string"
        },
        {
         "name": "spd",
         "rawType": "float64",
         "type": "float"
        },
        {
         "name": "vsb",
         "rawType": "float64",
         "type": "float"
        },
        {
         "name": "temp",
         "rawType": "float64",
         "type": "float"
        },
        {
         "name": "dewp",
         "rawType": "float64",
         "type": "float"
        },
        {
         "name": "slp",
         "rawType": "float64",
         "type": "float"
        },
        {
         "name": "pcp_01",
         "rawType": "float64",
         "type": "float"
        },
        {
         "name": "pcp_06",
         "rawType": "float64",
         "type": "float"
        },
        {
         "name": "pcp_24",
         "rawType": "float64",
         "type": "float"
        },
        {
         "name": "sd",
         "rawType": "float64",
         "type": "float"
        }
       ],
       "ref": "d2ea9515-8eea-4ded-8705-af5192427b53",
       "rows": [
        [
         "0",
         "2015-01-01 01:00:00",
         "Jan",
         "Bronx",
         "152",
         "Y",
         "5.0",
         "10.0",
         "30.0",
         "7.0",
         "1023.5",
         "0.0",
         "0.0",
         "0.0",
         "0.0"
        ],
        [
         "1",
         "2015-01-01 01:00:00",
         "Jan",
         "Brooklyn",
         "1519",
         "Y",
         "5.0",
         "10.0",
         "30.0",
         "7.0",
         "1023.5",
         "0.0",
         "0.0",
         "0.0",
         "0.0"
        ],
        [
         "2",
         "2015-01-01 01:00:00",
         "Jan",
         "EWR",
         "0",
         "Y",
         "5.0",
         "10.0",
         "30.0",
         "7.0",
         "1023.5",
         "0.0",
         "0.0",
         "0.0",
         "0.0"
        ],
        [
         "3",
         "2015-01-01 01:00:00",
         "Jan",
         "Manhattan",
         "5258",
         "Y",
         "5.0",
         "10.0",
         "30.0",
         "7.0",
         "1023.5",
         "0.0",
         "0.0",
         "0.0",
         "0.0"
        ],
        [
         "4",
         "2015-01-01 01:00:00",
         "Jan",
         "Queens",
         "405",
         "Y",
         "5.0",
         "10.0",
         "30.0",
         "7.0",
         "1023.5",
         "0.0",
         "0.0",
         "0.0",
         "0.0"
        ],
        [
         "5",
         "2015-01-01 01:00:00",
         "Jan",
         "Staten Island",
         "6",
         "Y",
         "5.0",
         "10.0",
         "30.0",
         "7.0",
         "1023.5",
         "0.0",
         "0.0",
         "0.0",
         "0.0"
        ],
        [
         "6",
         "2015-01-01 01:00:00",
         "Jan",
         null,
         "4",
         "Y",
         "5.0",
         "10.0",
         "30.0",
         "7.0",
         "1023.5",
         "0.0",
         "0.0",
         "0.0",
         "0.0"
        ],
        [
         "7",
         "2015-01-01 02:00:00",
         "Jan",
         "Bronx",
         "120",
         "Y",
         "3.0",
         "10.0",
         "30.0",
         "6.0",
         "1023.0",
         "0.0",
         "0.0",
         "0.0",
         "0.0"
        ],
        [
         "8",
         "2015-01-01 02:00:00",
         "Jan",
         "Brooklyn",
         "1229",
         "Y",
         "3.0",
         "10.0",
         "30.0",
         "6.0",
         "1023.0",
         "0.0",
         "0.0",
         "0.0",
         "0.0"
        ],
        [
         "9",
         "2015-01-01 02:00:00",
         "Jan",
         "EWR",
         "0",
         "Y",
         "3.0",
         "10.0",
         "30.0",
         "6.0",
         "1023.0",
         "0.0",
         "0.0",
         "0.0",
         "0.0"
        ],
        [
         "10",
         "2015-01-01 02:00:00",
         "Jan",
         "Manhattan",
         "4345",
         "Y",
         "3.0",
         "10.0",
         "30.0",
         "6.0",
         "1023.0",
         "0.0",
         "0.0",
         "0.0",
         "0.0"
        ],
        [
         "11",
         "2015-01-01 02:00:00",
         "Jan",
         "Queens",
         "331",
         "Y",
         "3.0",
         "10.0",
         "30.0",
         "6.0",
         "1023.0",
         "0.0",
         "0.0",
         "0.0",
         "0.0"
        ],
        [
         "12",
         "2015-01-01 02:00:00",
         "Jan",
         "Staten Island",
         "7",
         "Y",
         "3.0",
         "10.0",
         "30.0",
         "6.0",
         "1023.0",
         "0.0",
         "0.0",
         "0.0",
         "0.0"
        ],
        [
         "13",
         "2015-01-01 02:00:00",
         "Jan",
         null,
         "11",
         "Y",
         "3.0",
         "10.0",
         "30.0",
         "6.0",
         "1023.0",
         "0.0",
         "0.0",
         "0.0",
         "0.0"
        ],
        [
         "14",
         "2015-01-01 03:00:00",
         "Jan",
         "Bronx",
         "132",
         "Y",
         "5.0",
         "10.0",
         "30.0",
         "8.0",
         "1022.3",
         "0.0",
         "0.0",
         "0.0",
         "0.0"
        ],
        [
         "15",
         "2015-01-01 03:00:00",
         "Jan",
         "Brooklyn",
         "1601",
         "Y",
         "5.0",
         "10.0",
         "30.0",
         "8.0",
         "1022.3",
         "0.0",
         "0.0",
         "0.0",
         "0.0"
        ],
        [
         "16",
         "2015-01-01 03:00:00",
         "Jan",
         "EWR",
         "0",
         "Y",
         "5.0",
         "10.0",
         "30.0",
         "8.0",
         "1022.3",
         "0.0",
         "0.0",
         "0.0",
         "0.0"
        ],
        [
         "17",
         "2015-01-01 03:00:00",
         "Jan",
         "Manhattan",
         "4577",
         "Y",
         "5.0",
         "10.0",
         "30.0",
         "8.0",
         "1022.3",
         "0.0",
         "0.0",
         "0.0",
         "0.0"
        ],
        [
         "18",
         "2015-01-01 03:00:00",
         "Jan",
         "Queens",
         "440",
         "Y",
         "5.0",
         "10.0",
         "30.0",
         "8.0",
         "1022.3",
         "0.0",
         "0.0",
         "0.0",
         "0.0"
        ],
        [
         "19",
         "2015-01-01 03:00:00",
         "Jan",
         "Staten Island",
         "12",
         "Y",
         "5.0",
         "10.0",
         "30.0",
         "8.0",
         "1022.3",
         "0.0",
         "0.0",
         "0.0",
         "0.0"
        ],
        [
         "20",
         "2015-01-01 03:00:00",
         "Jan",
         null,
         "1",
         "Y",
         "5.0",
         "10.0",
         "30.0",
         "8.0",
         "1022.3",
         "0.0",
         "0.0",
         "0.0",
         "0.0"
        ],
        [
         "21",
         "2015-01-01 04:00:00",
         "Jan",
         "Bronx",
         "128",
         "Y",
         "5.0",
         "10.0",
         "29.0",
         "9.0",
         "1022.0",
         "0.0",
         "0.0",
         "0.0",
         "0.0"
        ],
        [
         "22",
         "2015-01-01 04:00:00",
         "Jan",
         "Brooklyn",
         "1390",
         "Y",
         "5.0",
         "10.0",
         "29.0",
         "9.0",
         "1022.0",
         "0.0",
         "0.0",
         "0.0",
         "0.0"
        ],
        [
         "23",
         "2015-01-01 04:00:00",
         "Jan",
         "EWR",
         "0",
         "Y",
         "5.0",
         "10.0",
         "29.0",
         "9.0",
         "1022.0",
         "0.0",
         "0.0",
         "0.0",
         "0.0"
        ],
        [
         "24",
         "2015-01-01 04:00:00",
         "Jan",
         "Manhattan",
         "3003",
         "Y",
         "5.0",
         "10.0",
         "29.0",
         "9.0",
         "1022.0",
         "0.0",
         "0.0",
         "0.0",
         "0.0"
        ],
        [
         "25",
         "2015-01-01 04:00:00",
         "Jan",
         "Queens",
         "344",
         "Y",
         "5.0",
         "10.0",
         "29.0",
         "9.0",
         "1022.0",
         "0.0",
         "0.0",
         "0.0",
         "0.0"
        ],
        [
         "26",
         "2015-01-01 04:00:00",
         "Jan",
         "Staten Island",
         "5",
         "Y",
         "5.0",
         "10.0",
         "29.0",
         "9.0",
         "1022.0",
         "0.0",
         "0.0",
         "0.0",
         "0.0"
        ],
        [
         "27",
         "2015-01-01 04:00:00",
         "Jan",
         null,
         "2",
         "Y",
         "5.0",
         "10.0",
         "29.0",
         "9.0",
         "1022.0",
         "0.0",
         "0.0",
         "0.0",
         "0.0"
        ],
        [
         "28",
         "2015-01-01 05:00:00",
         "Jan",
         "Bronx",
         "87",
         "Y",
         "5.0",
         "10.0",
         "28.0",
         "9.0",
         "1021.8",
         "0.0",
         "0.0",
         "0.0",
         "0.0"
        ],
        [
         "29",
         "2015-01-01 05:00:00",
         "Jan",
         "Brooklyn",
         "759",
         "Y",
         "5.0",
         "10.0",
         "28.0",
         "9.0",
         "1021.8",
         "0.0",
         "0.0",
         "0.0",
         "0.0"
        ],
        [
         "30",
         "2015-01-01 05:00:00",
         "Jan",
         "EWR",
         "0",
         "Y",
         "5.0",
         "10.0",
         "28.0",
         "9.0",
         "1021.8",
         "0.0",
         "0.0",
         "0.0",
         "0.0"
        ],
        [
         "31",
         "2015-01-01 05:00:00",
         "Jan",
         "Manhattan",
         "1313",
         "Y",
         "5.0",
         "10.0",
         "28.0",
         "9.0",
         "1021.8",
         "0.0",
         "0.0",
         "0.0",
         "0.0"
        ],
        [
         "32",
         "2015-01-01 05:00:00",
         "Jan",
         "Queens",
         "241",
         "Y",
         "5.0",
         "10.0",
         "28.0",
         "9.0",
         "1021.8",
         "0.0",
         "0.0",
         "0.0",
         "0.0"
        ],
        [
         "33",
         "2015-01-01 05:00:00",
         "Jan",
         "Staten Island",
         "3",
         "Y",
         "5.0",
         "10.0",
         "28.0",
         "9.0",
         "1021.8",
         "0.0",
         "0.0",
         "0.0",
         "0.0"
        ],
        [
         "34",
         "2015-01-01 05:00:00",
         "Jan",
         null,
         "3",
         "Y",
         "5.0",
         "10.0",
         "28.0",
         "9.0",
         "1021.8",
         "0.0",
         "0.0",
         "0.0",
         "0.0"
        ],
        [
         "35",
         "2015-01-01 06:00:00",
         "Jan",
         "Bronx",
         "65",
         "Y",
         "10.0",
         "10.0",
         "28.0",
         "8.0",
         "1020.7",
         "0.0",
         "0.0",
         "0.0",
         "0.0"
        ],
        [
         "36",
         "2015-01-01 06:00:00",
         "Jan",
         "Brooklyn",
         "457",
         "Y",
         "10.0",
         "10.0",
         "28.0",
         "8.0",
         "1020.7",
         "0.0",
         "0.0",
         "0.0",
         "0.0"
        ],
        [
         "37",
         "2015-01-01 06:00:00",
         "Jan",
         "EWR",
         "0",
         "Y",
         "10.0",
         "10.0",
         "28.0",
         "8.0",
         "1020.7",
         "0.0",
         "0.0",
         "0.0",
         "0.0"
        ],
        [
         "38",
         "2015-01-01 06:00:00",
         "Jan",
         "Manhattan",
         "672",
         "Y",
         "10.0",
         "10.0",
         "28.0",
         "8.0",
         "1020.7",
         "0.0",
         "0.0",
         "0.0",
         "0.0"
        ],
        [
         "39",
         "2015-01-01 06:00:00",
         "Jan",
         "Queens",
         "148",
         "Y",
         "10.0",
         "10.0",
         "28.0",
         "8.0",
         "1020.7",
         "0.0",
         "0.0",
         "0.0",
         "0.0"
        ],
        [
         "40",
         "2015-01-01 06:00:00",
         "Jan",
         "Staten Island",
         "0",
         "Y",
         "10.0",
         "10.0",
         "28.0",
         "8.0",
         "1020.7",
         "0.0",
         "0.0",
         "0.0",
         "0.0"
        ],
        [
         "41",
         "2015-01-01 07:00:00",
         "Jan",
         "Bronx",
         "25",
         "Y",
         "9.0",
         "10.0",
         "28.0",
         "10.0",
         "1020.5",
         "0.0",
         "0.0",
         "0.0",
         "0.0"
        ],
        [
         "42",
         "2015-01-01 07:00:00",
         "Jan",
         "Brooklyn",
         "270",
         "Y",
         "9.0",
         "10.0",
         "28.0",
         "10.0",
         "1020.5",
         "0.0",
         "0.0",
         "0.0",
         "0.0"
        ],
        [
         "43",
         "2015-01-01 07:00:00",
         "Jan",
         "EWR",
         "0",
         "Y",
         "9.0",
         "10.0",
         "28.0",
         "10.0",
         "1020.5",
         "0.0",
         "0.0",
         "0.0",
         "0.0"
        ],
        [
         "44",
         "2015-01-01 07:00:00",
         "Jan",
         "Manhattan",
         "431",
         "Y",
         "9.0",
         "10.0",
         "28.0",
         "10.0",
         "1020.5",
         "0.0",
         "0.0",
         "0.0",
         "0.0"
        ],
        [
         "45",
         "2015-01-01 07:00:00",
         "Jan",
         "Queens",
         "95",
         "Y",
         "9.0",
         "10.0",
         "28.0",
         "10.0",
         "1020.5",
         "0.0",
         "0.0",
         "0.0",
         "0.0"
        ],
        [
         "46",
         "2015-01-01 07:00:00",
         "Jan",
         "Staten Island",
         "0",
         "Y",
         "9.0",
         "10.0",
         "28.0",
         "10.0",
         "1020.5",
         "0.0",
         "0.0",
         "0.0",
         "0.0"
        ],
        [
         "47",
         "2015-01-01 08:00:00",
         "Jan",
         "Bronx",
         "17",
         "Y",
         "7.0",
         "10.0",
         "27.0",
         "9.0",
         "1020.5",
         "0.0",
         "0.0",
         "0.0",
         "0.0"
        ],
        [
         "48",
         "2015-01-01 08:00:00",
         "Jan",
         "Brooklyn",
         "165",
         "Y",
         "7.0",
         "10.0",
         "27.0",
         "9.0",
         "1020.5",
         "0.0",
         "0.0",
         "0.0",
         "0.0"
        ],
        [
         "49",
         "2015-01-01 08:00:00",
         "Jan",
         "EWR",
         "0",
         "Y",
         "7.0",
         "10.0",
         "27.0",
         "9.0",
         "1020.5",
         "0.0",
         "0.0",
         "0.0",
         "0.0"
        ]
       ],
       "shape": {
        "columns": 14,
        "rows": 29101
       }
      },
      "text/html": [
       "<div>\n",
       "<style scoped>\n",
       "    .dataframe tbody tr th:only-of-type {\n",
       "        vertical-align: middle;\n",
       "    }\n",
       "\n",
       "    .dataframe tbody tr th {\n",
       "        vertical-align: top;\n",
       "    }\n",
       "\n",
       "    .dataframe thead th {\n",
       "        text-align: right;\n",
       "    }\n",
       "</style>\n",
       "<table border=\"1\" class=\"dataframe\">\n",
       "  <thead>\n",
       "    <tr style=\"text-align: right;\">\n",
       "      <th></th>\n",
       "      <th>pickup_dt</th>\n",
       "      <th>pickup_month</th>\n",
       "      <th>borough</th>\n",
       "      <th>pickups</th>\n",
       "      <th>hday</th>\n",
       "      <th>spd</th>\n",
       "      <th>vsb</th>\n",
       "      <th>temp</th>\n",
       "      <th>dewp</th>\n",
       "      <th>slp</th>\n",
       "      <th>pcp_01</th>\n",
       "      <th>pcp_06</th>\n",
       "      <th>pcp_24</th>\n",
       "      <th>sd</th>\n",
       "    </tr>\n",
       "  </thead>\n",
       "  <tbody>\n",
       "    <tr>\n",
       "      <th>0</th>\n",
       "      <td>2015-01-01 01:00:00</td>\n",
       "      <td>Jan</td>\n",
       "      <td>Bronx</td>\n",
       "      <td>152</td>\n",
       "      <td>Y</td>\n",
       "      <td>5.0</td>\n",
       "      <td>10.0</td>\n",
       "      <td>30.0</td>\n",
       "      <td>7.0</td>\n",
       "      <td>1023.5</td>\n",
       "      <td>0.0</td>\n",
       "      <td>0.0</td>\n",
       "      <td>0.0</td>\n",
       "      <td>0.0</td>\n",
       "    </tr>\n",
       "    <tr>\n",
       "      <th>1</th>\n",
       "      <td>2015-01-01 01:00:00</td>\n",
       "      <td>Jan</td>\n",
       "      <td>Brooklyn</td>\n",
       "      <td>1519</td>\n",
       "      <td>Y</td>\n",
       "      <td>5.0</td>\n",
       "      <td>10.0</td>\n",
       "      <td>30.0</td>\n",
       "      <td>7.0</td>\n",
       "      <td>1023.5</td>\n",
       "      <td>0.0</td>\n",
       "      <td>0.0</td>\n",
       "      <td>0.0</td>\n",
       "      <td>0.0</td>\n",
       "    </tr>\n",
       "    <tr>\n",
       "      <th>2</th>\n",
       "      <td>2015-01-01 01:00:00</td>\n",
       "      <td>Jan</td>\n",
       "      <td>EWR</td>\n",
       "      <td>0</td>\n",
       "      <td>Y</td>\n",
       "      <td>5.0</td>\n",
       "      <td>10.0</td>\n",
       "      <td>30.0</td>\n",
       "      <td>7.0</td>\n",
       "      <td>1023.5</td>\n",
       "      <td>0.0</td>\n",
       "      <td>0.0</td>\n",
       "      <td>0.0</td>\n",
       "      <td>0.0</td>\n",
       "    </tr>\n",
       "    <tr>\n",
       "      <th>3</th>\n",
       "      <td>2015-01-01 01:00:00</td>\n",
       "      <td>Jan</td>\n",
       "      <td>Manhattan</td>\n",
       "      <td>5258</td>\n",
       "      <td>Y</td>\n",
       "      <td>5.0</td>\n",
       "      <td>10.0</td>\n",
       "      <td>30.0</td>\n",
       "      <td>7.0</td>\n",
       "      <td>1023.5</td>\n",
       "      <td>0.0</td>\n",
       "      <td>0.0</td>\n",
       "      <td>0.0</td>\n",
       "      <td>0.0</td>\n",
       "    </tr>\n",
       "    <tr>\n",
       "      <th>4</th>\n",
       "      <td>2015-01-01 01:00:00</td>\n",
       "      <td>Jan</td>\n",
       "      <td>Queens</td>\n",
       "      <td>405</td>\n",
       "      <td>Y</td>\n",
       "      <td>5.0</td>\n",
       "      <td>10.0</td>\n",
       "      <td>30.0</td>\n",
       "      <td>7.0</td>\n",
       "      <td>1023.5</td>\n",
       "      <td>0.0</td>\n",
       "      <td>0.0</td>\n",
       "      <td>0.0</td>\n",
       "      <td>0.0</td>\n",
       "    </tr>\n",
       "    <tr>\n",
       "      <th>...</th>\n",
       "      <td>...</td>\n",
       "      <td>...</td>\n",
       "      <td>...</td>\n",
       "      <td>...</td>\n",
       "      <td>...</td>\n",
       "      <td>...</td>\n",
       "      <td>...</td>\n",
       "      <td>...</td>\n",
       "      <td>...</td>\n",
       "      <td>...</td>\n",
       "      <td>...</td>\n",
       "      <td>...</td>\n",
       "      <td>...</td>\n",
       "      <td>...</td>\n",
       "    </tr>\n",
       "    <tr>\n",
       "      <th>29096</th>\n",
       "      <td>2015-06-30 23:00:00</td>\n",
       "      <td>Jun</td>\n",
       "      <td>EWR</td>\n",
       "      <td>0</td>\n",
       "      <td>N</td>\n",
       "      <td>7.0</td>\n",
       "      <td>10.0</td>\n",
       "      <td>75.0</td>\n",
       "      <td>65.0</td>\n",
       "      <td>1011.8</td>\n",
       "      <td>0.0</td>\n",
       "      <td>0.0</td>\n",
       "      <td>0.0</td>\n",
       "      <td>0.0</td>\n",
       "    </tr>\n",
       "    <tr>\n",
       "      <th>29097</th>\n",
       "      <td>2015-06-30 23:00:00</td>\n",
       "      <td>Jun</td>\n",
       "      <td>Manhattan</td>\n",
       "      <td>3828</td>\n",
       "      <td>N</td>\n",
       "      <td>7.0</td>\n",
       "      <td>10.0</td>\n",
       "      <td>75.0</td>\n",
       "      <td>65.0</td>\n",
       "      <td>1011.8</td>\n",
       "      <td>0.0</td>\n",
       "      <td>0.0</td>\n",
       "      <td>0.0</td>\n",
       "      <td>0.0</td>\n",
       "    </tr>\n",
       "    <tr>\n",
       "      <th>29098</th>\n",
       "      <td>2015-06-30 23:00:00</td>\n",
       "      <td>Jun</td>\n",
       "      <td>Queens</td>\n",
       "      <td>580</td>\n",
       "      <td>N</td>\n",
       "      <td>7.0</td>\n",
       "      <td>10.0</td>\n",
       "      <td>75.0</td>\n",
       "      <td>65.0</td>\n",
       "      <td>1011.8</td>\n",
       "      <td>0.0</td>\n",
       "      <td>0.0</td>\n",
       "      <td>0.0</td>\n",
       "      <td>0.0</td>\n",
       "    </tr>\n",
       "    <tr>\n",
       "      <th>29099</th>\n",
       "      <td>2015-06-30 23:00:00</td>\n",
       "      <td>Jun</td>\n",
       "      <td>Staten Island</td>\n",
       "      <td>0</td>\n",
       "      <td>N</td>\n",
       "      <td>7.0</td>\n",
       "      <td>10.0</td>\n",
       "      <td>75.0</td>\n",
       "      <td>65.0</td>\n",
       "      <td>1011.8</td>\n",
       "      <td>0.0</td>\n",
       "      <td>0.0</td>\n",
       "      <td>0.0</td>\n",
       "      <td>0.0</td>\n",
       "    </tr>\n",
       "    <tr>\n",
       "      <th>29100</th>\n",
       "      <td>2015-06-30 23:00:00</td>\n",
       "      <td>Jun</td>\n",
       "      <td>NaN</td>\n",
       "      <td>3</td>\n",
       "      <td>N</td>\n",
       "      <td>7.0</td>\n",
       "      <td>10.0</td>\n",
       "      <td>75.0</td>\n",
       "      <td>65.0</td>\n",
       "      <td>1011.8</td>\n",
       "      <td>0.0</td>\n",
       "      <td>0.0</td>\n",
       "      <td>0.0</td>\n",
       "      <td>0.0</td>\n",
       "    </tr>\n",
       "  </tbody>\n",
       "</table>\n",
       "<p>29101 rows × 14 columns</p>\n",
       "</div>"
      ],
      "text/plain": [
       "                 pickup_dt pickup_month        borough  pickups hday  spd  \\\n",
       "0      2015-01-01 01:00:00          Jan          Bronx      152    Y  5.0   \n",
       "1      2015-01-01 01:00:00          Jan       Brooklyn     1519    Y  5.0   \n",
       "2      2015-01-01 01:00:00          Jan            EWR        0    Y  5.0   \n",
       "3      2015-01-01 01:00:00          Jan      Manhattan     5258    Y  5.0   \n",
       "4      2015-01-01 01:00:00          Jan         Queens      405    Y  5.0   \n",
       "...                    ...          ...            ...      ...  ...  ...   \n",
       "29096  2015-06-30 23:00:00          Jun            EWR        0    N  7.0   \n",
       "29097  2015-06-30 23:00:00          Jun      Manhattan     3828    N  7.0   \n",
       "29098  2015-06-30 23:00:00          Jun         Queens      580    N  7.0   \n",
       "29099  2015-06-30 23:00:00          Jun  Staten Island        0    N  7.0   \n",
       "29100  2015-06-30 23:00:00          Jun            NaN        3    N  7.0   \n",
       "\n",
       "        vsb  temp  dewp     slp  pcp_01  pcp_06  pcp_24   sd  \n",
       "0      10.0  30.0   7.0  1023.5     0.0     0.0     0.0  0.0  \n",
       "1      10.0  30.0   7.0  1023.5     0.0     0.0     0.0  0.0  \n",
       "2      10.0  30.0   7.0  1023.5     0.0     0.0     0.0  0.0  \n",
       "3      10.0  30.0   7.0  1023.5     0.0     0.0     0.0  0.0  \n",
       "4      10.0  30.0   7.0  1023.5     0.0     0.0     0.0  0.0  \n",
       "...     ...   ...   ...     ...     ...     ...     ...  ...  \n",
       "29096  10.0  75.0  65.0  1011.8     0.0     0.0     0.0  0.0  \n",
       "29097  10.0  75.0  65.0  1011.8     0.0     0.0     0.0  0.0  \n",
       "29098  10.0  75.0  65.0  1011.8     0.0     0.0     0.0  0.0  \n",
       "29099  10.0  75.0  65.0  1011.8     0.0     0.0     0.0  0.0  \n",
       "29100  10.0  75.0  65.0  1011.8     0.0     0.0     0.0  0.0  \n",
       "\n",
       "[29101 rows x 14 columns]"
      ]
     },
     "execution_count": 13,
     "metadata": {},
     "output_type": "execute_result"
    }
   ],
   "source": [
    "taxi"
   ]
  },
  {
   "cell_type": "code",
   "execution_count": 8,
   "id": "88c0e1e3",
   "metadata": {},
   "outputs": [
    {
     "data": {
      "text/plain": [
       "(29101, 14)"
      ]
     },
     "execution_count": 8,
     "metadata": {},
     "output_type": "execute_result"
    }
   ],
   "source": [
    "taxi.shape"
   ]
  },
  {
   "cell_type": "code",
   "execution_count": 9,
   "id": "bd996f69",
   "metadata": {},
   "outputs": [
    {
     "name": "stdout",
     "output_type": "stream",
     "text": [
      "rows = 29101, cols = 14\n"
     ]
    }
   ],
   "source": [
    "rows, cols = taxi.shape\n",
    "print(f'{rows = }, {cols = }')"
   ]
  },
  {
   "cell_type": "code",
   "execution_count": 10,
   "id": "c1cb74b6",
   "metadata": {},
   "outputs": [
    {
     "data": {
      "application/vnd.microsoft.datawrangler.viewer.v0+json": {
       "columns": [
        {
         "name": "index",
         "rawType": "object",
         "type": "string"
        },
        {
         "name": "0",
         "rawType": "object",
         "type": "unknown"
        }
       ],
       "ref": "18dd0bb1-fd39-4376-820e-62d7da4d65e5",
       "rows": [
        [
         "pickup_dt",
         "object"
        ],
        [
         "pickup_month",
         "object"
        ],
        [
         "borough",
         "object"
        ],
        [
         "pickups",
         "int64"
        ],
        [
         "hday",
         "object"
        ],
        [
         "spd",
         "float64"
        ],
        [
         "vsb",
         "float64"
        ],
        [
         "temp",
         "float64"
        ],
        [
         "dewp",
         "float64"
        ],
        [
         "slp",
         "float64"
        ],
        [
         "pcp 01",
         "float64"
        ],
        [
         "pcp 06",
         "float64"
        ],
        [
         "pcp 24",
         "float64"
        ],
        [
         "sd",
         "float64"
        ]
       ],
       "shape": {
        "columns": 1,
        "rows": 14
       }
      },
      "text/plain": [
       "pickup_dt        object\n",
       "pickup_month     object\n",
       "borough          object\n",
       "pickups           int64\n",
       "hday             object\n",
       "spd             float64\n",
       "vsb             float64\n",
       "temp            float64\n",
       "dewp            float64\n",
       "slp             float64\n",
       "pcp 01          float64\n",
       "pcp 06          float64\n",
       "pcp 24          float64\n",
       "sd              float64\n",
       "dtype: object"
      ]
     },
     "execution_count": 10,
     "metadata": {},
     "output_type": "execute_result"
    }
   ],
   "source": [
    "taxi.dtypes"
   ]
  },
  {
   "cell_type": "code",
   "execution_count": 11,
   "id": "1a14d225",
   "metadata": {},
   "outputs": [],
   "source": [
    "taxi = taxi.rename(columns={'pcp 01': 'pcp_01', 'pcp 06': 'pcp_06', 'pcp 24': 'pcp_24'})"
   ]
  },
  {
   "cell_type": "code",
   "execution_count": 12,
   "id": "3bfda060",
   "metadata": {},
   "outputs": [
    {
     "data": {
      "application/vnd.microsoft.datawrangler.viewer.v0+json": {
       "columns": [
        {
         "name": "borough",
         "rawType": "object",
         "type": "string"
        },
        {
         "name": "count",
         "rawType": "int64",
         "type": "integer"
        }
       ],
       "ref": "c772c01f-a9c2-46f4-8dae-9dcb41b8a9ea",
       "rows": [
        [
         "Bronx",
         "4343"
        ],
        [
         "Brooklyn",
         "4343"
        ],
        [
         "EWR",
         "4343"
        ],
        [
         "Manhattan",
         "4343"
        ],
        [
         "Queens",
         "4343"
        ],
        [
         "Staten Island",
         "4343"
        ]
       ],
       "shape": {
        "columns": 1,
        "rows": 6
       }
      },
      "text/plain": [
       "borough\n",
       "Bronx            4343\n",
       "Brooklyn         4343\n",
       "EWR              4343\n",
       "Manhattan        4343\n",
       "Queens           4343\n",
       "Staten Island    4343\n",
       "Name: count, dtype: int64"
      ]
     },
     "execution_count": 12,
     "metadata": {},
     "output_type": "execute_result"
    }
   ],
   "source": [
    "taxi['borough'].value_counts()"
   ]
  },
  {
   "cell_type": "code",
   "execution_count": 14,
   "id": "3936bf9a",
   "metadata": {},
   "outputs": [
    {
     "data": {
      "text/plain": [
       "np.int64(14265773)"
      ]
     },
     "execution_count": 14,
     "metadata": {},
     "output_type": "execute_result"
    }
   ],
   "source": [
    "taxi.pickups.sum()"
   ]
  },
  {
   "cell_type": "code",
   "execution_count": 15,
   "id": "4949b09e",
   "metadata": {},
   "outputs": [
    {
     "data": {
      "application/vnd.microsoft.datawrangler.viewer.v0+json": {
       "columns": [
        {
         "name": "borough",
         "rawType": "object",
         "type": "string"
        },
        {
         "name": "pickups",
         "rawType": "int64",
         "type": "integer"
        }
       ],
       "ref": "f8466099-d0e6-44e1-b8b5-992d93df66f1",
       "rows": [
        [
         "Bronx",
         "220047"
        ],
        [
         "Brooklyn",
         "2321035"
        ],
        [
         "EWR",
         "105"
        ],
        [
         "Manhattan",
         "10367841"
        ],
        [
         "Queens",
         "1343528"
        ],
        [
         "Staten Island",
         "6957"
        ]
       ],
       "shape": {
        "columns": 1,
        "rows": 6
       }
      },
      "text/html": [
       "<div>\n",
       "<style scoped>\n",
       "    .dataframe tbody tr th:only-of-type {\n",
       "        vertical-align: middle;\n",
       "    }\n",
       "\n",
       "    .dataframe tbody tr th {\n",
       "        vertical-align: top;\n",
       "    }\n",
       "\n",
       "    .dataframe thead th {\n",
       "        text-align: right;\n",
       "    }\n",
       "</style>\n",
       "<table border=\"1\" class=\"dataframe\">\n",
       "  <thead>\n",
       "    <tr style=\"text-align: right;\">\n",
       "      <th></th>\n",
       "      <th>pickups</th>\n",
       "    </tr>\n",
       "    <tr>\n",
       "      <th>borough</th>\n",
       "      <th></th>\n",
       "    </tr>\n",
       "  </thead>\n",
       "  <tbody>\n",
       "    <tr>\n",
       "      <th>Bronx</th>\n",
       "      <td>220047</td>\n",
       "    </tr>\n",
       "    <tr>\n",
       "      <th>Brooklyn</th>\n",
       "      <td>2321035</td>\n",
       "    </tr>\n",
       "    <tr>\n",
       "      <th>EWR</th>\n",
       "      <td>105</td>\n",
       "    </tr>\n",
       "    <tr>\n",
       "      <th>Manhattan</th>\n",
       "      <td>10367841</td>\n",
       "    </tr>\n",
       "    <tr>\n",
       "      <th>Queens</th>\n",
       "      <td>1343528</td>\n",
       "    </tr>\n",
       "    <tr>\n",
       "      <th>Staten Island</th>\n",
       "      <td>6957</td>\n",
       "    </tr>\n",
       "  </tbody>\n",
       "</table>\n",
       "</div>"
      ],
      "text/plain": [
       "                pickups\n",
       "borough                \n",
       "Bronx            220047\n",
       "Brooklyn        2321035\n",
       "EWR                 105\n",
       "Manhattan      10367841\n",
       "Queens          1343528\n",
       "Staten Island      6957"
      ]
     },
     "execution_count": 15,
     "metadata": {},
     "output_type": "execute_result"
    }
   ],
   "source": [
    "taxi.groupby('borough').agg({'pickups': 'sum'})"
   ]
  },
  {
   "cell_type": "code",
   "execution_count": 16,
   "id": "5c19cf5c",
   "metadata": {},
   "outputs": [
    {
     "data": {
      "application/vnd.microsoft.datawrangler.viewer.v0+json": {
       "columns": [
        {
         "name": "borough",
         "rawType": "object",
         "type": "string"
        },
        {
         "name": "pickups",
         "rawType": "int64",
         "type": "integer"
        }
       ],
       "ref": "c9d28c9c-1441-4197-8c9b-94b4cc1ff2c6",
       "rows": [
        [
         "Manhattan",
         "10367841"
        ],
        [
         "Brooklyn",
         "2321035"
        ],
        [
         "Queens",
         "1343528"
        ],
        [
         "Bronx",
         "220047"
        ],
        [
         "Staten Island",
         "6957"
        ],
        [
         "EWR",
         "105"
        ]
       ],
       "shape": {
        "columns": 1,
        "rows": 6
       }
      },
      "text/plain": [
       "borough\n",
       "Manhattan        10367841\n",
       "Brooklyn          2321035\n",
       "Queens            1343528\n",
       "Bronx              220047\n",
       "Staten Island        6957\n",
       "EWR                   105\n",
       "Name: pickups, dtype: int64"
      ]
     },
     "execution_count": 16,
     "metadata": {},
     "output_type": "execute_result"
    }
   ],
   "source": [
    "taxi.groupby('borough').pickups.sum().sort_values(ascending=False)"
   ]
  },
  {
   "cell_type": "code",
   "execution_count": 24,
   "id": "008d566f",
   "metadata": {},
   "outputs": [],
   "source": [
    "min_pickups = taxi.groupby('borough').pickups.sum().idxmin()"
   ]
  },
  {
   "cell_type": "code",
   "execution_count": 25,
   "id": "fdd409db",
   "metadata": {},
   "outputs": [
    {
     "data": {
      "text/plain": [
       "'EWR'"
      ]
     },
     "execution_count": 25,
     "metadata": {},
     "output_type": "execute_result"
    }
   ],
   "source": [
    "min_pickups"
   ]
  },
  {
   "cell_type": "code",
   "execution_count": 18,
   "id": "da01a822",
   "metadata": {},
   "outputs": [
    {
     "data": {
      "application/vnd.microsoft.datawrangler.viewer.v0+json": {
       "columns": [
        {
         "name": "('borough', 'hday')",
         "rawType": "object",
         "type": "unknown"
        },
        {
         "name": "pickups",
         "rawType": "float64",
         "type": "float"
        }
       ],
       "ref": "274df66b-a549-4fb3-ab7e-b13255f19816",
       "rows": [
        [
         "('Bronx', 'N')",
         "50.77107279693487"
        ],
        [
         "('Bronx', 'Y')",
         "48.06586826347306"
        ],
        [
         "('Brooklyn', 'N')",
         "534.727969348659"
        ],
        [
         "('Brooklyn', 'Y')",
         "527.0119760479042"
        ],
        [
         "('EWR', 'N')",
         "0.02346743295019157"
        ],
        [
         "('EWR', 'Y')",
         "0.041916167664670656"
        ],
        [
         "('Manhattan', 'N')",
         "2401.3029214559388"
        ],
        [
         "('Manhattan', 'Y')",
         "2035.9281437125749"
        ],
        [
         "('Queens', 'N')",
         "308.8999042145594"
        ],
        [
         "('Queens', 'Y')",
         "320.7305389221557"
        ],
        [
         "('Staten Island', 'N')",
         "1.6060823754789273"
        ],
        [
         "('Staten Island', 'Y')",
         "1.4970059880239521"
        ]
       ],
       "shape": {
        "columns": 1,
        "rows": 12
       }
      },
      "text/plain": [
       "borough        hday\n",
       "Bronx          N         50.771073\n",
       "               Y         48.065868\n",
       "Brooklyn       N        534.727969\n",
       "               Y        527.011976\n",
       "EWR            N          0.023467\n",
       "               Y          0.041916\n",
       "Manhattan      N       2401.302921\n",
       "               Y       2035.928144\n",
       "Queens         N        308.899904\n",
       "               Y        320.730539\n",
       "Staten Island  N          1.606082\n",
       "               Y          1.497006\n",
       "Name: pickups, dtype: float64"
      ]
     },
     "execution_count": 18,
     "metadata": {},
     "output_type": "execute_result"
    }
   ],
   "source": [
    "taxi.groupby(['borough', 'hday']).pickups.mean()"
   ]
  },
  {
   "cell_type": "code",
   "execution_count": 19,
   "id": "2296da6e",
   "metadata": {},
   "outputs": [],
   "source": [
    "pickups_by_mon_bor = taxi.groupby(['pickup_month', 'borough'], as_index=False).agg({'pickups': 'sum'}).sort_values('pickups', ascending=False)"
   ]
  },
  {
   "cell_type": "code",
   "execution_count": 20,
   "id": "84fa1057",
   "metadata": {},
   "outputs": [
    {
     "data": {
      "application/vnd.microsoft.datawrangler.viewer.v0+json": {
       "columns": [
        {
         "name": "index",
         "rawType": "int64",
         "type": "integer"
        },
        {
         "name": "pickup_month",
         "rawType": "object",
         "type": "string"
        },
        {
         "name": "borough",
         "rawType": "object",
         "type": "string"
        },
        {
         "name": "pickups",
         "rawType": "int64",
         "type": "integer"
        }
       ],
       "ref": "c32ae2fb-9a7d-4219-9b33-3a76bca6a050",
       "rows": [
        [
         "21",
         "Jun",
         "Manhattan",
         "1995388"
        ],
        [
         "33",
         "May",
         "Manhattan",
         "1888800"
        ],
        [
         "9",
         "Feb",
         "Manhattan",
         "1718571"
        ],
        [
         "27",
         "Mar",
         "Manhattan",
         "1661261"
        ],
        [
         "3",
         "Apr",
         "Manhattan",
         "1648278"
        ],
        [
         "15",
         "Jan",
         "Manhattan",
         "1455543"
        ],
        [
         "19",
         "Jun",
         "Brooklyn",
         "482466"
        ],
        [
         "31",
         "May",
         "Brooklyn",
         "476087"
        ],
        [
         "1",
         "Apr",
         "Brooklyn",
         "378095"
        ],
        [
         "25",
         "Mar",
         "Brooklyn",
         "346726"
        ],
        [
         "7",
         "Feb",
         "Brooklyn",
         "328650"
        ],
        [
         "13",
         "Jan",
         "Brooklyn",
         "309011"
        ],
        [
         "22",
         "Jun",
         "Queens",
         "286311"
        ],
        [
         "34",
         "May",
         "Queens",
         "275893"
        ],
        [
         "28",
         "Mar",
         "Queens",
         "219561"
        ],
        [
         "4",
         "Apr",
         "Queens",
         "216857"
        ],
        [
         "10",
         "Feb",
         "Queens",
         "185695"
        ],
        [
         "16",
         "Jan",
         "Queens",
         "159211"
        ],
        [
         "30",
         "May",
         "Bronx",
         "53037"
        ],
        [
         "18",
         "Jun",
         "Bronx",
         "49006"
        ],
        [
         "0",
         "Apr",
         "Bronx",
         "34617"
        ],
        [
         "24",
         "Mar",
         "Bronx",
         "32232"
        ],
        [
         "6",
         "Feb",
         "Bronx",
         "28694"
        ],
        [
         "12",
         "Jan",
         "Bronx",
         "22461"
        ],
        [
         "23",
         "Jun",
         "Staten Island",
         "1673"
        ],
        [
         "35",
         "May",
         "Staten Island",
         "1517"
        ],
        [
         "5",
         "Apr",
         "Staten Island",
         "1068"
        ],
        [
         "29",
         "Mar",
         "Staten Island",
         "975"
        ],
        [
         "11",
         "Feb",
         "Staten Island",
         "903"
        ],
        [
         "17",
         "Jan",
         "Staten Island",
         "821"
        ],
        [
         "20",
         "Jun",
         "EWR",
         "29"
        ],
        [
         "32",
         "May",
         "EWR",
         "27"
        ],
        [
         "26",
         "Mar",
         "EWR",
         "14"
        ],
        [
         "8",
         "Feb",
         "EWR",
         "14"
        ],
        [
         "14",
         "Jan",
         "EWR",
         "11"
        ],
        [
         "2",
         "Apr",
         "EWR",
         "10"
        ]
       ],
       "shape": {
        "columns": 3,
        "rows": 36
       }
      },
      "text/html": [
       "<div>\n",
       "<style scoped>\n",
       "    .dataframe tbody tr th:only-of-type {\n",
       "        vertical-align: middle;\n",
       "    }\n",
       "\n",
       "    .dataframe tbody tr th {\n",
       "        vertical-align: top;\n",
       "    }\n",
       "\n",
       "    .dataframe thead th {\n",
       "        text-align: right;\n",
       "    }\n",
       "</style>\n",
       "<table border=\"1\" class=\"dataframe\">\n",
       "  <thead>\n",
       "    <tr style=\"text-align: right;\">\n",
       "      <th></th>\n",
       "      <th>pickup_month</th>\n",
       "      <th>borough</th>\n",
       "      <th>pickups</th>\n",
       "    </tr>\n",
       "  </thead>\n",
       "  <tbody>\n",
       "    <tr>\n",
       "      <th>21</th>\n",
       "      <td>Jun</td>\n",
       "      <td>Manhattan</td>\n",
       "      <td>1995388</td>\n",
       "    </tr>\n",
       "    <tr>\n",
       "      <th>33</th>\n",
       "      <td>May</td>\n",
       "      <td>Manhattan</td>\n",
       "      <td>1888800</td>\n",
       "    </tr>\n",
       "    <tr>\n",
       "      <th>9</th>\n",
       "      <td>Feb</td>\n",
       "      <td>Manhattan</td>\n",
       "      <td>1718571</td>\n",
       "    </tr>\n",
       "    <tr>\n",
       "      <th>27</th>\n",
       "      <td>Mar</td>\n",
       "      <td>Manhattan</td>\n",
       "      <td>1661261</td>\n",
       "    </tr>\n",
       "    <tr>\n",
       "      <th>3</th>\n",
       "      <td>Apr</td>\n",
       "      <td>Manhattan</td>\n",
       "      <td>1648278</td>\n",
       "    </tr>\n",
       "    <tr>\n",
       "      <th>15</th>\n",
       "      <td>Jan</td>\n",
       "      <td>Manhattan</td>\n",
       "      <td>1455543</td>\n",
       "    </tr>\n",
       "    <tr>\n",
       "      <th>19</th>\n",
       "      <td>Jun</td>\n",
       "      <td>Brooklyn</td>\n",
       "      <td>482466</td>\n",
       "    </tr>\n",
       "    <tr>\n",
       "      <th>31</th>\n",
       "      <td>May</td>\n",
       "      <td>Brooklyn</td>\n",
       "      <td>476087</td>\n",
       "    </tr>\n",
       "    <tr>\n",
       "      <th>1</th>\n",
       "      <td>Apr</td>\n",
       "      <td>Brooklyn</td>\n",
       "      <td>378095</td>\n",
       "    </tr>\n",
       "    <tr>\n",
       "      <th>25</th>\n",
       "      <td>Mar</td>\n",
       "      <td>Brooklyn</td>\n",
       "      <td>346726</td>\n",
       "    </tr>\n",
       "    <tr>\n",
       "      <th>7</th>\n",
       "      <td>Feb</td>\n",
       "      <td>Brooklyn</td>\n",
       "      <td>328650</td>\n",
       "    </tr>\n",
       "    <tr>\n",
       "      <th>13</th>\n",
       "      <td>Jan</td>\n",
       "      <td>Brooklyn</td>\n",
       "      <td>309011</td>\n",
       "    </tr>\n",
       "    <tr>\n",
       "      <th>22</th>\n",
       "      <td>Jun</td>\n",
       "      <td>Queens</td>\n",
       "      <td>286311</td>\n",
       "    </tr>\n",
       "    <tr>\n",
       "      <th>34</th>\n",
       "      <td>May</td>\n",
       "      <td>Queens</td>\n",
       "      <td>275893</td>\n",
       "    </tr>\n",
       "    <tr>\n",
       "      <th>28</th>\n",
       "      <td>Mar</td>\n",
       "      <td>Queens</td>\n",
       "      <td>219561</td>\n",
       "    </tr>\n",
       "    <tr>\n",
       "      <th>4</th>\n",
       "      <td>Apr</td>\n",
       "      <td>Queens</td>\n",
       "      <td>216857</td>\n",
       "    </tr>\n",
       "    <tr>\n",
       "      <th>10</th>\n",
       "      <td>Feb</td>\n",
       "      <td>Queens</td>\n",
       "      <td>185695</td>\n",
       "    </tr>\n",
       "    <tr>\n",
       "      <th>16</th>\n",
       "      <td>Jan</td>\n",
       "      <td>Queens</td>\n",
       "      <td>159211</td>\n",
       "    </tr>\n",
       "    <tr>\n",
       "      <th>30</th>\n",
       "      <td>May</td>\n",
       "      <td>Bronx</td>\n",
       "      <td>53037</td>\n",
       "    </tr>\n",
       "    <tr>\n",
       "      <th>18</th>\n",
       "      <td>Jun</td>\n",
       "      <td>Bronx</td>\n",
       "      <td>49006</td>\n",
       "    </tr>\n",
       "    <tr>\n",
       "      <th>0</th>\n",
       "      <td>Apr</td>\n",
       "      <td>Bronx</td>\n",
       "      <td>34617</td>\n",
       "    </tr>\n",
       "    <tr>\n",
       "      <th>24</th>\n",
       "      <td>Mar</td>\n",
       "      <td>Bronx</td>\n",
       "      <td>32232</td>\n",
       "    </tr>\n",
       "    <tr>\n",
       "      <th>6</th>\n",
       "      <td>Feb</td>\n",
       "      <td>Bronx</td>\n",
       "      <td>28694</td>\n",
       "    </tr>\n",
       "    <tr>\n",
       "      <th>12</th>\n",
       "      <td>Jan</td>\n",
       "      <td>Bronx</td>\n",
       "      <td>22461</td>\n",
       "    </tr>\n",
       "    <tr>\n",
       "      <th>23</th>\n",
       "      <td>Jun</td>\n",
       "      <td>Staten Island</td>\n",
       "      <td>1673</td>\n",
       "    </tr>\n",
       "    <tr>\n",
       "      <th>35</th>\n",
       "      <td>May</td>\n",
       "      <td>Staten Island</td>\n",
       "      <td>1517</td>\n",
       "    </tr>\n",
       "    <tr>\n",
       "      <th>5</th>\n",
       "      <td>Apr</td>\n",
       "      <td>Staten Island</td>\n",
       "      <td>1068</td>\n",
       "    </tr>\n",
       "    <tr>\n",
       "      <th>29</th>\n",
       "      <td>Mar</td>\n",
       "      <td>Staten Island</td>\n",
       "      <td>975</td>\n",
       "    </tr>\n",
       "    <tr>\n",
       "      <th>11</th>\n",
       "      <td>Feb</td>\n",
       "      <td>Staten Island</td>\n",
       "      <td>903</td>\n",
       "    </tr>\n",
       "    <tr>\n",
       "      <th>17</th>\n",
       "      <td>Jan</td>\n",
       "      <td>Staten Island</td>\n",
       "      <td>821</td>\n",
       "    </tr>\n",
       "    <tr>\n",
       "      <th>20</th>\n",
       "      <td>Jun</td>\n",
       "      <td>EWR</td>\n",
       "      <td>29</td>\n",
       "    </tr>\n",
       "    <tr>\n",
       "      <th>32</th>\n",
       "      <td>May</td>\n",
       "      <td>EWR</td>\n",
       "      <td>27</td>\n",
       "    </tr>\n",
       "    <tr>\n",
       "      <th>26</th>\n",
       "      <td>Mar</td>\n",
       "      <td>EWR</td>\n",
       "      <td>14</td>\n",
       "    </tr>\n",
       "    <tr>\n",
       "      <th>8</th>\n",
       "      <td>Feb</td>\n",
       "      <td>EWR</td>\n",
       "      <td>14</td>\n",
       "    </tr>\n",
       "    <tr>\n",
       "      <th>14</th>\n",
       "      <td>Jan</td>\n",
       "      <td>EWR</td>\n",
       "      <td>11</td>\n",
       "    </tr>\n",
       "    <tr>\n",
       "      <th>2</th>\n",
       "      <td>Apr</td>\n",
       "      <td>EWR</td>\n",
       "      <td>10</td>\n",
       "    </tr>\n",
       "  </tbody>\n",
       "</table>\n",
       "</div>"
      ],
      "text/plain": [
       "   pickup_month        borough  pickups\n",
       "21          Jun      Manhattan  1995388\n",
       "33          May      Manhattan  1888800\n",
       "9           Feb      Manhattan  1718571\n",
       "27          Mar      Manhattan  1661261\n",
       "3           Apr      Manhattan  1648278\n",
       "15          Jan      Manhattan  1455543\n",
       "19          Jun       Brooklyn   482466\n",
       "31          May       Brooklyn   476087\n",
       "1           Apr       Brooklyn   378095\n",
       "25          Mar       Brooklyn   346726\n",
       "7           Feb       Brooklyn   328650\n",
       "13          Jan       Brooklyn   309011\n",
       "22          Jun         Queens   286311\n",
       "34          May         Queens   275893\n",
       "28          Mar         Queens   219561\n",
       "4           Apr         Queens   216857\n",
       "10          Feb         Queens   185695\n",
       "16          Jan         Queens   159211\n",
       "30          May          Bronx    53037\n",
       "18          Jun          Bronx    49006\n",
       "0           Apr          Bronx    34617\n",
       "24          Mar          Bronx    32232\n",
       "6           Feb          Bronx    28694\n",
       "12          Jan          Bronx    22461\n",
       "23          Jun  Staten Island     1673\n",
       "35          May  Staten Island     1517\n",
       "5           Apr  Staten Island     1068\n",
       "29          Mar  Staten Island      975\n",
       "11          Feb  Staten Island      903\n",
       "17          Jan  Staten Island      821\n",
       "20          Jun            EWR       29\n",
       "32          May            EWR       27\n",
       "26          Mar            EWR       14\n",
       "8           Feb            EWR       14\n",
       "14          Jan            EWR       11\n",
       "2           Apr            EWR       10"
      ]
     },
     "execution_count": 20,
     "metadata": {},
     "output_type": "execute_result"
    }
   ],
   "source": [
    "pickups_by_mon_bor"
   ]
  },
  {
   "cell_type": "code",
   "execution_count": 21,
   "id": "ac2fb20d",
   "metadata": {},
   "outputs": [],
   "source": [
    "def temp_to_celcius(series):\n",
    "    return (series - 23) * 5 / 9"
   ]
  },
  {
   "cell_type": "code",
   "execution_count": 22,
   "id": "6f049d56",
   "metadata": {},
   "outputs": [
    {
     "data": {
      "application/vnd.microsoft.datawrangler.viewer.v0+json": {
       "columns": [
        {
         "name": "index",
         "rawType": "int64",
         "type": "integer"
        },
        {
         "name": "temp",
         "rawType": "float64",
         "type": "float"
        }
       ],
       "ref": "67276cf3-feba-46d8-9ed5-eb86922bba42",
       "rows": [
        [
         "0",
         "3.888888888888889"
        ],
        [
         "1",
         "3.888888888888889"
        ],
        [
         "2",
         "3.888888888888889"
        ],
        [
         "3",
         "3.888888888888889"
        ],
        [
         "4",
         "3.888888888888889"
        ],
        [
         "5",
         "3.888888888888889"
        ],
        [
         "6",
         "3.888888888888889"
        ],
        [
         "7",
         "3.888888888888889"
        ],
        [
         "8",
         "3.888888888888889"
        ],
        [
         "9",
         "3.888888888888889"
        ],
        [
         "10",
         "3.888888888888889"
        ],
        [
         "11",
         "3.888888888888889"
        ],
        [
         "12",
         "3.888888888888889"
        ],
        [
         "13",
         "3.888888888888889"
        ],
        [
         "14",
         "3.888888888888889"
        ],
        [
         "15",
         "3.888888888888889"
        ],
        [
         "16",
         "3.888888888888889"
        ],
        [
         "17",
         "3.888888888888889"
        ],
        [
         "18",
         "3.888888888888889"
        ],
        [
         "19",
         "3.888888888888889"
        ],
        [
         "20",
         "3.888888888888889"
        ],
        [
         "21",
         "3.3333333333333335"
        ],
        [
         "22",
         "3.3333333333333335"
        ],
        [
         "23",
         "3.3333333333333335"
        ],
        [
         "24",
         "3.3333333333333335"
        ],
        [
         "25",
         "3.3333333333333335"
        ],
        [
         "26",
         "3.3333333333333335"
        ],
        [
         "27",
         "3.3333333333333335"
        ],
        [
         "28",
         "2.7777777777777777"
        ],
        [
         "29",
         "2.7777777777777777"
        ],
        [
         "30",
         "2.7777777777777777"
        ],
        [
         "31",
         "2.7777777777777777"
        ],
        [
         "32",
         "2.7777777777777777"
        ],
        [
         "33",
         "2.7777777777777777"
        ],
        [
         "34",
         "2.7777777777777777"
        ],
        [
         "35",
         "2.7777777777777777"
        ],
        [
         "36",
         "2.7777777777777777"
        ],
        [
         "37",
         "2.7777777777777777"
        ],
        [
         "38",
         "2.7777777777777777"
        ],
        [
         "39",
         "2.7777777777777777"
        ],
        [
         "40",
         "2.7777777777777777"
        ],
        [
         "41",
         "2.7777777777777777"
        ],
        [
         "42",
         "2.7777777777777777"
        ],
        [
         "43",
         "2.7777777777777777"
        ],
        [
         "44",
         "2.7777777777777777"
        ],
        [
         "45",
         "2.7777777777777777"
        ],
        [
         "46",
         "2.7777777777777777"
        ],
        [
         "47",
         "2.2222222222222223"
        ],
        [
         "48",
         "2.2222222222222223"
        ],
        [
         "49",
         "2.2222222222222223"
        ]
       ],
       "shape": {
        "columns": 1,
        "rows": 29101
       }
      },
      "text/plain": [
       "0         3.888889\n",
       "1         3.888889\n",
       "2         3.888889\n",
       "3         3.888889\n",
       "4         3.888889\n",
       "           ...    \n",
       "29096    28.888889\n",
       "29097    28.888889\n",
       "29098    28.888889\n",
       "29099    28.888889\n",
       "29100    28.888889\n",
       "Name: temp, Length: 29101, dtype: float64"
      ]
     },
     "execution_count": 22,
     "metadata": {},
     "output_type": "execute_result"
    }
   ],
   "source": [
    "temp_to_celcius(taxi.temp)"
   ]
  },
  {
   "cell_type": "code",
   "execution_count": 23,
   "id": "d3838c78",
   "metadata": {},
   "outputs": [
    {
     "data": {
      "application/vnd.microsoft.datawrangler.viewer.v0+json": {
       "columns": [
        {
         "name": "index",
         "rawType": "int64",
         "type": "integer"
        },
        {
         "name": "temp",
         "rawType": "float64",
         "type": "float"
        }
       ],
       "ref": "31b0203d-553a-4aca-8cbf-068b86421b69",
       "rows": [
        [
         "0",
         "30.0"
        ],
        [
         "1",
         "30.0"
        ],
        [
         "2",
         "30.0"
        ],
        [
         "3",
         "30.0"
        ],
        [
         "4",
         "30.0"
        ],
        [
         "5",
         "30.0"
        ],
        [
         "6",
         "30.0"
        ],
        [
         "7",
         "30.0"
        ],
        [
         "8",
         "30.0"
        ],
        [
         "9",
         "30.0"
        ],
        [
         "10",
         "30.0"
        ],
        [
         "11",
         "30.0"
        ],
        [
         "12",
         "30.0"
        ],
        [
         "13",
         "30.0"
        ],
        [
         "14",
         "30.0"
        ],
        [
         "15",
         "30.0"
        ],
        [
         "16",
         "30.0"
        ],
        [
         "17",
         "30.0"
        ],
        [
         "18",
         "30.0"
        ],
        [
         "19",
         "30.0"
        ],
        [
         "20",
         "30.0"
        ],
        [
         "21",
         "29.0"
        ],
        [
         "22",
         "29.0"
        ],
        [
         "23",
         "29.0"
        ],
        [
         "24",
         "29.0"
        ],
        [
         "25",
         "29.0"
        ],
        [
         "26",
         "29.0"
        ],
        [
         "27",
         "29.0"
        ],
        [
         "28",
         "28.0"
        ],
        [
         "29",
         "28.0"
        ],
        [
         "30",
         "28.0"
        ],
        [
         "31",
         "28.0"
        ],
        [
         "32",
         "28.0"
        ],
        [
         "33",
         "28.0"
        ],
        [
         "34",
         "28.0"
        ],
        [
         "35",
         "28.0"
        ],
        [
         "36",
         "28.0"
        ],
        [
         "37",
         "28.0"
        ],
        [
         "38",
         "28.0"
        ],
        [
         "39",
         "28.0"
        ],
        [
         "40",
         "28.0"
        ],
        [
         "41",
         "28.0"
        ],
        [
         "42",
         "28.0"
        ],
        [
         "43",
         "28.0"
        ],
        [
         "44",
         "28.0"
        ],
        [
         "45",
         "28.0"
        ],
        [
         "46",
         "28.0"
        ],
        [
         "47",
         "27.0"
        ],
        [
         "48",
         "27.0"
        ],
        [
         "49",
         "27.0"
        ]
       ],
       "shape": {
        "columns": 1,
        "rows": 29101
       }
      },
      "text/plain": [
       "0        30.0\n",
       "1        30.0\n",
       "2        30.0\n",
       "3        30.0\n",
       "4        30.0\n",
       "         ... \n",
       "29096    75.0\n",
       "29097    75.0\n",
       "29098    75.0\n",
       "29099    75.0\n",
       "29100    75.0\n",
       "Name: temp, Length: 29101, dtype: float64"
      ]
     },
     "execution_count": 23,
     "metadata": {},
     "output_type": "execute_result"
    }
   ],
   "source": [
    "taxi.temp"
   ]
  }
 ],
 "metadata": {
  "kernelspec": {
   "display_name": "Python 3",
   "language": "python",
   "name": "python3"
  },
  "language_info": {
   "codemirror_mode": {
    "name": "ipython",
    "version": 3
   },
   "file_extension": ".py",
   "mimetype": "text/x-python",
   "name": "python",
   "nbconvert_exporter": "python",
   "pygments_lexer": "ipython3",
   "version": "3.13.3"
  }
 },
 "nbformat": 4,
 "nbformat_minor": 5
}
