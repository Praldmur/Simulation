{
 "cells": [
  {
   "cell_type": "markdown",
   "id": "50965072",
   "metadata": {},
   "source": [
    "Предположим, что Толя любит авокадо и решил посмотреть динамику цен на данный продукт в США. Имеется следующий набор данных от Hass Avocado Board 🥑:  \n",
    "•\tDate — дата  \n",
    "•\tAveragePrice — средняя цена одного авокадо  \n",
    "•\tTotal Volume — количество проданных авокадо  \n",
    "•\t4046 — количество проданных авокадо PLU* 4046  \n",
    "•\t4225 — количество проданных авокадо PLU 4225  \n",
    "•\t4770 — количество проданных авокадо PLU 4770  \n",
    "•\tTotal Bags — всего упаковок  \n",
    "•\tSmall Bags — маленькие упаковки  \n",
    "•\tLarge Bags — большие  \n",
    "•\tXLarge Bags — очень большие  \n",
    "•\ttype — обычный или органический  \n",
    "•\tyear — год  \n",
    "•\tRegion — город или регион the city or region of the observation  \n",
    "•\t*PLU — код товара (Product Lookup code)  "
   ]
  },
  {
   "cell_type": "code",
   "execution_count": 3,
   "id": "0975c4ee",
   "metadata": {},
   "outputs": [],
   "source": [
    "import pandas as pd\n",
    "import numpy as np\n",
    "%matplotlib inline\n",
    "import matplotlib.pyplot as plt\n",
    "import seaborn as sns\n",
    "\n",
    "import plotly.express as px"
   ]
  },
  {
   "cell_type": "markdown",
   "id": "daa3a808",
   "metadata": {},
   "source": [
    "В датафрейме находятся данные не за каждый день, а за конец каждой недели. Для каждой даты есть несколько наблюдений, отличающихся по типу авокадо и региону продажи. Предположим, что нас это разделение не интересует, поэтому в avocado_mean записаны агрегированные данные."
   ]
  },
  {
   "cell_type": "code",
   "execution_count": 4,
   "id": "7b10f6e0",
   "metadata": {},
   "outputs": [],
   "source": [
    "avocado_mean = pd.read_csv(r'C:\\Users\\PC\\Desktop\\Софт\\Simulation\\Simulation\\data\\6_avocado_mean.csv', index_col=0, parse_dates=['Date'])"
   ]
  },
  {
   "cell_type": "code",
   "execution_count": 5,
   "id": "fc216cf1",
   "metadata": {},
   "outputs": [
    {
     "data": {
      "application/vnd.microsoft.datawrangler.viewer.v0+json": {
       "columns": [
        {
         "name": "Date",
         "rawType": "datetime64[ns]",
         "type": "datetime"
        },
        {
         "name": "AveragePrice",
         "rawType": "float64",
         "type": "float"
        }
       ],
       "ref": "8c8be23d-3372-4386-9941-7ab79bc75842",
       "rows": [
        [
         "2015-01-04 00:00:00",
         "1.3012962962962964"
        ],
        [
         "2015-01-11 00:00:00",
         "1.3706481481481485"
        ],
        [
         "2015-01-18 00:00:00",
         "1.3911111111111107"
        ],
        [
         "2015-01-25 00:00:00",
         "1.3971296296296296"
        ],
        [
         "2015-02-01 00:00:00",
         "1.2470370370370372"
        ]
       ],
       "shape": {
        "columns": 1,
        "rows": 5
       }
      },
      "text/html": [
       "<div>\n",
       "<style scoped>\n",
       "    .dataframe tbody tr th:only-of-type {\n",
       "        vertical-align: middle;\n",
       "    }\n",
       "\n",
       "    .dataframe tbody tr th {\n",
       "        vertical-align: top;\n",
       "    }\n",
       "\n",
       "    .dataframe thead th {\n",
       "        text-align: right;\n",
       "    }\n",
       "</style>\n",
       "<table border=\"1\" class=\"dataframe\">\n",
       "  <thead>\n",
       "    <tr style=\"text-align: right;\">\n",
       "      <th></th>\n",
       "      <th>AveragePrice</th>\n",
       "    </tr>\n",
       "    <tr>\n",
       "      <th>Date</th>\n",
       "      <th></th>\n",
       "    </tr>\n",
       "  </thead>\n",
       "  <tbody>\n",
       "    <tr>\n",
       "      <th>2015-01-04</th>\n",
       "      <td>1.301296</td>\n",
       "    </tr>\n",
       "    <tr>\n",
       "      <th>2015-01-11</th>\n",
       "      <td>1.370648</td>\n",
       "    </tr>\n",
       "    <tr>\n",
       "      <th>2015-01-18</th>\n",
       "      <td>1.391111</td>\n",
       "    </tr>\n",
       "    <tr>\n",
       "      <th>2015-01-25</th>\n",
       "      <td>1.397130</td>\n",
       "    </tr>\n",
       "    <tr>\n",
       "      <th>2015-02-01</th>\n",
       "      <td>1.247037</td>\n",
       "    </tr>\n",
       "  </tbody>\n",
       "</table>\n",
       "</div>"
      ],
      "text/plain": [
       "            AveragePrice\n",
       "Date                    \n",
       "2015-01-04      1.301296\n",
       "2015-01-11      1.370648\n",
       "2015-01-18      1.391111\n",
       "2015-01-25      1.397130\n",
       "2015-02-01      1.247037"
      ]
     },
     "execution_count": 5,
     "metadata": {},
     "output_type": "execute_result"
    }
   ],
   "source": [
    "avocado_mean.head()"
   ]
  },
  {
   "cell_type": "code",
   "execution_count": null,
   "id": "59e7247e",
   "metadata": {},
   "outputs": [],
   "source": [
    "avocado_mean.info()"
   ]
  },
  {
   "cell_type": "code",
   "execution_count": null,
   "id": "c30290dc",
   "metadata": {},
   "outputs": [],
   "source": [
    "avocado_mean.describe(include='all')"
   ]
  },
  {
   "cell_type": "markdown",
   "id": "7f58dd86",
   "metadata": {},
   "source": [
    "Посчитайте скользящее среднее цены авокадо (AveragePrice) с окном равным 3 (window). Чему равно максимальное значение? Ответ округлите до 2 знаков после точки."
   ]
  },
  {
   "cell_type": "code",
   "execution_count": 11,
   "id": "723c735b",
   "metadata": {},
   "outputs": [],
   "source": [
    "rm = avocado_mean.rolling(window=3).mean()"
   ]
  },
  {
   "cell_type": "code",
   "execution_count": null,
   "id": "bcaad88b",
   "metadata": {},
   "outputs": [],
   "source": [
    "np.round(rm.max(), 2)"
   ]
  },
  {
   "cell_type": "markdown",
   "id": "1ee61261",
   "metadata": {},
   "source": [
    "Построить графики скользящего среднего с разными значениями параметра window (2, 4, 10, 50), "
   ]
  },
  {
   "cell_type": "code",
   "execution_count": 14,
   "id": "672bbc98",
   "metadata": {},
   "outputs": [
    {
     "data": {
      "image/png": "[encoded data removed]",
      "text/plain": [
       "<Figure size 800x1200 with 4 Axes>"
      ]
     },
     "metadata": {},
     "output_type": "display_data"
    }
   ],
   "source": [
    "windows = [2, 4, 10, 50]\n",
    "fig, axes = plt.subplots(4, 1, figsize=(8, 12))\n",
    "for i, window in enumerate(windows):\n",
    "    df = avocado_mean.rolling(window=window).mean()\n",
    "    sns.lineplot(data=df, ax=axes[i])\n",
    "    axes[i].set_title(f'window = {window}')\n",
    "plt.tight_layout()"
   ]
  },
  {
   "cell_type": "markdown",
   "id": "455e8353",
   "metadata": {},
   "source": [
    "Используйте агрегированные данные о ценах на авокадо и примените функцию ewm() с параметром span=2, чтобы получить экспоненциальное скользящее среднее. Запишите результат в avocado_ewm."
   ]
  },
  {
   "cell_type": "code",
   "execution_count": 17,
   "id": "c4a9507e",
   "metadata": {},
   "outputs": [],
   "source": [
    "avocado_ewm = avocado_mean.ewm(span=2).mean()"
   ]
  },
  {
   "cell_type": "markdown",
   "id": "94a82ca9",
   "metadata": {},
   "source": [
    "И еще одно задание, чтобы закрепить материал. Импортируйте полные данные, указав index_col=0 (использовать первую колонку как индекс).  \n",
    "Для авокадо типа organic (type) в Чикаго (region) посчитайте скользящее среднее с окном 4 и экспоненциальное скользящее среднее с параметром span=4. Постройте графики, а затем заполните пропуски. Числа округлите до трех знаков после точки."
   ]
  },
  {
   "cell_type": "code",
   "execution_count": 18,
   "id": "ddcbdacf",
   "metadata": {},
   "outputs": [],
   "source": [
    "avocado_full = pd.read_csv(r'C:\\Users\\PC\\Desktop\\Софт\\Simulation\\Simulation\\data\\6_avocado_full.csv', index_col=0, parse_dates=['Date'])"
   ]
  },
  {
   "cell_type": "code",
   "execution_count": 19,
   "id": "546cf1f2",
   "metadata": {},
   "outputs": [
    {
     "data": {
      "application/vnd.microsoft.datawrangler.viewer.v0+json": {
       "columns": [
        {
         "name": "Date",
         "rawType": "datetime64[ns]",
         "type": "datetime"
        },
        {
         "name": "AveragePrice",
         "rawType": "float64",
         "type": "float"
        },
        {
         "name": "Total Volume",
         "rawType": "float64",
         "type": "float"
        },
        {
         "name": "4046",
         "rawType": "float64",
         "type": "float"
        },
        {
         "name": "4225",
         "rawType": "float64",
         "type": "float"
        },
        {
         "name": "4770",
         "rawType": "float64",
         "type": "float"
        },
        {
         "name": "Total Bags",
         "rawType": "float64",
         "type": "float"
        },
        {
         "name": "Small Bags",
         "rawType": "float64",
         "type": "float"
        },
        {
         "name": "Large Bags",
         "rawType": "float64",
         "type": "float"
        },
        {
         "name": "XLarge Bags",
         "rawType": "float64",
         "type": "float"
        },
        {
         "name": "type",
         "rawType": "object",
         "type": "string"
        },
        {
         "name": "year",
         "rawType": "int64",
         "type": "integer"
        },
        {
         "name": "region",
         "rawType": "object",
         "type": "string"
        }
       ],
       "ref": "ba964aeb-ca9b-49cb-a799-40ba50f35666",
       "rows": [
        [
         "2015-01-04 00:00:00",
         "1.75",
         "27365.89",
         "9307.34",
         "3844.81",
         "615.28",
         "13598.46",
         "13061.1",
         "537.36",
         "0.0",
         "organic",
         "2015",
         "Southeast"
        ],
        [
         "2015-01-04 00:00:00",
         "1.49",
         "17723.17",
         "1189.35",
         "15628.27",
         "0.0",
         "905.55",
         "905.55",
         "0.0",
         "0.0",
         "organic",
         "2015",
         "Chicago"
        ],
        [
         "2015-01-04 00:00:00",
         "1.68",
         "2896.72",
         "161.68",
         "206.96",
         "0.0",
         "2528.08",
         "2528.08",
         "0.0",
         "0.0",
         "organic",
         "2015",
         "HarrisburgScranton"
        ],
        [
         "2015-01-04 00:00:00",
         "1.52",
         "54956.8",
         "3013.04",
         "35456.88",
         "1561.7",
         "14925.18",
         "11264.8",
         "3660.38",
         "0.0",
         "conventional",
         "2015",
         "Pittsburgh"
        ],
        [
         "2015-01-04 00:00:00",
         "1.64",
         "1505.12",
         "1.27",
         "1129.5",
         "0.0",
         "374.35",
         "186.67",
         "187.68",
         "0.0",
         "organic",
         "2015",
         "Boise"
        ]
       ],
       "shape": {
        "columns": 12,
        "rows": 5
       }
      },
      "text/html": [
       "<div>\n",
       "<style scoped>\n",
       "    .dataframe tbody tr th:only-of-type {\n",
       "        vertical-align: middle;\n",
       "    }\n",
       "\n",
       "    .dataframe tbody tr th {\n",
       "        vertical-align: top;\n",
       "    }\n",
       "\n",
       "    .dataframe thead th {\n",
       "        text-align: right;\n",
       "    }\n",
       "</style>\n",
       "<table border=\"1\" class=\"dataframe\">\n",
       "  <thead>\n",
       "    <tr style=\"text-align: right;\">\n",
       "      <th></th>\n",
       "      <th>AveragePrice</th>\n",
       "      <th>Total Volume</th>\n",
       "      <th>4046</th>\n",
       "      <th>4225</th>\n",
       "      <th>4770</th>\n",
       "      <th>Total Bags</th>\n",
       "      <th>Small Bags</th>\n",
       "      <th>Large Bags</th>\n",
       "      <th>XLarge Bags</th>\n",
       "      <th>type</th>\n",
       "      <th>year</th>\n",
       "      <th>region</th>\n",
       "    </tr>\n",
       "    <tr>\n",
       "      <th>Date</th>\n",
       "      <th></th>\n",
       "      <th></th>\n",
       "      <th></th>\n",
       "      <th></th>\n",
       "      <th></th>\n",
       "      <th></th>\n",
       "      <th></th>\n",
       "      <th></th>\n",
       "      <th></th>\n",
       "      <th></th>\n",
       "      <th></th>\n",
       "      <th></th>\n",
       "    </tr>\n",
       "  </thead>\n",
       "  <tbody>\n",
       "    <tr>\n",
       "      <th>2015-01-04</th>\n",
       "      <td>1.75</td>\n",
       "      <td>27365.89</td>\n",
       "      <td>9307.34</td>\n",
       "      <td>3844.81</td>\n",
       "      <td>615.28</td>\n",
       "      <td>13598.46</td>\n",
       "      <td>13061.10</td>\n",
       "      <td>537.36</td>\n",
       "      <td>0.0</td>\n",
       "      <td>organic</td>\n",
       "      <td>2015</td>\n",
       "      <td>Southeast</td>\n",
       "    </tr>\n",
       "    <tr>\n",
       "      <th>2015-01-04</th>\n",
       "      <td>1.49</td>\n",
       "      <td>17723.17</td>\n",
       "      <td>1189.35</td>\n",
       "      <td>15628.27</td>\n",
       "      <td>0.00</td>\n",
       "      <td>905.55</td>\n",
       "      <td>905.55</td>\n",
       "      <td>0.00</td>\n",
       "      <td>0.0</td>\n",
       "      <td>organic</td>\n",
       "      <td>2015</td>\n",
       "      <td>Chicago</td>\n",
       "    </tr>\n",
       "    <tr>\n",
       "      <th>2015-01-04</th>\n",
       "      <td>1.68</td>\n",
       "      <td>2896.72</td>\n",
       "      <td>161.68</td>\n",
       "      <td>206.96</td>\n",
       "      <td>0.00</td>\n",
       "      <td>2528.08</td>\n",
       "      <td>2528.08</td>\n",
       "      <td>0.00</td>\n",
       "      <td>0.0</td>\n",
       "      <td>organic</td>\n",
       "      <td>2015</td>\n",
       "      <td>HarrisburgScranton</td>\n",
       "    </tr>\n",
       "    <tr>\n",
       "      <th>2015-01-04</th>\n",
       "      <td>1.52</td>\n",
       "      <td>54956.80</td>\n",
       "      <td>3013.04</td>\n",
       "      <td>35456.88</td>\n",
       "      <td>1561.70</td>\n",
       "      <td>14925.18</td>\n",
       "      <td>11264.80</td>\n",
       "      <td>3660.38</td>\n",
       "      <td>0.0</td>\n",
       "      <td>conventional</td>\n",
       "      <td>2015</td>\n",
       "      <td>Pittsburgh</td>\n",
       "    </tr>\n",
       "    <tr>\n",
       "      <th>2015-01-04</th>\n",
       "      <td>1.64</td>\n",
       "      <td>1505.12</td>\n",
       "      <td>1.27</td>\n",
       "      <td>1129.50</td>\n",
       "      <td>0.00</td>\n",
       "      <td>374.35</td>\n",
       "      <td>186.67</td>\n",
       "      <td>187.68</td>\n",
       "      <td>0.0</td>\n",
       "      <td>organic</td>\n",
       "      <td>2015</td>\n",
       "      <td>Boise</td>\n",
       "    </tr>\n",
       "  </tbody>\n",
       "</table>\n",
       "</div>"
      ],
      "text/plain": [
       "            AveragePrice  Total Volume     4046      4225     4770  \\\n",
       "Date                                                                 \n",
       "2015-01-04          1.75      27365.89  9307.34   3844.81   615.28   \n",
       "2015-01-04          1.49      17723.17  1189.35  15628.27     0.00   \n",
       "2015-01-04          1.68       2896.72   161.68    206.96     0.00   \n",
       "2015-01-04          1.52      54956.80  3013.04  35456.88  1561.70   \n",
       "2015-01-04          1.64       1505.12     1.27   1129.50     0.00   \n",
       "\n",
       "            Total Bags  Small Bags  Large Bags  XLarge Bags          type  \\\n",
       "Date                                                                        \n",
       "2015-01-04    13598.46    13061.10      537.36          0.0       organic   \n",
       "2015-01-04      905.55      905.55        0.00          0.0       organic   \n",
       "2015-01-04     2528.08     2528.08        0.00          0.0       organic   \n",
       "2015-01-04    14925.18    11264.80     3660.38          0.0  conventional   \n",
       "2015-01-04      374.35      186.67      187.68          0.0       organic   \n",
       "\n",
       "            year              region  \n",
       "Date                                  \n",
       "2015-01-04  2015           Southeast  \n",
       "2015-01-04  2015             Chicago  \n",
       "2015-01-04  2015  HarrisburgScranton  \n",
       "2015-01-04  2015          Pittsburgh  \n",
       "2015-01-04  2015               Boise  "
      ]
     },
     "execution_count": 19,
     "metadata": {},
     "output_type": "execute_result"
    }
   ],
   "source": [
    "avocado_full.head()"
   ]
  },
  {
   "cell_type": "code",
   "execution_count": null,
   "id": "850bde5b",
   "metadata": {},
   "outputs": [],
   "source": [
    "avocado_full.info()"
   ]
  },
  {
   "cell_type": "code",
   "execution_count": null,
   "id": "3a0b690c",
   "metadata": {},
   "outputs": [],
   "source": [
    "avocado_full.describe(include='all')"
   ]
  },
  {
   "cell_type": "code",
   "execution_count": 33,
   "id": "cd03ce78",
   "metadata": {},
   "outputs": [],
   "source": [
    "organic_ch = avocado_full.loc[(avocado_full['type']=='organic')&(avocado_full['region']=='Chicago')]"
   ]
  },
  {
   "cell_type": "code",
   "execution_count": null,
   "id": "6a470837",
   "metadata": {},
   "outputs": [],
   "source": [
    "organic_ch.rolling(window=4).mean()"
   ]
  },
  {
   "cell_type": "code",
   "execution_count": null,
   "id": "ee80d940",
   "metadata": {},
   "outputs": [],
   "source": [
    "organic_ch.ewm(span=4).mean()"
   ]
  },
  {
   "cell_type": "code",
   "execution_count": 34,
   "id": "25e6ca9d",
   "metadata": {},
   "outputs": [
    {
     "data": {
      "image/png": "[encoded data removed]",
      "text/plain": [
       "<Figure size 1600x400 with 1 Axes>"
      ]
     },
     "metadata": {},
     "output_type": "display_data"
    }
   ],
   "source": [
    "fig, ax = plt.subplots(figsize=(16, 4))\n",
    "organic_ch.AveragePrice.rolling(window=4).mean().plot(ax=ax, label='rolling')\n",
    "organic_ch.AveragePrice.ewm(span=4).mean().plot(ax=ax, label='ewm')\n",
    "plt.legend()\n",
    "plt.grid()"
   ]
  },
  {
   "cell_type": "markdown",
   "id": "d665e225",
   "metadata": {},
   "source": [
    "Прочитайте эти данные. Далее переведите delay в timedelta формат. Обратите внимание, что так просто столбец не переведётся – нужно будет убрать -.  \n",
    "Могут понадобиться:  \n",
    "•\tpd.to_timedelta()  \n",
    "•\tpd.Series.str  "
   ]
  },
  {
   "cell_type": "code",
   "execution_count": 4,
   "id": "d219916b",
   "metadata": {},
   "outputs": [],
   "source": [
    "df = pd.read_csv(r'C:\\Users\\PC\\Desktop\\Софт\\Simulation\\Simulation\\data\\6_delays.csv')"
   ]
  },
  {
   "cell_type": "code",
   "execution_count": 13,
   "id": "1fd201fc",
   "metadata": {},
   "outputs": [
    {
     "data": {
      "application/vnd.microsoft.datawrangler.viewer.v0+json": {
       "columns": [
        {
         "name": "index",
         "rawType": "int64",
         "type": "integer"
        },
        {
         "name": "client_id",
         "rawType": "int64",
         "type": "integer"
        },
        {
         "name": "company_id",
         "rawType": "int64",
         "type": "integer"
        },
        {
         "name": "delay",
         "rawType": "timedelta64[ns]",
         "type": "unknown"
        },
        {
         "name": "revenue",
         "rawType": "int64",
         "type": "integer"
        },
        {
         "name": "days",
         "rawType": "float64",
         "type": "float"
        },
        {
         "name": "category",
         "rawType": "category",
         "type": "unknown"
        }
       ],
       "ref": "f0cae9cc-d9d8-4a90-9bd2-0307f57bdf47",
       "rows": [
        [
         "0",
         "2389",
         "4240",
         "1 days 14:57:48",
         "705436",
         "1.6234722222222222",
         "1-2 days"
        ],
        [
         "1",
         "7614",
         "9544",
         "4 days 02:14:23",
         "859266",
         "4.0933217592592595",
         "more than 3 days"
        ],
        [
         "2",
         "2052",
         "2427",
         "0 days 06:08:57",
         "812416",
         "0.25621527777777775",
         "less than 1 day"
        ],
        [
         "3",
         "9635",
         "8054",
         "0 days 23:40:19",
         "162312",
         "0.9863310185185186",
         "less than 1 day"
        ],
        [
         "4",
         "8154",
         "5503",
         "1 days 13:21:53",
         "658844",
         "1.556863425925926",
         "1-2 days"
        ]
       ],
       "shape": {
        "columns": 6,
        "rows": 5
       }
      },
      "text/html": [
       "<div>\n",
       "<style scoped>\n",
       "    .dataframe tbody tr th:only-of-type {\n",
       "        vertical-align: middle;\n",
       "    }\n",
       "\n",
       "    .dataframe tbody tr th {\n",
       "        vertical-align: top;\n",
       "    }\n",
       "\n",
       "    .dataframe thead th {\n",
       "        text-align: right;\n",
       "    }\n",
       "</style>\n",
       "<table border=\"1\" class=\"dataframe\">\n",
       "  <thead>\n",
       "    <tr style=\"text-align: right;\">\n",
       "      <th></th>\n",
       "      <th>client_id</th>\n",
       "      <th>company_id</th>\n",
       "      <th>delay</th>\n",
       "      <th>revenue</th>\n",
       "      <th>days</th>\n",
       "      <th>category</th>\n",
       "    </tr>\n",
       "  </thead>\n",
       "  <tbody>\n",
       "    <tr>\n",
       "      <th>0</th>\n",
       "      <td>2389</td>\n",
       "      <td>4240</td>\n",
       "      <td>1 days 14:57:48</td>\n",
       "      <td>705436</td>\n",
       "      <td>1.623472</td>\n",
       "      <td>1-2 days</td>\n",
       "    </tr>\n",
       "    <tr>\n",
       "      <th>1</th>\n",
       "      <td>7614</td>\n",
       "      <td>9544</td>\n",
       "      <td>4 days 02:14:23</td>\n",
       "      <td>859266</td>\n",
       "      <td>4.093322</td>\n",
       "      <td>more than 3 days</td>\n",
       "    </tr>\n",
       "    <tr>\n",
       "      <th>2</th>\n",
       "      <td>2052</td>\n",
       "      <td>2427</td>\n",
       "      <td>0 days 06:08:57</td>\n",
       "      <td>812416</td>\n",
       "      <td>0.256215</td>\n",
       "      <td>less than 1 day</td>\n",
       "    </tr>\n",
       "    <tr>\n",
       "      <th>3</th>\n",
       "      <td>9635</td>\n",
       "      <td>8054</td>\n",
       "      <td>0 days 23:40:19</td>\n",
       "      <td>162312</td>\n",
       "      <td>0.986331</td>\n",
       "      <td>less than 1 day</td>\n",
       "    </tr>\n",
       "    <tr>\n",
       "      <th>4</th>\n",
       "      <td>8154</td>\n",
       "      <td>5503</td>\n",
       "      <td>1 days 13:21:53</td>\n",
       "      <td>658844</td>\n",
       "      <td>1.556863</td>\n",
       "      <td>1-2 days</td>\n",
       "    </tr>\n",
       "  </tbody>\n",
       "</table>\n",
       "</div>"
      ],
      "text/plain": [
       "   client_id  company_id           delay  revenue      days          category\n",
       "0       2389        4240 1 days 14:57:48   705436  1.623472          1-2 days\n",
       "1       7614        9544 4 days 02:14:23   859266  4.093322  more than 3 days\n",
       "2       2052        2427 0 days 06:08:57   812416  0.256215   less than 1 day\n",
       "3       9635        8054 0 days 23:40:19   162312  0.986331   less than 1 day\n",
       "4       8154        5503 1 days 13:21:53   658844  1.556863          1-2 days"
      ]
     },
     "execution_count": 13,
     "metadata": {},
     "output_type": "execute_result"
    }
   ],
   "source": [
    "df.head()"
   ]
  },
  {
   "cell_type": "code",
   "execution_count": 6,
   "id": "9cd72a15",
   "metadata": {},
   "outputs": [],
   "source": [
    "df['delay'] = df['delay'].str.replace('-', '')"
   ]
  },
  {
   "cell_type": "code",
   "execution_count": 7,
   "id": "45fd1181",
   "metadata": {},
   "outputs": [],
   "source": [
    "df['delay'] = pd.to_timedelta(df.delay)"
   ]
  },
  {
   "cell_type": "markdown",
   "id": "f78a82ac",
   "metadata": {},
   "source": [
    "Время это хорошо, но хотелось бы также разделить его на промежутки. Разбейте соответствующую колонку на 3 интервала и поместите значения в колонку delay_categorical.  \n",
    "Могут понадобится: pd.cut()"
   ]
  },
  {
   "cell_type": "code",
   "execution_count": 68,
   "id": "29477c66",
   "metadata": {},
   "outputs": [],
   "source": [
    "df['delay_categorical'] = pd.cut(df['delay'], bins=3)"
   ]
  },
  {
   "cell_type": "markdown",
   "id": "46b97578",
   "metadata": {},
   "source": [
    "Разбилось неплохо, но хочется чуть более целые значения и более человеческие названия. В этом нам помогут аргументы функции pd.cut! Перезадайте колонку delay_categorical, чтобы значения в ней были:  \n",
    "•\t'less than 1 day' – время от 0 до 1 дня  \n",
    "•\t'1-2 days' – от 1 до 2 дней  \n",
    "•\t'2-3 days' – от 2 до 3 дней  \n",
    "•\t 'more than 3 days' – больше 3 дней"
   ]
  },
  {
   "cell_type": "code",
   "execution_count": 9,
   "id": "80c8593d",
   "metadata": {},
   "outputs": [],
   "source": [
    "df['days'] = df['delay'].dt.total_seconds() / (24 * 3600)"
   ]
  },
  {
   "cell_type": "code",
   "execution_count": 11,
   "id": "4ccf8828",
   "metadata": {},
   "outputs": [],
   "source": [
    "bins = [0, 1, 2, 3, float('inf')]\n",
    "labels = ['less than 1 day', '1-2 days', '2-3 days', 'more than 3 days']"
   ]
  },
  {
   "cell_type": "code",
   "execution_count": 12,
   "id": "27d12344",
   "metadata": {},
   "outputs": [],
   "source": [
    "df['category'] = pd.cut(df['days'], bins=bins, labels=labels, right=True, include_lowest=True)"
   ]
  },
  {
   "cell_type": "markdown",
   "id": "c2cc7594",
   "metadata": {},
   "source": [
    "Теперь постройте интерактивный барплот с тем, насколько часто задерживаются сделки."
   ]
  },
  {
   "cell_type": "code",
   "execution_count": 14,
   "id": "a9235c5c",
   "metadata": {},
   "outputs": [
    {
     "data": {
      "text/plain": [
       "<Axes: xlabel='category', ylabel='count'>"
      ]
     },
     "execution_count": 14,
     "metadata": {},
     "output_type": "execute_result"
    },
    {
     "data": {
      "image/png": "[encoded data removed]",
      "text/plain": [
       "<Figure size 640x480 with 1 Axes>"
      ]
     },
     "metadata": {},
     "output_type": "display_data"
    }
   ],
   "source": [
    "sns.countplot(x='category', data=df)"
   ]
  },
  {
   "cell_type": "code",
   "execution_count": 18,
   "id": "c37559c6",
   "metadata": {},
   "outputs": [],
   "source": [
    "delay = df.category.value_counts()"
   ]
  },
  {
   "cell_type": "code",
   "execution_count": 19,
   "id": "c3eb6c29",
   "metadata": {},
   "outputs": [
    {
     "data": {
      "application/vnd.plotly.v1+json": {
       "config": {
        "plotlyServerURL": "https://plot.ly"
       },
       "data": [
        {
         "hovertemplate": "variable=count<br>category=%{x}<br>value=%{y}<extra></extra>",
         "legendgroup": "count",
         "marker": {
          "color": "#636efa",
          "pattern": {
           "shape": ""
          }
         },
         "name": "count",
         "orientation": "v",
         "showlegend": true,
         "textposition": "auto",
         "type": "bar",
         "x": [
          "more than 3 days",
          "less than 1 day",
          "1-2 days",
          "2-3 days"
         ],
         "xaxis": "x",
         "y": {
          "bdata": "azszLw==",
          "dtype": "i1"
         },
         "yaxis": "y"
        }
       ],
       "layout": {
        "barmode": "relative",
        "legend": {
         "title": {
          "text": "variable"
         },
         "tracegroupgap": 0
        },
        "margin": {
         "t": 60
        },
        "template": {
         "data": {
          "bar": [
           {
            "error_x": {
             "color": "#2a3f5f"
            },
            "error_y": {
             "color": "#2a3f5f"
            },
            "marker": {
             "line": {
              "color": "#E5ECF6",
              "width": 0.5
             },
             "pattern": {
              "fillmode": "overlay",
              "size": 10,
              "solidity": 0.2
             }
            },
            "type": "bar"
           }
          ],
          "barpolar": [
           {
            "marker": {
             "line": {
              "color": "#E5ECF6",
              "width": 0.5
             },
             "pattern": {
              "fillmode": "overlay",
              "size": 10,
              "solidity": 0.2
             }
            },
            "type": "barpolar"
           }
          ],
          "carpet": [
           {
            "aaxis": {
             "endlinecolor": "#2a3f5f",
             "gridcolor": "white",
             "linecolor": "white",
             "minorgridcolor": "white",
             "startlinecolor": "#2a3f5f"
            },
            "baxis": {
             "endlinecolor": "#2a3f5f",
             "gridcolor": "white",
             "linecolor": "white",
             "minorgridcolor": "white",
             "startlinecolor": "#2a3f5f"
            },
            "type": "carpet"
           }
          ],
          "choropleth": [
           {
            "colorbar": {
             "outlinewidth": 0,
             "ticks": ""
            },
            "type": "choropleth"
           }
          ],
          "contour": [
           {
            "colorbar": {
             "outlinewidth": 0,
             "ticks": ""
            },
            "colorscale": [
             [
              0,
              "#0d0887"
             ],
             [
              0.1111111111111111,
              "#46039f"
             ],
             [
              0.2222222222222222,
              "#7201a8"
             ],
             [
              0.3333333333333333,
              "#9c179e"
             ],
             [
              0.4444444444444444,
              "#bd3786"
             ],
             [
              0.5555555555555556,
              "#d8576b"
             ],
             [
              0.6666666666666666,
              "#ed7953"
             ],
             [
              0.7777777777777778,
              "#fb9f3a"
             ],
             [
              0.8888888888888888,
              "#fdca26"
             ],
             [
              1,
              "#f0f921"
             ]
            ],
            "type": "contour"
           }
          ],
          "contourcarpet": [
           {
            "colorbar": {
             "outlinewidth": 0,
             "ticks": ""
            },
            "type": "contourcarpet"
           }
          ],
          "heatmap": [
           {
            "colorbar": {
             "outlinewidth": 0,
             "ticks": ""
            },
            "colorscale": [
             [
              0,
              "#0d0887"
             ],
             [
              0.1111111111111111,
              "#46039f"
             ],
             [
              0.2222222222222222,
              "#7201a8"
             ],
             [
              0.3333333333333333,
              "#9c179e"
             ],
             [
              0.4444444444444444,
              "#bd3786"
             ],
             [
              0.5555555555555556,
              "#d8576b"
             ],
             [
              0.6666666666666666,
              "#ed7953"
             ],
             [
              0.7777777777777778,
              "#fb9f3a"
             ],
             [
              0.8888888888888888,
              "#fdca26"
             ],
             [
              1,
              "#f0f921"
             ]
            ],
            "type": "heatmap"
           }
          ],
          "histogram": [
           {
            "marker": {
             "pattern": {
              "fillmode": "overlay",
              "size": 10,
              "solidity": 0.2
             }
            },
            "type": "histogram"
           }
          ],
          "histogram2d": [
           {
            "colorbar": {
             "outlinewidth": 0,
             "ticks": ""
            },
            "colorscale": [
             [
              0,
              "#0d0887"
             ],
             [
              0.1111111111111111,
              "#46039f"
             ],
             [
              0.2222222222222222,
              "#7201a8"
             ],
             [
              0.3333333333333333,
              "#9c179e"
             ],
             [
              0.4444444444444444,
              "#bd3786"
             ],
             [
              0.5555555555555556,
              "#d8576b"
             ],
             [
              0.6666666666666666,
              "#ed7953"
             ],
             [
              0.7777777777777778,
              "#fb9f3a"
             ],
             [
              0.8888888888888888,
              "#fdca26"
             ],
             [
              1,
              "#f0f921"
             ]
            ],
            "type": "histogram2d"
           }
          ],
          "histogram2dcontour": [
           {
            "colorbar": {
             "outlinewidth": 0,
             "ticks": ""
            },
            "colorscale": [
             [
              0,
              "#0d0887"
             ],
             [
              0.1111111111111111,
              "#46039f"
             ],
             [
              0.2222222222222222,
              "#7201a8"
             ],
             [
              0.3333333333333333,
              "#9c179e"
             ],
             [
              0.4444444444444444,
              "#bd3786"
             ],
             [
              0.5555555555555556,
              "#d8576b"
             ],
             [
              0.6666666666666666,
              "#ed7953"
             ],
             [
              0.7777777777777778,
              "#fb9f3a"
             ],
             [
              0.8888888888888888,
              "#fdca26"
             ],
             [
              1,
              "#f0f921"
             ]
            ],
            "type": "histogram2dcontour"
           }
          ],
          "mesh3d": [
           {
            "colorbar": {
             "outlinewidth": 0,
             "ticks": ""
            },
            "type": "mesh3d"
           }
          ],
          "parcoords": [
           {
            "line": {
             "colorbar": {
              "outlinewidth": 0,
              "ticks": ""
             }
            },
            "type": "parcoords"
           }
          ],
          "pie": [
           {
            "automargin": true,
            "type": "pie"
           }
          ],
          "scatter": [
           {
            "fillpattern": {
             "fillmode": "overlay",
             "size": 10,
             "solidity": 0.2
            },
            "type": "scatter"
           }
          ],
          "scatter3d": [
           {
            "line": {
             "colorbar": {
              "outlinewidth": 0,
              "ticks": ""
             }
            },
            "marker": {
             "colorbar": {
              "outlinewidth": 0,
              "ticks": ""
             }
            },
            "type": "scatter3d"
           }
          ],
          "scattercarpet": [
           {
            "marker": {
             "colorbar": {
              "outlinewidth": 0,
              "ticks": ""
             }
            },
            "type": "scattercarpet"
           }
          ],
          "scattergeo": [
           {
            "marker": {
             "colorbar": {
              "outlinewidth": 0,
              "ticks": ""
             }
            },
            "type": "scattergeo"
           }
          ],
          "scattergl": [
           {
            "marker": {
             "colorbar": {
              "outlinewidth": 0,
              "ticks": ""
             }
            },
            "type": "scattergl"
           }
          ],
          "scattermap": [
           {
            "marker": {
             "colorbar": {
              "outlinewidth": 0,
              "ticks": ""
             }
            },
            "type": "scattermap"
           }
          ],
          "scattermapbox": [
           {
            "marker": {
             "colorbar": {
              "outlinewidth": 0,
              "ticks": ""
             }
            },
            "type": "scattermapbox"
           }
          ],
          "scatterpolar": [
           {
            "marker": {
             "colorbar": {
              "outlinewidth": 0,
              "ticks": ""
             }
            },
            "type": "scatterpolar"
           }
          ],
          "scatterpolargl": [
           {
            "marker": {
             "colorbar": {
              "outlinewidth": 0,
              "ticks": ""
             }
            },
            "type": "scatterpolargl"
           }
          ],
          "scatterternary": [
           {
            "marker": {
             "colorbar": {
              "outlinewidth": 0,
              "ticks": ""
             }
            },
            "type": "scatterternary"
           }
          ],
          "surface": [
           {
            "colorbar": {
             "outlinewidth": 0,
             "ticks": ""
            },
            "colorscale": [
             [
              0,
              "#0d0887"
             ],
             [
              0.1111111111111111,
              "#46039f"
             ],
             [
              0.2222222222222222,
              "#7201a8"
             ],
             [
              0.3333333333333333,
              "#9c179e"
             ],
             [
              0.4444444444444444,
              "#bd3786"
             ],
             [
              0.5555555555555556,
              "#d8576b"
             ],
             [
              0.6666666666666666,
              "#ed7953"
             ],
             [
              0.7777777777777778,
              "#fb9f3a"
             ],
             [
              0.8888888888888888,
              "#fdca26"
             ],
             [
              1,
              "#f0f921"
             ]
            ],
            "type": "surface"
           }
          ],
          "table": [
           {
            "cells": {
             "fill": {
              "color": "#EBF0F8"
             },
             "line": {
              "color": "white"
             }
            },
            "header": {
             "fill": {
              "color": "#C8D4E3"
             },
             "line": {
              "color": "white"
             }
            },
            "type": "table"
           }
          ]
         },
         "layout": {
          "annotationdefaults": {
           "arrowcolor": "#2a3f5f",
           "arrowhead": 0,
           "arrowwidth": 1
          },
          "autotypenumbers": "strict",
          "coloraxis": {
           "colorbar": {
            "outlinewidth": 0,
            "ticks": ""
           }
          },
          "colorscale": {
           "diverging": [
            [
             0,
             "#8e0152"
            ],
            [
             0.1,
             "#c51b7d"
            ],
            [
             0.2,
             "#de77ae"
            ],
            [
             0.3,
             "#f1b6da"
            ],
            [
             0.4,
             "#fde0ef"
            ],
            [
             0.5,
             "#f7f7f7"
            ],
            [
             0.6,
             "#e6f5d0"
            ],
            [
             0.7,
             "#b8e186"
            ],
            [
             0.8,
             "#7fbc41"
            ],
            [
             0.9,
             "#4d9221"
            ],
            [
             1,
             "#276419"
            ]
           ],
           "sequential": [
            [
             0,
             "#0d0887"
            ],
            [
             0.1111111111111111,
             "#46039f"
            ],
            [
             0.2222222222222222,
             "#7201a8"
            ],
            [
             0.3333333333333333,
             "#9c179e"
            ],
            [
             0.4444444444444444,
             "#bd3786"
            ],
            [
             0.5555555555555556,
             "#d8576b"
            ],
            [
             0.6666666666666666,
             "#ed7953"
            ],
            [
             0.7777777777777778,
             "#fb9f3a"
            ],
            [
             0.8888888888888888,
             "#fdca26"
            ],
            [
             1,
             "#f0f921"
            ]
           ],
           "sequentialminus": [
            [
             0,
             "#0d0887"
            ],
            [
             0.1111111111111111,
             "#46039f"
            ],
            [
             0.2222222222222222,
             "#7201a8"
            ],
            [
             0.3333333333333333,
             "#9c179e"
            ],
            [
             0.4444444444444444,
             "#bd3786"
            ],
            [
             0.5555555555555556,
             "#d8576b"
            ],
            [
             0.6666666666666666,
             "#ed7953"
            ],
            [
             0.7777777777777778,
             "#fb9f3a"
            ],
            [
             0.8888888888888888,
             "#fdca26"
            ],
            [
             1,
             "#f0f921"
            ]
           ]
          },
          "colorway": [
           "#636efa",
           "#EF553B",
           "#00cc96",
           "#ab63fa",
           "#FFA15A",
           "#19d3f3",
           "#FF6692",
           "#B6E880",
           "#FF97FF",
           "#FECB52"
          ],
          "font": {
           "color": "#2a3f5f"
          },
          "geo": {
           "bgcolor": "white",
           "lakecolor": "white",
           "landcolor": "#E5ECF6",
           "showlakes": true,
           "showland": true,
           "subunitcolor": "white"
          },
          "hoverlabel": {
           "align": "left"
          },
          "hovermode": "closest",
          "mapbox": {
           "style": "light"
          },
          "paper_bgcolor": "white",
          "plot_bgcolor": "#E5ECF6",
          "polar": {
           "angularaxis": {
            "gridcolor": "white",
            "linecolor": "white",
            "ticks": ""
           },
           "bgcolor": "#E5ECF6",
           "radialaxis": {
            "gridcolor": "white",
            "linecolor": "white",
            "ticks": ""
           }
          },
          "scene": {
           "xaxis": {
            "backgroundcolor": "#E5ECF6",
            "gridcolor": "white",
            "gridwidth": 2,
            "linecolor": "white",
            "showbackground": true,
            "ticks": "",
            "zerolinecolor": "white"
           },
           "yaxis": {
            "backgroundcolor": "#E5ECF6",
            "gridcolor": "white",
            "gridwidth": 2,
            "linecolor": "white",
            "showbackground": true,
            "ticks": "",
            "zerolinecolor": "white"
           },
           "zaxis": {
            "backgroundcolor": "#E5ECF6",
            "gridcolor": "white",
            "gridwidth": 2,
            "linecolor": "white",
            "showbackground": true,
            "ticks": "",
            "zerolinecolor": "white"
           }
          },
          "shapedefaults": {
           "line": {
            "color": "#2a3f5f"
           }
          },
          "ternary": {
           "aaxis": {
            "gridcolor": "white",
            "linecolor": "white",
            "ticks": ""
           },
           "baxis": {
            "gridcolor": "white",
            "linecolor": "white",
            "ticks": ""
           },
           "bgcolor": "#E5ECF6",
           "caxis": {
            "gridcolor": "white",
            "linecolor": "white",
            "ticks": ""
           }
          },
          "title": {
           "x": 0.05
          },
          "xaxis": {
           "automargin": true,
           "gridcolor": "white",
           "linecolor": "white",
           "ticks": "",
           "title": {
            "standoff": 15
           },
           "zerolinecolor": "white",
           "zerolinewidth": 2
          },
          "yaxis": {
           "automargin": true,
           "gridcolor": "white",
           "linecolor": "white",
           "ticks": "",
           "title": {
            "standoff": 15
           },
           "zerolinecolor": "white",
           "zerolinewidth": 2
          }
         }
        },
        "xaxis": {
         "anchor": "y",
         "domain": [
          0,
          1
         ],
         "title": {
          "text": "category"
         }
        },
        "yaxis": {
         "anchor": "x",
         "domain": [
          0,
          1
         ],
         "title": {
          "text": "value"
         }
        }
       }
      }
     },
     "metadata": {},
     "output_type": "display_data"
    }
   ],
   "source": [
    "px.bar(delay)"
   ]
  }
 ],
 "metadata": {
  "kernelspec": {
   "display_name": "Python 3",
   "language": "python",
   "name": "python3"
  },
  "language_info": {
   "codemirror_mode": {
    "name": "ipython",
    "version": 3
   },
   "file_extension": ".py",
   "mimetype": "text/x-python",
   "name": "python",
   "nbconvert_exporter": "python",
   "pygments_lexer": "ipython3",
   "version": "3.11.9"
  }
 },
 "nbformat": 4,
 "nbformat_minor": 5
}
