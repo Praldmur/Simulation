{
 "cells": [
  {
   "cell_type": "markdown",
   "id": "a46cadc0",
   "metadata": {},
   "source": [
    "Импортируйте библиотеку pandas как pd. Загрузите два датасета user_data и logs. Проверьте размер таблицы, типы переменных, посмотрите на описательную статистику. \n",
    "Вопрос: Сколько уникальных значений принимает переменная platform?"
   ]
  },
  {
   "cell_type": "code",
   "execution_count": 2,
   "id": "d17f3e1f",
   "metadata": {},
   "outputs": [],
   "source": [
    "import pandas as pd\n",
    "import numpy as np\n",
    "\n",
    "import seaborn as sns\n",
    "import matplotlib.pyplot as plt\n",
    "\n",
    "%matplotlib inline "
   ]
  },
  {
   "cell_type": "code",
   "execution_count": 3,
   "id": "38427691",
   "metadata": {},
   "outputs": [],
   "source": [
    "user_data = pd.read_csv(r'C:\\Users\\PC\\Desktop\\Софт\\Simulation\\Simulation\\data\\3_user_data.csv')"
   ]
  },
  {
   "cell_type": "code",
   "execution_count": 4,
   "id": "38aeda88",
   "metadata": {},
   "outputs": [],
   "source": [
    "logs = pd.read_csv(r'C:\\Users\\PC\\Desktop\\Софт\\Simulation\\Simulation\\data\\3_logs.csv')"
   ]
  },
  {
   "cell_type": "code",
   "execution_count": 5,
   "id": "90582b2b",
   "metadata": {},
   "outputs": [
    {
     "data": {
      "application/vnd.microsoft.datawrangler.viewer.v0+json": {
       "columns": [
        {
         "name": "index",
         "rawType": "int64",
         "type": "integer"
        },
        {
         "name": "client",
         "rawType": "int64",
         "type": "integer"
        },
        {
         "name": "premium",
         "rawType": "bool",
         "type": "boolean"
        },
        {
         "name": "age",
         "rawType": "int64",
         "type": "integer"
        }
       ],
       "ref": "729cc78b-c167-4b7a-80da-658480722810",
       "rows": [
        [
         "0",
         "46346",
         "False",
         "58"
        ],
        [
         "1",
         "4391",
         "False",
         "55"
        ],
        [
         "2",
         "27372",
         "False",
         "64"
        ],
        [
         "3",
         "11989",
         "False",
         "44"
        ],
        [
         "4",
         "60664",
         "False",
         "49"
        ]
       ],
       "shape": {
        "columns": 3,
        "rows": 5
       }
      },
      "text/html": [
       "<div>\n",
       "<style scoped>\n",
       "    .dataframe tbody tr th:only-of-type {\n",
       "        vertical-align: middle;\n",
       "    }\n",
       "\n",
       "    .dataframe tbody tr th {\n",
       "        vertical-align: top;\n",
       "    }\n",
       "\n",
       "    .dataframe thead th {\n",
       "        text-align: right;\n",
       "    }\n",
       "</style>\n",
       "<table border=\"1\" class=\"dataframe\">\n",
       "  <thead>\n",
       "    <tr style=\"text-align: right;\">\n",
       "      <th></th>\n",
       "      <th>client</th>\n",
       "      <th>premium</th>\n",
       "      <th>age</th>\n",
       "    </tr>\n",
       "  </thead>\n",
       "  <tbody>\n",
       "    <tr>\n",
       "      <th>0</th>\n",
       "      <td>46346</td>\n",
       "      <td>False</td>\n",
       "      <td>58</td>\n",
       "    </tr>\n",
       "    <tr>\n",
       "      <th>1</th>\n",
       "      <td>4391</td>\n",
       "      <td>False</td>\n",
       "      <td>55</td>\n",
       "    </tr>\n",
       "    <tr>\n",
       "      <th>2</th>\n",
       "      <td>27372</td>\n",
       "      <td>False</td>\n",
       "      <td>64</td>\n",
       "    </tr>\n",
       "    <tr>\n",
       "      <th>3</th>\n",
       "      <td>11989</td>\n",
       "      <td>False</td>\n",
       "      <td>44</td>\n",
       "    </tr>\n",
       "    <tr>\n",
       "      <th>4</th>\n",
       "      <td>60664</td>\n",
       "      <td>False</td>\n",
       "      <td>49</td>\n",
       "    </tr>\n",
       "  </tbody>\n",
       "</table>\n",
       "</div>"
      ],
      "text/plain": [
       "   client  premium  age\n",
       "0   46346    False   58\n",
       "1    4391    False   55\n",
       "2   27372    False   64\n",
       "3   11989    False   44\n",
       "4   60664    False   49"
      ]
     },
     "execution_count": 5,
     "metadata": {},
     "output_type": "execute_result"
    }
   ],
   "source": [
    "user_data.head()"
   ]
  },
  {
   "cell_type": "code",
   "execution_count": 6,
   "id": "f603bd2e",
   "metadata": {},
   "outputs": [
    {
     "data": {
      "application/vnd.microsoft.datawrangler.viewer.v0+json": {
       "columns": [
        {
         "name": "index",
         "rawType": "int64",
         "type": "integer"
        },
        {
         "name": "client",
         "rawType": "int64",
         "type": "integer"
        },
        {
         "name": "success",
         "rawType": "bool",
         "type": "boolean"
        },
        {
         "name": "platform",
         "rawType": "object",
         "type": "string"
        },
        {
         "name": "time",
         "rawType": "int64",
         "type": "integer"
        }
       ],
       "ref": "05c854c4-7c2a-4cea-89e5-a6711aaca247",
       "rows": [
        [
         "0",
         "40177",
         "True",
         "phone",
         "1585412212"
        ],
        [
         "1",
         "61468",
         "True",
         "phone",
         "1585425658"
        ],
        [
         "2",
         "35604",
         "False",
         "phone",
         "1585459894"
        ],
        [
         "3",
         "9961",
         "True",
         "phone",
         "1585400189"
        ],
        [
         "4",
         "10931",
         "True",
         "computer",
         "1585468629"
        ]
       ],
       "shape": {
        "columns": 4,
        "rows": 5
       }
      },
      "text/html": [
       "<div>\n",
       "<style scoped>\n",
       "    .dataframe tbody tr th:only-of-type {\n",
       "        vertical-align: middle;\n",
       "    }\n",
       "\n",
       "    .dataframe tbody tr th {\n",
       "        vertical-align: top;\n",
       "    }\n",
       "\n",
       "    .dataframe thead th {\n",
       "        text-align: right;\n",
       "    }\n",
       "</style>\n",
       "<table border=\"1\" class=\"dataframe\">\n",
       "  <thead>\n",
       "    <tr style=\"text-align: right;\">\n",
       "      <th></th>\n",
       "      <th>client</th>\n",
       "      <th>success</th>\n",
       "      <th>platform</th>\n",
       "      <th>time</th>\n",
       "    </tr>\n",
       "  </thead>\n",
       "  <tbody>\n",
       "    <tr>\n",
       "      <th>0</th>\n",
       "      <td>40177</td>\n",
       "      <td>True</td>\n",
       "      <td>phone</td>\n",
       "      <td>1585412212</td>\n",
       "    </tr>\n",
       "    <tr>\n",
       "      <th>1</th>\n",
       "      <td>61468</td>\n",
       "      <td>True</td>\n",
       "      <td>phone</td>\n",
       "      <td>1585425658</td>\n",
       "    </tr>\n",
       "    <tr>\n",
       "      <th>2</th>\n",
       "      <td>35604</td>\n",
       "      <td>False</td>\n",
       "      <td>phone</td>\n",
       "      <td>1585459894</td>\n",
       "    </tr>\n",
       "    <tr>\n",
       "      <th>3</th>\n",
       "      <td>9961</td>\n",
       "      <td>True</td>\n",
       "      <td>phone</td>\n",
       "      <td>1585400189</td>\n",
       "    </tr>\n",
       "    <tr>\n",
       "      <th>4</th>\n",
       "      <td>10931</td>\n",
       "      <td>True</td>\n",
       "      <td>computer</td>\n",
       "      <td>1585468629</td>\n",
       "    </tr>\n",
       "  </tbody>\n",
       "</table>\n",
       "</div>"
      ],
      "text/plain": [
       "   client  success  platform        time\n",
       "0   40177     True     phone  1585412212\n",
       "1   61468     True     phone  1585425658\n",
       "2   35604    False     phone  1585459894\n",
       "3    9961     True     phone  1585400189\n",
       "4   10931     True  computer  1585468629"
      ]
     },
     "execution_count": 6,
     "metadata": {},
     "output_type": "execute_result"
    }
   ],
   "source": [
    "logs.head()"
   ]
  },
  {
   "cell_type": "code",
   "execution_count": 7,
   "id": "34c45a6d",
   "metadata": {},
   "outputs": [
    {
     "name": "stdout",
     "output_type": "stream",
     "text": [
      "<class 'pandas.core.frame.DataFrame'>\n",
      "RangeIndex: 2954 entries, 0 to 2953\n",
      "Data columns (total 3 columns):\n",
      " #   Column   Non-Null Count  Dtype\n",
      "---  ------   --------------  -----\n",
      " 0   client   2954 non-null   int64\n",
      " 1   premium  2954 non-null   bool \n",
      " 2   age      2954 non-null   int64\n",
      "dtypes: bool(1), int64(2)\n",
      "memory usage: 49.2 KB\n"
     ]
    }
   ],
   "source": [
    "user_data.info()"
   ]
  },
  {
   "cell_type": "code",
   "execution_count": 8,
   "id": "8c4863e4",
   "metadata": {},
   "outputs": [
    {
     "name": "stdout",
     "output_type": "stream",
     "text": [
      "<class 'pandas.core.frame.DataFrame'>\n",
      "RangeIndex: 4500 entries, 0 to 4499\n",
      "Data columns (total 4 columns):\n",
      " #   Column    Non-Null Count  Dtype \n",
      "---  ------    --------------  ----- \n",
      " 0   client    4500 non-null   int64 \n",
      " 1   success   4500 non-null   bool  \n",
      " 2   platform  4500 non-null   object\n",
      " 3   time      4500 non-null   int64 \n",
      "dtypes: bool(1), int64(2), object(1)\n",
      "memory usage: 110.0+ KB\n"
     ]
    },
    {
     "data": {
      "application/vnd.microsoft.datawrangler.viewer.v0+json": {
       "columns": [
        {
         "name": "index",
         "rawType": "object",
         "type": "string"
        },
        {
         "name": "client",
         "rawType": "float64",
         "type": "float"
        },
        {
         "name": "success",
         "rawType": "object",
         "type": "unknown"
        },
        {
         "name": "platform",
         "rawType": "object",
         "type": "unknown"
        },
        {
         "name": "time",
         "rawType": "float64",
         "type": "float"
        }
       ],
       "ref": "bf000034-2f70-4656-bda6-03d63c7016e8",
       "rows": [
        [
         "count",
         "4500.0",
         "4500",
         "4500",
         "4500.0"
        ],
        [
         "unique",
         null,
         "2",
         "3",
         null
        ],
        [
         "top",
         null,
         "True",
         "phone",
         null
        ],
        [
         "freq",
         null,
         "3289",
         "2753",
         null
        ],
        [
         "mean",
         "50998.758",
         null,
         null,
         "1585440414.7095556"
        ],
        [
         "std",
         "28374.472494780777",
         null,
         null,
         "23148.661978768625"
        ],
        [
         "min",
         "40.0",
         null,
         null,
         "1585400002.0"
        ],
        [
         "25%",
         "27056.5",
         null,
         null,
         "1585420111.25"
        ],
        [
         "50%",
         "52659.0",
         null,
         null,
         "1585440386.0"
        ],
        [
         "75%",
         "76001.25",
         null,
         null,
         "1585460600.75"
        ],
        [
         "max",
         "99993.0",
         null,
         null,
         "1585479980.0"
        ]
       ],
       "shape": {
        "columns": 4,
        "rows": 11
       }
      },
      "text/html": [
       "<div>\n",
       "<style scoped>\n",
       "    .dataframe tbody tr th:only-of-type {\n",
       "        vertical-align: middle;\n",
       "    }\n",
       "\n",
       "    .dataframe tbody tr th {\n",
       "        vertical-align: top;\n",
       "    }\n",
       "\n",
       "    .dataframe thead th {\n",
       "        text-align: right;\n",
       "    }\n",
       "</style>\n",
       "<table border=\"1\" class=\"dataframe\">\n",
       "  <thead>\n",
       "    <tr style=\"text-align: right;\">\n",
       "      <th></th>\n",
       "      <th>client</th>\n",
       "      <th>success</th>\n",
       "      <th>platform</th>\n",
       "      <th>time</th>\n",
       "    </tr>\n",
       "  </thead>\n",
       "  <tbody>\n",
       "    <tr>\n",
       "      <th>count</th>\n",
       "      <td>4500.000000</td>\n",
       "      <td>4500</td>\n",
       "      <td>4500</td>\n",
       "      <td>4.500000e+03</td>\n",
       "    </tr>\n",
       "    <tr>\n",
       "      <th>unique</th>\n",
       "      <td>NaN</td>\n",
       "      <td>2</td>\n",
       "      <td>3</td>\n",
       "      <td>NaN</td>\n",
       "    </tr>\n",
       "    <tr>\n",
       "      <th>top</th>\n",
       "      <td>NaN</td>\n",
       "      <td>True</td>\n",
       "      <td>phone</td>\n",
       "      <td>NaN</td>\n",
       "    </tr>\n",
       "    <tr>\n",
       "      <th>freq</th>\n",
       "      <td>NaN</td>\n",
       "      <td>3289</td>\n",
       "      <td>2753</td>\n",
       "      <td>NaN</td>\n",
       "    </tr>\n",
       "    <tr>\n",
       "      <th>mean</th>\n",
       "      <td>50998.758000</td>\n",
       "      <td>NaN</td>\n",
       "      <td>NaN</td>\n",
       "      <td>1.585440e+09</td>\n",
       "    </tr>\n",
       "    <tr>\n",
       "      <th>std</th>\n",
       "      <td>28374.472495</td>\n",
       "      <td>NaN</td>\n",
       "      <td>NaN</td>\n",
       "      <td>2.314866e+04</td>\n",
       "    </tr>\n",
       "    <tr>\n",
       "      <th>min</th>\n",
       "      <td>40.000000</td>\n",
       "      <td>NaN</td>\n",
       "      <td>NaN</td>\n",
       "      <td>1.585400e+09</td>\n",
       "    </tr>\n",
       "    <tr>\n",
       "      <th>25%</th>\n",
       "      <td>27056.500000</td>\n",
       "      <td>NaN</td>\n",
       "      <td>NaN</td>\n",
       "      <td>1.585420e+09</td>\n",
       "    </tr>\n",
       "    <tr>\n",
       "      <th>50%</th>\n",
       "      <td>52659.000000</td>\n",
       "      <td>NaN</td>\n",
       "      <td>NaN</td>\n",
       "      <td>1.585440e+09</td>\n",
       "    </tr>\n",
       "    <tr>\n",
       "      <th>75%</th>\n",
       "      <td>76001.250000</td>\n",
       "      <td>NaN</td>\n",
       "      <td>NaN</td>\n",
       "      <td>1.585461e+09</td>\n",
       "    </tr>\n",
       "    <tr>\n",
       "      <th>max</th>\n",
       "      <td>99993.000000</td>\n",
       "      <td>NaN</td>\n",
       "      <td>NaN</td>\n",
       "      <td>1.585480e+09</td>\n",
       "    </tr>\n",
       "  </tbody>\n",
       "</table>\n",
       "</div>"
      ],
      "text/plain": [
       "              client success platform          time\n",
       "count    4500.000000    4500     4500  4.500000e+03\n",
       "unique           NaN       2        3           NaN\n",
       "top              NaN    True    phone           NaN\n",
       "freq             NaN    3289     2753           NaN\n",
       "mean    50998.758000     NaN      NaN  1.585440e+09\n",
       "std     28374.472495     NaN      NaN  2.314866e+04\n",
       "min        40.000000     NaN      NaN  1.585400e+09\n",
       "25%     27056.500000     NaN      NaN  1.585420e+09\n",
       "50%     52659.000000     NaN      NaN  1.585440e+09\n",
       "75%     76001.250000     NaN      NaN  1.585461e+09\n",
       "max     99993.000000     NaN      NaN  1.585480e+09"
      ]
     },
     "execution_count": 8,
     "metadata": {},
     "output_type": "execute_result"
    }
   ],
   "source": [
    "logs.info()\n",
    "logs.describe(include='all')"
   ]
  },
  {
   "cell_type": "markdown",
   "id": "f93b88af",
   "metadata": {},
   "source": [
    "Какой клиент совершил больше всего успешных операций?\n",
    "Если несколько пользователей совершили одинаковое число успешных действий, перечислите их идентификаторы (client) через запятую и пробел в порядке возрастания. Например:\n",
    "12, 123, 456"
   ]
  },
  {
   "cell_type": "code",
   "execution_count": 10,
   "id": "e1fbe628",
   "metadata": {},
   "outputs": [],
   "source": [
    "success_counts = logs.loc[logs.success].client.value_counts()"
   ]
  },
  {
   "cell_type": "code",
   "execution_count": 11,
   "id": "a4a93ee6",
   "metadata": {},
   "outputs": [],
   "source": [
    "max_num = success_counts.max()"
   ]
  },
  {
   "cell_type": "code",
   "execution_count": 12,
   "id": "0d1b2ca4",
   "metadata": {},
   "outputs": [],
   "source": [
    "max_success_users = success_counts.loc[success_counts == max_num]"
   ]
  },
  {
   "cell_type": "code",
   "execution_count": 13,
   "id": "76631236",
   "metadata": {},
   "outputs": [
    {
     "data": {
      "text/plain": [
       "Index([12179, 28719, 36165, 52870, 61468, 61473, 78349, 82563, 92584], dtype='int64', name='client')"
      ]
     },
     "execution_count": 13,
     "metadata": {},
     "output_type": "execute_result"
    }
   ],
   "source": [
    "max_success_users.index.sort_values()"
   ]
  },
  {
   "cell_type": "markdown",
   "id": "74041d79",
   "metadata": {},
   "source": [
    "С какой платформы осуществляется наибольшее количество успешных операций?"
   ]
  },
  {
   "cell_type": "code",
   "execution_count": 34,
   "id": "19c515bd",
   "metadata": {},
   "outputs": [
    {
     "data": {
      "text/plain": [
       "'phone'"
      ]
     },
     "execution_count": 34,
     "metadata": {},
     "output_type": "execute_result"
    }
   ],
   "source": [
    "logs.loc[logs.success].platform.value_counts().idxmax()"
   ]
  },
  {
   "cell_type": "markdown",
   "id": "b4b83ee8",
   "metadata": {},
   "source": [
    "Какая платформа наиболее популярна среди премиумных клиентов?"
   ]
  },
  {
   "cell_type": "code",
   "execution_count": 37,
   "id": "388ad637",
   "metadata": {},
   "outputs": [],
   "source": [
    "full_ds = logs.merge(user_data, on = 'client')"
   ]
  },
  {
   "cell_type": "code",
   "execution_count": 40,
   "id": "90bb7b34",
   "metadata": {},
   "outputs": [
    {
     "data": {
      "application/vnd.microsoft.datawrangler.viewer.v0+json": {
       "columns": [
        {
         "name": "index",
         "rawType": "int64",
         "type": "integer"
        },
        {
         "name": "client",
         "rawType": "int64",
         "type": "integer"
        },
        {
         "name": "success",
         "rawType": "bool",
         "type": "boolean"
        },
        {
         "name": "platform",
         "rawType": "object",
         "type": "string"
        },
        {
         "name": "time",
         "rawType": "int64",
         "type": "integer"
        },
        {
         "name": "premium",
         "rawType": "bool",
         "type": "boolean"
        },
        {
         "name": "age",
         "rawType": "int64",
         "type": "integer"
        }
       ],
       "ref": "3d81fa6f-66a5-4856-b550-c2b3d149b8b8",
       "rows": [
        [
         "0",
         "61468",
         "True",
         "phone",
         "1585425658",
         "False",
         "25"
        ],
        [
         "1",
         "35604",
         "False",
         "phone",
         "1585459894",
         "True",
         "65"
        ],
        [
         "2",
         "10931",
         "True",
         "computer",
         "1585468629",
         "False",
         "28"
        ],
        [
         "3",
         "41928",
         "True",
         "phone",
         "1585446772",
         "False",
         "46"
        ],
        [
         "4",
         "48925",
         "True",
         "phone",
         "1585467880",
         "False",
         "33"
        ]
       ],
       "shape": {
        "columns": 6,
        "rows": 5
       }
      },
      "text/html": [
       "<div>\n",
       "<style scoped>\n",
       "    .dataframe tbody tr th:only-of-type {\n",
       "        vertical-align: middle;\n",
       "    }\n",
       "\n",
       "    .dataframe tbody tr th {\n",
       "        vertical-align: top;\n",
       "    }\n",
       "\n",
       "    .dataframe thead th {\n",
       "        text-align: right;\n",
       "    }\n",
       "</style>\n",
       "<table border=\"1\" class=\"dataframe\">\n",
       "  <thead>\n",
       "    <tr style=\"text-align: right;\">\n",
       "      <th></th>\n",
       "      <th>client</th>\n",
       "      <th>success</th>\n",
       "      <th>platform</th>\n",
       "      <th>time</th>\n",
       "      <th>premium</th>\n",
       "      <th>age</th>\n",
       "    </tr>\n",
       "  </thead>\n",
       "  <tbody>\n",
       "    <tr>\n",
       "      <th>0</th>\n",
       "      <td>61468</td>\n",
       "      <td>True</td>\n",
       "      <td>phone</td>\n",
       "      <td>1585425658</td>\n",
       "      <td>False</td>\n",
       "      <td>25</td>\n",
       "    </tr>\n",
       "    <tr>\n",
       "      <th>1</th>\n",
       "      <td>35604</td>\n",
       "      <td>False</td>\n",
       "      <td>phone</td>\n",
       "      <td>1585459894</td>\n",
       "      <td>True</td>\n",
       "      <td>65</td>\n",
       "    </tr>\n",
       "    <tr>\n",
       "      <th>2</th>\n",
       "      <td>10931</td>\n",
       "      <td>True</td>\n",
       "      <td>computer</td>\n",
       "      <td>1585468629</td>\n",
       "      <td>False</td>\n",
       "      <td>28</td>\n",
       "    </tr>\n",
       "    <tr>\n",
       "      <th>3</th>\n",
       "      <td>41928</td>\n",
       "      <td>True</td>\n",
       "      <td>phone</td>\n",
       "      <td>1585446772</td>\n",
       "      <td>False</td>\n",
       "      <td>46</td>\n",
       "    </tr>\n",
       "    <tr>\n",
       "      <th>4</th>\n",
       "      <td>48925</td>\n",
       "      <td>True</td>\n",
       "      <td>phone</td>\n",
       "      <td>1585467880</td>\n",
       "      <td>False</td>\n",
       "      <td>33</td>\n",
       "    </tr>\n",
       "  </tbody>\n",
       "</table>\n",
       "</div>"
      ],
      "text/plain": [
       "   client  success  platform        time  premium  age\n",
       "0   61468     True     phone  1585425658    False   25\n",
       "1   35604    False     phone  1585459894     True   65\n",
       "2   10931     True  computer  1585468629    False   28\n",
       "3   41928     True     phone  1585446772    False   46\n",
       "4   48925     True     phone  1585467880    False   33"
      ]
     },
     "execution_count": 40,
     "metadata": {},
     "output_type": "execute_result"
    }
   ],
   "source": [
    "full_ds.head()"
   ]
  },
  {
   "cell_type": "code",
   "execution_count": 43,
   "id": "08914e5f",
   "metadata": {},
   "outputs": [
    {
     "data": {
      "text/plain": [
       "'phone'"
      ]
     },
     "execution_count": 43,
     "metadata": {},
     "output_type": "execute_result"
    }
   ],
   "source": [
    "full_ds.loc[full_ds.premium].platform.value_counts().idxmax()"
   ]
  },
  {
   "cell_type": "markdown",
   "id": "5e1cd21f",
   "metadata": {},
   "source": [
    "Визуализируйте распределение возраста клиентов в зависимости от типа клиента (обычный или премиум), используя библиотеку seaborn с параметрами цвета по умолчанию. Какой график получится в результате? Используйте датасет, который вы получили на предыдущем шаге."
   ]
  },
  {
   "cell_type": "code",
   "execution_count": 46,
   "id": "8d2be842",
   "metadata": {},
   "outputs": [
    {
     "data": {
      "text/plain": [
       "<seaborn.axisgrid.FacetGrid at 0x216346ba3d0>"
      ]
     },
     "execution_count": 46,
     "metadata": {},
     "output_type": "execute_result"
    },
    {
     "data": {
      "image/png": "[encoded data removed]",
      "text/plain": [
       "<Figure size 584.875x500 with 1 Axes>"
      ]
     },
     "metadata": {},
     "output_type": "display_data"
    }
   ],
   "source": [
    "sns.displot(data = full_ds, x='age', hue='premium', kde= True, kind='hist', stat='density', common_norm=False, bins=14)"
   ]
  },
  {
   "cell_type": "markdown",
   "id": "929be52d",
   "metadata": {},
   "source": [
    "Постройте график распределения числа успешных операций: \n",
    "•\tx – число успешных операций\n",
    "•\ty – число клиентов, совершивших столько успешных операций"
   ]
  },
  {
   "cell_type": "code",
   "execution_count": 47,
   "id": "72140aac",
   "metadata": {},
   "outputs": [],
   "source": [
    "success_counts = logs.loc[logs.success].client.value_counts()"
   ]
  },
  {
   "cell_type": "code",
   "execution_count": null,
   "id": "90bfed8a",
   "metadata": {},
   "outputs": [],
   "source": [
    "success_counts.head()"
   ]
  },
  {
   "cell_type": "code",
   "execution_count": 49,
   "id": "f2750a06",
   "metadata": {},
   "outputs": [],
   "source": [
    "success_counts = success_counts.rename('success')"
   ]
  },
  {
   "cell_type": "code",
   "execution_count": 51,
   "id": "92c00dd4",
   "metadata": {},
   "outputs": [
    {
     "data": {
      "text/plain": [
       "<Axes: xlabel='success', ylabel='count'>"
      ]
     },
     "execution_count": 51,
     "metadata": {},
     "output_type": "execute_result"
    },
    {
     "data": {
      "image/png": "[encoded data removed]",
      "text/plain": [
       "<Figure size 640x480 with 1 Axes>"
      ]
     },
     "metadata": {},
     "output_type": "display_data"
    }
   ],
   "source": [
    "sns.countplot(x=success_counts)"
   ]
  },
  {
   "cell_type": "markdown",
   "id": "bcd6acf0",
   "metadata": {},
   "source": [
    "Визуализируйте число успешных операций, сделанных на платформе computer, в зависимости от возраста, используя sns.countplot. По оси x – возраст, y – число успешных операций. Если размер графика получается небольшим, можно добавить plt.figure(figsize=(12, 8)) в начало соответствующей ячейки. "
   ]
  },
  {
   "cell_type": "code",
   "execution_count": 83,
   "id": "f1fb40e9",
   "metadata": {},
   "outputs": [],
   "source": [
    "success_counts_comp = full_ds.loc[(full_ds.success) & (full_ds.platform == 'computer')]"
   ]
  },
  {
   "cell_type": "code",
   "execution_count": 87,
   "id": "185b2591",
   "metadata": {},
   "outputs": [
    {
     "data": {
      "text/plain": [
       "<Axes: xlabel='age', ylabel='count'>"
      ]
     },
     "execution_count": 87,
     "metadata": {},
     "output_type": "execute_result"
    },
    {
     "data": {
      "image/png": "[encoded data removed]",
      "text/plain": [
       "<Figure size 1200x800 with 1 Axes>"
      ]
     },
     "metadata": {},
     "output_type": "display_data"
    }
   ],
   "source": [
    "plt.figure(figsize=(12, 8))\n",
    "sns.countplot(data = success_counts_comp, x = 'age')"
   ]
  }
 ],
 "metadata": {
  "kernelspec": {
   "display_name": "Python 3",
   "language": "python",
   "name": "python3"
  },
  "language_info": {
   "codemirror_mode": {
    "name": "ipython",
    "version": 3
   },
   "file_extension": ".py",
   "mimetype": "text/x-python",
   "name": "python",
   "nbconvert_exporter": "python",
   "pygments_lexer": "ipython3",
   "version": "3.11.9"
  }
 },
 "nbformat": 4,
 "nbformat_minor": 5
}
