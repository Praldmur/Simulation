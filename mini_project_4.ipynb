{
 "cells": [
  {
   "cell_type": "code",
   "execution_count": 76,
   "id": "ae533067",
   "metadata": {},
   "outputs": [],
   "source": [
    "import pandas as pd\n",
    "import os\n",
    "import numpy as np\n",
    "\n",
    "import seaborn as sns\n",
    "import matplotlib.pyplot as plt\n",
    "\n",
    "%matplotlib inline "
   ]
  },
  {
   "cell_type": "code",
   "execution_count": 8,
   "id": "7fcb00f1",
   "metadata": {},
   "outputs": [],
   "source": [
    "folder_path = r'C:\\Users\\PC\\Desktop\\Софт\\Simulation\\Simulation\\data\\4_data'"
   ]
  },
  {
   "cell_type": "code",
   "execution_count": 9,
   "id": "a0e3d4fd",
   "metadata": {},
   "outputs": [
    {
     "name": "stdout",
     "output_type": "stream",
     "text": [
      "('C:\\\\Users\\\\PC\\\\Desktop\\\\Софт\\\\Simulation\\\\Simulation\\\\data\\\\4_data', ['2020-12-03', '2020-12-04', '2020-12-05', '2020-12-06', '2020-12-07', '2020-12-08', '2020-12-09'], [])\n",
      "('C:\\\\Users\\\\PC\\\\Desktop\\\\Софт\\\\Simulation\\\\Simulation\\\\data\\\\4_data\\\\2020-12-03', ['Alexey_Smirnov', 'Anton_Petrov', 'Kirill_Petrov', 'Petr_Fedorov', 'Vasiliy_Ivanov', 'Vasiliy_Petrov'], [])\n",
      "('C:\\\\Users\\\\PC\\\\Desktop\\\\Софт\\\\Simulation\\\\Simulation\\\\data\\\\4_data\\\\2020-12-03\\\\Alexey_Smirnov', [], ['data.csv'])\n",
      "('C:\\\\Users\\\\PC\\\\Desktop\\\\Софт\\\\Simulation\\\\Simulation\\\\data\\\\4_data\\\\2020-12-03\\\\Anton_Petrov', [], ['data.csv'])\n",
      "('C:\\\\Users\\\\PC\\\\Desktop\\\\Софт\\\\Simulation\\\\Simulation\\\\data\\\\4_data\\\\2020-12-03\\\\Kirill_Petrov', [], ['data.csv'])\n",
      "('C:\\\\Users\\\\PC\\\\Desktop\\\\Софт\\\\Simulation\\\\Simulation\\\\data\\\\4_data\\\\2020-12-03\\\\Petr_Fedorov', [], ['data.csv'])\n",
      "('C:\\\\Users\\\\PC\\\\Desktop\\\\Софт\\\\Simulation\\\\Simulation\\\\data\\\\4_data\\\\2020-12-03\\\\Vasiliy_Ivanov', [], ['data.csv'])\n",
      "('C:\\\\Users\\\\PC\\\\Desktop\\\\Софт\\\\Simulation\\\\Simulation\\\\data\\\\4_data\\\\2020-12-03\\\\Vasiliy_Petrov', [], ['data.csv'])\n",
      "('C:\\\\Users\\\\PC\\\\Desktop\\\\Софт\\\\Simulation\\\\Simulation\\\\data\\\\4_data\\\\2020-12-04', ['Alexey_Smirnov', 'Kirill_Fedorov', 'Petr_Fedorov', 'Petr_Ivanov', 'Petr_Smirnov', 'Rostislav_Fedorov', 'Rostislav_Ivanov', 'Rostislav_Smirnov', 'Vasiliy_Ivanov'], [])\n",
      "('C:\\\\Users\\\\PC\\\\Desktop\\\\Софт\\\\Simulation\\\\Simulation\\\\data\\\\4_data\\\\2020-12-04\\\\Alexey_Smirnov', [], ['data.csv'])\n",
      "('C:\\\\Users\\\\PC\\\\Desktop\\\\Софт\\\\Simulation\\\\Simulation\\\\data\\\\4_data\\\\2020-12-04\\\\Kirill_Fedorov', [], ['data.csv'])\n",
      "('C:\\\\Users\\\\PC\\\\Desktop\\\\Софт\\\\Simulation\\\\Simulation\\\\data\\\\4_data\\\\2020-12-04\\\\Petr_Fedorov', [], ['data.csv'])\n",
      "('C:\\\\Users\\\\PC\\\\Desktop\\\\Софт\\\\Simulation\\\\Simulation\\\\data\\\\4_data\\\\2020-12-04\\\\Petr_Ivanov', [], ['data.csv'])\n",
      "('C:\\\\Users\\\\PC\\\\Desktop\\\\Софт\\\\Simulation\\\\Simulation\\\\data\\\\4_data\\\\2020-12-04\\\\Petr_Smirnov', [], ['data.csv'])\n",
      "('C:\\\\Users\\\\PC\\\\Desktop\\\\Софт\\\\Simulation\\\\Simulation\\\\data\\\\4_data\\\\2020-12-04\\\\Rostislav_Fedorov', [], ['data.csv'])\n",
      "('C:\\\\Users\\\\PC\\\\Desktop\\\\Софт\\\\Simulation\\\\Simulation\\\\data\\\\4_data\\\\2020-12-04\\\\Rostislav_Ivanov', [], ['data.csv'])\n",
      "('C:\\\\Users\\\\PC\\\\Desktop\\\\Софт\\\\Simulation\\\\Simulation\\\\data\\\\4_data\\\\2020-12-04\\\\Rostislav_Smirnov', [], ['data.csv'])\n",
      "('C:\\\\Users\\\\PC\\\\Desktop\\\\Софт\\\\Simulation\\\\Simulation\\\\data\\\\4_data\\\\2020-12-04\\\\Vasiliy_Ivanov', [], ['data.csv'])\n",
      "('C:\\\\Users\\\\PC\\\\Desktop\\\\Софт\\\\Simulation\\\\Simulation\\\\data\\\\4_data\\\\2020-12-05', ['Alexey_Fedorov', 'Alexey_Petrov', 'Kirill_Smirnov', 'Petr_Ivanov', 'Petr_Smirnov', 'Rostislav_Smirnov'], [])\n",
      "('C:\\\\Users\\\\PC\\\\Desktop\\\\Софт\\\\Simulation\\\\Simulation\\\\data\\\\4_data\\\\2020-12-05\\\\Alexey_Fedorov', [], ['data.csv'])\n",
      "('C:\\\\Users\\\\PC\\\\Desktop\\\\Софт\\\\Simulation\\\\Simulation\\\\data\\\\4_data\\\\2020-12-05\\\\Alexey_Petrov', [], ['data.csv'])\n",
      "('C:\\\\Users\\\\PC\\\\Desktop\\\\Софт\\\\Simulation\\\\Simulation\\\\data\\\\4_data\\\\2020-12-05\\\\Kirill_Smirnov', [], ['data.csv'])\n",
      "('C:\\\\Users\\\\PC\\\\Desktop\\\\Софт\\\\Simulation\\\\Simulation\\\\data\\\\4_data\\\\2020-12-05\\\\Petr_Ivanov', [], ['data.csv'])\n",
      "('C:\\\\Users\\\\PC\\\\Desktop\\\\Софт\\\\Simulation\\\\Simulation\\\\data\\\\4_data\\\\2020-12-05\\\\Petr_Smirnov', [], ['data.csv'])\n",
      "('C:\\\\Users\\\\PC\\\\Desktop\\\\Софт\\\\Simulation\\\\Simulation\\\\data\\\\4_data\\\\2020-12-05\\\\Rostislav_Smirnov', [], ['data.csv'])\n",
      "('C:\\\\Users\\\\PC\\\\Desktop\\\\Софт\\\\Simulation\\\\Simulation\\\\data\\\\4_data\\\\2020-12-06', ['Vasiliy_Fedorov'], [])\n",
      "('C:\\\\Users\\\\PC\\\\Desktop\\\\Софт\\\\Simulation\\\\Simulation\\\\data\\\\4_data\\\\2020-12-06\\\\Vasiliy_Fedorov', [], ['data.csv'])\n",
      "('C:\\\\Users\\\\PC\\\\Desktop\\\\Софт\\\\Simulation\\\\Simulation\\\\data\\\\4_data\\\\2020-12-07', ['Alexey_Fedorov', 'Alexey_Ivanov', 'Alexey_Smirnov', 'Anton_Ivanov', 'Anton_Smirnov', 'Kirill_Fedorov', 'Petr_Fedorov', 'Petr_Smirnov', 'Rostislav_Fedorov', 'Vasiliy_Ivanov'], [])\n",
      "('C:\\\\Users\\\\PC\\\\Desktop\\\\Софт\\\\Simulation\\\\Simulation\\\\data\\\\4_data\\\\2020-12-07\\\\Alexey_Fedorov', [], ['data.csv'])\n",
      "('C:\\\\Users\\\\PC\\\\Desktop\\\\Софт\\\\Simulation\\\\Simulation\\\\data\\\\4_data\\\\2020-12-07\\\\Alexey_Ivanov', [], ['data.csv'])\n",
      "('C:\\\\Users\\\\PC\\\\Desktop\\\\Софт\\\\Simulation\\\\Simulation\\\\data\\\\4_data\\\\2020-12-07\\\\Alexey_Smirnov', [], ['data.csv'])\n",
      "('C:\\\\Users\\\\PC\\\\Desktop\\\\Софт\\\\Simulation\\\\Simulation\\\\data\\\\4_data\\\\2020-12-07\\\\Anton_Ivanov', [], ['data.csv'])\n",
      "('C:\\\\Users\\\\PC\\\\Desktop\\\\Софт\\\\Simulation\\\\Simulation\\\\data\\\\4_data\\\\2020-12-07\\\\Anton_Smirnov', [], ['data.csv'])\n",
      "('C:\\\\Users\\\\PC\\\\Desktop\\\\Софт\\\\Simulation\\\\Simulation\\\\data\\\\4_data\\\\2020-12-07\\\\Kirill_Fedorov', [], ['data.csv'])\n",
      "('C:\\\\Users\\\\PC\\\\Desktop\\\\Софт\\\\Simulation\\\\Simulation\\\\data\\\\4_data\\\\2020-12-07\\\\Petr_Fedorov', [], ['data.csv'])\n",
      "('C:\\\\Users\\\\PC\\\\Desktop\\\\Софт\\\\Simulation\\\\Simulation\\\\data\\\\4_data\\\\2020-12-07\\\\Petr_Smirnov', [], ['data.csv'])\n",
      "('C:\\\\Users\\\\PC\\\\Desktop\\\\Софт\\\\Simulation\\\\Simulation\\\\data\\\\4_data\\\\2020-12-07\\\\Rostislav_Fedorov', [], ['data.csv'])\n",
      "('C:\\\\Users\\\\PC\\\\Desktop\\\\Софт\\\\Simulation\\\\Simulation\\\\data\\\\4_data\\\\2020-12-07\\\\Vasiliy_Ivanov', [], ['data.csv'])\n",
      "('C:\\\\Users\\\\PC\\\\Desktop\\\\Софт\\\\Simulation\\\\Simulation\\\\data\\\\4_data\\\\2020-12-08', ['Alexey_Fedorov', 'Anton_Smirnov', 'Kirill_Smirnov', 'Petr_Petrov', 'Rostislav_Petrov'], [])\n",
      "('C:\\\\Users\\\\PC\\\\Desktop\\\\Софт\\\\Simulation\\\\Simulation\\\\data\\\\4_data\\\\2020-12-08\\\\Alexey_Fedorov', [], ['data.csv'])\n",
      "('C:\\\\Users\\\\PC\\\\Desktop\\\\Софт\\\\Simulation\\\\Simulation\\\\data\\\\4_data\\\\2020-12-08\\\\Anton_Smirnov', [], ['data.csv'])\n",
      "('C:\\\\Users\\\\PC\\\\Desktop\\\\Софт\\\\Simulation\\\\Simulation\\\\data\\\\4_data\\\\2020-12-08\\\\Kirill_Smirnov', [], ['data.csv'])\n",
      "('C:\\\\Users\\\\PC\\\\Desktop\\\\Софт\\\\Simulation\\\\Simulation\\\\data\\\\4_data\\\\2020-12-08\\\\Petr_Petrov', [], ['data.csv'])\n",
      "('C:\\\\Users\\\\PC\\\\Desktop\\\\Софт\\\\Simulation\\\\Simulation\\\\data\\\\4_data\\\\2020-12-08\\\\Rostislav_Petrov', [], ['data.csv'])\n",
      "('C:\\\\Users\\\\PC\\\\Desktop\\\\Софт\\\\Simulation\\\\Simulation\\\\data\\\\4_data\\\\2020-12-09', ['Alexey_Smirnov', 'Anton_Ivanov', 'Anton_Petrov', 'Anton_Smirnov', 'Petr_Fedorov', 'Rostislav_Petrov', 'Vasiliy_Ivanov'], [])\n",
      "('C:\\\\Users\\\\PC\\\\Desktop\\\\Софт\\\\Simulation\\\\Simulation\\\\data\\\\4_data\\\\2020-12-09\\\\Alexey_Smirnov', [], ['data.csv'])\n",
      "('C:\\\\Users\\\\PC\\\\Desktop\\\\Софт\\\\Simulation\\\\Simulation\\\\data\\\\4_data\\\\2020-12-09\\\\Anton_Ivanov', [], ['data.csv'])\n",
      "('C:\\\\Users\\\\PC\\\\Desktop\\\\Софт\\\\Simulation\\\\Simulation\\\\data\\\\4_data\\\\2020-12-09\\\\Anton_Petrov', [], ['data.csv'])\n",
      "('C:\\\\Users\\\\PC\\\\Desktop\\\\Софт\\\\Simulation\\\\Simulation\\\\data\\\\4_data\\\\2020-12-09\\\\Anton_Smirnov', [], ['data.csv'])\n",
      "('C:\\\\Users\\\\PC\\\\Desktop\\\\Софт\\\\Simulation\\\\Simulation\\\\data\\\\4_data\\\\2020-12-09\\\\Petr_Fedorov', [], ['data.csv'])\n",
      "('C:\\\\Users\\\\PC\\\\Desktop\\\\Софт\\\\Simulation\\\\Simulation\\\\data\\\\4_data\\\\2020-12-09\\\\Rostislav_Petrov', [], ['data.csv'])\n",
      "('C:\\\\Users\\\\PC\\\\Desktop\\\\Софт\\\\Simulation\\\\Simulation\\\\data\\\\4_data\\\\2020-12-09\\\\Vasiliy_Ivanov', [], ['data.csv'])\n"
     ]
    }
   ],
   "source": [
    "tree = os.walk(folder_path)\n",
    "# path, directories (folders), files\n",
    "for item in tree:\n",
    "    print(item)"
   ]
  },
  {
   "cell_type": "code",
   "execution_count": 10,
   "id": "9f5857d6",
   "metadata": {},
   "outputs": [
    {
     "name": "stdout",
     "output_type": "stream",
     "text": [
      "C:\\Users\\PC\\Desktop\\Софт\\Simulation\\Simulation\\data\\4_data ['2020-12-03', '2020-12-04', '2020-12-05', '2020-12-06', '2020-12-07', '2020-12-08', '2020-12-09'] []\n",
      "C:\\Users\\PC\\Desktop\\Софт\\Simulation\\Simulation\\data\\4_data\\2020-12-03 ['Alexey_Smirnov', 'Anton_Petrov', 'Kirill_Petrov', 'Petr_Fedorov', 'Vasiliy_Ivanov', 'Vasiliy_Petrov'] []\n",
      "C:\\Users\\PC\\Desktop\\Софт\\Simulation\\Simulation\\data\\4_data\\2020-12-03\\Alexey_Smirnov [] ['data.csv']\n",
      "C:\\Users\\PC\\Desktop\\Софт\\Simulation\\Simulation\\data\\4_data\\2020-12-03\\Anton_Petrov [] ['data.csv']\n",
      "C:\\Users\\PC\\Desktop\\Софт\\Simulation\\Simulation\\data\\4_data\\2020-12-03\\Kirill_Petrov [] ['data.csv']\n",
      "C:\\Users\\PC\\Desktop\\Софт\\Simulation\\Simulation\\data\\4_data\\2020-12-03\\Petr_Fedorov [] ['data.csv']\n",
      "C:\\Users\\PC\\Desktop\\Софт\\Simulation\\Simulation\\data\\4_data\\2020-12-03\\Vasiliy_Ivanov [] ['data.csv']\n",
      "C:\\Users\\PC\\Desktop\\Софт\\Simulation\\Simulation\\data\\4_data\\2020-12-03\\Vasiliy_Petrov [] ['data.csv']\n",
      "C:\\Users\\PC\\Desktop\\Софт\\Simulation\\Simulation\\data\\4_data\\2020-12-04 ['Alexey_Smirnov', 'Kirill_Fedorov', 'Petr_Fedorov', 'Petr_Ivanov', 'Petr_Smirnov', 'Rostislav_Fedorov', 'Rostislav_Ivanov', 'Rostislav_Smirnov', 'Vasiliy_Ivanov'] []\n",
      "C:\\Users\\PC\\Desktop\\Софт\\Simulation\\Simulation\\data\\4_data\\2020-12-04\\Alexey_Smirnov [] ['data.csv']\n",
      "C:\\Users\\PC\\Desktop\\Софт\\Simulation\\Simulation\\data\\4_data\\2020-12-04\\Kirill_Fedorov [] ['data.csv']\n",
      "C:\\Users\\PC\\Desktop\\Софт\\Simulation\\Simulation\\data\\4_data\\2020-12-04\\Petr_Fedorov [] ['data.csv']\n",
      "C:\\Users\\PC\\Desktop\\Софт\\Simulation\\Simulation\\data\\4_data\\2020-12-04\\Petr_Ivanov [] ['data.csv']\n",
      "C:\\Users\\PC\\Desktop\\Софт\\Simulation\\Simulation\\data\\4_data\\2020-12-04\\Petr_Smirnov [] ['data.csv']\n",
      "C:\\Users\\PC\\Desktop\\Софт\\Simulation\\Simulation\\data\\4_data\\2020-12-04\\Rostislav_Fedorov [] ['data.csv']\n",
      "C:\\Users\\PC\\Desktop\\Софт\\Simulation\\Simulation\\data\\4_data\\2020-12-04\\Rostislav_Ivanov [] ['data.csv']\n",
      "C:\\Users\\PC\\Desktop\\Софт\\Simulation\\Simulation\\data\\4_data\\2020-12-04\\Rostislav_Smirnov [] ['data.csv']\n",
      "C:\\Users\\PC\\Desktop\\Софт\\Simulation\\Simulation\\data\\4_data\\2020-12-04\\Vasiliy_Ivanov [] ['data.csv']\n",
      "C:\\Users\\PC\\Desktop\\Софт\\Simulation\\Simulation\\data\\4_data\\2020-12-05 ['Alexey_Fedorov', 'Alexey_Petrov', 'Kirill_Smirnov', 'Petr_Ivanov', 'Petr_Smirnov', 'Rostislav_Smirnov'] []\n",
      "C:\\Users\\PC\\Desktop\\Софт\\Simulation\\Simulation\\data\\4_data\\2020-12-05\\Alexey_Fedorov [] ['data.csv']\n",
      "C:\\Users\\PC\\Desktop\\Софт\\Simulation\\Simulation\\data\\4_data\\2020-12-05\\Alexey_Petrov [] ['data.csv']\n",
      "C:\\Users\\PC\\Desktop\\Софт\\Simulation\\Simulation\\data\\4_data\\2020-12-05\\Kirill_Smirnov [] ['data.csv']\n",
      "C:\\Users\\PC\\Desktop\\Софт\\Simulation\\Simulation\\data\\4_data\\2020-12-05\\Petr_Ivanov [] ['data.csv']\n",
      "C:\\Users\\PC\\Desktop\\Софт\\Simulation\\Simulation\\data\\4_data\\2020-12-05\\Petr_Smirnov [] ['data.csv']\n",
      "C:\\Users\\PC\\Desktop\\Софт\\Simulation\\Simulation\\data\\4_data\\2020-12-05\\Rostislav_Smirnov [] ['data.csv']\n",
      "C:\\Users\\PC\\Desktop\\Софт\\Simulation\\Simulation\\data\\4_data\\2020-12-06 ['Vasiliy_Fedorov'] []\n",
      "C:\\Users\\PC\\Desktop\\Софт\\Simulation\\Simulation\\data\\4_data\\2020-12-06\\Vasiliy_Fedorov [] ['data.csv']\n",
      "C:\\Users\\PC\\Desktop\\Софт\\Simulation\\Simulation\\data\\4_data\\2020-12-07 ['Alexey_Fedorov', 'Alexey_Ivanov', 'Alexey_Smirnov', 'Anton_Ivanov', 'Anton_Smirnov', 'Kirill_Fedorov', 'Petr_Fedorov', 'Petr_Smirnov', 'Rostislav_Fedorov', 'Vasiliy_Ivanov'] []\n",
      "C:\\Users\\PC\\Desktop\\Софт\\Simulation\\Simulation\\data\\4_data\\2020-12-07\\Alexey_Fedorov [] ['data.csv']\n",
      "C:\\Users\\PC\\Desktop\\Софт\\Simulation\\Simulation\\data\\4_data\\2020-12-07\\Alexey_Ivanov [] ['data.csv']\n",
      "C:\\Users\\PC\\Desktop\\Софт\\Simulation\\Simulation\\data\\4_data\\2020-12-07\\Alexey_Smirnov [] ['data.csv']\n",
      "C:\\Users\\PC\\Desktop\\Софт\\Simulation\\Simulation\\data\\4_data\\2020-12-07\\Anton_Ivanov [] ['data.csv']\n",
      "C:\\Users\\PC\\Desktop\\Софт\\Simulation\\Simulation\\data\\4_data\\2020-12-07\\Anton_Smirnov [] ['data.csv']\n",
      "C:\\Users\\PC\\Desktop\\Софт\\Simulation\\Simulation\\data\\4_data\\2020-12-07\\Kirill_Fedorov [] ['data.csv']\n",
      "C:\\Users\\PC\\Desktop\\Софт\\Simulation\\Simulation\\data\\4_data\\2020-12-07\\Petr_Fedorov [] ['data.csv']\n",
      "C:\\Users\\PC\\Desktop\\Софт\\Simulation\\Simulation\\data\\4_data\\2020-12-07\\Petr_Smirnov [] ['data.csv']\n",
      "C:\\Users\\PC\\Desktop\\Софт\\Simulation\\Simulation\\data\\4_data\\2020-12-07\\Rostislav_Fedorov [] ['data.csv']\n",
      "C:\\Users\\PC\\Desktop\\Софт\\Simulation\\Simulation\\data\\4_data\\2020-12-07\\Vasiliy_Ivanov [] ['data.csv']\n",
      "C:\\Users\\PC\\Desktop\\Софт\\Simulation\\Simulation\\data\\4_data\\2020-12-08 ['Alexey_Fedorov', 'Anton_Smirnov', 'Kirill_Smirnov', 'Petr_Petrov', 'Rostislav_Petrov'] []\n",
      "C:\\Users\\PC\\Desktop\\Софт\\Simulation\\Simulation\\data\\4_data\\2020-12-08\\Alexey_Fedorov [] ['data.csv']\n",
      "C:\\Users\\PC\\Desktop\\Софт\\Simulation\\Simulation\\data\\4_data\\2020-12-08\\Anton_Smirnov [] ['data.csv']\n",
      "C:\\Users\\PC\\Desktop\\Софт\\Simulation\\Simulation\\data\\4_data\\2020-12-08\\Kirill_Smirnov [] ['data.csv']\n",
      "C:\\Users\\PC\\Desktop\\Софт\\Simulation\\Simulation\\data\\4_data\\2020-12-08\\Petr_Petrov [] ['data.csv']\n",
      "C:\\Users\\PC\\Desktop\\Софт\\Simulation\\Simulation\\data\\4_data\\2020-12-08\\Rostislav_Petrov [] ['data.csv']\n",
      "C:\\Users\\PC\\Desktop\\Софт\\Simulation\\Simulation\\data\\4_data\\2020-12-09 ['Alexey_Smirnov', 'Anton_Ivanov', 'Anton_Petrov', 'Anton_Smirnov', 'Petr_Fedorov', 'Rostislav_Petrov', 'Vasiliy_Ivanov'] []\n",
      "C:\\Users\\PC\\Desktop\\Софт\\Simulation\\Simulation\\data\\4_data\\2020-12-09\\Alexey_Smirnov [] ['data.csv']\n",
      "C:\\Users\\PC\\Desktop\\Софт\\Simulation\\Simulation\\data\\4_data\\2020-12-09\\Anton_Ivanov [] ['data.csv']\n",
      "C:\\Users\\PC\\Desktop\\Софт\\Simulation\\Simulation\\data\\4_data\\2020-12-09\\Anton_Petrov [] ['data.csv']\n",
      "C:\\Users\\PC\\Desktop\\Софт\\Simulation\\Simulation\\data\\4_data\\2020-12-09\\Anton_Smirnov [] ['data.csv']\n",
      "C:\\Users\\PC\\Desktop\\Софт\\Simulation\\Simulation\\data\\4_data\\2020-12-09\\Petr_Fedorov [] ['data.csv']\n",
      "C:\\Users\\PC\\Desktop\\Софт\\Simulation\\Simulation\\data\\4_data\\2020-12-09\\Rostislav_Petrov [] ['data.csv']\n",
      "C:\\Users\\PC\\Desktop\\Софт\\Simulation\\Simulation\\data\\4_data\\2020-12-09\\Vasiliy_Ivanov [] ['data.csv']\n"
     ]
    }
   ],
   "source": [
    "for root, dirs, files in os.walk(folder_path):\n",
    "    print(root, dirs, files)"
   ]
  },
  {
   "cell_type": "code",
   "execution_count": null,
   "id": "2bb6ffe8",
   "metadata": {},
   "outputs": [],
   "source": [
    "tree = os.walk(folder_path)\n",
    "data_files = []\n",
    "target_file = 'data.csv'\n",
    "\n",
    "# путь, папки, файлы\n",
    "for item in tree:\n",
    "    files = item[-1]\n",
    "\n",
    "    # если папка содержит файлы и первый файл data.csv\n",
    "    if len(files) > 0 and target_file in files:\n",
    "        path = os.path.join(item[0], target_file)\n",
    "        data_files.append(path)"
   ]
  },
  {
   "cell_type": "code",
   "execution_count": 16,
   "id": "efbb20c6",
   "metadata": {},
   "outputs": [
    {
     "data": {
      "text/plain": [
       "['C:\\\\Users\\\\PC\\\\Desktop\\\\Софт\\\\Simulation\\\\Simulation\\\\data\\\\4_data\\\\2020-12-03\\\\Alexey_Smirnov\\\\data.csv',\n",
       " 'C:\\\\Users\\\\PC\\\\Desktop\\\\Софт\\\\Simulation\\\\Simulation\\\\data\\\\4_data\\\\2020-12-03\\\\Anton_Petrov\\\\data.csv',\n",
       " 'C:\\\\Users\\\\PC\\\\Desktop\\\\Софт\\\\Simulation\\\\Simulation\\\\data\\\\4_data\\\\2020-12-03\\\\Kirill_Petrov\\\\data.csv',\n",
       " 'C:\\\\Users\\\\PC\\\\Desktop\\\\Софт\\\\Simulation\\\\Simulation\\\\data\\\\4_data\\\\2020-12-03\\\\Petr_Fedorov\\\\data.csv',\n",
       " 'C:\\\\Users\\\\PC\\\\Desktop\\\\Софт\\\\Simulation\\\\Simulation\\\\data\\\\4_data\\\\2020-12-03\\\\Vasiliy_Ivanov\\\\data.csv',\n",
       " 'C:\\\\Users\\\\PC\\\\Desktop\\\\Софт\\\\Simulation\\\\Simulation\\\\data\\\\4_data\\\\2020-12-03\\\\Vasiliy_Petrov\\\\data.csv',\n",
       " 'C:\\\\Users\\\\PC\\\\Desktop\\\\Софт\\\\Simulation\\\\Simulation\\\\data\\\\4_data\\\\2020-12-04\\\\Alexey_Smirnov\\\\data.csv',\n",
       " 'C:\\\\Users\\\\PC\\\\Desktop\\\\Софт\\\\Simulation\\\\Simulation\\\\data\\\\4_data\\\\2020-12-04\\\\Kirill_Fedorov\\\\data.csv',\n",
       " 'C:\\\\Users\\\\PC\\\\Desktop\\\\Софт\\\\Simulation\\\\Simulation\\\\data\\\\4_data\\\\2020-12-04\\\\Petr_Fedorov\\\\data.csv',\n",
       " 'C:\\\\Users\\\\PC\\\\Desktop\\\\Софт\\\\Simulation\\\\Simulation\\\\data\\\\4_data\\\\2020-12-04\\\\Petr_Ivanov\\\\data.csv',\n",
       " 'C:\\\\Users\\\\PC\\\\Desktop\\\\Софт\\\\Simulation\\\\Simulation\\\\data\\\\4_data\\\\2020-12-04\\\\Petr_Smirnov\\\\data.csv',\n",
       " 'C:\\\\Users\\\\PC\\\\Desktop\\\\Софт\\\\Simulation\\\\Simulation\\\\data\\\\4_data\\\\2020-12-04\\\\Rostislav_Fedorov\\\\data.csv',\n",
       " 'C:\\\\Users\\\\PC\\\\Desktop\\\\Софт\\\\Simulation\\\\Simulation\\\\data\\\\4_data\\\\2020-12-04\\\\Rostislav_Ivanov\\\\data.csv',\n",
       " 'C:\\\\Users\\\\PC\\\\Desktop\\\\Софт\\\\Simulation\\\\Simulation\\\\data\\\\4_data\\\\2020-12-04\\\\Rostislav_Smirnov\\\\data.csv',\n",
       " 'C:\\\\Users\\\\PC\\\\Desktop\\\\Софт\\\\Simulation\\\\Simulation\\\\data\\\\4_data\\\\2020-12-04\\\\Vasiliy_Ivanov\\\\data.csv',\n",
       " 'C:\\\\Users\\\\PC\\\\Desktop\\\\Софт\\\\Simulation\\\\Simulation\\\\data\\\\4_data\\\\2020-12-05\\\\Alexey_Fedorov\\\\data.csv',\n",
       " 'C:\\\\Users\\\\PC\\\\Desktop\\\\Софт\\\\Simulation\\\\Simulation\\\\data\\\\4_data\\\\2020-12-05\\\\Alexey_Petrov\\\\data.csv',\n",
       " 'C:\\\\Users\\\\PC\\\\Desktop\\\\Софт\\\\Simulation\\\\Simulation\\\\data\\\\4_data\\\\2020-12-05\\\\Kirill_Smirnov\\\\data.csv',\n",
       " 'C:\\\\Users\\\\PC\\\\Desktop\\\\Софт\\\\Simulation\\\\Simulation\\\\data\\\\4_data\\\\2020-12-05\\\\Petr_Ivanov\\\\data.csv',\n",
       " 'C:\\\\Users\\\\PC\\\\Desktop\\\\Софт\\\\Simulation\\\\Simulation\\\\data\\\\4_data\\\\2020-12-05\\\\Petr_Smirnov\\\\data.csv',\n",
       " 'C:\\\\Users\\\\PC\\\\Desktop\\\\Софт\\\\Simulation\\\\Simulation\\\\data\\\\4_data\\\\2020-12-05\\\\Rostislav_Smirnov\\\\data.csv',\n",
       " 'C:\\\\Users\\\\PC\\\\Desktop\\\\Софт\\\\Simulation\\\\Simulation\\\\data\\\\4_data\\\\2020-12-06\\\\Vasiliy_Fedorov\\\\data.csv',\n",
       " 'C:\\\\Users\\\\PC\\\\Desktop\\\\Софт\\\\Simulation\\\\Simulation\\\\data\\\\4_data\\\\2020-12-07\\\\Alexey_Fedorov\\\\data.csv',\n",
       " 'C:\\\\Users\\\\PC\\\\Desktop\\\\Софт\\\\Simulation\\\\Simulation\\\\data\\\\4_data\\\\2020-12-07\\\\Alexey_Ivanov\\\\data.csv',\n",
       " 'C:\\\\Users\\\\PC\\\\Desktop\\\\Софт\\\\Simulation\\\\Simulation\\\\data\\\\4_data\\\\2020-12-07\\\\Alexey_Smirnov\\\\data.csv',\n",
       " 'C:\\\\Users\\\\PC\\\\Desktop\\\\Софт\\\\Simulation\\\\Simulation\\\\data\\\\4_data\\\\2020-12-07\\\\Anton_Ivanov\\\\data.csv',\n",
       " 'C:\\\\Users\\\\PC\\\\Desktop\\\\Софт\\\\Simulation\\\\Simulation\\\\data\\\\4_data\\\\2020-12-07\\\\Anton_Smirnov\\\\data.csv',\n",
       " 'C:\\\\Users\\\\PC\\\\Desktop\\\\Софт\\\\Simulation\\\\Simulation\\\\data\\\\4_data\\\\2020-12-07\\\\Kirill_Fedorov\\\\data.csv',\n",
       " 'C:\\\\Users\\\\PC\\\\Desktop\\\\Софт\\\\Simulation\\\\Simulation\\\\data\\\\4_data\\\\2020-12-07\\\\Petr_Fedorov\\\\data.csv',\n",
       " 'C:\\\\Users\\\\PC\\\\Desktop\\\\Софт\\\\Simulation\\\\Simulation\\\\data\\\\4_data\\\\2020-12-07\\\\Petr_Smirnov\\\\data.csv',\n",
       " 'C:\\\\Users\\\\PC\\\\Desktop\\\\Софт\\\\Simulation\\\\Simulation\\\\data\\\\4_data\\\\2020-12-07\\\\Rostislav_Fedorov\\\\data.csv',\n",
       " 'C:\\\\Users\\\\PC\\\\Desktop\\\\Софт\\\\Simulation\\\\Simulation\\\\data\\\\4_data\\\\2020-12-07\\\\Vasiliy_Ivanov\\\\data.csv',\n",
       " 'C:\\\\Users\\\\PC\\\\Desktop\\\\Софт\\\\Simulation\\\\Simulation\\\\data\\\\4_data\\\\2020-12-08\\\\Alexey_Fedorov\\\\data.csv',\n",
       " 'C:\\\\Users\\\\PC\\\\Desktop\\\\Софт\\\\Simulation\\\\Simulation\\\\data\\\\4_data\\\\2020-12-08\\\\Anton_Smirnov\\\\data.csv',\n",
       " 'C:\\\\Users\\\\PC\\\\Desktop\\\\Софт\\\\Simulation\\\\Simulation\\\\data\\\\4_data\\\\2020-12-08\\\\Kirill_Smirnov\\\\data.csv',\n",
       " 'C:\\\\Users\\\\PC\\\\Desktop\\\\Софт\\\\Simulation\\\\Simulation\\\\data\\\\4_data\\\\2020-12-08\\\\Petr_Petrov\\\\data.csv',\n",
       " 'C:\\\\Users\\\\PC\\\\Desktop\\\\Софт\\\\Simulation\\\\Simulation\\\\data\\\\4_data\\\\2020-12-08\\\\Rostislav_Petrov\\\\data.csv',\n",
       " 'C:\\\\Users\\\\PC\\\\Desktop\\\\Софт\\\\Simulation\\\\Simulation\\\\data\\\\4_data\\\\2020-12-09\\\\Alexey_Smirnov\\\\data.csv',\n",
       " 'C:\\\\Users\\\\PC\\\\Desktop\\\\Софт\\\\Simulation\\\\Simulation\\\\data\\\\4_data\\\\2020-12-09\\\\Anton_Ivanov\\\\data.csv',\n",
       " 'C:\\\\Users\\\\PC\\\\Desktop\\\\Софт\\\\Simulation\\\\Simulation\\\\data\\\\4_data\\\\2020-12-09\\\\Anton_Petrov\\\\data.csv',\n",
       " 'C:\\\\Users\\\\PC\\\\Desktop\\\\Софт\\\\Simulation\\\\Simulation\\\\data\\\\4_data\\\\2020-12-09\\\\Anton_Smirnov\\\\data.csv',\n",
       " 'C:\\\\Users\\\\PC\\\\Desktop\\\\Софт\\\\Simulation\\\\Simulation\\\\data\\\\4_data\\\\2020-12-09\\\\Petr_Fedorov\\\\data.csv',\n",
       " 'C:\\\\Users\\\\PC\\\\Desktop\\\\Софт\\\\Simulation\\\\Simulation\\\\data\\\\4_data\\\\2020-12-09\\\\Rostislav_Petrov\\\\data.csv',\n",
       " 'C:\\\\Users\\\\PC\\\\Desktop\\\\Софт\\\\Simulation\\\\Simulation\\\\data\\\\4_data\\\\2020-12-09\\\\Vasiliy_Ivanov\\\\data.csv']"
      ]
     },
     "execution_count": 16,
     "metadata": {},
     "output_type": "execute_result"
    }
   ],
   "source": [
    "data_files"
   ]
  },
  {
   "cell_type": "code",
   "execution_count": 23,
   "id": "b9ac376f",
   "metadata": {},
   "outputs": [],
   "source": [
    "data_files_df = []\n",
    "for path in data_files:\n",
    "    df = pd.read_csv(path, index_col=0)\n",
    "    date, name = path.split('\\\\')[-3:-1]\n",
    "    df['name'] = name\n",
    "    df['date'] = date\n",
    "    data_files_df.append(df)"
   ]
  },
  {
   "cell_type": "code",
   "execution_count": 25,
   "id": "f21cc421",
   "metadata": {},
   "outputs": [
    {
     "data": {
      "application/vnd.microsoft.datawrangler.viewer.v0+json": {
       "columns": [
        {
         "name": "index",
         "rawType": "int64",
         "type": "integer"
        },
        {
         "name": "product_id",
         "rawType": "int64",
         "type": "integer"
        },
        {
         "name": "quantity",
         "rawType": "int64",
         "type": "integer"
        },
        {
         "name": "name",
         "rawType": "object",
         "type": "string"
        },
        {
         "name": "date",
         "rawType": "object",
         "type": "string"
        }
       ],
       "ref": "961665f1-b596-4766-853a-006ab6142e09",
       "rows": [
        [
         "0",
         "47",
         "1",
         "Alexey_Smirnov",
         "2020-12-03"
        ],
        [
         "1",
         "57",
         "1",
         "Alexey_Smirnov",
         "2020-12-03"
        ],
        [
         "2",
         "14",
         "2",
         "Alexey_Smirnov",
         "2020-12-03"
        ],
        [
         "3",
         "52",
         "1",
         "Alexey_Smirnov",
         "2020-12-03"
        ],
        [
         "4",
         "1",
         "4",
         "Alexey_Smirnov",
         "2020-12-03"
        ]
       ],
       "shape": {
        "columns": 4,
        "rows": 5
       }
      },
      "text/html": [
       "<div>\n",
       "<style scoped>\n",
       "    .dataframe tbody tr th:only-of-type {\n",
       "        vertical-align: middle;\n",
       "    }\n",
       "\n",
       "    .dataframe tbody tr th {\n",
       "        vertical-align: top;\n",
       "    }\n",
       "\n",
       "    .dataframe thead th {\n",
       "        text-align: right;\n",
       "    }\n",
       "</style>\n",
       "<table border=\"1\" class=\"dataframe\">\n",
       "  <thead>\n",
       "    <tr style=\"text-align: right;\">\n",
       "      <th></th>\n",
       "      <th>product_id</th>\n",
       "      <th>quantity</th>\n",
       "      <th>name</th>\n",
       "      <th>date</th>\n",
       "    </tr>\n",
       "  </thead>\n",
       "  <tbody>\n",
       "    <tr>\n",
       "      <th>0</th>\n",
       "      <td>47</td>\n",
       "      <td>1</td>\n",
       "      <td>Alexey_Smirnov</td>\n",
       "      <td>2020-12-03</td>\n",
       "    </tr>\n",
       "    <tr>\n",
       "      <th>1</th>\n",
       "      <td>57</td>\n",
       "      <td>1</td>\n",
       "      <td>Alexey_Smirnov</td>\n",
       "      <td>2020-12-03</td>\n",
       "    </tr>\n",
       "    <tr>\n",
       "      <th>2</th>\n",
       "      <td>14</td>\n",
       "      <td>2</td>\n",
       "      <td>Alexey_Smirnov</td>\n",
       "      <td>2020-12-03</td>\n",
       "    </tr>\n",
       "    <tr>\n",
       "      <th>3</th>\n",
       "      <td>52</td>\n",
       "      <td>1</td>\n",
       "      <td>Alexey_Smirnov</td>\n",
       "      <td>2020-12-03</td>\n",
       "    </tr>\n",
       "    <tr>\n",
       "      <th>4</th>\n",
       "      <td>1</td>\n",
       "      <td>4</td>\n",
       "      <td>Alexey_Smirnov</td>\n",
       "      <td>2020-12-03</td>\n",
       "    </tr>\n",
       "  </tbody>\n",
       "</table>\n",
       "</div>"
      ],
      "text/plain": [
       "   product_id  quantity            name        date\n",
       "0          47         1  Alexey_Smirnov  2020-12-03\n",
       "1          57         1  Alexey_Smirnov  2020-12-03\n",
       "2          14         2  Alexey_Smirnov  2020-12-03\n",
       "3          52         1  Alexey_Smirnov  2020-12-03\n",
       "4           1         4  Alexey_Smirnov  2020-12-03"
      ]
     },
     "execution_count": 25,
     "metadata": {},
     "output_type": "execute_result"
    }
   ],
   "source": [
    "data_files_df[0].head()"
   ]
  },
  {
   "cell_type": "code",
   "execution_count": 27,
   "id": "c8b69a6f",
   "metadata": {},
   "outputs": [],
   "source": [
    "data = pd.concat(data_files_df, ignore_index=True)"
   ]
  },
  {
   "cell_type": "code",
   "execution_count": 29,
   "id": "914e15fc",
   "metadata": {},
   "outputs": [
    {
     "data": {
      "application/vnd.microsoft.datawrangler.viewer.v0+json": {
       "columns": [
        {
         "name": "index",
         "rawType": "int64",
         "type": "integer"
        },
        {
         "name": "product_id",
         "rawType": "int64",
         "type": "integer"
        },
        {
         "name": "quantity",
         "rawType": "int64",
         "type": "integer"
        },
        {
         "name": "name",
         "rawType": "object",
         "type": "string"
        },
        {
         "name": "date",
         "rawType": "object",
         "type": "string"
        }
       ],
       "ref": "e4009226-6318-47b3-9f00-e2029f8aa5ca",
       "rows": [
        [
         "0",
         "47",
         "1",
         "Alexey_Smirnov",
         "2020-12-03"
        ],
        [
         "1",
         "57",
         "1",
         "Alexey_Smirnov",
         "2020-12-03"
        ],
        [
         "2",
         "14",
         "2",
         "Alexey_Smirnov",
         "2020-12-03"
        ],
        [
         "3",
         "52",
         "1",
         "Alexey_Smirnov",
         "2020-12-03"
        ],
        [
         "4",
         "1",
         "4",
         "Alexey_Smirnov",
         "2020-12-03"
        ],
        [
         "5",
         "94",
         "4",
         "Alexey_Smirnov",
         "2020-12-03"
        ],
        [
         "6",
         "56",
         "5",
         "Anton_Petrov",
         "2020-12-03"
        ],
        [
         "7",
         "27",
         "3",
         "Anton_Petrov",
         "2020-12-03"
        ],
        [
         "8",
         "82",
         "1",
         "Anton_Petrov",
         "2020-12-03"
        ],
        [
         "9",
         "61",
         "1",
         "Anton_Petrov",
         "2020-12-03"
        ]
       ],
       "shape": {
        "columns": 4,
        "rows": 10
       }
      },
      "text/html": [
       "<div>\n",
       "<style scoped>\n",
       "    .dataframe tbody tr th:only-of-type {\n",
       "        vertical-align: middle;\n",
       "    }\n",
       "\n",
       "    .dataframe tbody tr th {\n",
       "        vertical-align: top;\n",
       "    }\n",
       "\n",
       "    .dataframe thead th {\n",
       "        text-align: right;\n",
       "    }\n",
       "</style>\n",
       "<table border=\"1\" class=\"dataframe\">\n",
       "  <thead>\n",
       "    <tr style=\"text-align: right;\">\n",
       "      <th></th>\n",
       "      <th>product_id</th>\n",
       "      <th>quantity</th>\n",
       "      <th>name</th>\n",
       "      <th>date</th>\n",
       "    </tr>\n",
       "  </thead>\n",
       "  <tbody>\n",
       "    <tr>\n",
       "      <th>0</th>\n",
       "      <td>47</td>\n",
       "      <td>1</td>\n",
       "      <td>Alexey_Smirnov</td>\n",
       "      <td>2020-12-03</td>\n",
       "    </tr>\n",
       "    <tr>\n",
       "      <th>1</th>\n",
       "      <td>57</td>\n",
       "      <td>1</td>\n",
       "      <td>Alexey_Smirnov</td>\n",
       "      <td>2020-12-03</td>\n",
       "    </tr>\n",
       "    <tr>\n",
       "      <th>2</th>\n",
       "      <td>14</td>\n",
       "      <td>2</td>\n",
       "      <td>Alexey_Smirnov</td>\n",
       "      <td>2020-12-03</td>\n",
       "    </tr>\n",
       "    <tr>\n",
       "      <th>3</th>\n",
       "      <td>52</td>\n",
       "      <td>1</td>\n",
       "      <td>Alexey_Smirnov</td>\n",
       "      <td>2020-12-03</td>\n",
       "    </tr>\n",
       "    <tr>\n",
       "      <th>4</th>\n",
       "      <td>1</td>\n",
       "      <td>4</td>\n",
       "      <td>Alexey_Smirnov</td>\n",
       "      <td>2020-12-03</td>\n",
       "    </tr>\n",
       "    <tr>\n",
       "      <th>5</th>\n",
       "      <td>94</td>\n",
       "      <td>4</td>\n",
       "      <td>Alexey_Smirnov</td>\n",
       "      <td>2020-12-03</td>\n",
       "    </tr>\n",
       "    <tr>\n",
       "      <th>6</th>\n",
       "      <td>56</td>\n",
       "      <td>5</td>\n",
       "      <td>Anton_Petrov</td>\n",
       "      <td>2020-12-03</td>\n",
       "    </tr>\n",
       "    <tr>\n",
       "      <th>7</th>\n",
       "      <td>27</td>\n",
       "      <td>3</td>\n",
       "      <td>Anton_Petrov</td>\n",
       "      <td>2020-12-03</td>\n",
       "    </tr>\n",
       "    <tr>\n",
       "      <th>8</th>\n",
       "      <td>82</td>\n",
       "      <td>1</td>\n",
       "      <td>Anton_Petrov</td>\n",
       "      <td>2020-12-03</td>\n",
       "    </tr>\n",
       "    <tr>\n",
       "      <th>9</th>\n",
       "      <td>61</td>\n",
       "      <td>1</td>\n",
       "      <td>Anton_Petrov</td>\n",
       "      <td>2020-12-03</td>\n",
       "    </tr>\n",
       "  </tbody>\n",
       "</table>\n",
       "</div>"
      ],
      "text/plain": [
       "   product_id  quantity            name        date\n",
       "0          47         1  Alexey_Smirnov  2020-12-03\n",
       "1          57         1  Alexey_Smirnov  2020-12-03\n",
       "2          14         2  Alexey_Smirnov  2020-12-03\n",
       "3          52         1  Alexey_Smirnov  2020-12-03\n",
       "4           1         4  Alexey_Smirnov  2020-12-03\n",
       "5          94         4  Alexey_Smirnov  2020-12-03\n",
       "6          56         5    Anton_Petrov  2020-12-03\n",
       "7          27         3    Anton_Petrov  2020-12-03\n",
       "8          82         1    Anton_Petrov  2020-12-03\n",
       "9          61         1    Anton_Petrov  2020-12-03"
      ]
     },
     "execution_count": 29,
     "metadata": {},
     "output_type": "execute_result"
    }
   ],
   "source": [
    "data.head(10)"
   ]
  },
  {
   "cell_type": "markdown",
   "id": "d591f586",
   "metadata": {},
   "source": [
    "Выясните, какой пользователь купил больше всего товаров. Если их несколько, то перечислите имена через запятую с пробелом и в алфавитном порядке. Например:  \n",
    "Anatoly_Karpov, Nekto_Ktotovich, Lena_Uhanova, Ignat, Sasha_Tokarev"
   ]
  },
  {
   "cell_type": "code",
   "execution_count": null,
   "id": "bf91fe11",
   "metadata": {},
   "outputs": [
    {
     "data": {
      "text/plain": [
       "Index(['Alexey_Smirnov', 'Petr_Smirnov'], dtype='object', name='name')"
      ]
     },
     "execution_count": 63,
     "metadata": {},
     "output_type": "execute_result"
    }
   ],
   "source": [
    "quantity_bought = data.groupby('name').agg({'quantity': 'sum'})\n",
    "max_quantity = quantity_bought['quantity'].max()\n",
    "quantity_bought.loc[quantity_bought['quantity'] == max_quantity].index.sort_values()"
   ]
  },
  {
   "cell_type": "markdown",
   "id": "4f318946",
   "metadata": {},
   "source": [
    "Найдите топ-10 товаров по числу проданных единиц за всё время и постройте барплот (столбчатую диаграмму, sns.barplot), где:  \n",
    "•\tпо оси x – идентификаторы товаров (product_id)   \n",
    "•\tпо оси y – суммарное число их покупок (сколько товаров с таким product_id было продано)  \n",
    "Для практики попробуйте изменить параметры графика: цвет (color), прозрачность (alpha), сортировку значений по оси х (order).   \n",
    "В качестве ответа укажите, сколько было продано единиц товара с product_id равным 56."
   ]
  },
  {
   "cell_type": "code",
   "execution_count": 88,
   "id": "6c00c1c6",
   "metadata": {},
   "outputs": [],
   "source": [
    "quantity_product = data.groupby('product_id').agg({'quantity': 'sum'}).sort_values('quantity', ascending=False).head(10)"
   ]
  },
  {
   "cell_type": "code",
   "execution_count": 89,
   "id": "3d31b696",
   "metadata": {},
   "outputs": [
    {
     "data": {
      "application/vnd.microsoft.datawrangler.viewer.v0+json": {
       "columns": [
        {
         "name": "product_id",
         "rawType": "int64",
         "type": "integer"
        },
        {
         "name": "quantity",
         "rawType": "int64",
         "type": "integer"
        }
       ],
       "ref": "6d6d5107-d422-4467-9cc2-638c969821c8",
       "rows": [
        [
         "27",
         "20"
        ],
        [
         "56",
         "18"
        ],
        [
         "74",
         "15"
        ],
        [
         "24",
         "15"
        ],
        [
         "41",
         "14"
        ],
        [
         "66",
         "13"
        ],
        [
         "94",
         "13"
        ],
        [
         "34",
         "13"
        ],
        [
         "50",
         "12"
        ],
        [
         "92",
         "12"
        ]
       ],
       "shape": {
        "columns": 1,
        "rows": 10
       }
      },
      "text/html": [
       "<div>\n",
       "<style scoped>\n",
       "    .dataframe tbody tr th:only-of-type {\n",
       "        vertical-align: middle;\n",
       "    }\n",
       "\n",
       "    .dataframe tbody tr th {\n",
       "        vertical-align: top;\n",
       "    }\n",
       "\n",
       "    .dataframe thead th {\n",
       "        text-align: right;\n",
       "    }\n",
       "</style>\n",
       "<table border=\"1\" class=\"dataframe\">\n",
       "  <thead>\n",
       "    <tr style=\"text-align: right;\">\n",
       "      <th></th>\n",
       "      <th>quantity</th>\n",
       "    </tr>\n",
       "    <tr>\n",
       "      <th>product_id</th>\n",
       "      <th></th>\n",
       "    </tr>\n",
       "  </thead>\n",
       "  <tbody>\n",
       "    <tr>\n",
       "      <th>27</th>\n",
       "      <td>20</td>\n",
       "    </tr>\n",
       "    <tr>\n",
       "      <th>56</th>\n",
       "      <td>18</td>\n",
       "    </tr>\n",
       "    <tr>\n",
       "      <th>74</th>\n",
       "      <td>15</td>\n",
       "    </tr>\n",
       "    <tr>\n",
       "      <th>24</th>\n",
       "      <td>15</td>\n",
       "    </tr>\n",
       "    <tr>\n",
       "      <th>41</th>\n",
       "      <td>14</td>\n",
       "    </tr>\n",
       "    <tr>\n",
       "      <th>66</th>\n",
       "      <td>13</td>\n",
       "    </tr>\n",
       "    <tr>\n",
       "      <th>94</th>\n",
       "      <td>13</td>\n",
       "    </tr>\n",
       "    <tr>\n",
       "      <th>34</th>\n",
       "      <td>13</td>\n",
       "    </tr>\n",
       "    <tr>\n",
       "      <th>50</th>\n",
       "      <td>12</td>\n",
       "    </tr>\n",
       "    <tr>\n",
       "      <th>92</th>\n",
       "      <td>12</td>\n",
       "    </tr>\n",
       "  </tbody>\n",
       "</table>\n",
       "</div>"
      ],
      "text/plain": [
       "            quantity\n",
       "product_id          \n",
       "27                20\n",
       "56                18\n",
       "74                15\n",
       "24                15\n",
       "41                14\n",
       "66                13\n",
       "94                13\n",
       "34                13\n",
       "50                12\n",
       "92                12"
      ]
     },
     "execution_count": 89,
     "metadata": {},
     "output_type": "execute_result"
    }
   ],
   "source": [
    "quantity_product"
   ]
  },
  {
   "cell_type": "code",
   "execution_count": 90,
   "id": "659056a3",
   "metadata": {},
   "outputs": [
    {
     "name": "stderr",
     "output_type": "stream",
     "text": [
      "C:\\Users\\PC\\AppData\\Local\\Temp\\ipykernel_23388\\2522776906.py:1: FutureWarning: \n",
      "\n",
      "Passing `palette` without assigning `hue` is deprecated and will be removed in v0.14.0. Assign the `x` variable to `hue` and set `legend=False` for the same effect.\n",
      "\n",
      "  ax = sns.barplot(x='product_id', y=\"quantity\", data=quantity_product.reset_index(), order=quantity_product.index, palette='dark')\n"
     ]
    },
    {
     "data": {
      "image/png": "[encoded data removed]",
      "text/plain": [
       "<Figure size 640x480 with 1 Axes>"
      ]
     },
     "metadata": {},
     "output_type": "display_data"
    }
   ],
   "source": [
    "ax = sns.barplot(x='product_id', y=\"quantity\", data=quantity_product.reset_index(), order=quantity_product.index, palette='dark')"
   ]
  },
  {
   "cell_type": "markdown",
   "id": "c3772a9f",
   "metadata": {},
   "source": [
    "Посмотрим на продажи по дням! Для визуализации снова используйте барплот, только теперь по оси x будут дни, по которым у нас есть данные (date). "
   ]
  },
  {
   "cell_type": "code",
   "execution_count": 95,
   "id": "a26becde",
   "metadata": {},
   "outputs": [
    {
     "data": {
      "text/plain": [
       "<Axes: xlabel='date', ylabel='count'>"
      ]
     },
     "execution_count": 95,
     "metadata": {},
     "output_type": "execute_result"
    },
    {
     "data": {
      "image/png": "[encoded data removed]",
      "text/plain": [
       "<Figure size 1000x400 with 1 Axes>"
      ]
     },
     "metadata": {},
     "output_type": "display_data"
    }
   ],
   "source": [
    "plt.figure(figsize=(10, 4))\n",
    "sns.countplot(data = data, x = 'date')"
   ]
  },
  {
   "cell_type": "markdown",
   "id": "f45d744b",
   "metadata": {},
   "source": [
    "Сколько пользователей приобрели какой-либо товар повторно (более 1 раза)? Повтором будем считать покупку товара с одинаковым product_id, совершенную в разные дни. \n",
    "Например, пользователь Sasha Tsarev дважды приобрел товар 6. Поскольку покупка была совершена в один и тот же день, повторной в данном случае она считаться не будет. Katya Skriptsova также сделал две покупки товара 7, но в разные дни, поэтому этот случай засчитывается."
   ]
  },
  {
   "cell_type": "code",
   "execution_count": 110,
   "id": "5bc6b493",
   "metadata": {},
   "outputs": [],
   "source": [
    "data_d1 = data.groupby(['name', 'date'])\\\n",
    "    .apply(lambda group: group.drop_duplicates(subset='product_id'), include_groups=False).reset_index(drop=True)"
   ]
  },
  {
   "cell_type": "code",
   "execution_count": 111,
   "id": "8a72be3e",
   "metadata": {},
   "outputs": [
    {
     "data": {
      "application/vnd.microsoft.datawrangler.viewer.v0+json": {
       "columns": [
        {
         "name": "index",
         "rawType": "int64",
         "type": "integer"
        },
        {
         "name": "product_id",
         "rawType": "int64",
         "type": "integer"
        },
        {
         "name": "quantity",
         "rawType": "int64",
         "type": "integer"
        }
       ],
       "ref": "d2551f98-0285-41df-b46d-aba6792c0cc2",
       "rows": [
        [
         "0",
         "13",
         "2"
        ],
        [
         "1",
         "50",
         "2"
        ],
        [
         "2",
         "54",
         "1"
        ],
        [
         "3",
         "77",
         "3"
        ],
        [
         "4",
         "99",
         "4"
        ]
       ],
       "shape": {
        "columns": 2,
        "rows": 5
       }
      },
      "text/html": [
       "<div>\n",
       "<style scoped>\n",
       "    .dataframe tbody tr th:only-of-type {\n",
       "        vertical-align: middle;\n",
       "    }\n",
       "\n",
       "    .dataframe tbody tr th {\n",
       "        vertical-align: top;\n",
       "    }\n",
       "\n",
       "    .dataframe thead th {\n",
       "        text-align: right;\n",
       "    }\n",
       "</style>\n",
       "<table border=\"1\" class=\"dataframe\">\n",
       "  <thead>\n",
       "    <tr style=\"text-align: right;\">\n",
       "      <th></th>\n",
       "      <th>product_id</th>\n",
       "      <th>quantity</th>\n",
       "    </tr>\n",
       "  </thead>\n",
       "  <tbody>\n",
       "    <tr>\n",
       "      <th>0</th>\n",
       "      <td>13</td>\n",
       "      <td>2</td>\n",
       "    </tr>\n",
       "    <tr>\n",
       "      <th>1</th>\n",
       "      <td>50</td>\n",
       "      <td>2</td>\n",
       "    </tr>\n",
       "    <tr>\n",
       "      <th>2</th>\n",
       "      <td>54</td>\n",
       "      <td>1</td>\n",
       "    </tr>\n",
       "    <tr>\n",
       "      <th>3</th>\n",
       "      <td>77</td>\n",
       "      <td>3</td>\n",
       "    </tr>\n",
       "    <tr>\n",
       "      <th>4</th>\n",
       "      <td>99</td>\n",
       "      <td>4</td>\n",
       "    </tr>\n",
       "  </tbody>\n",
       "</table>\n",
       "</div>"
      ],
      "text/plain": [
       "   product_id  quantity\n",
       "0          13         2\n",
       "1          50         2\n",
       "2          54         1\n",
       "3          77         3\n",
       "4          99         4"
      ]
     },
     "execution_count": 111,
     "metadata": {},
     "output_type": "execute_result"
    }
   ],
   "source": [
    "data_d1.head()"
   ]
  }
 ],
 "metadata": {
  "kernelspec": {
   "display_name": "Python 3",
   "language": "python",
   "name": "python3"
  },
  "language_info": {
   "codemirror_mode": {
    "name": "ipython",
    "version": 3
   },
   "file_extension": ".py",
   "mimetype": "text/x-python",
   "name": "python",
   "nbconvert_exporter": "python",
   "pygments_lexer": "ipython3",
   "version": "3.11.9"
  }
 },
 "nbformat": 4,
 "nbformat_minor": 5
}
