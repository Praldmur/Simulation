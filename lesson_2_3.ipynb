{
 "cells": [
  {
   "cell_type": "code",
   "execution_count": 66,
   "id": "31a1940c",
   "metadata": {},
   "outputs": [],
   "source": [
    "import pandas as pd\n",
    "import numpy as np\n",
    "\n",
    "import seaborn as sns\n",
    "import matplotlib.pyplot as plt\n",
    "\n",
    "%matplotlib inline "
   ]
  },
  {
   "cell_type": "markdown",
   "id": "9c6b0da6",
   "metadata": {},
   "source": [
    "В переменной df содержатся данные такого вида\n",
    "Отберите из них только те, где wealth принимает значение 'medium', а возраст составляет больше 35.\n",
    "Поместите результат в переменную medium_35."
   ]
  },
  {
   "cell_type": "code",
   "execution_count": 2,
   "id": "4d22f62c",
   "metadata": {},
   "outputs": [],
   "source": [
    "df = pd.DataFrame({'client_id': np.random.randint(1, 10000, 30),\n",
    "                   'sex': np.random.choice([0, 1], 30),\n",
    "                   'wealth': np.random.choice(['low', 'medium', 'high'], 30),\n",
    "                   'age': np.random.randint(20, 70, 30)})"
   ]
  },
  {
   "cell_type": "code",
   "execution_count": 3,
   "id": "98f2b166",
   "metadata": {},
   "outputs": [
    {
     "data": {
      "application/vnd.microsoft.datawrangler.viewer.v0+json": {
       "columns": [
        {
         "name": "index",
         "rawType": "int64",
         "type": "integer"
        },
        {
         "name": "client_id",
         "rawType": "int32",
         "type": "integer"
        },
        {
         "name": "sex",
         "rawType": "int64",
         "type": "integer"
        },
        {
         "name": "wealth",
         "rawType": "object",
         "type": "string"
        },
        {
         "name": "age",
         "rawType": "int32",
         "type": "integer"
        }
       ],
       "ref": "2550bdd5-5dfd-4030-be59-dc4ac4ab37ca",
       "rows": [
        [
         "0",
         "9958",
         "1",
         "low",
         "31"
        ],
        [
         "1",
         "3199",
         "1",
         "low",
         "62"
        ],
        [
         "2",
         "7654",
         "0",
         "medium",
         "46"
        ],
        [
         "3",
         "980",
         "1",
         "high",
         "67"
        ],
        [
         "4",
         "9110",
         "1",
         "high",
         "44"
        ]
       ],
       "shape": {
        "columns": 4,
        "rows": 5
       }
      },
      "text/html": [
       "<div>\n",
       "<style scoped>\n",
       "    .dataframe tbody tr th:only-of-type {\n",
       "        vertical-align: middle;\n",
       "    }\n",
       "\n",
       "    .dataframe tbody tr th {\n",
       "        vertical-align: top;\n",
       "    }\n",
       "\n",
       "    .dataframe thead th {\n",
       "        text-align: right;\n",
       "    }\n",
       "</style>\n",
       "<table border=\"1\" class=\"dataframe\">\n",
       "  <thead>\n",
       "    <tr style=\"text-align: right;\">\n",
       "      <th></th>\n",
       "      <th>client_id</th>\n",
       "      <th>sex</th>\n",
       "      <th>wealth</th>\n",
       "      <th>age</th>\n",
       "    </tr>\n",
       "  </thead>\n",
       "  <tbody>\n",
       "    <tr>\n",
       "      <th>0</th>\n",
       "      <td>9958</td>\n",
       "      <td>1</td>\n",
       "      <td>low</td>\n",
       "      <td>31</td>\n",
       "    </tr>\n",
       "    <tr>\n",
       "      <th>1</th>\n",
       "      <td>3199</td>\n",
       "      <td>1</td>\n",
       "      <td>low</td>\n",
       "      <td>62</td>\n",
       "    </tr>\n",
       "    <tr>\n",
       "      <th>2</th>\n",
       "      <td>7654</td>\n",
       "      <td>0</td>\n",
       "      <td>medium</td>\n",
       "      <td>46</td>\n",
       "    </tr>\n",
       "    <tr>\n",
       "      <th>3</th>\n",
       "      <td>980</td>\n",
       "      <td>1</td>\n",
       "      <td>high</td>\n",
       "      <td>67</td>\n",
       "    </tr>\n",
       "    <tr>\n",
       "      <th>4</th>\n",
       "      <td>9110</td>\n",
       "      <td>1</td>\n",
       "      <td>high</td>\n",
       "      <td>44</td>\n",
       "    </tr>\n",
       "  </tbody>\n",
       "</table>\n",
       "</div>"
      ],
      "text/plain": [
       "   client_id  sex  wealth  age\n",
       "0       9958    1     low   31\n",
       "1       3199    1     low   62\n",
       "2       7654    0  medium   46\n",
       "3        980    1    high   67\n",
       "4       9110    1    high   44"
      ]
     },
     "execution_count": 3,
     "metadata": {},
     "output_type": "execute_result"
    }
   ],
   "source": [
    "df.head()"
   ]
  },
  {
   "cell_type": "code",
   "execution_count": 4,
   "id": "dcadaeca",
   "metadata": {},
   "outputs": [],
   "source": [
    "medium_35 = df.loc[(df['wealth'] == 'medium') & (df['age'] > 35)]"
   ]
  },
  {
   "cell_type": "markdown",
   "id": "b15fa29d",
   "metadata": {},
   "source": [
    "Воспользуйтесь методом rename и приведите таблицу к более каноничному виду, сохранив её в ту же самую переменную df."
   ]
  },
  {
   "cell_type": "code",
   "execution_count": 5,
   "id": "146ebae8",
   "metadata": {},
   "outputs": [],
   "source": [
    "df_1 = df.rename(columns={'client_id': 'Клиент_id', 'sex': 'Пол', 'wealth': 'Благосостояние', 'age': 'Возраст'})"
   ]
  },
  {
   "cell_type": "code",
   "execution_count": 6,
   "id": "5349d55d",
   "metadata": {},
   "outputs": [
    {
     "data": {
      "application/vnd.microsoft.datawrangler.viewer.v0+json": {
       "columns": [
        {
         "name": "index",
         "rawType": "int64",
         "type": "integer"
        },
        {
         "name": "Клиент_id",
         "rawType": "int32",
         "type": "integer"
        },
        {
         "name": "Пол",
         "rawType": "int64",
         "type": "integer"
        },
        {
         "name": "Благосостояние",
         "rawType": "object",
         "type": "string"
        },
        {
         "name": "Возраст",
         "rawType": "int32",
         "type": "integer"
        }
       ],
       "ref": "e0ac173e-8b09-4fc6-9ff3-b4e25e20a601",
       "rows": [
        [
         "0",
         "9958",
         "1",
         "low",
         "31"
        ],
        [
         "1",
         "3199",
         "1",
         "low",
         "62"
        ],
        [
         "2",
         "7654",
         "0",
         "medium",
         "46"
        ],
        [
         "3",
         "980",
         "1",
         "high",
         "67"
        ],
        [
         "4",
         "9110",
         "1",
         "high",
         "44"
        ]
       ],
       "shape": {
        "columns": 4,
        "rows": 5
       }
      },
      "text/html": [
       "<div>\n",
       "<style scoped>\n",
       "    .dataframe tbody tr th:only-of-type {\n",
       "        vertical-align: middle;\n",
       "    }\n",
       "\n",
       "    .dataframe tbody tr th {\n",
       "        vertical-align: top;\n",
       "    }\n",
       "\n",
       "    .dataframe thead th {\n",
       "        text-align: right;\n",
       "    }\n",
       "</style>\n",
       "<table border=\"1\" class=\"dataframe\">\n",
       "  <thead>\n",
       "    <tr style=\"text-align: right;\">\n",
       "      <th></th>\n",
       "      <th>Клиент_id</th>\n",
       "      <th>Пол</th>\n",
       "      <th>Благосостояние</th>\n",
       "      <th>Возраст</th>\n",
       "    </tr>\n",
       "  </thead>\n",
       "  <tbody>\n",
       "    <tr>\n",
       "      <th>0</th>\n",
       "      <td>9958</td>\n",
       "      <td>1</td>\n",
       "      <td>low</td>\n",
       "      <td>31</td>\n",
       "    </tr>\n",
       "    <tr>\n",
       "      <th>1</th>\n",
       "      <td>3199</td>\n",
       "      <td>1</td>\n",
       "      <td>low</td>\n",
       "      <td>62</td>\n",
       "    </tr>\n",
       "    <tr>\n",
       "      <th>2</th>\n",
       "      <td>7654</td>\n",
       "      <td>0</td>\n",
       "      <td>medium</td>\n",
       "      <td>46</td>\n",
       "    </tr>\n",
       "    <tr>\n",
       "      <th>3</th>\n",
       "      <td>980</td>\n",
       "      <td>1</td>\n",
       "      <td>high</td>\n",
       "      <td>67</td>\n",
       "    </tr>\n",
       "    <tr>\n",
       "      <th>4</th>\n",
       "      <td>9110</td>\n",
       "      <td>1</td>\n",
       "      <td>high</td>\n",
       "      <td>44</td>\n",
       "    </tr>\n",
       "  </tbody>\n",
       "</table>\n",
       "</div>"
      ],
      "text/plain": [
       "   Клиент_id  Пол Благосостояние  Возраст\n",
       "0       9958    1            low       31\n",
       "1       3199    1            low       62\n",
       "2       7654    0         medium       46\n",
       "3        980    1           high       67\n",
       "4       9110    1           high       44"
      ]
     },
     "execution_count": 6,
     "metadata": {},
     "output_type": "execute_result"
    }
   ],
   "source": [
    "df_1.head()"
   ]
  },
  {
   "cell_type": "markdown",
   "id": "33671fc8",
   "metadata": {},
   "source": [
    "Добавьте в исследуемый нами датафрэйм df колонку older_than_30, в которой будет информация превышает ли значение переменной возраста 30 лет или нет (булево значение)`"
   ]
  },
  {
   "cell_type": "code",
   "execution_count": 7,
   "id": "8d37ed3d",
   "metadata": {},
   "outputs": [],
   "source": [
    "df['older_than_30'] = df['age'] > 30"
   ]
  },
  {
   "cell_type": "markdown",
   "id": "10e5e6df",
   "metadata": {},
   "source": [
    "А теперь получите серию с числом уникальных значений для каждой колонки и присвойте её переменной unique_num."
   ]
  },
  {
   "cell_type": "code",
   "execution_count": 8,
   "id": "e6be08fe",
   "metadata": {},
   "outputs": [],
   "source": [
    "unique_num = df.nunique()"
   ]
  },
  {
   "cell_type": "code",
   "execution_count": 9,
   "id": "7db3fc72",
   "metadata": {},
   "outputs": [
    {
     "data": {
      "application/vnd.microsoft.datawrangler.viewer.v0+json": {
       "columns": [
        {
         "name": "index",
         "rawType": "object",
         "type": "string"
        },
        {
         "name": "0",
         "rawType": "int64",
         "type": "integer"
        }
       ],
       "ref": "d8ee8971-a3f8-4b0a-bfba-3a41b592d182",
       "rows": [
        [
         "client_id",
         "30"
        ],
        [
         "sex",
         "2"
        ],
        [
         "wealth",
         "3"
        ],
        [
         "age",
         "21"
        ],
        [
         "older_than_30",
         "2"
        ]
       ],
       "shape": {
        "columns": 1,
        "rows": 5
       }
      },
      "text/plain": [
       "client_id        30\n",
       "sex               2\n",
       "wealth            3\n",
       "age              21\n",
       "older_than_30     2\n",
       "dtype: int64"
      ]
     },
     "execution_count": 9,
     "metadata": {},
     "output_type": "execute_result"
    }
   ],
   "source": [
    "unique_num"
   ]
  },
  {
   "cell_type": "markdown",
   "id": "2012156a",
   "metadata": {},
   "source": [
    "У нас появились новые данные! Переменная data хранит в себе датафрэйм следующего вида:\n",
    "Проведите inner join датафрейма data с df из предыдущего шага, объединив их по колонке client_id, и поместите результат в переменную full_data (да, придумывать названия переменных иногда бывает сложно)\n",
    "Предыдущий датафрейм загружен в переменную df, новый – в data "
   ]
  },
  {
   "cell_type": "code",
   "execution_count": 10,
   "id": "cf01a56d",
   "metadata": {},
   "outputs": [],
   "source": [
    "data = pd.DataFrame({'client_id': df.client_id.sample(10).values,\n",
    "                   'amount': np.random.randint(1000, 100000, 10),\n",
    "                   'date': np.random.randint(1585425000, 1585430000, 10)})"
   ]
  },
  {
   "cell_type": "code",
   "execution_count": 11,
   "id": "0a8d8940",
   "metadata": {},
   "outputs": [
    {
     "data": {
      "application/vnd.microsoft.datawrangler.viewer.v0+json": {
       "columns": [
        {
         "name": "index",
         "rawType": "int64",
         "type": "integer"
        },
        {
         "name": "client_id",
         "rawType": "int32",
         "type": "integer"
        },
        {
         "name": "amount",
         "rawType": "int32",
         "type": "integer"
        },
        {
         "name": "date",
         "rawType": "int32",
         "type": "integer"
        }
       ],
       "ref": "063ee993-bd53-4867-8e52-3382d24b5690",
       "rows": [
        [
         "0",
         "9110",
         "93829",
         "1585428279"
        ],
        [
         "1",
         "8167",
         "62052",
         "1585428367"
        ],
        [
         "2",
         "9804",
         "65660",
         "1585427439"
        ],
        [
         "3",
         "3013",
         "24497",
         "1585425975"
        ],
        [
         "4",
         "980",
         "89482",
         "1585428585"
        ]
       ],
       "shape": {
        "columns": 3,
        "rows": 5
       }
      },
      "text/html": [
       "<div>\n",
       "<style scoped>\n",
       "    .dataframe tbody tr th:only-of-type {\n",
       "        vertical-align: middle;\n",
       "    }\n",
       "\n",
       "    .dataframe tbody tr th {\n",
       "        vertical-align: top;\n",
       "    }\n",
       "\n",
       "    .dataframe thead th {\n",
       "        text-align: right;\n",
       "    }\n",
       "</style>\n",
       "<table border=\"1\" class=\"dataframe\">\n",
       "  <thead>\n",
       "    <tr style=\"text-align: right;\">\n",
       "      <th></th>\n",
       "      <th>client_id</th>\n",
       "      <th>amount</th>\n",
       "      <th>date</th>\n",
       "    </tr>\n",
       "  </thead>\n",
       "  <tbody>\n",
       "    <tr>\n",
       "      <th>0</th>\n",
       "      <td>9110</td>\n",
       "      <td>93829</td>\n",
       "      <td>1585428279</td>\n",
       "    </tr>\n",
       "    <tr>\n",
       "      <th>1</th>\n",
       "      <td>8167</td>\n",
       "      <td>62052</td>\n",
       "      <td>1585428367</td>\n",
       "    </tr>\n",
       "    <tr>\n",
       "      <th>2</th>\n",
       "      <td>9804</td>\n",
       "      <td>65660</td>\n",
       "      <td>1585427439</td>\n",
       "    </tr>\n",
       "    <tr>\n",
       "      <th>3</th>\n",
       "      <td>3013</td>\n",
       "      <td>24497</td>\n",
       "      <td>1585425975</td>\n",
       "    </tr>\n",
       "    <tr>\n",
       "      <th>4</th>\n",
       "      <td>980</td>\n",
       "      <td>89482</td>\n",
       "      <td>1585428585</td>\n",
       "    </tr>\n",
       "  </tbody>\n",
       "</table>\n",
       "</div>"
      ],
      "text/plain": [
       "   client_id  amount        date\n",
       "0       9110   93829  1585428279\n",
       "1       8167   62052  1585428367\n",
       "2       9804   65660  1585427439\n",
       "3       3013   24497  1585425975\n",
       "4        980   89482  1585428585"
      ]
     },
     "execution_count": 11,
     "metadata": {},
     "output_type": "execute_result"
    }
   ],
   "source": [
    "data.head()"
   ]
  },
  {
   "cell_type": "code",
   "execution_count": 12,
   "id": "cf6bbccc",
   "metadata": {},
   "outputs": [],
   "source": [
    "full_data = df.merge(data, on = 'client_id')"
   ]
  },
  {
   "cell_type": "code",
   "execution_count": 13,
   "id": "c31ca36a",
   "metadata": {},
   "outputs": [
    {
     "data": {
      "application/vnd.microsoft.datawrangler.viewer.v0+json": {
       "columns": [
        {
         "name": "index",
         "rawType": "int64",
         "type": "integer"
        },
        {
         "name": "client_id",
         "rawType": "int32",
         "type": "integer"
        },
        {
         "name": "sex",
         "rawType": "int64",
         "type": "integer"
        },
        {
         "name": "wealth",
         "rawType": "object",
         "type": "string"
        },
        {
         "name": "age",
         "rawType": "int32",
         "type": "integer"
        },
        {
         "name": "older_than_30",
         "rawType": "bool",
         "type": "boolean"
        },
        {
         "name": "amount",
         "rawType": "int32",
         "type": "integer"
        },
        {
         "name": "date",
         "rawType": "int32",
         "type": "integer"
        }
       ],
       "ref": "14be4b4a-4dce-4255-89e4-10898f6cacb5",
       "rows": [
        [
         "0",
         "7654",
         "0",
         "medium",
         "46",
         "True",
         "48083",
         "1585427280"
        ],
        [
         "1",
         "980",
         "1",
         "high",
         "67",
         "True",
         "89482",
         "1585428585"
        ],
        [
         "2",
         "9110",
         "1",
         "high",
         "44",
         "True",
         "93829",
         "1585428279"
        ],
        [
         "3",
         "8167",
         "0",
         "high",
         "47",
         "True",
         "62052",
         "1585428367"
        ],
        [
         "4",
         "6810",
         "1",
         "medium",
         "68",
         "True",
         "13052",
         "1585429129"
        ]
       ],
       "shape": {
        "columns": 7,
        "rows": 5
       }
      },
      "text/html": [
       "<div>\n",
       "<style scoped>\n",
       "    .dataframe tbody tr th:only-of-type {\n",
       "        vertical-align: middle;\n",
       "    }\n",
       "\n",
       "    .dataframe tbody tr th {\n",
       "        vertical-align: top;\n",
       "    }\n",
       "\n",
       "    .dataframe thead th {\n",
       "        text-align: right;\n",
       "    }\n",
       "</style>\n",
       "<table border=\"1\" class=\"dataframe\">\n",
       "  <thead>\n",
       "    <tr style=\"text-align: right;\">\n",
       "      <th></th>\n",
       "      <th>client_id</th>\n",
       "      <th>sex</th>\n",
       "      <th>wealth</th>\n",
       "      <th>age</th>\n",
       "      <th>older_than_30</th>\n",
       "      <th>amount</th>\n",
       "      <th>date</th>\n",
       "    </tr>\n",
       "  </thead>\n",
       "  <tbody>\n",
       "    <tr>\n",
       "      <th>0</th>\n",
       "      <td>7654</td>\n",
       "      <td>0</td>\n",
       "      <td>medium</td>\n",
       "      <td>46</td>\n",
       "      <td>True</td>\n",
       "      <td>48083</td>\n",
       "      <td>1585427280</td>\n",
       "    </tr>\n",
       "    <tr>\n",
       "      <th>1</th>\n",
       "      <td>980</td>\n",
       "      <td>1</td>\n",
       "      <td>high</td>\n",
       "      <td>67</td>\n",
       "      <td>True</td>\n",
       "      <td>89482</td>\n",
       "      <td>1585428585</td>\n",
       "    </tr>\n",
       "    <tr>\n",
       "      <th>2</th>\n",
       "      <td>9110</td>\n",
       "      <td>1</td>\n",
       "      <td>high</td>\n",
       "      <td>44</td>\n",
       "      <td>True</td>\n",
       "      <td>93829</td>\n",
       "      <td>1585428279</td>\n",
       "    </tr>\n",
       "    <tr>\n",
       "      <th>3</th>\n",
       "      <td>8167</td>\n",
       "      <td>0</td>\n",
       "      <td>high</td>\n",
       "      <td>47</td>\n",
       "      <td>True</td>\n",
       "      <td>62052</td>\n",
       "      <td>1585428367</td>\n",
       "    </tr>\n",
       "    <tr>\n",
       "      <th>4</th>\n",
       "      <td>6810</td>\n",
       "      <td>1</td>\n",
       "      <td>medium</td>\n",
       "      <td>68</td>\n",
       "      <td>True</td>\n",
       "      <td>13052</td>\n",
       "      <td>1585429129</td>\n",
       "    </tr>\n",
       "  </tbody>\n",
       "</table>\n",
       "</div>"
      ],
      "text/plain": [
       "   client_id  sex  wealth  age  older_than_30  amount        date\n",
       "0       7654    0  medium   46           True   48083  1585427280\n",
       "1        980    1    high   67           True   89482  1585428585\n",
       "2       9110    1    high   44           True   93829  1585428279\n",
       "3       8167    0    high   47           True   62052  1585428367\n",
       "4       6810    1  medium   68           True   13052  1585429129"
      ]
     },
     "execution_count": 13,
     "metadata": {},
     "output_type": "execute_result"
    }
   ],
   "source": [
    "full_data.head()"
   ]
  },
  {
   "cell_type": "markdown",
   "id": "bed67a09",
   "metadata": {},
   "source": [
    "Теперь давайте создадим собственную функцию. Напишите функцию read_n_agg, которая:\n",
    "1.\tпринимает на вход один параметр – путь к файлу\n",
    "2.\tпри помощи переданного пути, считывает файл, в котором разделителем является ;\n",
    "3.\tсчитает средний заработок (income) по каждой компании (company), перенося колонку company в индекс (as_index=True)\n",
    "4.\tвозвращает результат этих действий (агрегированный датафрэйм)\n",
    "Данные выглядят вот так, скачать можно от.\n",
    "P.S. Небольшое уточнение – менять что-то в данных или переименовывать колонки не нужно.\n",
    "P.P.S. В задании надо указать только функцию, указывать конкретный путь к файлу не нужно. Он будет содержаться в аргументе функции внутри системы LMS!"
   ]
  },
  {
   "cell_type": "code",
   "execution_count": 14,
   "id": "fabb1510",
   "metadata": {},
   "outputs": [],
   "source": [
    "def read_n_agg(path):\n",
    "    df = pd.read_csv(path, sep=';')\n",
    "    return df.groupby('company').agg({'income': 'mean'})\n"
   ]
  },
  {
   "cell_type": "markdown",
   "id": "b5faf5fe",
   "metadata": {},
   "source": [
    "Импортируйте pandas как pd. В данном задании ссылка на датасет находится в переменной path_to_file. \n",
    "Загрузите датасет, используя ; в качестве разделителя. \n",
    "Также укажите, что столбцы start_at, end_at, arrived_at нужно прочитать как даты (параметр parse_dates).\n",
    "Результат запишите в переменную taxi."
   ]
  },
  {
   "cell_type": "code",
   "execution_count": 18,
   "id": "1f4aa634",
   "metadata": {},
   "outputs": [],
   "source": [
    "taxi = pd.read_csv(r'C:\\Users\\PC\\Desktop\\Софт\\Simulation\\Simulation\\data\\3_taxi_peru.csv', parse_dates=['start_at', 'end_at', 'arrived_at'], encoding='windows-1251', sep=';')"
   ]
  },
  {
   "cell_type": "code",
   "execution_count": null,
   "id": "acadaa57",
   "metadata": {},
   "outputs": [],
   "source": [
    "taxi = pd.read_csv(r'F:\\!PR\\Simulation\\data\\3_taxi_peru.csv', parse_dates=['start_at', 'end_at', 'arrived_at'], encoding='windows-1251', sep=';')"
   ]
  },
  {
   "cell_type": "code",
   "execution_count": 19,
   "id": "aa3af262",
   "metadata": {},
   "outputs": [
    {
     "data": {
      "application/vnd.microsoft.datawrangler.viewer.v0+json": {
       "columns": [
        {
         "name": "index",
         "rawType": "int64",
         "type": "integer"
        },
        {
         "name": "journey_id",
         "rawType": "object",
         "type": "string"
        },
        {
         "name": "user_id",
         "rawType": "object",
         "type": "string"
        },
        {
         "name": "driver_id",
         "rawType": "object",
         "type": "unknown"
        },
        {
         "name": "taxi_id",
         "rawType": "object",
         "type": "unknown"
        },
        {
         "name": "icon",
         "rawType": "object",
         "type": "string"
        },
        {
         "name": "start_type",
         "rawType": "object",
         "type": "string"
        },
        {
         "name": "start_at",
         "rawType": "datetime64[ns]",
         "type": "datetime"
        },
        {
         "name": "start_lat",
         "rawType": "object",
         "type": "string"
        },
        {
         "name": "start_lon",
         "rawType": "object",
         "type": "string"
        },
        {
         "name": "end_at",
         "rawType": "datetime64[ns]",
         "type": "datetime"
        },
        {
         "name": "end_lat",
         "rawType": "object",
         "type": "string"
        },
        {
         "name": "end_lon",
         "rawType": "object",
         "type": "string"
        },
        {
         "name": "end_state",
         "rawType": "object",
         "type": "string"
        },
        {
         "name": "driver_start_lat",
         "rawType": "object",
         "type": "unknown"
        },
        {
         "name": "driver_start_lon",
         "rawType": "object",
         "type": "unknown"
        },
        {
         "name": "arrived_at",
         "rawType": "datetime64[ns]",
         "type": "datetime"
        },
        {
         "name": "source",
         "rawType": "object",
         "type": "string"
        },
        {
         "name": "driver_score",
         "rawType": "float64",
         "type": "float"
        },
        {
         "name": "rider_score",
         "rawType": "float64",
         "type": "float"
        }
       ],
       "ref": "50ea7bff-70cf-4a14-9ed8-159f4005eb2d",
       "rows": [
        [
         "0",
         "23a1406fc6a11d866e3c82f22eed4d4c",
         "0e9af5bbf1edfe591b54ecdfd7e91e26",
         "583949a89a9ee17d19e3ca4f137b6b4c",
         "b12f4f09c783e29fe0d0ea624530db56",
         "executive",
         "asap",
         "2010-11-16 16:44:00",
         "-12,13983536",
         "-77,02355957",
         "2010-11-16 17:29:00",
         "-12,05537033",
         "-77,0413208",
         "drop off",
         "-12,10825481",
         "-77,0272739",
         "2010-11-16 17:02:00",
         "iPhone",
         "5.0",
         "5.0"
        ],
        [
         "1",
         "dd2af4715d0dc16eded53afc0e243577",
         "a553c46e3a22fb9c326aeb3d72b3334e",
         null,
         null,
         "executive",
         "asap",
         "2010-06-01 00:34:00",
         "-12,13874817",
         "-76,99536133",
         "2010-06-01 00:37:00",
         "-12,12465668",
         "-77,02886963",
         "not found",
         null,
         null,
         null,
         "iPhone",
         null,
         null
        ],
        [
         "2",
         "dd91e131888064bf7df3ce08f3d4b4ad",
         "a553c46e3a22fb9c326aeb3d72b3334e",
         null,
         null,
         "executive",
         "asap",
         "2010-05-31 05:01:00",
         "-12,12453079",
         "-77,02780151",
         "2010-05-31 05:04:00",
         "-12,13883209",
         "-76,99530029",
         "not found",
         null,
         null,
         null,
         "iPhone",
         null,
         null
        ],
        [
         "3",
         "dd2af4715d0dc16eded53afc0e2466d0",
         "a553c46e3a22fb9c326aeb3d72b3334e",
         null,
         null,
         "executive",
         "asap",
         "2010-06-01 00:29:00",
         "-12,13885117",
         "-76,99530029",
         "2010-06-01 00:32:00",
         "-12,12458801",
         "-77,02896118",
         "not found",
         null,
         null,
         null,
         "iPhone",
         null,
         null
        ],
        [
         "4",
         "85b7eabcf5d84e42dc7629b7d27781af",
         "56772d544fdfa589a020a1ff894a86f7",
         "d665fb9f75ef5d9cd0fd89479380ba78",
         "0accdd3aa5a322f4129fa20b53278c69",
         "executive",
         "reserved",
         "2010-09-11 23:55:00",
         "-12,08995438",
         "-76,92626953",
         "2010-09-12 01:07:00",
         "-12,02223206",
         "-77,10638428",
         "drop off",
         "-12,08311558",
         "-76,9277072",
         "2010-09-11 23:50:00",
         "iPhone",
         "4.0",
         "5.0"
        ]
       ],
       "shape": {
        "columns": 19,
        "rows": 5
       }
      },
      "text/html": [
       "<div>\n",
       "<style scoped>\n",
       "    .dataframe tbody tr th:only-of-type {\n",
       "        vertical-align: middle;\n",
       "    }\n",
       "\n",
       "    .dataframe tbody tr th {\n",
       "        vertical-align: top;\n",
       "    }\n",
       "\n",
       "    .dataframe thead th {\n",
       "        text-align: right;\n",
       "    }\n",
       "</style>\n",
       "<table border=\"1\" class=\"dataframe\">\n",
       "  <thead>\n",
       "    <tr style=\"text-align: right;\">\n",
       "      <th></th>\n",
       "      <th>journey_id</th>\n",
       "      <th>user_id</th>\n",
       "      <th>driver_id</th>\n",
       "      <th>taxi_id</th>\n",
       "      <th>icon</th>\n",
       "      <th>start_type</th>\n",
       "      <th>start_at</th>\n",
       "      <th>start_lat</th>\n",
       "      <th>start_lon</th>\n",
       "      <th>end_at</th>\n",
       "      <th>end_lat</th>\n",
       "      <th>end_lon</th>\n",
       "      <th>end_state</th>\n",
       "      <th>driver_start_lat</th>\n",
       "      <th>driver_start_lon</th>\n",
       "      <th>arrived_at</th>\n",
       "      <th>source</th>\n",
       "      <th>driver_score</th>\n",
       "      <th>rider_score</th>\n",
       "    </tr>\n",
       "  </thead>\n",
       "  <tbody>\n",
       "    <tr>\n",
       "      <th>0</th>\n",
       "      <td>23a1406fc6a11d866e3c82f22eed4d4c</td>\n",
       "      <td>0e9af5bbf1edfe591b54ecdfd7e91e26</td>\n",
       "      <td>583949a89a9ee17d19e3ca4f137b6b4c</td>\n",
       "      <td>b12f4f09c783e29fe0d0ea624530db56</td>\n",
       "      <td>executive</td>\n",
       "      <td>asap</td>\n",
       "      <td>2010-11-16 16:44:00</td>\n",
       "      <td>-12,13983536</td>\n",
       "      <td>-77,02355957</td>\n",
       "      <td>2010-11-16 17:29:00</td>\n",
       "      <td>-12,05537033</td>\n",
       "      <td>-77,0413208</td>\n",
       "      <td>drop off</td>\n",
       "      <td>-12,10825481</td>\n",
       "      <td>-77,0272739</td>\n",
       "      <td>2010-11-16 17:02:00</td>\n",
       "      <td>iPhone</td>\n",
       "      <td>5.0</td>\n",
       "      <td>5.0</td>\n",
       "    </tr>\n",
       "    <tr>\n",
       "      <th>1</th>\n",
       "      <td>dd2af4715d0dc16eded53afc0e243577</td>\n",
       "      <td>a553c46e3a22fb9c326aeb3d72b3334e</td>\n",
       "      <td>NaN</td>\n",
       "      <td>NaN</td>\n",
       "      <td>executive</td>\n",
       "      <td>asap</td>\n",
       "      <td>2010-06-01 00:34:00</td>\n",
       "      <td>-12,13874817</td>\n",
       "      <td>-76,99536133</td>\n",
       "      <td>2010-06-01 00:37:00</td>\n",
       "      <td>-12,12465668</td>\n",
       "      <td>-77,02886963</td>\n",
       "      <td>not found</td>\n",
       "      <td>NaN</td>\n",
       "      <td>NaN</td>\n",
       "      <td>NaT</td>\n",
       "      <td>iPhone</td>\n",
       "      <td>NaN</td>\n",
       "      <td>NaN</td>\n",
       "    </tr>\n",
       "    <tr>\n",
       "      <th>2</th>\n",
       "      <td>dd91e131888064bf7df3ce08f3d4b4ad</td>\n",
       "      <td>a553c46e3a22fb9c326aeb3d72b3334e</td>\n",
       "      <td>NaN</td>\n",
       "      <td>NaN</td>\n",
       "      <td>executive</td>\n",
       "      <td>asap</td>\n",
       "      <td>2010-05-31 05:01:00</td>\n",
       "      <td>-12,12453079</td>\n",
       "      <td>-77,02780151</td>\n",
       "      <td>2010-05-31 05:04:00</td>\n",
       "      <td>-12,13883209</td>\n",
       "      <td>-76,99530029</td>\n",
       "      <td>not found</td>\n",
       "      <td>NaN</td>\n",
       "      <td>NaN</td>\n",
       "      <td>NaT</td>\n",
       "      <td>iPhone</td>\n",
       "      <td>NaN</td>\n",
       "      <td>NaN</td>\n",
       "    </tr>\n",
       "    <tr>\n",
       "      <th>3</th>\n",
       "      <td>dd2af4715d0dc16eded53afc0e2466d0</td>\n",
       "      <td>a553c46e3a22fb9c326aeb3d72b3334e</td>\n",
       "      <td>NaN</td>\n",
       "      <td>NaN</td>\n",
       "      <td>executive</td>\n",
       "      <td>asap</td>\n",
       "      <td>2010-06-01 00:29:00</td>\n",
       "      <td>-12,13885117</td>\n",
       "      <td>-76,99530029</td>\n",
       "      <td>2010-06-01 00:32:00</td>\n",
       "      <td>-12,12458801</td>\n",
       "      <td>-77,02896118</td>\n",
       "      <td>not found</td>\n",
       "      <td>NaN</td>\n",
       "      <td>NaN</td>\n",
       "      <td>NaT</td>\n",
       "      <td>iPhone</td>\n",
       "      <td>NaN</td>\n",
       "      <td>NaN</td>\n",
       "    </tr>\n",
       "    <tr>\n",
       "      <th>4</th>\n",
       "      <td>85b7eabcf5d84e42dc7629b7d27781af</td>\n",
       "      <td>56772d544fdfa589a020a1ff894a86f7</td>\n",
       "      <td>d665fb9f75ef5d9cd0fd89479380ba78</td>\n",
       "      <td>0accdd3aa5a322f4129fa20b53278c69</td>\n",
       "      <td>executive</td>\n",
       "      <td>reserved</td>\n",
       "      <td>2010-09-11 23:55:00</td>\n",
       "      <td>-12,08995438</td>\n",
       "      <td>-76,92626953</td>\n",
       "      <td>2010-09-12 01:07:00</td>\n",
       "      <td>-12,02223206</td>\n",
       "      <td>-77,10638428</td>\n",
       "      <td>drop off</td>\n",
       "      <td>-12,08311558</td>\n",
       "      <td>-76,9277072</td>\n",
       "      <td>2010-09-11 23:50:00</td>\n",
       "      <td>iPhone</td>\n",
       "      <td>4.0</td>\n",
       "      <td>5.0</td>\n",
       "    </tr>\n",
       "  </tbody>\n",
       "</table>\n",
       "</div>"
      ],
      "text/plain": [
       "                         journey_id                           user_id  \\\n",
       "0  23a1406fc6a11d866e3c82f22eed4d4c  0e9af5bbf1edfe591b54ecdfd7e91e26   \n",
       "1  dd2af4715d0dc16eded53afc0e243577  a553c46e3a22fb9c326aeb3d72b3334e   \n",
       "2  dd91e131888064bf7df3ce08f3d4b4ad  a553c46e3a22fb9c326aeb3d72b3334e   \n",
       "3  dd2af4715d0dc16eded53afc0e2466d0  a553c46e3a22fb9c326aeb3d72b3334e   \n",
       "4  85b7eabcf5d84e42dc7629b7d27781af  56772d544fdfa589a020a1ff894a86f7   \n",
       "\n",
       "                          driver_id                           taxi_id  \\\n",
       "0  583949a89a9ee17d19e3ca4f137b6b4c  b12f4f09c783e29fe0d0ea624530db56   \n",
       "1                               NaN                               NaN   \n",
       "2                               NaN                               NaN   \n",
       "3                               NaN                               NaN   \n",
       "4  d665fb9f75ef5d9cd0fd89479380ba78  0accdd3aa5a322f4129fa20b53278c69   \n",
       "\n",
       "        icon start_type            start_at     start_lat     start_lon  \\\n",
       "0  executive       asap 2010-11-16 16:44:00  -12,13983536  -77,02355957   \n",
       "1  executive       asap 2010-06-01 00:34:00  -12,13874817  -76,99536133   \n",
       "2  executive       asap 2010-05-31 05:01:00  -12,12453079  -77,02780151   \n",
       "3  executive       asap 2010-06-01 00:29:00  -12,13885117  -76,99530029   \n",
       "4  executive   reserved 2010-09-11 23:55:00  -12,08995438  -76,92626953   \n",
       "\n",
       "               end_at       end_lat       end_lon  end_state driver_start_lat  \\\n",
       "0 2010-11-16 17:29:00  -12,05537033   -77,0413208   drop off     -12,10825481   \n",
       "1 2010-06-01 00:37:00  -12,12465668  -77,02886963  not found              NaN   \n",
       "2 2010-05-31 05:04:00  -12,13883209  -76,99530029  not found              NaN   \n",
       "3 2010-06-01 00:32:00  -12,12458801  -77,02896118  not found              NaN   \n",
       "4 2010-09-12 01:07:00  -12,02223206  -77,10638428   drop off     -12,08311558   \n",
       "\n",
       "  driver_start_lon          arrived_at  source  driver_score  rider_score  \n",
       "0      -77,0272739 2010-11-16 17:02:00  iPhone           5.0          5.0  \n",
       "1              NaN                 NaT  iPhone           NaN          NaN  \n",
       "2              NaN                 NaT  iPhone           NaN          NaN  \n",
       "3              NaN                 NaT  iPhone           NaN          NaN  \n",
       "4      -76,9277072 2010-09-11 23:50:00  iPhone           4.0          5.0  "
      ]
     },
     "execution_count": 19,
     "metadata": {},
     "output_type": "execute_result"
    }
   ],
   "source": [
    "taxi.head()"
   ]
  },
  {
   "cell_type": "markdown",
   "id": "1350cfb9",
   "metadata": {},
   "source": [
    "Проверьте, с какой платформы было сделано больше всего заказов. В ответе укажите значение в %, округлённое до целого."
   ]
  },
  {
   "cell_type": "code",
   "execution_count": 45,
   "id": "06e8949a",
   "metadata": {},
   "outputs": [
    {
     "data": {
      "application/vnd.microsoft.datawrangler.viewer.v0+json": {
       "columns": [
        {
         "name": "source",
         "rawType": "object",
         "type": "string"
        },
        {
         "name": "count",
         "rawType": "float64",
         "type": "float"
        }
       ],
       "ref": "d463d936-ccb4-4a59-b1ef-472719973059",
       "rows": [
        [
         "iPhone",
         "42.0"
        ],
        [
         "web",
         "33.0"
        ],
        [
         "Android",
         "21.0"
        ],
        [
         "iPad",
         "2.0"
        ],
        [
         "Wap",
         "1.0"
        ]
       ],
       "shape": {
        "columns": 1,
        "rows": 5
       }
      },
      "text/plain": [
       "source\n",
       "iPhone     42.0\n",
       "web        33.0\n",
       "Android    21.0\n",
       "iPad        2.0\n",
       "Wap         1.0\n",
       "Name: count, dtype: float64"
      ]
     },
     "execution_count": 45,
     "metadata": {},
     "output_type": "execute_result"
    }
   ],
   "source": [
    "np.round(taxi.source.value_counts() / len(taxi) * 100)"
   ]
  },
  {
   "cell_type": "markdown",
   "id": "aea20511",
   "metadata": {},
   "source": [
    "Чтобы показать разницу более наглядно, попробуем визуализировать показатели.\n",
    "Агрегируйте данные и постройте барчарт, где по оси x будет расположено название платформы (source), а по оси y – количество заказов (абсолютные значения).\n",
    "Какой график получился?"
   ]
  },
  {
   "cell_type": "code",
   "execution_count": 61,
   "id": "8dcbe0bb",
   "metadata": {},
   "outputs": [],
   "source": [
    "source_score = taxi.source.value_counts().reset_index()\n",
    "source_score.columns = ['source', 'count']\n"
   ]
  },
  {
   "cell_type": "code",
   "execution_count": 64,
   "id": "70e7ddab",
   "metadata": {},
   "outputs": [
    {
     "data": {
      "image/png": "[encoded data removed]",
      "text/plain": [
       "<Figure size 640x480 with 1 Axes>"
      ]
     },
     "metadata": {},
     "output_type": "display_data"
    }
   ],
   "source": [
    "ax = sns.barplot(x='source', y=\"count\", data=source_score)\n",
    "ax.set(xlabel='Platform', ylabel='Count')  # подписываем оси\n",
    "sns.despine()  # убрать часть рамки графика"
   ]
  },
  {
   "cell_type": "markdown",
   "id": "803f5278",
   "metadata": {},
   "source": [
    "Альтернативный вариант построения распределения категориальной переменной – sns.countplot. В качестве единственного аргумента можно передать всего одну колонку: например, source, а количество значений для оси y функция посчитает самостоятельно.\n",
    "sns.countplot(taxi['source'])\n",
    "Используйте данный тип графика и проверьте, какой тип поездки (icon) встречался чаще всего."
   ]
  },
  {
   "cell_type": "code",
   "execution_count": 73,
   "id": "ad739314",
   "metadata": {},
   "outputs": [
    {
     "data": {
      "image/png": "[encoded data removed]",
      "text/plain": [
       "<Figure size 640x480 with 1 Axes>"
      ]
     },
     "metadata": {},
     "output_type": "display_data"
    }
   ],
   "source": [
    "a = sns.countplot(x='icon', data=taxi)\n",
    "a.set(xlabel='Icon', ylabel='Count') # подписываем оси\n",
    "sns.despine()  # убрать часть рамки графика"
   ]
  },
  {
   "cell_type": "markdown",
   "id": "c95f728b",
   "metadata": {},
   "source": [
    "С помощью sns.countplot и параметра hue визуализируйте распределение переменной end_state (итоговое состояние заказа) в разбивке по платформам (source).\n",
    "Иными словами, по оси x расположите платформу, а в качестве цвета используйте состояние заказа. Далее выберите верные утверждения."
   ]
  },
  {
   "cell_type": "code",
   "execution_count": 80,
   "id": "7f00e5b8",
   "metadata": {},
   "outputs": [
    {
     "data": {
      "text/plain": [
       "<Axes: xlabel='source', ylabel='count'>"
      ]
     },
     "execution_count": 80,
     "metadata": {},
     "output_type": "execute_result"
    },
    {
     "data": {
      "image/png": "[encoded data removed]",
      "text/plain": [
       "<Figure size 1500x500 with 1 Axes>"
      ]
     },
     "metadata": {},
     "output_type": "display_data"
    }
   ],
   "source": [
    "plt.figure(figsize=(15,5))  # указываем размер графика, чтобы он был побольше\n",
    "sns.countplot(x='source', hue='end_state', data=taxi)"
   ]
  },
  {
   "cell_type": "markdown",
   "id": "f4f65ece",
   "metadata": {},
   "source": [
    "Проверим, как распределены оценки водителей (driver_score). Для подготовки данных выполните следующие шаги:\n",
    "1.\tПосчитайте частоту встречаемости каждой из оценок\n",
    "2.\tПереведите в проценты и округлите до 2 знаков после точки (.mul(100).round(2))\n",
    "3.\tСбросьте индексы\n",
    "4.\tПереименуйте колонки в driver_score и percentage\n",
    "5.\tОтсортируйте по driver_score в порядке возрастания (от 0 до 5)\n",
    "6.\tЗапишите результат в driver_score_counts\n",
    " \n",
    "Полезные функции:\n",
    "•\t.mul() – умножение, более удобный вариант для использования в цепочке методов \n",
    "•\t.round() – округление\n",
    "•\t.reset_index() – сбросить индекс\n",
    "•\t.value_counts() – сколько раз встречается каждое значение переменной"
   ]
  },
  {
   "cell_type": "code",
   "execution_count": 98,
   "id": "621ce38e",
   "metadata": {},
   "outputs": [],
   "source": [
    "driver_score_counts = (taxi.driver_score.value_counts() / len(taxi))\\\n",
    "    .mul(100)\\\n",
    "    .round(2)\\\n",
    "    .reset_index()\\\n",
    "    .rename(columns={'driver_score': 'driver_score', 'count': 'percentage'})\\\n",
    "    .sort_values('driver_score')"
   ]
  },
  {
   "cell_type": "code",
   "execution_count": 100,
   "id": "202d613a",
   "metadata": {},
   "outputs": [
    {
     "data": {
      "application/vnd.microsoft.datawrangler.viewer.v0+json": {
       "columns": [
        {
         "name": "index",
         "rawType": "int64",
         "type": "integer"
        },
        {
         "name": "driver_score",
         "rawType": "float64",
         "type": "float"
        },
        {
         "name": "percentage",
         "rawType": "float64",
         "type": "float"
        }
       ],
       "ref": "acef81ae-381e-4f95-8433-dba2a847eb76",
       "rows": [
        [
         "2",
         "0.0",
         "4.73"
        ],
        [
         "4",
         "1.0",
         "0.41"
        ],
        [
         "5",
         "2.0",
         "0.27"
        ],
        [
         "3",
         "3.0",
         "0.98"
        ],
        [
         "1",
         "4.0",
         "7.24"
        ],
        [
         "0",
         "5.0",
         "19.47"
        ]
       ],
       "shape": {
        "columns": 2,
        "rows": 6
       }
      },
      "text/html": [
       "<div>\n",
       "<style scoped>\n",
       "    .dataframe tbody tr th:only-of-type {\n",
       "        vertical-align: middle;\n",
       "    }\n",
       "\n",
       "    .dataframe tbody tr th {\n",
       "        vertical-align: top;\n",
       "    }\n",
       "\n",
       "    .dataframe thead th {\n",
       "        text-align: right;\n",
       "    }\n",
       "</style>\n",
       "<table border=\"1\" class=\"dataframe\">\n",
       "  <thead>\n",
       "    <tr style=\"text-align: right;\">\n",
       "      <th></th>\n",
       "      <th>driver_score</th>\n",
       "      <th>percentage</th>\n",
       "    </tr>\n",
       "  </thead>\n",
       "  <tbody>\n",
       "    <tr>\n",
       "      <th>2</th>\n",
       "      <td>0.0</td>\n",
       "      <td>4.73</td>\n",
       "    </tr>\n",
       "    <tr>\n",
       "      <th>4</th>\n",
       "      <td>1.0</td>\n",
       "      <td>0.41</td>\n",
       "    </tr>\n",
       "    <tr>\n",
       "      <th>5</th>\n",
       "      <td>2.0</td>\n",
       "      <td>0.27</td>\n",
       "    </tr>\n",
       "    <tr>\n",
       "      <th>3</th>\n",
       "      <td>3.0</td>\n",
       "      <td>0.98</td>\n",
       "    </tr>\n",
       "    <tr>\n",
       "      <th>1</th>\n",
       "      <td>4.0</td>\n",
       "      <td>7.24</td>\n",
       "    </tr>\n",
       "    <tr>\n",
       "      <th>0</th>\n",
       "      <td>5.0</td>\n",
       "      <td>19.47</td>\n",
       "    </tr>\n",
       "  </tbody>\n",
       "</table>\n",
       "</div>"
      ],
      "text/plain": [
       "   driver_score  percentage\n",
       "2           0.0        4.73\n",
       "4           1.0        0.41\n",
       "5           2.0        0.27\n",
       "3           3.0        0.98\n",
       "1           4.0        7.24\n",
       "0           5.0       19.47"
      ]
     },
     "execution_count": 100,
     "metadata": {},
     "output_type": "execute_result"
    }
   ],
   "source": [
    "driver_score_counts"
   ]
  },
  {
   "cell_type": "code",
   "execution_count": 99,
   "id": "fe516002",
   "metadata": {},
   "outputs": [
    {
     "data": {
      "image/png": "[encoded data removed]",
      "text/plain": [
       "<Figure size 640x480 with 1 Axes>"
      ]
     },
     "metadata": {},
     "output_type": "display_data"
    }
   ],
   "source": [
    "ax = sns.barplot(x='driver_score', y='percentage', data=driver_score_counts, color='blue', alpha=0.5)\n",
    "ax.set(xlabel='Driver score', ylabel='Percentage')\n",
    "sns.despine()  # убрать часть рамки графика\n",
    "plt.show()"
   ]
  },
  {
   "cell_type": "markdown",
   "id": "ba1a447b",
   "metadata": {},
   "source": [
    "Проделайте аналогичные шаги для rider_score (оценок клиентов водителями), не забыв построить график."
   ]
  },
  {
   "cell_type": "code",
   "execution_count": 101,
   "id": "7d76e56d",
   "metadata": {},
   "outputs": [],
   "source": [
    "rider_score_counts = (taxi.rider_score.value_counts() / len(taxi))\\\n",
    "    .mul(100)\\\n",
    "    .round(2)\\\n",
    "    .reset_index()\\\n",
    "    .rename(columns={'ridre_score': 'rider_score', 'count': 'percentage'})\\\n",
    "    .sort_values('rider_score')"
   ]
  },
  {
   "cell_type": "code",
   "execution_count": 102,
   "id": "7def8d73",
   "metadata": {},
   "outputs": [
    {
     "data": {
      "application/vnd.microsoft.datawrangler.viewer.v0+json": {
       "columns": [
        {
         "name": "index",
         "rawType": "int64",
         "type": "integer"
        },
        {
         "name": "rider_score",
         "rawType": "float64",
         "type": "float"
        },
        {
         "name": "percentage",
         "rawType": "float64",
         "type": "float"
        }
       ],
       "ref": "76b05827-244c-4b57-af9c-ad0af702a50f",
       "rows": [
        [
         "2",
         "0.0",
         "1.52"
        ],
        [
         "4",
         "1.0",
         "0.14"
        ],
        [
         "5",
         "2.0",
         "0.13"
        ],
        [
         "3",
         "3.0",
         "0.92"
        ],
        [
         "1",
         "4.0",
         "5.88"
        ],
        [
         "0",
         "5.0",
         "58.0"
        ]
       ],
       "shape": {
        "columns": 2,
        "rows": 6
       }
      },
      "text/html": [
       "<div>\n",
       "<style scoped>\n",
       "    .dataframe tbody tr th:only-of-type {\n",
       "        vertical-align: middle;\n",
       "    }\n",
       "\n",
       "    .dataframe tbody tr th {\n",
       "        vertical-align: top;\n",
       "    }\n",
       "\n",
       "    .dataframe thead th {\n",
       "        text-align: right;\n",
       "    }\n",
       "</style>\n",
       "<table border=\"1\" class=\"dataframe\">\n",
       "  <thead>\n",
       "    <tr style=\"text-align: right;\">\n",
       "      <th></th>\n",
       "      <th>rider_score</th>\n",
       "      <th>percentage</th>\n",
       "    </tr>\n",
       "  </thead>\n",
       "  <tbody>\n",
       "    <tr>\n",
       "      <th>2</th>\n",
       "      <td>0.0</td>\n",
       "      <td>1.52</td>\n",
       "    </tr>\n",
       "    <tr>\n",
       "      <th>4</th>\n",
       "      <td>1.0</td>\n",
       "      <td>0.14</td>\n",
       "    </tr>\n",
       "    <tr>\n",
       "      <th>5</th>\n",
       "      <td>2.0</td>\n",
       "      <td>0.13</td>\n",
       "    </tr>\n",
       "    <tr>\n",
       "      <th>3</th>\n",
       "      <td>3.0</td>\n",
       "      <td>0.92</td>\n",
       "    </tr>\n",
       "    <tr>\n",
       "      <th>1</th>\n",
       "      <td>4.0</td>\n",
       "      <td>5.88</td>\n",
       "    </tr>\n",
       "    <tr>\n",
       "      <th>0</th>\n",
       "      <td>5.0</td>\n",
       "      <td>58.00</td>\n",
       "    </tr>\n",
       "  </tbody>\n",
       "</table>\n",
       "</div>"
      ],
      "text/plain": [
       "   rider_score  percentage\n",
       "2          0.0        1.52\n",
       "4          1.0        0.14\n",
       "5          2.0        0.13\n",
       "3          3.0        0.92\n",
       "1          4.0        5.88\n",
       "0          5.0       58.00"
      ]
     },
     "execution_count": 102,
     "metadata": {},
     "output_type": "execute_result"
    }
   ],
   "source": [
    "rider_score_counts"
   ]
  },
  {
   "cell_type": "code",
   "execution_count": 104,
   "id": "8b2f4dbc",
   "metadata": {},
   "outputs": [
    {
     "data": {
      "image/png": "[encoded data removed]",
      "text/plain": [
       "<Figure size 640x480 with 1 Axes>"
      ]
     },
     "metadata": {},
     "output_type": "display_data"
    }
   ],
   "source": [
    "ax = sns.barplot(x='rider_score', y='percentage', data=rider_score_counts, color='green', alpha=0.5)\n",
    "ax.set(xlabel='Rider score', ylabel='Percentage')\n",
    "sns.despine()  # убрать часть рамки графика\n",
    "plt.show()"
   ]
  }
 ],
 "metadata": {
  "kernelspec": {
   "display_name": "Python 3",
   "language": "python",
   "name": "python3"
  },
  "language_info": {
   "codemirror_mode": {
    "name": "ipython",
    "version": 3
   },
   "file_extension": ".py",
   "mimetype": "text/x-python",
   "name": "python",
   "nbconvert_exporter": "python",
   "pygments_lexer": "ipython3",
   "version": "3.11.9"
  }
 },
 "nbformat": 4,
 "nbformat_minor": 5
}
