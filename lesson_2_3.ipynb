{
 "cells": [
  {
   "cell_type": "code",
   "execution_count": 10,
   "id": "31a1940c",
   "metadata": {},
   "outputs": [],
   "source": [
    "import pandas as pd\n",
    "import numpy as np\n",
    "\n",
    "import seaborn as sns\n",
    "import matplotlib.pyplot as plt\n",
    "\n",
    "%matplotlib inline "
   ]
  },
  {
   "cell_type": "markdown",
   "id": "9c6b0da6",
   "metadata": {},
   "source": [
    "В переменной df содержатся данные такого вида\n",
    "Отберите из них только те, где wealth принимает значение 'medium', а возраст составляет больше 35.\n",
    "Поместите результат в переменную medium_35."
   ]
  },
  {
   "cell_type": "code",
   "execution_count": 11,
   "id": "4d22f62c",
   "metadata": {},
   "outputs": [],
   "source": [
    "df = pd.DataFrame({'client_id': np.random.randint(1, 10000, 30),\n",
    "                   'sex': np.random.choice([0, 1], 30),\n",
    "                   'wealth': np.random.choice(['low', 'medium', 'high'], 30),\n",
    "                   'age': np.random.randint(20, 70, 30)})"
   ]
  },
  {
   "cell_type": "code",
   "execution_count": 21,
   "id": "98f2b166",
   "metadata": {},
   "outputs": [
    {
     "data": {
      "application/vnd.microsoft.datawrangler.viewer.v0+json": {
       "columns": [
        {
         "name": "index",
         "rawType": "int64",
         "type": "integer"
        },
        {
         "name": "client_id",
         "rawType": "int32",
         "type": "integer"
        },
        {
         "name": "sex",
         "rawType": "int64",
         "type": "integer"
        },
        {
         "name": "wealth",
         "rawType": "object",
         "type": "string"
        },
        {
         "name": "age",
         "rawType": "int32",
         "type": "integer"
        },
        {
         "name": "older_than_30",
         "rawType": "bool",
         "type": "boolean"
        }
       ],
       "ref": "fb0dbd76-ca3e-4726-ab7c-341d4f9ee9ec",
       "rows": [
        [
         "0",
         "5790",
         "1",
         "medium",
         "66",
         "True"
        ],
        [
         "1",
         "7090",
         "1",
         "high",
         "41",
         "True"
        ],
        [
         "2",
         "5297",
         "1",
         "low",
         "55",
         "True"
        ],
        [
         "3",
         "3977",
         "0",
         "medium",
         "28",
         "False"
        ],
        [
         "4",
         "8770",
         "0",
         "medium",
         "21",
         "False"
        ]
       ],
       "shape": {
        "columns": 5,
        "rows": 5
       }
      },
      "text/html": [
       "<div>\n",
       "<style scoped>\n",
       "    .dataframe tbody tr th:only-of-type {\n",
       "        vertical-align: middle;\n",
       "    }\n",
       "\n",
       "    .dataframe tbody tr th {\n",
       "        vertical-align: top;\n",
       "    }\n",
       "\n",
       "    .dataframe thead th {\n",
       "        text-align: right;\n",
       "    }\n",
       "</style>\n",
       "<table border=\"1\" class=\"dataframe\">\n",
       "  <thead>\n",
       "    <tr style=\"text-align: right;\">\n",
       "      <th></th>\n",
       "      <th>client_id</th>\n",
       "      <th>sex</th>\n",
       "      <th>wealth</th>\n",
       "      <th>age</th>\n",
       "      <th>older_than_30</th>\n",
       "    </tr>\n",
       "  </thead>\n",
       "  <tbody>\n",
       "    <tr>\n",
       "      <th>0</th>\n",
       "      <td>5790</td>\n",
       "      <td>1</td>\n",
       "      <td>medium</td>\n",
       "      <td>66</td>\n",
       "      <td>True</td>\n",
       "    </tr>\n",
       "    <tr>\n",
       "      <th>1</th>\n",
       "      <td>7090</td>\n",
       "      <td>1</td>\n",
       "      <td>high</td>\n",
       "      <td>41</td>\n",
       "      <td>True</td>\n",
       "    </tr>\n",
       "    <tr>\n",
       "      <th>2</th>\n",
       "      <td>5297</td>\n",
       "      <td>1</td>\n",
       "      <td>low</td>\n",
       "      <td>55</td>\n",
       "      <td>True</td>\n",
       "    </tr>\n",
       "    <tr>\n",
       "      <th>3</th>\n",
       "      <td>3977</td>\n",
       "      <td>0</td>\n",
       "      <td>medium</td>\n",
       "      <td>28</td>\n",
       "      <td>False</td>\n",
       "    </tr>\n",
       "    <tr>\n",
       "      <th>4</th>\n",
       "      <td>8770</td>\n",
       "      <td>0</td>\n",
       "      <td>medium</td>\n",
       "      <td>21</td>\n",
       "      <td>False</td>\n",
       "    </tr>\n",
       "  </tbody>\n",
       "</table>\n",
       "</div>"
      ],
      "text/plain": [
       "   client_id  sex  wealth  age  older_than_30\n",
       "0       5790    1  medium   66           True\n",
       "1       7090    1    high   41           True\n",
       "2       5297    1     low   55           True\n",
       "3       3977    0  medium   28          False\n",
       "4       8770    0  medium   21          False"
      ]
     },
     "execution_count": 21,
     "metadata": {},
     "output_type": "execute_result"
    }
   ],
   "source": [
    "df.head()"
   ]
  },
  {
   "cell_type": "code",
   "execution_count": 15,
   "id": "dcadaeca",
   "metadata": {},
   "outputs": [],
   "source": [
    "medium_35 = df.loc[(df['wealth'] == 'medium') & (df['age'] > 35)]"
   ]
  },
  {
   "cell_type": "markdown",
   "id": "b15fa29d",
   "metadata": {},
   "source": [
    "Воспользуйтесь методом rename и приведите таблицу к более каноничному виду, сохранив её в ту же самую переменную df."
   ]
  },
  {
   "cell_type": "code",
   "execution_count": 17,
   "id": "146ebae8",
   "metadata": {},
   "outputs": [],
   "source": [
    "df_1 = df.rename(columns={'client_id': 'Клиент_id', 'sex': 'Пол', 'wealth': 'Благосостояние', 'age': 'Возраст'})"
   ]
  },
  {
   "cell_type": "code",
   "execution_count": 18,
   "id": "5349d55d",
   "metadata": {},
   "outputs": [
    {
     "data": {
      "application/vnd.microsoft.datawrangler.viewer.v0+json": {
       "columns": [
        {
         "name": "index",
         "rawType": "int64",
         "type": "integer"
        },
        {
         "name": "Клиент_id",
         "rawType": "int32",
         "type": "integer"
        },
        {
         "name": "Пол",
         "rawType": "int64",
         "type": "integer"
        },
        {
         "name": "Благосостояние",
         "rawType": "object",
         "type": "string"
        },
        {
         "name": "Возраст",
         "rawType": "int32",
         "type": "integer"
        }
       ],
       "ref": "c8a5011e-8f05-4145-aa4c-4d118f242f41",
       "rows": [
        [
         "0",
         "5790",
         "1",
         "medium",
         "66"
        ],
        [
         "1",
         "7090",
         "1",
         "high",
         "41"
        ],
        [
         "2",
         "5297",
         "1",
         "low",
         "55"
        ],
        [
         "3",
         "3977",
         "0",
         "medium",
         "28"
        ],
        [
         "4",
         "8770",
         "0",
         "medium",
         "21"
        ]
       ],
       "shape": {
        "columns": 4,
        "rows": 5
       }
      },
      "text/html": [
       "<div>\n",
       "<style scoped>\n",
       "    .dataframe tbody tr th:only-of-type {\n",
       "        vertical-align: middle;\n",
       "    }\n",
       "\n",
       "    .dataframe tbody tr th {\n",
       "        vertical-align: top;\n",
       "    }\n",
       "\n",
       "    .dataframe thead th {\n",
       "        text-align: right;\n",
       "    }\n",
       "</style>\n",
       "<table border=\"1\" class=\"dataframe\">\n",
       "  <thead>\n",
       "    <tr style=\"text-align: right;\">\n",
       "      <th></th>\n",
       "      <th>Клиент_id</th>\n",
       "      <th>Пол</th>\n",
       "      <th>Благосостояние</th>\n",
       "      <th>Возраст</th>\n",
       "    </tr>\n",
       "  </thead>\n",
       "  <tbody>\n",
       "    <tr>\n",
       "      <th>0</th>\n",
       "      <td>5790</td>\n",
       "      <td>1</td>\n",
       "      <td>medium</td>\n",
       "      <td>66</td>\n",
       "    </tr>\n",
       "    <tr>\n",
       "      <th>1</th>\n",
       "      <td>7090</td>\n",
       "      <td>1</td>\n",
       "      <td>high</td>\n",
       "      <td>41</td>\n",
       "    </tr>\n",
       "    <tr>\n",
       "      <th>2</th>\n",
       "      <td>5297</td>\n",
       "      <td>1</td>\n",
       "      <td>low</td>\n",
       "      <td>55</td>\n",
       "    </tr>\n",
       "    <tr>\n",
       "      <th>3</th>\n",
       "      <td>3977</td>\n",
       "      <td>0</td>\n",
       "      <td>medium</td>\n",
       "      <td>28</td>\n",
       "    </tr>\n",
       "    <tr>\n",
       "      <th>4</th>\n",
       "      <td>8770</td>\n",
       "      <td>0</td>\n",
       "      <td>medium</td>\n",
       "      <td>21</td>\n",
       "    </tr>\n",
       "  </tbody>\n",
       "</table>\n",
       "</div>"
      ],
      "text/plain": [
       "   Клиент_id  Пол Благосостояние  Возраст\n",
       "0       5790    1         medium       66\n",
       "1       7090    1           high       41\n",
       "2       5297    1            low       55\n",
       "3       3977    0         medium       28\n",
       "4       8770    0         medium       21"
      ]
     },
     "execution_count": 18,
     "metadata": {},
     "output_type": "execute_result"
    }
   ],
   "source": [
    "df_1.head()"
   ]
  },
  {
   "cell_type": "markdown",
   "id": "33671fc8",
   "metadata": {},
   "source": [
    "Добавьте в исследуемый нами датафрэйм df колонку older_than_30, в которой будет информация превышает ли значение переменной возраста 30 лет или нет (булево значение)`"
   ]
  },
  {
   "cell_type": "code",
   "execution_count": 20,
   "id": "8d37ed3d",
   "metadata": {},
   "outputs": [],
   "source": [
    "df['older_than_30'] = df['age'] > 30"
   ]
  },
  {
   "cell_type": "markdown",
   "id": "10e5e6df",
   "metadata": {},
   "source": [
    "А теперь получите серию с числом уникальных значений для каждой колонки и присвойте её переменной unique_num."
   ]
  },
  {
   "cell_type": "code",
   "execution_count": 24,
   "id": "e6be08fe",
   "metadata": {},
   "outputs": [],
   "source": [
    "unique_num = df.nunique()"
   ]
  },
  {
   "cell_type": "code",
   "execution_count": 25,
   "id": "7db3fc72",
   "metadata": {},
   "outputs": [
    {
     "data": {
      "application/vnd.microsoft.datawrangler.viewer.v0+json": {
       "columns": [
        {
         "name": "index",
         "rawType": "object",
         "type": "string"
        },
        {
         "name": "0",
         "rawType": "int64",
         "type": "integer"
        }
       ],
       "ref": "ceaf58bd-30c5-45cc-ae97-e3b19d419979",
       "rows": [
        [
         "client_id",
         "30"
        ],
        [
         "sex",
         "2"
        ],
        [
         "wealth",
         "3"
        ],
        [
         "age",
         "24"
        ],
        [
         "older_than_30",
         "2"
        ]
       ],
       "shape": {
        "columns": 1,
        "rows": 5
       }
      },
      "text/plain": [
       "client_id        30\n",
       "sex               2\n",
       "wealth            3\n",
       "age              24\n",
       "older_than_30     2\n",
       "dtype: int64"
      ]
     },
     "execution_count": 25,
     "metadata": {},
     "output_type": "execute_result"
    }
   ],
   "source": [
    "unique_num"
   ]
  },
  {
   "cell_type": "markdown",
   "id": "2012156a",
   "metadata": {},
   "source": [
    "У нас появились новые данные! Переменная data хранит в себе датафрэйм следующего вида:\n",
    "Проведите inner join датафрейма data с df из предыдущего шага, объединив их по колонке client_id, и поместите результат в переменную full_data (да, придумывать названия переменных иногда бывает сложно)\n",
    "Предыдущий датафрейм загружен в переменную df, новый – в data "
   ]
  },
  {
   "cell_type": "code",
   "execution_count": 28,
   "id": "cf01a56d",
   "metadata": {},
   "outputs": [],
   "source": [
    "data = pd.DataFrame({'client_id': df.client_id.sample(10).values,\n",
    "                   'amount': np.random.randint(1000, 100000, 10),\n",
    "                   'date': np.random.randint(1585425000, 1585430000, 10)})"
   ]
  },
  {
   "cell_type": "code",
   "execution_count": 29,
   "id": "0a8d8940",
   "metadata": {},
   "outputs": [
    {
     "data": {
      "application/vnd.microsoft.datawrangler.viewer.v0+json": {
       "columns": [
        {
         "name": "index",
         "rawType": "int64",
         "type": "integer"
        },
        {
         "name": "client_id",
         "rawType": "int32",
         "type": "integer"
        },
        {
         "name": "amount",
         "rawType": "int32",
         "type": "integer"
        },
        {
         "name": "date",
         "rawType": "int32",
         "type": "integer"
        }
       ],
       "ref": "f9e3b931-4072-4620-8636-dbe7c42418a6",
       "rows": [
        [
         "0",
         "6155",
         "43052",
         "1585429487"
        ],
        [
         "1",
         "1350",
         "94313",
         "1585428593"
        ],
        [
         "2",
         "6848",
         "13281",
         "1585427228"
        ],
        [
         "3",
         "4464",
         "22515",
         "1585427510"
        ],
        [
         "4",
         "6528",
         "47439",
         "1585425680"
        ]
       ],
       "shape": {
        "columns": 3,
        "rows": 5
       }
      },
      "text/html": [
       "<div>\n",
       "<style scoped>\n",
       "    .dataframe tbody tr th:only-of-type {\n",
       "        vertical-align: middle;\n",
       "    }\n",
       "\n",
       "    .dataframe tbody tr th {\n",
       "        vertical-align: top;\n",
       "    }\n",
       "\n",
       "    .dataframe thead th {\n",
       "        text-align: right;\n",
       "    }\n",
       "</style>\n",
       "<table border=\"1\" class=\"dataframe\">\n",
       "  <thead>\n",
       "    <tr style=\"text-align: right;\">\n",
       "      <th></th>\n",
       "      <th>client_id</th>\n",
       "      <th>amount</th>\n",
       "      <th>date</th>\n",
       "    </tr>\n",
       "  </thead>\n",
       "  <tbody>\n",
       "    <tr>\n",
       "      <th>0</th>\n",
       "      <td>6155</td>\n",
       "      <td>43052</td>\n",
       "      <td>1585429487</td>\n",
       "    </tr>\n",
       "    <tr>\n",
       "      <th>1</th>\n",
       "      <td>1350</td>\n",
       "      <td>94313</td>\n",
       "      <td>1585428593</td>\n",
       "    </tr>\n",
       "    <tr>\n",
       "      <th>2</th>\n",
       "      <td>6848</td>\n",
       "      <td>13281</td>\n",
       "      <td>1585427228</td>\n",
       "    </tr>\n",
       "    <tr>\n",
       "      <th>3</th>\n",
       "      <td>4464</td>\n",
       "      <td>22515</td>\n",
       "      <td>1585427510</td>\n",
       "    </tr>\n",
       "    <tr>\n",
       "      <th>4</th>\n",
       "      <td>6528</td>\n",
       "      <td>47439</td>\n",
       "      <td>1585425680</td>\n",
       "    </tr>\n",
       "  </tbody>\n",
       "</table>\n",
       "</div>"
      ],
      "text/plain": [
       "   client_id  amount        date\n",
       "0       6155   43052  1585429487\n",
       "1       1350   94313  1585428593\n",
       "2       6848   13281  1585427228\n",
       "3       4464   22515  1585427510\n",
       "4       6528   47439  1585425680"
      ]
     },
     "execution_count": 29,
     "metadata": {},
     "output_type": "execute_result"
    }
   ],
   "source": [
    "data.head()"
   ]
  },
  {
   "cell_type": "code",
   "execution_count": 30,
   "id": "cf6bbccc",
   "metadata": {},
   "outputs": [],
   "source": [
    "full_data = df.merge(data, on = 'client_id')"
   ]
  },
  {
   "cell_type": "code",
   "execution_count": 31,
   "id": "c31ca36a",
   "metadata": {},
   "outputs": [
    {
     "data": {
      "application/vnd.microsoft.datawrangler.viewer.v0+json": {
       "columns": [
        {
         "name": "index",
         "rawType": "int64",
         "type": "integer"
        },
        {
         "name": "client_id",
         "rawType": "int32",
         "type": "integer"
        },
        {
         "name": "sex",
         "rawType": "int64",
         "type": "integer"
        },
        {
         "name": "wealth",
         "rawType": "object",
         "type": "string"
        },
        {
         "name": "age",
         "rawType": "int32",
         "type": "integer"
        },
        {
         "name": "older_than_30",
         "rawType": "bool",
         "type": "boolean"
        },
        {
         "name": "amount",
         "rawType": "int32",
         "type": "integer"
        },
        {
         "name": "date",
         "rawType": "int32",
         "type": "integer"
        }
       ],
       "ref": "b042d64b-c5d2-4eb1-9abe-6e6d23b194df",
       "rows": [
        [
         "0",
         "5297",
         "1",
         "low",
         "55",
         "True",
         "90990",
         "1585425523"
        ],
        [
         "1",
         "8770",
         "0",
         "medium",
         "21",
         "False",
         "67487",
         "1585427208"
        ],
        [
         "2",
         "1232",
         "0",
         "high",
         "38",
         "True",
         "23950",
         "1585425417"
        ],
        [
         "3",
         "4464",
         "1",
         "high",
         "23",
         "False",
         "22515",
         "1585427510"
        ],
        [
         "4",
         "6528",
         "1",
         "high",
         "29",
         "False",
         "47439",
         "1585425680"
        ]
       ],
       "shape": {
        "columns": 7,
        "rows": 5
       }
      },
      "text/html": [
       "<div>\n",
       "<style scoped>\n",
       "    .dataframe tbody tr th:only-of-type {\n",
       "        vertical-align: middle;\n",
       "    }\n",
       "\n",
       "    .dataframe tbody tr th {\n",
       "        vertical-align: top;\n",
       "    }\n",
       "\n",
       "    .dataframe thead th {\n",
       "        text-align: right;\n",
       "    }\n",
       "</style>\n",
       "<table border=\"1\" class=\"dataframe\">\n",
       "  <thead>\n",
       "    <tr style=\"text-align: right;\">\n",
       "      <th></th>\n",
       "      <th>client_id</th>\n",
       "      <th>sex</th>\n",
       "      <th>wealth</th>\n",
       "      <th>age</th>\n",
       "      <th>older_than_30</th>\n",
       "      <th>amount</th>\n",
       "      <th>date</th>\n",
       "    </tr>\n",
       "  </thead>\n",
       "  <tbody>\n",
       "    <tr>\n",
       "      <th>0</th>\n",
       "      <td>5297</td>\n",
       "      <td>1</td>\n",
       "      <td>low</td>\n",
       "      <td>55</td>\n",
       "      <td>True</td>\n",
       "      <td>90990</td>\n",
       "      <td>1585425523</td>\n",
       "    </tr>\n",
       "    <tr>\n",
       "      <th>1</th>\n",
       "      <td>8770</td>\n",
       "      <td>0</td>\n",
       "      <td>medium</td>\n",
       "      <td>21</td>\n",
       "      <td>False</td>\n",
       "      <td>67487</td>\n",
       "      <td>1585427208</td>\n",
       "    </tr>\n",
       "    <tr>\n",
       "      <th>2</th>\n",
       "      <td>1232</td>\n",
       "      <td>0</td>\n",
       "      <td>high</td>\n",
       "      <td>38</td>\n",
       "      <td>True</td>\n",
       "      <td>23950</td>\n",
       "      <td>1585425417</td>\n",
       "    </tr>\n",
       "    <tr>\n",
       "      <th>3</th>\n",
       "      <td>4464</td>\n",
       "      <td>1</td>\n",
       "      <td>high</td>\n",
       "      <td>23</td>\n",
       "      <td>False</td>\n",
       "      <td>22515</td>\n",
       "      <td>1585427510</td>\n",
       "    </tr>\n",
       "    <tr>\n",
       "      <th>4</th>\n",
       "      <td>6528</td>\n",
       "      <td>1</td>\n",
       "      <td>high</td>\n",
       "      <td>29</td>\n",
       "      <td>False</td>\n",
       "      <td>47439</td>\n",
       "      <td>1585425680</td>\n",
       "    </tr>\n",
       "  </tbody>\n",
       "</table>\n",
       "</div>"
      ],
      "text/plain": [
       "   client_id  sex  wealth  age  older_than_30  amount        date\n",
       "0       5297    1     low   55           True   90990  1585425523\n",
       "1       8770    0  medium   21          False   67487  1585427208\n",
       "2       1232    0    high   38           True   23950  1585425417\n",
       "3       4464    1    high   23          False   22515  1585427510\n",
       "4       6528    1    high   29          False   47439  1585425680"
      ]
     },
     "execution_count": 31,
     "metadata": {},
     "output_type": "execute_result"
    }
   ],
   "source": [
    "full_data.head()"
   ]
  },
  {
   "cell_type": "markdown",
   "id": "bed67a09",
   "metadata": {},
   "source": [
    "Теперь давайте создадим собственную функцию. Напишите функцию read_n_agg, которая:\n",
    "1.\tпринимает на вход один параметр – путь к файлу\n",
    "2.\tпри помощи переданного пути, считывает файл, в котором разделителем является ;\n",
    "3.\tсчитает средний заработок (income) по каждой компании (company), перенося колонку company в индекс (as_index=True)\n",
    "4.\tвозвращает результат этих действий (агрегированный датафрэйм)\n",
    "Данные выглядят вот так, скачать можно от.\n",
    "P.S. Небольшое уточнение – менять что-то в данных или переименовывать колонки не нужно.\n",
    "P.P.S. В задании надо указать только функцию, указывать конкретный путь к файлу не нужно. Он будет содержаться в аргументе функции внутри системы LMS!"
   ]
  },
  {
   "cell_type": "code",
   "execution_count": null,
   "id": "fabb1510",
   "metadata": {},
   "outputs": [],
   "source": [
    "def read_n_agg(path):\n",
    "    df = pd.read_csv(path, sep=';')\n",
    "    return df.groupby('company').agg({'income': 'mean'})\n"
   ]
  },
  {
   "cell_type": "markdown",
   "id": "b5faf5fe",
   "metadata": {},
   "source": [
    "Импортируйте pandas как pd. В данном задании ссылка на датасет находится в переменной path_to_file. \n",
    "Загрузите датасет, используя ; в качестве разделителя. \n",
    "Также укажите, что столбцы start_at, end_at, arrived_at нужно прочитать как даты (параметр parse_dates).\n",
    "Результат запишите в переменную taxi."
   ]
  },
  {
   "cell_type": "code",
   "execution_count": 6,
   "id": "1f4aa634",
   "metadata": {},
   "outputs": [],
   "source": [
    "df = pd.read_csv(r'C:\\Users\\PC\\Desktop\\Софт\\Simulation\\Simulation\\data\\3_taxi_peru.csv', encoding='windows-1251', sep=';')"
   ]
  },
  {
   "cell_type": "code",
   "execution_count": 8,
   "id": "aa3af262",
   "metadata": {},
   "outputs": [
    {
     "data": {
      "application/vnd.microsoft.datawrangler.viewer.v0+json": {
       "columns": [
        {
         "name": "index",
         "rawType": "int64",
         "type": "integer"
        },
        {
         "name": "journey_id",
         "rawType": "object",
         "type": "string"
        },
        {
         "name": "user_id",
         "rawType": "object",
         "type": "string"
        },
        {
         "name": "driver_id",
         "rawType": "object",
         "type": "unknown"
        },
        {
         "name": "taxi_id",
         "rawType": "object",
         "type": "unknown"
        },
        {
         "name": "icon",
         "rawType": "object",
         "type": "string"
        },
        {
         "name": "start_type",
         "rawType": "object",
         "type": "string"
        },
        {
         "name": "start_at",
         "rawType": "object",
         "type": "string"
        },
        {
         "name": "start_lat",
         "rawType": "object",
         "type": "string"
        },
        {
         "name": "start_lon",
         "rawType": "object",
         "type": "string"
        },
        {
         "name": "end_at",
         "rawType": "object",
         "type": "string"
        },
        {
         "name": "end_lat",
         "rawType": "object",
         "type": "string"
        },
        {
         "name": "end_lon",
         "rawType": "object",
         "type": "string"
        },
        {
         "name": "end_state",
         "rawType": "object",
         "type": "string"
        },
        {
         "name": "driver_start_lat",
         "rawType": "object",
         "type": "unknown"
        },
        {
         "name": "driver_start_lon",
         "rawType": "object",
         "type": "unknown"
        },
        {
         "name": "arrived_at",
         "rawType": "object",
         "type": "unknown"
        },
        {
         "name": "source",
         "rawType": "object",
         "type": "string"
        },
        {
         "name": "driver_score",
         "rawType": "float64",
         "type": "float"
        },
        {
         "name": "rider_score",
         "rawType": "float64",
         "type": "float"
        }
       ],
       "ref": "53c676a8-dc0b-4fce-bf26-0f5b7fe0ea04",
       "rows": [
        [
         "0",
         "23a1406fc6a11d866e3c82f22eed4d4c",
         "0e9af5bbf1edfe591b54ecdfd7e91e26",
         "583949a89a9ee17d19e3ca4f137b6b4c",
         "b12f4f09c783e29fe0d0ea624530db56",
         "executive",
         "asap",
         "2010-11-16 16:44:00",
         "-12,13983536",
         "-77,02355957",
         "2010-11-16 17:29:00",
         "-12,05537033",
         "-77,0413208",
         "drop off",
         "-12,10825481",
         "-77,0272739",
         "2010-11-16 17:02:00",
         "iPhone",
         "5.0",
         "5.0"
        ],
        [
         "1",
         "dd2af4715d0dc16eded53afc0e243577",
         "a553c46e3a22fb9c326aeb3d72b3334e",
         null,
         null,
         "executive",
         "asap",
         "2010-06-01 00:34:00",
         "-12,13874817",
         "-76,99536133",
         "2010-06-01 00:37:00",
         "-12,12465668",
         "-77,02886963",
         "not found",
         null,
         null,
         null,
         "iPhone",
         null,
         null
        ],
        [
         "2",
         "dd91e131888064bf7df3ce08f3d4b4ad",
         "a553c46e3a22fb9c326aeb3d72b3334e",
         null,
         null,
         "executive",
         "asap",
         "2010-05-31 05:01:00",
         "-12,12453079",
         "-77,02780151",
         "2010-05-31 05:04:00",
         "-12,13883209",
         "-76,99530029",
         "not found",
         null,
         null,
         null,
         "iPhone",
         null,
         null
        ],
        [
         "3",
         "dd2af4715d0dc16eded53afc0e2466d0",
         "a553c46e3a22fb9c326aeb3d72b3334e",
         null,
         null,
         "executive",
         "asap",
         "2010-06-01 00:29:00",
         "-12,13885117",
         "-76,99530029",
         "2010-06-01 00:32:00",
         "-12,12458801",
         "-77,02896118",
         "not found",
         null,
         null,
         null,
         "iPhone",
         null,
         null
        ],
        [
         "4",
         "85b7eabcf5d84e42dc7629b7d27781af",
         "56772d544fdfa589a020a1ff894a86f7",
         "d665fb9f75ef5d9cd0fd89479380ba78",
         "0accdd3aa5a322f4129fa20b53278c69",
         "executive",
         "reserved",
         "2010-09-11 23:55:00",
         "-12,08995438",
         "-76,92626953",
         "2010-09-12 01:07:00",
         "-12,02223206",
         "-77,10638428",
         "drop off",
         "-12,08311558",
         "-76,9277072",
         "2010-09-11 23:50:00",
         "iPhone",
         "4.0",
         "5.0"
        ]
       ],
       "shape": {
        "columns": 19,
        "rows": 5
       }
      },
      "text/html": [
       "<div>\n",
       "<style scoped>\n",
       "    .dataframe tbody tr th:only-of-type {\n",
       "        vertical-align: middle;\n",
       "    }\n",
       "\n",
       "    .dataframe tbody tr th {\n",
       "        vertical-align: top;\n",
       "    }\n",
       "\n",
       "    .dataframe thead th {\n",
       "        text-align: right;\n",
       "    }\n",
       "</style>\n",
       "<table border=\"1\" class=\"dataframe\">\n",
       "  <thead>\n",
       "    <tr style=\"text-align: right;\">\n",
       "      <th></th>\n",
       "      <th>journey_id</th>\n",
       "      <th>user_id</th>\n",
       "      <th>driver_id</th>\n",
       "      <th>taxi_id</th>\n",
       "      <th>icon</th>\n",
       "      <th>start_type</th>\n",
       "      <th>start_at</th>\n",
       "      <th>start_lat</th>\n",
       "      <th>start_lon</th>\n",
       "      <th>end_at</th>\n",
       "      <th>end_lat</th>\n",
       "      <th>end_lon</th>\n",
       "      <th>end_state</th>\n",
       "      <th>driver_start_lat</th>\n",
       "      <th>driver_start_lon</th>\n",
       "      <th>arrived_at</th>\n",
       "      <th>source</th>\n",
       "      <th>driver_score</th>\n",
       "      <th>rider_score</th>\n",
       "    </tr>\n",
       "  </thead>\n",
       "  <tbody>\n",
       "    <tr>\n",
       "      <th>0</th>\n",
       "      <td>23a1406fc6a11d866e3c82f22eed4d4c</td>\n",
       "      <td>0e9af5bbf1edfe591b54ecdfd7e91e26</td>\n",
       "      <td>583949a89a9ee17d19e3ca4f137b6b4c</td>\n",
       "      <td>b12f4f09c783e29fe0d0ea624530db56</td>\n",
       "      <td>executive</td>\n",
       "      <td>asap</td>\n",
       "      <td>2010-11-16 16:44:00</td>\n",
       "      <td>-12,13983536</td>\n",
       "      <td>-77,02355957</td>\n",
       "      <td>2010-11-16 17:29:00</td>\n",
       "      <td>-12,05537033</td>\n",
       "      <td>-77,0413208</td>\n",
       "      <td>drop off</td>\n",
       "      <td>-12,10825481</td>\n",
       "      <td>-77,0272739</td>\n",
       "      <td>2010-11-16 17:02:00</td>\n",
       "      <td>iPhone</td>\n",
       "      <td>5.0</td>\n",
       "      <td>5.0</td>\n",
       "    </tr>\n",
       "    <tr>\n",
       "      <th>1</th>\n",
       "      <td>dd2af4715d0dc16eded53afc0e243577</td>\n",
       "      <td>a553c46e3a22fb9c326aeb3d72b3334e</td>\n",
       "      <td>NaN</td>\n",
       "      <td>NaN</td>\n",
       "      <td>executive</td>\n",
       "      <td>asap</td>\n",
       "      <td>2010-06-01 00:34:00</td>\n",
       "      <td>-12,13874817</td>\n",
       "      <td>-76,99536133</td>\n",
       "      <td>2010-06-01 00:37:00</td>\n",
       "      <td>-12,12465668</td>\n",
       "      <td>-77,02886963</td>\n",
       "      <td>not found</td>\n",
       "      <td>NaN</td>\n",
       "      <td>NaN</td>\n",
       "      <td>NaN</td>\n",
       "      <td>iPhone</td>\n",
       "      <td>NaN</td>\n",
       "      <td>NaN</td>\n",
       "    </tr>\n",
       "    <tr>\n",
       "      <th>2</th>\n",
       "      <td>dd91e131888064bf7df3ce08f3d4b4ad</td>\n",
       "      <td>a553c46e3a22fb9c326aeb3d72b3334e</td>\n",
       "      <td>NaN</td>\n",
       "      <td>NaN</td>\n",
       "      <td>executive</td>\n",
       "      <td>asap</td>\n",
       "      <td>2010-05-31 05:01:00</td>\n",
       "      <td>-12,12453079</td>\n",
       "      <td>-77,02780151</td>\n",
       "      <td>2010-05-31 05:04:00</td>\n",
       "      <td>-12,13883209</td>\n",
       "      <td>-76,99530029</td>\n",
       "      <td>not found</td>\n",
       "      <td>NaN</td>\n",
       "      <td>NaN</td>\n",
       "      <td>NaN</td>\n",
       "      <td>iPhone</td>\n",
       "      <td>NaN</td>\n",
       "      <td>NaN</td>\n",
       "    </tr>\n",
       "    <tr>\n",
       "      <th>3</th>\n",
       "      <td>dd2af4715d0dc16eded53afc0e2466d0</td>\n",
       "      <td>a553c46e3a22fb9c326aeb3d72b3334e</td>\n",
       "      <td>NaN</td>\n",
       "      <td>NaN</td>\n",
       "      <td>executive</td>\n",
       "      <td>asap</td>\n",
       "      <td>2010-06-01 00:29:00</td>\n",
       "      <td>-12,13885117</td>\n",
       "      <td>-76,99530029</td>\n",
       "      <td>2010-06-01 00:32:00</td>\n",
       "      <td>-12,12458801</td>\n",
       "      <td>-77,02896118</td>\n",
       "      <td>not found</td>\n",
       "      <td>NaN</td>\n",
       "      <td>NaN</td>\n",
       "      <td>NaN</td>\n",
       "      <td>iPhone</td>\n",
       "      <td>NaN</td>\n",
       "      <td>NaN</td>\n",
       "    </tr>\n",
       "    <tr>\n",
       "      <th>4</th>\n",
       "      <td>85b7eabcf5d84e42dc7629b7d27781af</td>\n",
       "      <td>56772d544fdfa589a020a1ff894a86f7</td>\n",
       "      <td>d665fb9f75ef5d9cd0fd89479380ba78</td>\n",
       "      <td>0accdd3aa5a322f4129fa20b53278c69</td>\n",
       "      <td>executive</td>\n",
       "      <td>reserved</td>\n",
       "      <td>2010-09-11 23:55:00</td>\n",
       "      <td>-12,08995438</td>\n",
       "      <td>-76,92626953</td>\n",
       "      <td>2010-09-12 01:07:00</td>\n",
       "      <td>-12,02223206</td>\n",
       "      <td>-77,10638428</td>\n",
       "      <td>drop off</td>\n",
       "      <td>-12,08311558</td>\n",
       "      <td>-76,9277072</td>\n",
       "      <td>2010-09-11 23:50:00</td>\n",
       "      <td>iPhone</td>\n",
       "      <td>4.0</td>\n",
       "      <td>5.0</td>\n",
       "    </tr>\n",
       "  </tbody>\n",
       "</table>\n",
       "</div>"
      ],
      "text/plain": [
       "                         journey_id                           user_id  \\\n",
       "0  23a1406fc6a11d866e3c82f22eed4d4c  0e9af5bbf1edfe591b54ecdfd7e91e26   \n",
       "1  dd2af4715d0dc16eded53afc0e243577  a553c46e3a22fb9c326aeb3d72b3334e   \n",
       "2  dd91e131888064bf7df3ce08f3d4b4ad  a553c46e3a22fb9c326aeb3d72b3334e   \n",
       "3  dd2af4715d0dc16eded53afc0e2466d0  a553c46e3a22fb9c326aeb3d72b3334e   \n",
       "4  85b7eabcf5d84e42dc7629b7d27781af  56772d544fdfa589a020a1ff894a86f7   \n",
       "\n",
       "                          driver_id                           taxi_id  \\\n",
       "0  583949a89a9ee17d19e3ca4f137b6b4c  b12f4f09c783e29fe0d0ea624530db56   \n",
       "1                               NaN                               NaN   \n",
       "2                               NaN                               NaN   \n",
       "3                               NaN                               NaN   \n",
       "4  d665fb9f75ef5d9cd0fd89479380ba78  0accdd3aa5a322f4129fa20b53278c69   \n",
       "\n",
       "        icon start_type             start_at     start_lat     start_lon  \\\n",
       "0  executive       asap  2010-11-16 16:44:00  -12,13983536  -77,02355957   \n",
       "1  executive       asap  2010-06-01 00:34:00  -12,13874817  -76,99536133   \n",
       "2  executive       asap  2010-05-31 05:01:00  -12,12453079  -77,02780151   \n",
       "3  executive       asap  2010-06-01 00:29:00  -12,13885117  -76,99530029   \n",
       "4  executive   reserved  2010-09-11 23:55:00  -12,08995438  -76,92626953   \n",
       "\n",
       "                end_at       end_lat       end_lon  end_state  \\\n",
       "0  2010-11-16 17:29:00  -12,05537033   -77,0413208   drop off   \n",
       "1  2010-06-01 00:37:00  -12,12465668  -77,02886963  not found   \n",
       "2  2010-05-31 05:04:00  -12,13883209  -76,99530029  not found   \n",
       "3  2010-06-01 00:32:00  -12,12458801  -77,02896118  not found   \n",
       "4  2010-09-12 01:07:00  -12,02223206  -77,10638428   drop off   \n",
       "\n",
       "  driver_start_lat driver_start_lon           arrived_at  source  \\\n",
       "0     -12,10825481      -77,0272739  2010-11-16 17:02:00  iPhone   \n",
       "1              NaN              NaN                  NaN  iPhone   \n",
       "2              NaN              NaN                  NaN  iPhone   \n",
       "3              NaN              NaN                  NaN  iPhone   \n",
       "4     -12,08311558      -76,9277072  2010-09-11 23:50:00  iPhone   \n",
       "\n",
       "   driver_score  rider_score  \n",
       "0           5.0          5.0  \n",
       "1           NaN          NaN  \n",
       "2           NaN          NaN  \n",
       "3           NaN          NaN  \n",
       "4           4.0          5.0  "
      ]
     },
     "execution_count": 8,
     "metadata": {},
     "output_type": "execute_result"
    }
   ],
   "source": [
    "df.head()"
   ]
  }
 ],
 "metadata": {
  "kernelspec": {
   "display_name": "Python 3",
   "language": "python",
   "name": "python3"
  },
  "language_info": {
   "codemirror_mode": {
    "name": "ipython",
    "version": 3
   },
   "file_extension": ".py",
   "mimetype": "text/x-python",
   "name": "python",
   "nbconvert_exporter": "python",
   "pygments_lexer": "ipython3",
   "version": "3.11.9"
  }
 },
 "nbformat": 4,
 "nbformat_minor": 5
}
