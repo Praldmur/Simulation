{
 "cells": [
  {
   "cell_type": "code",
   "execution_count": 8,
   "id": "8a15b5a4",
   "metadata": {},
   "outputs": [],
   "source": [
    "import pandas as pd\n",
    "import datetime\n",
    "import os\n",
    "import requests\n",
    "import json\n",
    "import random\n",
    "\n",
    "%matplotlib inline\n",
    "import matplotlib.pyplot as plt\n",
    "import seaborn as sns\n",
    "import sys"
   ]
  },
  {
   "cell_type": "markdown",
   "id": "8476d3e2",
   "metadata": {},
   "source": [
    "Для начала, давайте посмотрим на распределение посещений сайта по дням. Постройте график с распределением количества посещений от ботов и обычных пользователей сайта Яндекс.Метрика. "
   ]
  },
  {
   "cell_type": "code",
   "execution_count": null,
   "id": "bf4cc754",
   "metadata": {},
   "outputs": [],
   "source": [
    "df = pd.read_csv(r'F:\\!PR\\Simulation\\data\\7_step_1_lesson_7.csv')"
   ]
  },
  {
   "cell_type": "code",
   "execution_count": 6,
   "id": "378e6c10",
   "metadata": {},
   "outputs": [],
   "source": [
    "df = pd.read_csv(r'C:\\Users\\PC\\Desktop\\Софт\\Simulation\\Simulation\\data\\7step_1_lesson_7.csv')"
   ]
  },
  {
   "cell_type": "code",
   "execution_count": 8,
   "id": "08786814",
   "metadata": {},
   "outputs": [
    {
     "data": {
      "application/vnd.microsoft.datawrangler.viewer.v0+json": {
       "columns": [
        {
         "name": "index",
         "rawType": "int64",
         "type": "integer"
        },
        {
         "name": "date",
         "rawType": "object",
         "type": "string"
        },
        {
         "name": "user_type",
         "rawType": "object",
         "type": "string"
        },
        {
         "name": "visits",
         "rawType": "float64",
         "type": "float"
        }
       ],
       "ref": "e10162ce-aa46-4b2e-9f26-ac502e6e2a46",
       "rows": [
        [
         "0",
         "2020-06-15",
         "People",
         "417.0"
        ],
        [
         "1",
         "2020-06-15",
         "Robots",
         "177.0"
        ],
        [
         "2",
         "2020-06-16",
         "People",
         "472.0"
        ],
        [
         "3",
         "2020-06-16",
         "Robots",
         "91.0"
        ],
        [
         "4",
         "2020-06-17",
         "People",
         "475.0"
        ]
       ],
       "shape": {
        "columns": 3,
        "rows": 5
       }
      },
      "text/html": [
       "<div>\n",
       "<style scoped>\n",
       "    .dataframe tbody tr th:only-of-type {\n",
       "        vertical-align: middle;\n",
       "    }\n",
       "\n",
       "    .dataframe tbody tr th {\n",
       "        vertical-align: top;\n",
       "    }\n",
       "\n",
       "    .dataframe thead th {\n",
       "        text-align: right;\n",
       "    }\n",
       "</style>\n",
       "<table border=\"1\" class=\"dataframe\">\n",
       "  <thead>\n",
       "    <tr style=\"text-align: right;\">\n",
       "      <th></th>\n",
       "      <th>date</th>\n",
       "      <th>user_type</th>\n",
       "      <th>visits</th>\n",
       "    </tr>\n",
       "  </thead>\n",
       "  <tbody>\n",
       "    <tr>\n",
       "      <th>0</th>\n",
       "      <td>2020-06-15</td>\n",
       "      <td>People</td>\n",
       "      <td>417.0</td>\n",
       "    </tr>\n",
       "    <tr>\n",
       "      <th>1</th>\n",
       "      <td>2020-06-15</td>\n",
       "      <td>Robots</td>\n",
       "      <td>177.0</td>\n",
       "    </tr>\n",
       "    <tr>\n",
       "      <th>2</th>\n",
       "      <td>2020-06-16</td>\n",
       "      <td>People</td>\n",
       "      <td>472.0</td>\n",
       "    </tr>\n",
       "    <tr>\n",
       "      <th>3</th>\n",
       "      <td>2020-06-16</td>\n",
       "      <td>Robots</td>\n",
       "      <td>91.0</td>\n",
       "    </tr>\n",
       "    <tr>\n",
       "      <th>4</th>\n",
       "      <td>2020-06-17</td>\n",
       "      <td>People</td>\n",
       "      <td>475.0</td>\n",
       "    </tr>\n",
       "  </tbody>\n",
       "</table>\n",
       "</div>"
      ],
      "text/plain": [
       "         date user_type  visits\n",
       "0  2020-06-15    People   417.0\n",
       "1  2020-06-15    Robots   177.0\n",
       "2  2020-06-16    People   472.0\n",
       "3  2020-06-16    Robots    91.0\n",
       "4  2020-06-17    People   475.0"
      ]
     },
     "execution_count": 8,
     "metadata": {},
     "output_type": "execute_result"
    }
   ],
   "source": [
    "df.head()"
   ]
  },
  {
   "cell_type": "markdown",
   "id": "96cbf0dd",
   "metadata": {},
   "source": [
    "Мой код:"
   ]
  },
  {
   "cell_type": "code",
   "execution_count": 9,
   "id": "f3eb3c58",
   "metadata": {},
   "outputs": [],
   "source": [
    "df_visits_count = df.pivot(index='date', columns='user_type', values='visits').reset_index()"
   ]
  },
  {
   "cell_type": "code",
   "execution_count": 10,
   "id": "30b3f459",
   "metadata": {},
   "outputs": [
    {
     "data": {
      "application/vnd.microsoft.datawrangler.viewer.v0+json": {
       "columns": [
        {
         "name": "index",
         "rawType": "int64",
         "type": "integer"
        },
        {
         "name": "date",
         "rawType": "object",
         "type": "string"
        },
        {
         "name": "People",
         "rawType": "float64",
         "type": "float"
        },
        {
         "name": "Robots",
         "rawType": "float64",
         "type": "float"
        }
       ],
       "ref": "eeafb3a8-f430-429d-819f-f97a56b4c777",
       "rows": [
        [
         "0",
         "2020-06-15",
         "417.0",
         "177.0"
        ],
        [
         "1",
         "2020-06-16",
         "472.0",
         "91.0"
        ],
        [
         "2",
         "2020-06-17",
         "475.0",
         "138.0"
        ]
       ],
       "shape": {
        "columns": 3,
        "rows": 3
       }
      },
      "text/html": [
       "<div>\n",
       "<style scoped>\n",
       "    .dataframe tbody tr th:only-of-type {\n",
       "        vertical-align: middle;\n",
       "    }\n",
       "\n",
       "    .dataframe tbody tr th {\n",
       "        vertical-align: top;\n",
       "    }\n",
       "\n",
       "    .dataframe thead th {\n",
       "        text-align: right;\n",
       "    }\n",
       "</style>\n",
       "<table border=\"1\" class=\"dataframe\">\n",
       "  <thead>\n",
       "    <tr style=\"text-align: right;\">\n",
       "      <th>user_type</th>\n",
       "      <th>date</th>\n",
       "      <th>People</th>\n",
       "      <th>Robots</th>\n",
       "    </tr>\n",
       "  </thead>\n",
       "  <tbody>\n",
       "    <tr>\n",
       "      <th>0</th>\n",
       "      <td>2020-06-15</td>\n",
       "      <td>417.0</td>\n",
       "      <td>177.0</td>\n",
       "    </tr>\n",
       "    <tr>\n",
       "      <th>1</th>\n",
       "      <td>2020-06-16</td>\n",
       "      <td>472.0</td>\n",
       "      <td>91.0</td>\n",
       "    </tr>\n",
       "    <tr>\n",
       "      <th>2</th>\n",
       "      <td>2020-06-17</td>\n",
       "      <td>475.0</td>\n",
       "      <td>138.0</td>\n",
       "    </tr>\n",
       "  </tbody>\n",
       "</table>\n",
       "</div>"
      ],
      "text/plain": [
       "user_type        date  People  Robots\n",
       "0          2020-06-15   417.0   177.0\n",
       "1          2020-06-16   472.0    91.0\n",
       "2          2020-06-17   475.0   138.0"
      ]
     },
     "execution_count": 10,
     "metadata": {},
     "output_type": "execute_result"
    }
   ],
   "source": [
    "df_visits_count"
   ]
  },
  {
   "cell_type": "code",
   "execution_count": 16,
   "id": "cc66424e",
   "metadata": {},
   "outputs": [
    {
     "data": {
      "text/plain": [
       "<matplotlib.legend.Legend at 0x224121f0250>"
      ]
     },
     "execution_count": 16,
     "metadata": {},
     "output_type": "execute_result"
    },
    {
     "data": {
      "image/png": "[encoded data removed]",
      "text/plain": [
       "<Figure size 640x480 with 1 Axes>"
      ]
     },
     "metadata": {},
     "output_type": "display_data"
    }
   ],
   "source": [
    "plt.plot(df_visits_count['date'], df_visits_count['People'], label='People')\n",
    "plt.plot(df_visits_count['date'], df_visits_count['Robots'], label='Robots')\n",
    "plt.xlabel('Дата')\n",
    "plt.ylabel('Количество')\n",
    "plt.legend()"
   ]
  },
  {
   "cell_type": "markdown",
   "id": "3a1a73ad",
   "metadata": {},
   "source": [
    "Код из ответов:"
   ]
  },
  {
   "cell_type": "code",
   "execution_count": 17,
   "id": "549b0474",
   "metadata": {},
   "outputs": [
    {
     "data": {
      "text/plain": [
       "<Axes: xlabel='date', ylabel='visits'>"
      ]
     },
     "execution_count": 17,
     "metadata": {},
     "output_type": "execute_result"
    },
    {
     "data": {
      "image/png": "[encoded data removed]",
      "text/plain": [
       "<Figure size 900x500 with 1 Axes>"
      ]
     },
     "metadata": {},
     "output_type": "display_data"
    }
   ],
   "source": [
    "fig, ax = plt.subplots(figsize=(9, 5))\n",
    "sns.barplot(data=df, x='date', y='visits', hue='user_type', ax=ax)"
   ]
  },
  {
   "cell_type": "markdown",
   "id": "8a405c25",
   "metadata": {},
   "source": [
    "Определите процент посещений сайта Яндекс.Метрики с бразузера Google Chrome. Ответ округлите до целого."
   ]
  },
  {
   "cell_type": "code",
   "execution_count": 19,
   "id": "bd8601ee",
   "metadata": {},
   "outputs": [],
   "source": [
    "df = pd.read_csv(r'C:\\Users\\PC\\Desktop\\Софт\\Simulation\\Simulation\\data\\7step_2_lesson_7.csv')"
   ]
  },
  {
   "cell_type": "code",
   "execution_count": 20,
   "id": "c351c18b",
   "metadata": {},
   "outputs": [
    {
     "data": {
      "application/vnd.microsoft.datawrangler.viewer.v0+json": {
       "columns": [
        {
         "name": "index",
         "rawType": "int64",
         "type": "integer"
        },
        {
         "name": "date",
         "rawType": "object",
         "type": "string"
        },
        {
         "name": "browser",
         "rawType": "object",
         "type": "string"
        },
        {
         "name": "visits",
         "rawType": "float64",
         "type": "float"
        }
       ],
       "ref": "580e0878-0327-4d8f-bbf2-2ecf876c5e14",
       "rows": [
        [
         "0",
         "2020-06-15",
         "Google Chrome",
         "354.0"
        ],
        [
         "1",
         "2020-06-15",
         "Firefox",
         "58.0"
        ],
        [
         "2",
         "2020-06-15",
         "Yandex Browser",
         "54.0"
        ],
        [
         "3",
         "2020-06-15",
         "Safari",
         "41.0"
        ],
        [
         "4",
         "2020-06-15",
         "Chrome Mobile",
         "31.0"
        ]
       ],
       "shape": {
        "columns": 3,
        "rows": 5
       }
      },
      "text/html": [
       "<div>\n",
       "<style scoped>\n",
       "    .dataframe tbody tr th:only-of-type {\n",
       "        vertical-align: middle;\n",
       "    }\n",
       "\n",
       "    .dataframe tbody tr th {\n",
       "        vertical-align: top;\n",
       "    }\n",
       "\n",
       "    .dataframe thead th {\n",
       "        text-align: right;\n",
       "    }\n",
       "</style>\n",
       "<table border=\"1\" class=\"dataframe\">\n",
       "  <thead>\n",
       "    <tr style=\"text-align: right;\">\n",
       "      <th></th>\n",
       "      <th>date</th>\n",
       "      <th>browser</th>\n",
       "      <th>visits</th>\n",
       "    </tr>\n",
       "  </thead>\n",
       "  <tbody>\n",
       "    <tr>\n",
       "      <th>0</th>\n",
       "      <td>2020-06-15</td>\n",
       "      <td>Google Chrome</td>\n",
       "      <td>354.0</td>\n",
       "    </tr>\n",
       "    <tr>\n",
       "      <th>1</th>\n",
       "      <td>2020-06-15</td>\n",
       "      <td>Firefox</td>\n",
       "      <td>58.0</td>\n",
       "    </tr>\n",
       "    <tr>\n",
       "      <th>2</th>\n",
       "      <td>2020-06-15</td>\n",
       "      <td>Yandex Browser</td>\n",
       "      <td>54.0</td>\n",
       "    </tr>\n",
       "    <tr>\n",
       "      <th>3</th>\n",
       "      <td>2020-06-15</td>\n",
       "      <td>Safari</td>\n",
       "      <td>41.0</td>\n",
       "    </tr>\n",
       "    <tr>\n",
       "      <th>4</th>\n",
       "      <td>2020-06-15</td>\n",
       "      <td>Chrome Mobile</td>\n",
       "      <td>31.0</td>\n",
       "    </tr>\n",
       "  </tbody>\n",
       "</table>\n",
       "</div>"
      ],
      "text/plain": [
       "         date         browser  visits\n",
       "0  2020-06-15   Google Chrome   354.0\n",
       "1  2020-06-15         Firefox    58.0\n",
       "2  2020-06-15  Yandex Browser    54.0\n",
       "3  2020-06-15          Safari    41.0\n",
       "4  2020-06-15   Chrome Mobile    31.0"
      ]
     },
     "execution_count": 20,
     "metadata": {},
     "output_type": "execute_result"
    }
   ],
   "source": [
    "df.head()"
   ]
  },
  {
   "cell_type": "code",
   "execution_count": 28,
   "id": "89cd5170",
   "metadata": {},
   "outputs": [
    {
     "data": {
      "text/plain": [
       "60"
      ]
     },
     "execution_count": 28,
     "metadata": {},
     "output_type": "execute_result"
    }
   ],
   "source": [
    "round(df.loc[df.browser == 'Google Chrome', 'visits'].iloc[0] / df.visits.sum() * 100)"
   ]
  },
  {
   "cell_type": "markdown",
   "id": "2c1caf34",
   "metadata": {},
   "source": [
    "Давайте выясним, с какого браузера приходит больше всего ботов. Посмотрите на данные и определите, у какого браузера самая большая доля посещений сайта ботами от общего числа посещений в этом браузере?\n",
    "В качестве ответа укажите название браузера."
   ]
  },
  {
   "cell_type": "code",
   "execution_count": 37,
   "id": "d0954dc6",
   "metadata": {},
   "outputs": [],
   "source": [
    "df = pd.read_csv(r'C:\\Users\\PC\\Desktop\\Софт\\Simulation\\Simulation\\data\\7step_3_lesson_7.csv')"
   ]
  },
  {
   "cell_type": "code",
   "execution_count": 38,
   "id": "bf174513",
   "metadata": {},
   "outputs": [
    {
     "data": {
      "application/vnd.microsoft.datawrangler.viewer.v0+json": {
       "columns": [
        {
         "name": "index",
         "rawType": "int64",
         "type": "integer"
        },
        {
         "name": "date",
         "rawType": "object",
         "type": "string"
        },
        {
         "name": "browser",
         "rawType": "object",
         "type": "string"
        },
        {
         "name": "user_type",
         "rawType": "object",
         "type": "string"
        },
        {
         "name": "visits",
         "rawType": "float64",
         "type": "float"
        }
       ],
       "ref": "8bbc50ee-155b-47b4-a2ad-65ea7ee14d45",
       "rows": [
        [
         "0",
         "2020-06-15",
         "Google Chrome",
         "People",
         "250.0"
        ],
        [
         "1",
         "2020-06-15",
         "Google Chrome",
         "Robots",
         "104.0"
        ],
        [
         "2",
         "2020-06-15",
         "Yandex Browser",
         "People",
         "47.0"
        ],
        [
         "3",
         "2020-06-15",
         "Firefox",
         "Robots",
         "31.0"
        ],
        [
         "4",
         "2020-06-15",
         "Chrome Mobile",
         "People",
         "31.0"
        ]
       ],
       "shape": {
        "columns": 4,
        "rows": 5
       }
      },
      "text/html": [
       "<div>\n",
       "<style scoped>\n",
       "    .dataframe tbody tr th:only-of-type {\n",
       "        vertical-align: middle;\n",
       "    }\n",
       "\n",
       "    .dataframe tbody tr th {\n",
       "        vertical-align: top;\n",
       "    }\n",
       "\n",
       "    .dataframe thead th {\n",
       "        text-align: right;\n",
       "    }\n",
       "</style>\n",
       "<table border=\"1\" class=\"dataframe\">\n",
       "  <thead>\n",
       "    <tr style=\"text-align: right;\">\n",
       "      <th></th>\n",
       "      <th>date</th>\n",
       "      <th>browser</th>\n",
       "      <th>user_type</th>\n",
       "      <th>visits</th>\n",
       "    </tr>\n",
       "  </thead>\n",
       "  <tbody>\n",
       "    <tr>\n",
       "      <th>0</th>\n",
       "      <td>2020-06-15</td>\n",
       "      <td>Google Chrome</td>\n",
       "      <td>People</td>\n",
       "      <td>250.0</td>\n",
       "    </tr>\n",
       "    <tr>\n",
       "      <th>1</th>\n",
       "      <td>2020-06-15</td>\n",
       "      <td>Google Chrome</td>\n",
       "      <td>Robots</td>\n",
       "      <td>104.0</td>\n",
       "    </tr>\n",
       "    <tr>\n",
       "      <th>2</th>\n",
       "      <td>2020-06-15</td>\n",
       "      <td>Yandex Browser</td>\n",
       "      <td>People</td>\n",
       "      <td>47.0</td>\n",
       "    </tr>\n",
       "    <tr>\n",
       "      <th>3</th>\n",
       "      <td>2020-06-15</td>\n",
       "      <td>Firefox</td>\n",
       "      <td>Robots</td>\n",
       "      <td>31.0</td>\n",
       "    </tr>\n",
       "    <tr>\n",
       "      <th>4</th>\n",
       "      <td>2020-06-15</td>\n",
       "      <td>Chrome Mobile</td>\n",
       "      <td>People</td>\n",
       "      <td>31.0</td>\n",
       "    </tr>\n",
       "  </tbody>\n",
       "</table>\n",
       "</div>"
      ],
      "text/plain": [
       "         date         browser user_type  visits\n",
       "0  2020-06-15   Google Chrome    People   250.0\n",
       "1  2020-06-15   Google Chrome    Robots   104.0\n",
       "2  2020-06-15  Yandex Browser    People    47.0\n",
       "3  2020-06-15         Firefox    Robots    31.0\n",
       "4  2020-06-15   Chrome Mobile    People    31.0"
      ]
     },
     "execution_count": 38,
     "metadata": {},
     "output_type": "execute_result"
    }
   ],
   "source": [
    "df.head()"
   ]
  },
  {
   "cell_type": "markdown",
   "id": "84a5d3ab",
   "metadata": {},
   "source": [
    "Мой код (неправильно понял задание)"
   ]
  },
  {
   "cell_type": "code",
   "execution_count": 44,
   "id": "6d173f25",
   "metadata": {},
   "outputs": [],
   "source": [
    "visit_series = df.loc[df.user_type == 'Robots']\\\n",
    "    .set_index('visits')['browser']"
   ]
  },
  {
   "cell_type": "code",
   "execution_count": 29,
   "id": "85e2b833",
   "metadata": {},
   "outputs": [],
   "source": [
    "max_visit_index = visit_series.index.max()"
   ]
  },
  {
   "cell_type": "code",
   "execution_count": 30,
   "id": "daa16d92",
   "metadata": {},
   "outputs": [
    {
     "data": {
      "text/plain": [
       "'Google Chrome'"
      ]
     },
     "execution_count": 30,
     "metadata": {},
     "output_type": "execute_result"
    }
   ],
   "source": [
    "visit_series[max_visit_index]"
   ]
  },
  {
   "cell_type": "markdown",
   "id": "609114fe",
   "metadata": {},
   "source": [
    "Код из ответов"
   ]
  },
  {
   "cell_type": "code",
   "execution_count": 42,
   "id": "6bbf5319",
   "metadata": {},
   "outputs": [
    {
     "data": {
      "application/vnd.microsoft.datawrangler.viewer.v0+json": {
       "columns": [
        {
         "name": "('browser', 'user_type')",
         "rawType": "object",
         "type": "unknown"
        },
        {
         "name": "visits",
         "rawType": "float64",
         "type": "float"
        }
       ],
       "ref": "4a841759-2c36-4519-8b86-9b4694681438",
       "rows": [
        [
         "('Android Browser', 'People')",
         "1.0"
        ],
        [
         "('Chrome Mobile', 'People')",
         "31.0"
        ],
        [
         "('Chromium', 'People')",
         "1.0"
        ],
        [
         "('Chromium', 'Robots')",
         "1.0"
        ],
        [
         "('CocCoc', 'People')",
         "1.0"
        ]
       ],
       "shape": {
        "columns": 1,
        "rows": 5
       }
      },
      "text/plain": [
       "browser          user_type\n",
       "Android Browser  People        1.0\n",
       "Chrome Mobile    People       31.0\n",
       "Chromium         People        1.0\n",
       "                 Robots        1.0\n",
       "CocCoc           People        1.0\n",
       "Name: visits, dtype: float64"
      ]
     },
     "execution_count": 42,
     "metadata": {},
     "output_type": "execute_result"
    }
   ],
   "source": [
    "visits_ut_b = df.groupby(['browser', 'user_type']).visits.sum()\n",
    "visits_ut_b.head()"
   ]
  },
  {
   "cell_type": "code",
   "execution_count": 45,
   "id": "b3b34a69",
   "metadata": {},
   "outputs": [
    {
     "data": {
      "application/vnd.microsoft.datawrangler.viewer.v0+json": {
       "columns": [
        {
         "name": "browser",
         "rawType": "object",
         "type": "string"
        },
        {
         "name": "visits",
         "rawType": "float64",
         "type": "float"
        }
       ],
       "ref": "b65bbeb8-5b38-4665-a68f-ac3c9e88707c",
       "rows": [
        [
         "Android Browser",
         "1.0"
        ],
        [
         "Chrome Mobile",
         "31.0"
        ],
        [
         "Chromium",
         "2.0"
        ],
        [
         "CocCoc",
         "1.0"
        ],
        [
         "Edge",
         "5.0"
        ]
       ],
       "shape": {
        "columns": 1,
        "rows": 5
       }
      },
      "text/plain": [
       "browser\n",
       "Android Browser     1.0\n",
       "Chrome Mobile      31.0\n",
       "Chromium            2.0\n",
       "CocCoc              1.0\n",
       "Edge                5.0\n",
       "Name: visits, dtype: float64"
      ]
     },
     "execution_count": 45,
     "metadata": {},
     "output_type": "execute_result"
    }
   ],
   "source": [
    "visits_b = df.groupby(['browser']).visits.sum()\n",
    "visits_b.head()"
   ]
  },
  {
   "cell_type": "code",
   "execution_count": 46,
   "id": "505d7f48",
   "metadata": {},
   "outputs": [
    {
     "data": {
      "application/vnd.microsoft.datawrangler.viewer.v0+json": {
       "columns": [
        {
         "name": "browser",
         "rawType": "object",
         "type": "string"
        },
        {
         "name": "visits",
         "rawType": "float64",
         "type": "float"
        }
       ],
       "ref": "1f8d82d8-8b0d-4ed6-ace6-921908fc468c",
       "rows": [
        [
         "UCWEB",
         "1.0"
        ],
        [
         "Safari",
         "0.5365853658536586"
        ],
        [
         "Firefox",
         "0.5344827586206896"
        ],
        [
         "Chromium",
         "0.5"
        ],
        [
         "Opera",
         "0.3125"
        ],
        [
         "Google Chrome",
         "0.2937853107344633"
        ],
        [
         "Edge",
         "0.2"
        ],
        [
         "Yandex Browser",
         "0.12962962962962962"
        ],
        [
         "Samsung Internet",
         "0.1111111111111111"
        ],
        [
         "Mobile Safari",
         "0.0625"
        ]
       ],
       "shape": {
        "columns": 1,
        "rows": 10
       }
      },
      "text/plain": [
       "browser\n",
       "UCWEB               1.000000\n",
       "Safari              0.536585\n",
       "Firefox             0.534483\n",
       "Chromium            0.500000\n",
       "Opera               0.312500\n",
       "Google Chrome       0.293785\n",
       "Edge                0.200000\n",
       "Yandex Browser      0.129630\n",
       "Samsung Internet    0.111111\n",
       "Mobile Safari       0.062500\n",
       "Name: visits, dtype: float64"
      ]
     },
     "execution_count": 46,
     "metadata": {},
     "output_type": "execute_result"
    }
   ],
   "source": [
    "shares = visits_ut_b / visits_b\n",
    "shares.loc[:, 'Robots'].sort_values(ascending=False)"
   ]
  },
  {
   "cell_type": "markdown",
   "id": "84ec24d8",
   "metadata": {},
   "source": [
    "Выгрузите данные, содержащие информацию о дне, типе пользователя, браузере. Создайте колонку с метрикой доли заходов на сайт для каждого из этих разрезов.  \n",
    "В ответе укажите процент открытий сайта настоящими пользователями Safari (не ботами) с точностью до 1 знака после точки.  \n",
    "Hint: обратите внимание, здесь вам нужно найти долю заходов конкретных типов пользователей с конкретного браузера от вообще всех-всех заходов на сайт за этот день."
   ]
  },
  {
   "cell_type": "code",
   "execution_count": 41,
   "id": "960ed1a6",
   "metadata": {},
   "outputs": [],
   "source": [
    "df = pd.read_csv(r'C:\\Users\\PC\\Desktop\\Софт\\Simulation\\Simulation\\data\\7step_4_lesson_7.csv')"
   ]
  },
  {
   "cell_type": "code",
   "execution_count": 44,
   "id": "265c07aa",
   "metadata": {},
   "outputs": [
    {
     "data": {
      "application/vnd.microsoft.datawrangler.viewer.v0+json": {
       "columns": [
        {
         "name": "index",
         "rawType": "int64",
         "type": "integer"
        },
        {
         "name": "date",
         "rawType": "object",
         "type": "string"
        },
        {
         "name": "browser",
         "rawType": "object",
         "type": "string"
        },
        {
         "name": "user_type",
         "rawType": "object",
         "type": "string"
        },
        {
         "name": "visits",
         "rawType": "float64",
         "type": "float"
        },
        {
         "name": "visits_share",
         "rawType": "float64",
         "type": "float"
        }
       ],
       "ref": "dc043cb3-ef72-4e6a-9039-1196b8374c8c",
       "rows": [
        [
         "0",
         "2020-06-15",
         "Google Chrome",
         "People",
         "250.0",
         "0.421"
        ],
        [
         "1",
         "2020-06-15",
         "Google Chrome",
         "Robots",
         "104.0",
         "0.175"
        ],
        [
         "2",
         "2020-06-15",
         "Yandex Browser",
         "People",
         "47.0",
         "0.079"
        ],
        [
         "3",
         "2020-06-15",
         "Firefox",
         "Robots",
         "31.0",
         "0.052"
        ],
        [
         "4",
         "2020-06-15",
         "Chrome Mobile",
         "People",
         "31.0",
         "0.052"
        ]
       ],
       "shape": {
        "columns": 5,
        "rows": 5
       }
      },
      "text/html": [
       "<div>\n",
       "<style scoped>\n",
       "    .dataframe tbody tr th:only-of-type {\n",
       "        vertical-align: middle;\n",
       "    }\n",
       "\n",
       "    .dataframe tbody tr th {\n",
       "        vertical-align: top;\n",
       "    }\n",
       "\n",
       "    .dataframe thead th {\n",
       "        text-align: right;\n",
       "    }\n",
       "</style>\n",
       "<table border=\"1\" class=\"dataframe\">\n",
       "  <thead>\n",
       "    <tr style=\"text-align: right;\">\n",
       "      <th></th>\n",
       "      <th>date</th>\n",
       "      <th>browser</th>\n",
       "      <th>user_type</th>\n",
       "      <th>visits</th>\n",
       "      <th>visits_share</th>\n",
       "    </tr>\n",
       "  </thead>\n",
       "  <tbody>\n",
       "    <tr>\n",
       "      <th>0</th>\n",
       "      <td>2020-06-15</td>\n",
       "      <td>Google Chrome</td>\n",
       "      <td>People</td>\n",
       "      <td>250.0</td>\n",
       "      <td>0.421</td>\n",
       "    </tr>\n",
       "    <tr>\n",
       "      <th>1</th>\n",
       "      <td>2020-06-15</td>\n",
       "      <td>Google Chrome</td>\n",
       "      <td>Robots</td>\n",
       "      <td>104.0</td>\n",
       "      <td>0.175</td>\n",
       "    </tr>\n",
       "    <tr>\n",
       "      <th>2</th>\n",
       "      <td>2020-06-15</td>\n",
       "      <td>Yandex Browser</td>\n",
       "      <td>People</td>\n",
       "      <td>47.0</td>\n",
       "      <td>0.079</td>\n",
       "    </tr>\n",
       "    <tr>\n",
       "      <th>3</th>\n",
       "      <td>2020-06-15</td>\n",
       "      <td>Firefox</td>\n",
       "      <td>Robots</td>\n",
       "      <td>31.0</td>\n",
       "      <td>0.052</td>\n",
       "    </tr>\n",
       "    <tr>\n",
       "      <th>4</th>\n",
       "      <td>2020-06-15</td>\n",
       "      <td>Chrome Mobile</td>\n",
       "      <td>People</td>\n",
       "      <td>31.0</td>\n",
       "      <td>0.052</td>\n",
       "    </tr>\n",
       "  </tbody>\n",
       "</table>\n",
       "</div>"
      ],
      "text/plain": [
       "         date         browser user_type  visits  visits_share\n",
       "0  2020-06-15   Google Chrome    People   250.0         0.421\n",
       "1  2020-06-15   Google Chrome    Robots   104.0         0.175\n",
       "2  2020-06-15  Yandex Browser    People    47.0         0.079\n",
       "3  2020-06-15         Firefox    Robots    31.0         0.052\n",
       "4  2020-06-15   Chrome Mobile    People    31.0         0.052"
      ]
     },
     "execution_count": 44,
     "metadata": {},
     "output_type": "execute_result"
    }
   ],
   "source": [
    "df.head()"
   ]
  },
  {
   "cell_type": "markdown",
   "id": "00b0119e",
   "metadata": {},
   "source": [
    "Мой код"
   ]
  },
  {
   "cell_type": "code",
   "execution_count": 86,
   "id": "9cd50134",
   "metadata": {},
   "outputs": [
    {
     "data": {
      "text/plain": [
       "np.float64(3.2)"
      ]
     },
     "execution_count": 86,
     "metadata": {},
     "output_type": "execute_result"
    }
   ],
   "source": [
    "df['visits_share'] = (df.visits / df.visits.sum()).round(3)\n",
    "df.loc[(df.user_type == 'People') & (df.browser == 'Safari'), 'visits_share'].iloc[0] * 100"
   ]
  },
  {
   "cell_type": "markdown",
   "id": "48879272",
   "metadata": {},
   "source": [
    "Код ИИ"
   ]
  },
  {
   "cell_type": "code",
   "execution_count": 43,
   "id": "8990faf3",
   "metadata": {},
   "outputs": [
    {
     "data": {
      "text/plain": [
       "np.float64(3.2)"
      ]
     },
     "execution_count": 43,
     "metadata": {},
     "output_type": "execute_result"
    }
   ],
   "source": [
    "df['visits_share'] = df.groupby('date')['visits'].transform(lambda x: x / x.sum()).round(3)\n",
    "df.loc[(df.user_type == 'People') & (df.browser == 'Safari'), 'visits_share'].iloc[0] * 100"
   ]
  },
  {
   "cell_type": "markdown",
   "id": "855d6ab2",
   "metadata": {},
   "source": [
    "При помощи библиотеки gspread отправьте данные из предыдущего шага в Google SpreadSheet. Далее отправьте ссылку на получившийся файл в Google SpreadSheet (не забудьте открыть доступ по ссылке, это можно сделать вручную, когда данные уже зальются в таблицу) при помощи VK API себе в личку ВКонтакте. "
   ]
  },
  {
   "cell_type": "code",
   "execution_count": null,
   "id": "0b44dacf",
   "metadata": {},
   "outputs": [],
   "source": [
    "import gspread\n",
    "from oauth2client.service_account import ServiceAccountCredentials"
   ]
  },
  {
   "cell_type": "code",
   "execution_count": null,
   "id": "84fd3180",
   "metadata": {},
   "outputs": [],
   "source": [
    "scope = ['https://spreadsheets.google.com/feeds',\n",
    "         'https://www.googleapis.com/auth/drive']\n",
    "\n",
    "my_mail = 'praldmur@gmail.com'\n",
    "\n",
    "# Authorization\n",
    "credentials = ServiceAccountCredentials.from_json_keyfile_name(r'C:\\Users\\PC\\Desktop\\Софт\\Simulation\\Simulation\\data\\my-project-test-462911-c940cfa5fa9c.json', scope)\n",
    "gs = gspread.authorize(credentials)\n",
    "table_name = 'mini_project_7'\n",
    "sheet_obj = gs.create(table_name)\n",
    "sheet_obj.share('praldmur@gmail.com', perm_type='user', role='writer')\n",
    "spreadsheet_id = sheet_obj.id\n",
    "\n",
    "# Предполагаем, что df уже существует\n",
    "df = df.reset_index(drop=True)  # Сбрасываем индексы\n",
    "print(df.shape)  # (24, 5)\n",
    "print(df.head())  # Проверка\n",
    "print(df.isnull().sum())  # Проверка NaN\n",
    "\n",
    "# Получаем или создаём лист\n",
    "try:\n",
    "    worksheet = sheet_obj.worksheet('creature_df')\n",
    "except gspread.exceptions.WorksheetNotFound:\n",
    "    worksheet = sheet_obj.add_worksheet(title='creature_df', rows=df.shape[0]+1, cols=df.shape[1])\n",
    "\n",
    "# Очищаем и загружаем данные\n",
    "worksheet.clear()\n",
    "worksheet.update([df.columns.values.tolist()] + df.values.tolist())\n",
    "\n",
    "print(\"Data uploaded successfully!\")"
   ]
  },
  {
   "cell_type": "code",
   "execution_count": 53,
   "id": "2ecf13f5",
   "metadata": {},
   "outputs": [],
   "source": [
    "link_df = f'https://docs.google.com/spreadsheets/d/{spreadsheet_id}/edit'"
   ]
  },
  {
   "cell_type": "markdown",
   "id": "d046aa7f",
   "metadata": {},
   "source": [
    "Другой аналитик уже агрегировал часть данных из метрики. Вам нужно объединить усилия, чтобы получить финальный отчет. Прочитайте дополнительные данные из Google SpreadSheet, объедините вашу таблицу из предыдущего шага с таблицей аналитика и посчитайте количество визитов на человека (отношение visits к users) в разрезе по браузеру и значениям Robots/People.\n",
    "В ответе укажите, сколько визитов на уникального пользователя совершается ботами с браузера Google Chrome (округлите до целого)"
   ]
  },
  {
   "cell_type": "code",
   "execution_count": 55,
   "id": "011eb00b",
   "metadata": {},
   "outputs": [],
   "source": [
    "from io import BytesIO\n",
    "import requests\n",
    "r = requests.get('https://docs.google.com/spreadsheets/d/e/2PACX-1vQWMsvBTVio9C7IOOxfFO9C15BRHyME-_ENHqBodDOjuiHwk9fCuF5hUVmDs497PZOqPYK3exdSikOK/pub?gid=1006633900&single=true&output=csv')\n",
    "data = r.content\n",
    "\n",
    "df_1= pd.read_csv(BytesIO(data))"
   ]
  },
  {
   "cell_type": "code",
   "execution_count": 56,
   "id": "6422e103",
   "metadata": {},
   "outputs": [
    {
     "data": {
      "application/vnd.microsoft.datawrangler.viewer.v0+json": {
       "columns": [
        {
         "name": "index",
         "rawType": "int64",
         "type": "integer"
        },
        {
         "name": "date",
         "rawType": "object",
         "type": "string"
        },
        {
         "name": "browser",
         "rawType": "object",
         "type": "string"
        },
        {
         "name": "user_type",
         "rawType": "object",
         "type": "string"
        },
        {
         "name": "users",
         "rawType": "float64",
         "type": "float"
        }
       ],
       "ref": "93ba87f2-34c1-4620-8a61-e2a5aa2314e7",
       "rows": [
        [
         "0",
         "2020-06-15",
         "Google Chrome",
         "People",
         "240.0"
        ],
        [
         "1",
         "2020-06-15",
         "Google Chrome",
         "Robots",
         "104.0"
        ],
        [
         "2",
         "2020-06-15",
         "Yandex Browser",
         "People",
         "44.0"
        ],
        [
         "3",
         "2020-06-15",
         "Chrome Mobile",
         "People",
         "30.0"
        ],
        [
         "4",
         "2020-06-15",
         "Firefox",
         "Robots",
         "29.0"
        ]
       ],
       "shape": {
        "columns": 4,
        "rows": 5
       }
      },
      "text/html": [
       "<div>\n",
       "<style scoped>\n",
       "    .dataframe tbody tr th:only-of-type {\n",
       "        vertical-align: middle;\n",
       "    }\n",
       "\n",
       "    .dataframe tbody tr th {\n",
       "        vertical-align: top;\n",
       "    }\n",
       "\n",
       "    .dataframe thead th {\n",
       "        text-align: right;\n",
       "    }\n",
       "</style>\n",
       "<table border=\"1\" class=\"dataframe\">\n",
       "  <thead>\n",
       "    <tr style=\"text-align: right;\">\n",
       "      <th></th>\n",
       "      <th>date</th>\n",
       "      <th>browser</th>\n",
       "      <th>user_type</th>\n",
       "      <th>users</th>\n",
       "    </tr>\n",
       "  </thead>\n",
       "  <tbody>\n",
       "    <tr>\n",
       "      <th>0</th>\n",
       "      <td>2020-06-15</td>\n",
       "      <td>Google Chrome</td>\n",
       "      <td>People</td>\n",
       "      <td>240.0</td>\n",
       "    </tr>\n",
       "    <tr>\n",
       "      <th>1</th>\n",
       "      <td>2020-06-15</td>\n",
       "      <td>Google Chrome</td>\n",
       "      <td>Robots</td>\n",
       "      <td>104.0</td>\n",
       "    </tr>\n",
       "    <tr>\n",
       "      <th>2</th>\n",
       "      <td>2020-06-15</td>\n",
       "      <td>Yandex Browser</td>\n",
       "      <td>People</td>\n",
       "      <td>44.0</td>\n",
       "    </tr>\n",
       "    <tr>\n",
       "      <th>3</th>\n",
       "      <td>2020-06-15</td>\n",
       "      <td>Chrome Mobile</td>\n",
       "      <td>People</td>\n",
       "      <td>30.0</td>\n",
       "    </tr>\n",
       "    <tr>\n",
       "      <th>4</th>\n",
       "      <td>2020-06-15</td>\n",
       "      <td>Firefox</td>\n",
       "      <td>Robots</td>\n",
       "      <td>29.0</td>\n",
       "    </tr>\n",
       "  </tbody>\n",
       "</table>\n",
       "</div>"
      ],
      "text/plain": [
       "         date         browser user_type  users\n",
       "0  2020-06-15   Google Chrome    People  240.0\n",
       "1  2020-06-15   Google Chrome    Robots  104.0\n",
       "2  2020-06-15  Yandex Browser    People   44.0\n",
       "3  2020-06-15   Chrome Mobile    People   30.0\n",
       "4  2020-06-15         Firefox    Robots   29.0"
      ]
     },
     "execution_count": 56,
     "metadata": {},
     "output_type": "execute_result"
    }
   ],
   "source": [
    "df_1.head()"
   ]
  },
  {
   "cell_type": "code",
   "execution_count": 61,
   "id": "cafb3f9f",
   "metadata": {},
   "outputs": [],
   "source": [
    "df_merged = pd.merge(df, df_1, on=['date', 'browser', 'user_type'])"
   ]
  },
  {
   "cell_type": "code",
   "execution_count": 68,
   "id": "e1b764eb",
   "metadata": {},
   "outputs": [
    {
     "data": {
      "application/vnd.microsoft.datawrangler.viewer.v0+json": {
       "columns": [
        {
         "name": "index",
         "rawType": "int64",
         "type": "integer"
        },
        {
         "name": "date",
         "rawType": "object",
         "type": "string"
        },
        {
         "name": "browser",
         "rawType": "object",
         "type": "string"
        },
        {
         "name": "user_type",
         "rawType": "object",
         "type": "string"
        },
        {
         "name": "visits",
         "rawType": "float64",
         "type": "float"
        },
        {
         "name": "visits_share",
         "rawType": "float64",
         "type": "float"
        },
        {
         "name": "users",
         "rawType": "float64",
         "type": "float"
        },
        {
         "name": "sessions_per_person",
         "rawType": "float64",
         "type": "float"
        }
       ],
       "ref": "01a2a7df-c10c-4930-8fc6-bfaf7c39d494",
       "rows": [
        [
         "0",
         "2020-06-15",
         "Google Chrome",
         "People",
         "250.0",
         "0.421",
         "240.0",
         "1.04"
        ],
        [
         "1",
         "2020-06-15",
         "Google Chrome",
         "Robots",
         "104.0",
         "0.175",
         "104.0",
         "1.0"
        ],
        [
         "2",
         "2020-06-15",
         "Yandex Browser",
         "People",
         "47.0",
         "0.079",
         "44.0",
         "1.07"
        ],
        [
         "3",
         "2020-06-15",
         "Firefox",
         "Robots",
         "31.0",
         "0.052",
         "29.0",
         "1.07"
        ],
        [
         "4",
         "2020-06-15",
         "Chrome Mobile",
         "People",
         "31.0",
         "0.052",
         "30.0",
         "1.03"
        ]
       ],
       "shape": {
        "columns": 7,
        "rows": 5
       }
      },
      "text/html": [
       "<div>\n",
       "<style scoped>\n",
       "    .dataframe tbody tr th:only-of-type {\n",
       "        vertical-align: middle;\n",
       "    }\n",
       "\n",
       "    .dataframe tbody tr th {\n",
       "        vertical-align: top;\n",
       "    }\n",
       "\n",
       "    .dataframe thead th {\n",
       "        text-align: right;\n",
       "    }\n",
       "</style>\n",
       "<table border=\"1\" class=\"dataframe\">\n",
       "  <thead>\n",
       "    <tr style=\"text-align: right;\">\n",
       "      <th></th>\n",
       "      <th>date</th>\n",
       "      <th>browser</th>\n",
       "      <th>user_type</th>\n",
       "      <th>visits</th>\n",
       "      <th>visits_share</th>\n",
       "      <th>users</th>\n",
       "      <th>sessions_per_person</th>\n",
       "    </tr>\n",
       "  </thead>\n",
       "  <tbody>\n",
       "    <tr>\n",
       "      <th>0</th>\n",
       "      <td>2020-06-15</td>\n",
       "      <td>Google Chrome</td>\n",
       "      <td>People</td>\n",
       "      <td>250.0</td>\n",
       "      <td>0.421</td>\n",
       "      <td>240.0</td>\n",
       "      <td>1.04</td>\n",
       "    </tr>\n",
       "    <tr>\n",
       "      <th>1</th>\n",
       "      <td>2020-06-15</td>\n",
       "      <td>Google Chrome</td>\n",
       "      <td>Robots</td>\n",
       "      <td>104.0</td>\n",
       "      <td>0.175</td>\n",
       "      <td>104.0</td>\n",
       "      <td>1.00</td>\n",
       "    </tr>\n",
       "    <tr>\n",
       "      <th>2</th>\n",
       "      <td>2020-06-15</td>\n",
       "      <td>Yandex Browser</td>\n",
       "      <td>People</td>\n",
       "      <td>47.0</td>\n",
       "      <td>0.079</td>\n",
       "      <td>44.0</td>\n",
       "      <td>1.07</td>\n",
       "    </tr>\n",
       "    <tr>\n",
       "      <th>3</th>\n",
       "      <td>2020-06-15</td>\n",
       "      <td>Firefox</td>\n",
       "      <td>Robots</td>\n",
       "      <td>31.0</td>\n",
       "      <td>0.052</td>\n",
       "      <td>29.0</td>\n",
       "      <td>1.07</td>\n",
       "    </tr>\n",
       "    <tr>\n",
       "      <th>4</th>\n",
       "      <td>2020-06-15</td>\n",
       "      <td>Chrome Mobile</td>\n",
       "      <td>People</td>\n",
       "      <td>31.0</td>\n",
       "      <td>0.052</td>\n",
       "      <td>30.0</td>\n",
       "      <td>1.03</td>\n",
       "    </tr>\n",
       "  </tbody>\n",
       "</table>\n",
       "</div>"
      ],
      "text/plain": [
       "         date         browser user_type  visits  visits_share  users  \\\n",
       "0  2020-06-15   Google Chrome    People   250.0         0.421  240.0   \n",
       "1  2020-06-15   Google Chrome    Robots   104.0         0.175  104.0   \n",
       "2  2020-06-15  Yandex Browser    People    47.0         0.079   44.0   \n",
       "3  2020-06-15         Firefox    Robots    31.0         0.052   29.0   \n",
       "4  2020-06-15   Chrome Mobile    People    31.0         0.052   30.0   \n",
       "\n",
       "   sessions_per_person  \n",
       "0                 1.04  \n",
       "1                 1.00  \n",
       "2                 1.07  \n",
       "3                 1.07  \n",
       "4                 1.03  "
      ]
     },
     "execution_count": 68,
     "metadata": {},
     "output_type": "execute_result"
    }
   ],
   "source": [
    "df_merged.head()"
   ]
  },
  {
   "cell_type": "code",
   "execution_count": 63,
   "id": "cd053dff",
   "metadata": {},
   "outputs": [
    {
     "data": {
      "text/plain": [
       "Index(['date', 'browser', 'user_type', 'visits', 'visits_share', 'users'], dtype='object')"
      ]
     },
     "execution_count": 63,
     "metadata": {},
     "output_type": "execute_result"
    }
   ],
   "source": [
    "df_merged.columns"
   ]
  },
  {
   "cell_type": "code",
   "execution_count": 67,
   "id": "14b172bd",
   "metadata": {},
   "outputs": [],
   "source": [
    "df_merged['sessions_per_person'] = (df_merged['visits'] / df_merged['users']).round(2)"
   ]
  },
  {
   "cell_type": "code",
   "execution_count": null,
   "id": "4c746c7b",
   "metadata": {},
   "outputs": [],
   "source": [
    "round(df_merged.loc[df_merged.browser == 'Google Chrome', df_merged.user_type == 'Robots', 'sessions_per_person'].iloc[0])"
   ]
  },
  {
   "cell_type": "code",
   "execution_count": 70,
   "id": "f4a59cba",
   "metadata": {},
   "outputs": [
    {
     "data": {
      "text/plain": [
       "1"
      ]
     },
     "execution_count": 70,
     "metadata": {},
     "output_type": "execute_result"
    }
   ],
   "source": [
    "round(\n",
    "    df_merged.loc[\n",
    "        (df_merged.browser == 'Google Chrome') & (df_merged.user_type == 'Robots'),\n",
    "        'sessions_per_person'\n",
    "    ].iloc[0]\n",
    ")"
   ]
  }
 ],
 "metadata": {
  "kernelspec": {
   "display_name": "Python 3",
   "language": "python",
   "name": "python3"
  },
  "language_info": {
   "codemirror_mode": {
    "name": "ipython",
    "version": 3
   },
   "file_extension": ".py",
   "mimetype": "text/x-python",
   "name": "python",
   "nbconvert_exporter": "python",
   "pygments_lexer": "ipython3",
   "version": "3.11.9"
  }
 },
 "nbformat": 4,
 "nbformat_minor": 5
}
