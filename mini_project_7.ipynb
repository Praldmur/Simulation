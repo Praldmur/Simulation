{
 "cells": [
  {
   "cell_type": "code",
   "execution_count": 1,
   "id": "8a15b5a4",
   "metadata": {},
   "outputs": [],
   "source": [
    "import pandas as pd\n",
    "import datetime\n",
    "import vk_api\n",
    "import os\n",
    "import requests\n",
    "import json\n",
    "import random\n",
    "\n",
    "%matplotlib inline\n",
    "import matplotlib.pyplot as plt\n",
    "import seaborn as sns\n",
    "import sys"
   ]
  },
  {
   "cell_type": "markdown",
   "id": "8476d3e2",
   "metadata": {},
   "source": [
    "Для начала, давайте посмотрим на распределение посещений сайта по дням. Постройте график с распределением количества посещений от ботов и обычных пользователей сайта Яндекс.Метрика. "
   ]
  },
  {
   "cell_type": "code",
   "execution_count": 2,
   "id": "bf4cc754",
   "metadata": {},
   "outputs": [],
   "source": [
    "df = pd.read_csv(r'F:\\!PR\\Simulation\\data\\7_step_1_lesson_7.csv')"
   ]
  },
  {
   "cell_type": "code",
   "execution_count": 3,
   "id": "08786814",
   "metadata": {},
   "outputs": [
    {
     "data": {
      "application/vnd.microsoft.datawrangler.viewer.v0+json": {
       "columns": [
        {
         "name": "index",
         "rawType": "int64",
         "type": "integer"
        },
        {
         "name": "date",
         "rawType": "object",
         "type": "string"
        },
        {
         "name": "user_type",
         "rawType": "object",
         "type": "string"
        },
        {
         "name": "visits",
         "rawType": "float64",
         "type": "float"
        }
       ],
       "ref": "17a3e61e-480b-44f7-a01a-32d82c8811e3",
       "rows": [
        [
         "0",
         "2020-06-15",
         "People",
         "417.0"
        ],
        [
         "1",
         "2020-06-15",
         "Robots",
         "177.0"
        ],
        [
         "2",
         "2020-06-16",
         "People",
         "472.0"
        ],
        [
         "3",
         "2020-06-16",
         "Robots",
         "91.0"
        ],
        [
         "4",
         "2020-06-17",
         "People",
         "475.0"
        ]
       ],
       "shape": {
        "columns": 3,
        "rows": 5
       }
      },
      "text/html": [
       "<div>\n",
       "<style scoped>\n",
       "    .dataframe tbody tr th:only-of-type {\n",
       "        vertical-align: middle;\n",
       "    }\n",
       "\n",
       "    .dataframe tbody tr th {\n",
       "        vertical-align: top;\n",
       "    }\n",
       "\n",
       "    .dataframe thead th {\n",
       "        text-align: right;\n",
       "    }\n",
       "</style>\n",
       "<table border=\"1\" class=\"dataframe\">\n",
       "  <thead>\n",
       "    <tr style=\"text-align: right;\">\n",
       "      <th></th>\n",
       "      <th>date</th>\n",
       "      <th>user_type</th>\n",
       "      <th>visits</th>\n",
       "    </tr>\n",
       "  </thead>\n",
       "  <tbody>\n",
       "    <tr>\n",
       "      <th>0</th>\n",
       "      <td>2020-06-15</td>\n",
       "      <td>People</td>\n",
       "      <td>417.0</td>\n",
       "    </tr>\n",
       "    <tr>\n",
       "      <th>1</th>\n",
       "      <td>2020-06-15</td>\n",
       "      <td>Robots</td>\n",
       "      <td>177.0</td>\n",
       "    </tr>\n",
       "    <tr>\n",
       "      <th>2</th>\n",
       "      <td>2020-06-16</td>\n",
       "      <td>People</td>\n",
       "      <td>472.0</td>\n",
       "    </tr>\n",
       "    <tr>\n",
       "      <th>3</th>\n",
       "      <td>2020-06-16</td>\n",
       "      <td>Robots</td>\n",
       "      <td>91.0</td>\n",
       "    </tr>\n",
       "    <tr>\n",
       "      <th>4</th>\n",
       "      <td>2020-06-17</td>\n",
       "      <td>People</td>\n",
       "      <td>475.0</td>\n",
       "    </tr>\n",
       "  </tbody>\n",
       "</table>\n",
       "</div>"
      ],
      "text/plain": [
       "         date user_type  visits\n",
       "0  2020-06-15    People   417.0\n",
       "1  2020-06-15    Robots   177.0\n",
       "2  2020-06-16    People   472.0\n",
       "3  2020-06-16    Robots    91.0\n",
       "4  2020-06-17    People   475.0"
      ]
     },
     "execution_count": 3,
     "metadata": {},
     "output_type": "execute_result"
    }
   ],
   "source": [
    "df.head()"
   ]
  },
  {
   "cell_type": "code",
   "execution_count": 7,
   "id": "f3eb3c58",
   "metadata": {},
   "outputs": [],
   "source": [
    "df_visits_count = df.pivot(index='date', columns='user_type', values='visits').reset_index()"
   ]
  },
  {
   "cell_type": "code",
   "execution_count": 8,
   "id": "30b3f459",
   "metadata": {},
   "outputs": [
    {
     "data": {
      "application/vnd.microsoft.datawrangler.viewer.v0+json": {
       "columns": [
        {
         "name": "index",
         "rawType": "int64",
         "type": "integer"
        },
        {
         "name": "date",
         "rawType": "object",
         "type": "string"
        },
        {
         "name": "People",
         "rawType": "float64",
         "type": "float"
        },
        {
         "name": "Robots",
         "rawType": "float64",
         "type": "float"
        }
       ],
       "ref": "cce2fa74-82ba-4b41-9c0c-34c50c1f1468",
       "rows": [
        [
         "0",
         "2020-06-15",
         "417.0",
         "177.0"
        ],
        [
         "1",
         "2020-06-16",
         "472.0",
         "91.0"
        ],
        [
         "2",
         "2020-06-17",
         "475.0",
         "138.0"
        ]
       ],
       "shape": {
        "columns": 3,
        "rows": 3
       }
      },
      "text/html": [
       "<div>\n",
       "<style scoped>\n",
       "    .dataframe tbody tr th:only-of-type {\n",
       "        vertical-align: middle;\n",
       "    }\n",
       "\n",
       "    .dataframe tbody tr th {\n",
       "        vertical-align: top;\n",
       "    }\n",
       "\n",
       "    .dataframe thead th {\n",
       "        text-align: right;\n",
       "    }\n",
       "</style>\n",
       "<table border=\"1\" class=\"dataframe\">\n",
       "  <thead>\n",
       "    <tr style=\"text-align: right;\">\n",
       "      <th>user_type</th>\n",
       "      <th>date</th>\n",
       "      <th>People</th>\n",
       "      <th>Robots</th>\n",
       "    </tr>\n",
       "  </thead>\n",
       "  <tbody>\n",
       "    <tr>\n",
       "      <th>0</th>\n",
       "      <td>2020-06-15</td>\n",
       "      <td>417.0</td>\n",
       "      <td>177.0</td>\n",
       "    </tr>\n",
       "    <tr>\n",
       "      <th>1</th>\n",
       "      <td>2020-06-16</td>\n",
       "      <td>472.0</td>\n",
       "      <td>91.0</td>\n",
       "    </tr>\n",
       "    <tr>\n",
       "      <th>2</th>\n",
       "      <td>2020-06-17</td>\n",
       "      <td>475.0</td>\n",
       "      <td>138.0</td>\n",
       "    </tr>\n",
       "  </tbody>\n",
       "</table>\n",
       "</div>"
      ],
      "text/plain": [
       "user_type        date  People  Robots\n",
       "0          2020-06-15   417.0   177.0\n",
       "1          2020-06-16   472.0    91.0\n",
       "2          2020-06-17   475.0   138.0"
      ]
     },
     "execution_count": 8,
     "metadata": {},
     "output_type": "execute_result"
    }
   ],
   "source": [
    "df_visits_count"
   ]
  },
  {
   "cell_type": "code",
   "execution_count": 9,
   "id": "cc66424e",
   "metadata": {},
   "outputs": [
    {
     "data": {
      "image/png": "[encoded data removed]",
      "text/plain": [
       "<Figure size 640x480 with 1 Axes>"
      ]
     },
     "metadata": {},
     "output_type": "display_data"
    }
   ],
   "source": [
    "plt.plot(df_visits_count['date'], df_visits_count['People'], label='People')\n",
    "plt.plot(df_visits_count['date'], df_visits_count['Robots'], label='Robots')\n",
    "plt.xlabel('Дата')\n",
    "plt.ylabel('Количество')\n",
    "plt.legend()\n",
    "plt.show()"
   ]
  }
 ],
 "metadata": {
  "kernelspec": {
   "display_name": "Python 3",
   "language": "python",
   "name": "python3"
  },
  "language_info": {
   "codemirror_mode": {
    "name": "ipython",
    "version": 3
   },
   "file_extension": ".py",
   "mimetype": "text/x-python",
   "name": "python",
   "nbconvert_exporter": "python",
   "pygments_lexer": "ipython3",
   "version": "3.13.3"
  }
 },
 "nbformat": 4,
 "nbformat_minor": 5
}
