{
 "cells": [
  {
   "cell_type": "markdown",
   "id": "d9773629",
   "metadata": {},
   "source": [
    "В данном проекте вы поработаете с довольно нетипичными для аналитика данными: gff файлом, который описывает геном мухи (описание формата можно найти здесь). При его выполнении вам может понадобиться часть конспекта про работу со строковыми данными, а именно – про строковые методы серий."
   ]
  },
  {
   "cell_type": "code",
   "execution_count": 14,
   "id": "cd261a76",
   "metadata": {},
   "outputs": [],
   "source": [
    "import pandas as pd\n",
    "import re\n",
    "import numpy as np\n",
    "%matplotlib inline\n",
    "import matplotlib.pyplot as plt\n",
    "import seaborn as sns\n",
    "\n",
    "import plotly.express as px"
   ]
  },
  {
   "cell_type": "code",
   "execution_count": 11,
   "id": "d2611045",
   "metadata": {},
   "outputs": [],
   "source": [
    "df = pd.read_csv(r'F:\\!PR\\Simulation\\data\\gff.tsv', sep='\\t', comment='#')"
   ]
  },
  {
   "cell_type": "code",
   "execution_count": 16,
   "id": "964fefdc",
   "metadata": {},
   "outputs": [
    {
     "data": {
      "application/vnd.microsoft.datawrangler.viewer.v0+json": {
       "columns": [
        {
         "name": "index",
         "rawType": "int64",
         "type": "integer"
        },
        {
         "name": "seq_id",
         "rawType": "object",
         "type": "string"
        },
        {
         "name": "source",
         "rawType": "object",
         "type": "string"
        },
        {
         "name": "type",
         "rawType": "object",
         "type": "string"
        },
        {
         "name": "start",
         "rawType": "int64",
         "type": "integer"
        },
        {
         "name": "end",
         "rawType": "int64",
         "type": "integer"
        },
        {
         "name": "score",
         "rawType": "object",
         "type": "string"
        },
        {
         "name": "strand",
         "rawType": "object",
         "type": "string"
        },
        {
         "name": "phase",
         "rawType": "object",
         "type": "string"
        },
        {
         "name": "attributes",
         "rawType": "object",
         "type": "string"
        },
        {
         "name": "parent_val",
         "rawType": "object",
         "type": "string"
        }
       ],
       "ref": "d1632739-f308-4ade-917a-755a5d831ddf",
       "rows": [
        [
         "0",
         "chr17",
         "RefSeq",
         "exon",
         "6811330",
         "6811453",
         ".",
         "+",
         ".",
         "Parent=XM_001475631.1",
         "XM_001475631.1"
        ],
        [
         "1",
         "chr17",
         "RefSeq",
         "CDS",
         "6808204",
         "6808245",
         ".",
         "+",
         "0",
         "Name=CDS:NC_000083.5:LOC100040603;Parent=XM_001475631.1,",
         "XM_001475631.1"
        ],
        [
         "2",
         "chr17",
         "RefSeq",
         "CDS",
         "6811792",
         "6811869",
         ".",
         "+",
         "2",
         "Name=CDS:NC_000083.5:LOC100040603;Parent=XM_001475631.1,",
         "XM_001475631.1"
        ],
        [
         "3",
         "chr17",
         "RefSeq",
         "exon",
         "6806513",
         "6806553",
         ".",
         "+",
         ".",
         "Parent=XM_001475631.1",
         "XM_001475631.1"
        ],
        [
         "4",
         "chr17",
         "RefSeq",
         "five_prime_UTR",
         "6806513",
         "6806526",
         ".",
         "+",
         ".",
         "Parent=XM_001475631.1",
         "XM_001475631.1"
        ]
       ],
       "shape": {
        "columns": 10,
        "rows": 5
       }
      },
      "text/html": [
       "<div>\n",
       "<style scoped>\n",
       "    .dataframe tbody tr th:only-of-type {\n",
       "        vertical-align: middle;\n",
       "    }\n",
       "\n",
       "    .dataframe tbody tr th {\n",
       "        vertical-align: top;\n",
       "    }\n",
       "\n",
       "    .dataframe thead th {\n",
       "        text-align: right;\n",
       "    }\n",
       "</style>\n",
       "<table border=\"1\" class=\"dataframe\">\n",
       "  <thead>\n",
       "    <tr style=\"text-align: right;\">\n",
       "      <th></th>\n",
       "      <th>seq_id</th>\n",
       "      <th>source</th>\n",
       "      <th>type</th>\n",
       "      <th>start</th>\n",
       "      <th>end</th>\n",
       "      <th>score</th>\n",
       "      <th>strand</th>\n",
       "      <th>phase</th>\n",
       "      <th>attributes</th>\n",
       "      <th>parent_val</th>\n",
       "    </tr>\n",
       "  </thead>\n",
       "  <tbody>\n",
       "    <tr>\n",
       "      <th>0</th>\n",
       "      <td>chr17</td>\n",
       "      <td>RefSeq</td>\n",
       "      <td>exon</td>\n",
       "      <td>6811330</td>\n",
       "      <td>6811453</td>\n",
       "      <td>.</td>\n",
       "      <td>+</td>\n",
       "      <td>.</td>\n",
       "      <td>Parent=XM_001475631.1</td>\n",
       "      <td>XM_001475631.1</td>\n",
       "    </tr>\n",
       "    <tr>\n",
       "      <th>1</th>\n",
       "      <td>chr17</td>\n",
       "      <td>RefSeq</td>\n",
       "      <td>CDS</td>\n",
       "      <td>6808204</td>\n",
       "      <td>6808245</td>\n",
       "      <td>.</td>\n",
       "      <td>+</td>\n",
       "      <td>0</td>\n",
       "      <td>Name=CDS:NC_000083.5:LOC100040603;Parent=XM_00...</td>\n",
       "      <td>XM_001475631.1</td>\n",
       "    </tr>\n",
       "    <tr>\n",
       "      <th>2</th>\n",
       "      <td>chr17</td>\n",
       "      <td>RefSeq</td>\n",
       "      <td>CDS</td>\n",
       "      <td>6811792</td>\n",
       "      <td>6811869</td>\n",
       "      <td>.</td>\n",
       "      <td>+</td>\n",
       "      <td>2</td>\n",
       "      <td>Name=CDS:NC_000083.5:LOC100040603;Parent=XM_00...</td>\n",
       "      <td>XM_001475631.1</td>\n",
       "    </tr>\n",
       "    <tr>\n",
       "      <th>3</th>\n",
       "      <td>chr17</td>\n",
       "      <td>RefSeq</td>\n",
       "      <td>exon</td>\n",
       "      <td>6806513</td>\n",
       "      <td>6806553</td>\n",
       "      <td>.</td>\n",
       "      <td>+</td>\n",
       "      <td>.</td>\n",
       "      <td>Parent=XM_001475631.1</td>\n",
       "      <td>XM_001475631.1</td>\n",
       "    </tr>\n",
       "    <tr>\n",
       "      <th>4</th>\n",
       "      <td>chr17</td>\n",
       "      <td>RefSeq</td>\n",
       "      <td>five_prime_UTR</td>\n",
       "      <td>6806513</td>\n",
       "      <td>6806526</td>\n",
       "      <td>.</td>\n",
       "      <td>+</td>\n",
       "      <td>.</td>\n",
       "      <td>Parent=XM_001475631.1</td>\n",
       "      <td>XM_001475631.1</td>\n",
       "    </tr>\n",
       "  </tbody>\n",
       "</table>\n",
       "</div>"
      ],
      "text/plain": [
       "  seq_id  source            type    start      end score strand phase  \\\n",
       "0  chr17  RefSeq            exon  6811330  6811453     .      +     .   \n",
       "1  chr17  RefSeq             CDS  6808204  6808245     .      +     0   \n",
       "2  chr17  RefSeq             CDS  6811792  6811869     .      +     2   \n",
       "3  chr17  RefSeq            exon  6806513  6806553     .      +     .   \n",
       "4  chr17  RefSeq  five_prime_UTR  6806513  6806526     .      +     .   \n",
       "\n",
       "                                          attributes      parent_val  \n",
       "0                              Parent=XM_001475631.1  XM_001475631.1  \n",
       "1  Name=CDS:NC_000083.5:LOC100040603;Parent=XM_00...  XM_001475631.1  \n",
       "2  Name=CDS:NC_000083.5:LOC100040603;Parent=XM_00...  XM_001475631.1  \n",
       "3                              Parent=XM_001475631.1  XM_001475631.1  \n",
       "4                              Parent=XM_001475631.1  XM_001475631.1  "
      ]
     },
     "execution_count": 16,
     "metadata": {},
     "output_type": "execute_result"
    }
   ],
   "source": [
    "df.head()"
   ]
  },
  {
   "cell_type": "code",
   "execution_count": 13,
   "id": "6078cfd3",
   "metadata": {},
   "outputs": [
    {
     "name": "stdout",
     "output_type": "stream",
     "text": [
      "<class 'pandas.core.frame.DataFrame'>\n",
      "RangeIndex: 512 entries, 0 to 511\n",
      "Data columns (total 9 columns):\n",
      " #   Column      Non-Null Count  Dtype \n",
      "---  ------      --------------  ----- \n",
      " 0   seq_id      512 non-null    object\n",
      " 1   source      512 non-null    object\n",
      " 2   type        512 non-null    object\n",
      " 3   start       512 non-null    int64 \n",
      " 4   end         512 non-null    int64 \n",
      " 5   score       512 non-null    object\n",
      " 6   strand      512 non-null    object\n",
      " 7   phase       512 non-null    object\n",
      " 8   attributes  512 non-null    object\n",
      "dtypes: int64(2), object(7)\n",
      "memory usage: 36.1+ KB\n"
     ]
    }
   ],
   "source": [
    "df.info()"
   ]
  },
  {
   "cell_type": "markdown",
   "id": "d82dd28c",
   "metadata": {},
   "source": [
    "1.\tВыделите из колонки attributes значение атрибута Parent. Т.е. если там записано Parent=x, то нам нужен x"
   ]
  },
  {
   "cell_type": "code",
   "execution_count": 22,
   "id": "aaef2268",
   "metadata": {},
   "outputs": [],
   "source": [
    "pattern = r'Parent=(?P<parent>[\\w\\.]+)'"
   ]
  },
  {
   "cell_type": "code",
   "execution_count": 23,
   "id": "fdbc145d",
   "metadata": {},
   "outputs": [],
   "source": [
    "parent = df.attributes.str.extract(pattern)"
   ]
  },
  {
   "cell_type": "code",
   "execution_count": 25,
   "id": "8c6c46af",
   "metadata": {},
   "outputs": [
    {
     "data": {
      "application/vnd.microsoft.datawrangler.viewer.v0+json": {
       "columns": [
        {
         "name": "parent",
         "rawType": "object",
         "type": "string"
        },
        {
         "name": "count",
         "rawType": "int64",
         "type": "integer"
        }
       ],
       "ref": "841c4ccd-b6ac-407c-aea4-58256d6cfebc",
       "rows": [
        [
         "XM_001475631.1",
         "479"
        ],
        [
         "NC_000083.5",
         "33"
        ]
       ],
       "shape": {
        "columns": 1,
        "rows": 2
       }
      },
      "text/plain": [
       "parent\n",
       "XM_001475631.1    479\n",
       "NC_000083.5        33\n",
       "Name: count, dtype: int64"
      ]
     },
     "execution_count": 25,
     "metadata": {},
     "output_type": "execute_result"
    }
   ],
   "source": [
    "parent.parent.value_counts()"
   ]
  },
  {
   "cell_type": "code",
   "execution_count": 27,
   "id": "b4674897",
   "metadata": {},
   "outputs": [
    {
     "data": {
      "application/vnd.microsoft.datawrangler.viewer.v0+json": {
       "columns": [
        {
         "name": "parent_val",
         "rawType": "object",
         "type": "string"
        },
        {
         "name": "count",
         "rawType": "int64",
         "type": "integer"
        }
       ],
       "ref": "cbc870a0-8865-4336-917e-bff2cfa5a468",
       "rows": [
        [
         "XM_001475631.1",
         "479"
        ],
        [
         "NC_000083.5:LOC100040603",
         "33"
        ]
       ],
       "shape": {
        "columns": 1,
        "rows": 2
       }
      },
      "text/plain": [
       "parent_val\n",
       "XM_001475631.1              479\n",
       "NC_000083.5:LOC100040603     33\n",
       "Name: count, dtype: int64"
      ]
     },
     "execution_count": 27,
     "metadata": {},
     "output_type": "execute_result"
    }
   ],
   "source": [
    "def extract_parent(s):\n",
    "    match = re.search(r'Parent=([^;,\\s]+)', s)\n",
    "    return match.group(1) if match else None\n",
    "\n",
    "df['parent_val'] = df['attributes'].apply(extract_parent)\n",
    "df.parent_val.value_counts()"
   ]
  }
 ],
 "metadata": {
  "kernelspec": {
   "display_name": "Python 3",
   "language": "python",
   "name": "python3"
  },
  "language_info": {
   "codemirror_mode": {
    "name": "ipython",
    "version": 3
   },
   "file_extension": ".py",
   "mimetype": "text/x-python",
   "name": "python",
   "nbconvert_exporter": "python",
   "pygments_lexer": "ipython3",
   "version": "3.13.3"
  }
 },
 "nbformat": 4,
 "nbformat_minor": 5
}
